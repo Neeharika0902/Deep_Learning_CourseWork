{
  "cells": [
    {
      "cell_type": "markdown",
      "metadata": {
        "id": "DR_OJSHDX15o"
      },
      "source": [
        "# Assignment 8: LSTM for Google STock"
      ]
    },
    {
      "cell_type": "code",
      "execution_count": 80,
      "metadata": {
        "colab": {
          "base_uri": "https://localhost:8080/"
        },
        "id": "e__SXoCX_4Lg",
        "outputId": "c67d6a36-f197-4955-a815-d01ec82fbbcd"
      },
      "outputs": [
        {
          "name": "stdout",
          "output_type": "stream",
          "text": [
            "Requirement already satisfied: matplotlib in /usr/local/lib/python3.10/dist-packages (3.8.0)\n",
            "Requirement already satisfied: contourpy>=1.0.1 in /usr/local/lib/python3.10/dist-packages (from matplotlib) (1.3.0)\n",
            "Requirement already satisfied: cycler>=0.10 in /usr/local/lib/python3.10/dist-packages (from matplotlib) (0.12.1)\n",
            "Requirement already satisfied: fonttools>=4.22.0 in /usr/local/lib/python3.10/dist-packages (from matplotlib) (4.54.1)\n",
            "Requirement already satisfied: kiwisolver>=1.0.1 in /usr/local/lib/python3.10/dist-packages (from matplotlib) (1.4.7)\n",
            "Requirement already satisfied: numpy<2,>=1.21 in /usr/local/lib/python3.10/dist-packages (from matplotlib) (1.26.4)\n",
            "Requirement already satisfied: packaging>=20.0 in /usr/local/lib/python3.10/dist-packages (from matplotlib) (24.1)\n",
            "Requirement already satisfied: pillow>=6.2.0 in /usr/local/lib/python3.10/dist-packages (from matplotlib) (10.4.0)\n",
            "Requirement already satisfied: pyparsing>=2.3.1 in /usr/local/lib/python3.10/dist-packages (from matplotlib) (3.2.0)\n",
            "Requirement already satisfied: python-dateutil>=2.7 in /usr/local/lib/python3.10/dist-packages (from matplotlib) (2.8.2)\n",
            "Requirement already satisfied: six>=1.5 in /usr/local/lib/python3.10/dist-packages (from python-dateutil>=2.7->matplotlib) (1.16.0)\n",
            "Requirement already satisfied: numpy in /usr/local/lib/python3.10/dist-packages (1.26.4)\n",
            "Requirement already satisfied: pandas in /usr/local/lib/python3.10/dist-packages (2.2.2)\n",
            "Requirement already satisfied: torch in /usr/local/lib/python3.10/dist-packages (2.5.0+cu121)\n",
            "Requirement already satisfied: python-dateutil>=2.8.2 in /usr/local/lib/python3.10/dist-packages (from pandas) (2.8.2)\n",
            "Requirement already satisfied: pytz>=2020.1 in /usr/local/lib/python3.10/dist-packages (from pandas) (2024.2)\n",
            "Requirement already satisfied: tzdata>=2022.7 in /usr/local/lib/python3.10/dist-packages (from pandas) (2024.2)\n",
            "Requirement already satisfied: filelock in /usr/local/lib/python3.10/dist-packages (from torch) (3.16.1)\n",
            "Requirement already satisfied: typing-extensions>=4.8.0 in /usr/local/lib/python3.10/dist-packages (from torch) (4.12.2)\n",
            "Requirement already satisfied: networkx in /usr/local/lib/python3.10/dist-packages (from torch) (3.4.2)\n",
            "Requirement already satisfied: jinja2 in /usr/local/lib/python3.10/dist-packages (from torch) (3.1.4)\n",
            "Requirement already satisfied: fsspec in /usr/local/lib/python3.10/dist-packages (from torch) (2024.10.0)\n",
            "Requirement already satisfied: sympy==1.13.1 in /usr/local/lib/python3.10/dist-packages (from torch) (1.13.1)\n",
            "Requirement already satisfied: mpmath<1.4,>=1.1.0 in /usr/local/lib/python3.10/dist-packages (from sympy==1.13.1->torch) (1.3.0)\n",
            "Requirement already satisfied: six>=1.5 in /usr/local/lib/python3.10/dist-packages (from python-dateutil>=2.8.2->pandas) (1.16.0)\n",
            "Requirement already satisfied: MarkupSafe>=2.0 in /usr/local/lib/python3.10/dist-packages (from jinja2->torch) (3.0.2)\n"
          ]
        }
      ],
      "source": [
        "!pip install matplotlib\n",
        "!pip install numpy pandas torch"
      ]
    },
    {
      "cell_type": "code",
      "execution_count": 113,
      "metadata": {
        "id": "LuYJ8-GkXoy-"
      },
      "outputs": [],
      "source": [
        "import matplotlib.pyplot as plt\n",
        "import numpy as np\n",
        "import pandas as pd\n",
        "import torch\n",
        "import torch.nn as nn\n",
        "import torch.optim as optim\n",
        "import torch.utils.data as data\n",
        "from sklearn.preprocessing import MinMaxScaler\n",
        "from torch.utils.data import DataLoader, TensorDataset\n",
        "import matplotlib.pyplot as plt\n"
      ]
    },
    {
      "cell_type": "markdown",
      "metadata": {
        "id": "V37QN_6pd075"
      },
      "source": [
        "# Step 1 :Preprocess Data"
      ]
    },
    {
      "cell_type": "code",
      "execution_count": 114,
      "metadata": {
        "id": "JLhChF3RWVtK"
      },
      "outputs": [],
      "source": [
        "data = pd.read_csv(\"Google_Stock_Price_Train.csv\")\n",
        "\n",
        "data['Date'] = pd.to_datetime(data['Date'])\n",
        "\n",
        "data.set_index('Date', inplace=True)\n",
        "\n",
        "data['Close'] = data['Close'].str.replace(',', '', regex=True).astype(float)\n",
        "\n",
        "data = data[['Close']].values\n"
      ]
    },
    {
      "cell_type": "code",
      "execution_count": 115,
      "metadata": {
        "id": "9ORekM5FaGiK"
      },
      "outputs": [],
      "source": [
        "# Normalize data\n",
        "scaler = MinMaxScaler(feature_range=(0, 1))\n",
        "data = scaler.fit_transform(data)\n",
        "\n",
        "# Create Dataset\n",
        "def create_dataset(data, lookback=60):\n",
        "    X, y = [], []\n",
        "    for i in range(len(data) - lookback):\n",
        "        X.append(data[i:i + lookback, 0])\n",
        "        y.append(data[i + lookback, 0])\n",
        "    return np.array(X), np.array(y)\n",
        "\n",
        "lookback = 60\n",
        "X, y = create_dataset(data, lookback)"
      ]
    },
    {
      "cell_type": "markdown",
      "metadata": {
        "id": "bZabjvH3cL2V"
      },
      "source": [
        "# Step 2: spliting dataset"
      ]
    },
    {
      "cell_type": "code",
      "execution_count": 116,
      "metadata": {
        "id": "DGLJc34aaNhT"
      },
      "outputs": [],
      "source": [
        "\n",
        "# 80% train and 20% test\n",
        "train_size = int(len(X) * 0.8)\n",
        "X_train, X_test = X[:train_size], X[train_size:]\n",
        "y_train, y_test = y[:train_size], y[train_size:]\n",
        "\n",
        "#  PyTorch into tensors\n",
        "X_train = torch.tensor(X_train, dtype=torch.float32).view(-1, lookback, 1)\n",
        "X_test = torch.tensor(X_test, dtype=torch.float32).view(-1, lookback, 1)\n",
        "y_train = torch.tensor(y_train, dtype=torch.float32).view(-1, 1)\n",
        "y_test = torch.tensor(y_test, dtype=torch.float32).view(-1, 1)\n"
      ]
    },
    {
      "cell_type": "markdown",
      "metadata": {
        "id": "JT8lKYoHcJD6"
      },
      "source": [
        "# Step 3: Define LSTM Model"
      ]
    },
    {
      "cell_type": "code",
      "execution_count": 117,
      "metadata": {
        "id": "fnz1hO5RaTbK"
      },
      "outputs": [],
      "source": [
        "\n",
        "\n",
        "class StockPriceLSTM(nn.Module):\n",
        "    def __init__(self, input_size=1, hidden_size=100, num_layers=2):\n",
        "        super(StockPriceLSTM, self).__init__()\n",
        "        self.lstm = nn.LSTM(input_size, hidden_size, num_layers, batch_first=True)\n",
        "        self.dropout = nn.Dropout(0.2)  #  dropout layer as regularization\n",
        "        self.fc = nn.Linear(hidden_size, 1)\n",
        "\n",
        "    def forward(self, x):\n",
        "        x, _ = self.lstm(x)\n",
        "        x = self.dropout(x[:, -1, :])  #  LSTM output\n",
        "        x = self.fc(x)\n",
        "        return x\n",
        "\n",
        "model = StockPriceLSTM()\n",
        "optimizer = optim.Adam(model.parameters(), lr=0.001)\n",
        "loss_fn = nn.MSELoss()"
      ]
    },
    {
      "cell_type": "markdown",
      "metadata": {
        "id": "iJEDWJ1ccHgI"
      },
      "source": [
        "# Step 4: Train the Model"
      ]
    },
    {
      "cell_type": "code",
      "execution_count": 118,
      "metadata": {
        "colab": {
          "base_uri": "https://localhost:8080/"
        },
        "id": "AAZViLgEaQfq",
        "outputId": "9a01eba3-9617-4dfe-fe14-3e6e2b9c4977"
      },
      "outputs": [
        {
          "name": "stdout",
          "output_type": "stream",
          "text": [
            "Epoch 1/30, Train RMSE value: 0.1459, Test RMSE value: 0.0402\n",
            "Epoch 2/30, Train RMSE value: 0.0711, Test RMSE value: 0.0302\n",
            "Epoch 3/30, Train RMSE value: 0.0609, Test RMSE value: 0.0220\n",
            "Epoch 4/30, Train RMSE value: 0.0538, Test RMSE value: 0.0245\n",
            "Epoch 5/30, Train RMSE value: 0.0645, Test RMSE value: 0.0469\n",
            "Epoch 6/30, Train RMSE value: 0.0529, Test RMSE value: 0.0313\n",
            "Epoch 7/30, Train RMSE value: 0.0496, Test RMSE value: 0.0250\n",
            "Epoch 8/30, Train RMSE value: 0.0537, Test RMSE value: 0.0333\n",
            "Epoch 9/30, Train RMSE value: 0.0476, Test RMSE value: 0.0224\n",
            "Epoch 10/30, Train RMSE value: 0.0540, Test RMSE value: 0.0346\n",
            "Epoch 11/30, Train RMSE value: 0.0509, Test RMSE value: 0.0298\n",
            "Epoch 12/30, Train RMSE value: 0.0441, Test RMSE value: 0.0229\n",
            "Epoch 13/30, Train RMSE value: 0.0527, Test RMSE value: 0.0340\n",
            "Epoch 14/30, Train RMSE value: 0.0454, Test RMSE value: 0.0256\n",
            "Epoch 15/30, Train RMSE value: 0.0430, Test RMSE value: 0.0203\n",
            "Epoch 16/30, Train RMSE value: 0.0418, Test RMSE value: 0.0207\n",
            "Epoch 17/30, Train RMSE value: 0.0420, Test RMSE value: 0.0201\n",
            "Epoch 18/30, Train RMSE value: 0.0433, Test RMSE value: 0.0226\n",
            "Epoch 19/30, Train RMSE value: 0.0397, Test RMSE value: 0.0197\n",
            "Epoch 20/30, Train RMSE value: 0.0503, Test RMSE value: 0.0310\n",
            "Epoch 21/30, Train RMSE value: 0.0443, Test RMSE value: 0.0272\n",
            "Epoch 22/30, Train RMSE value: 0.0400, Test RMSE value: 0.0189\n",
            "Epoch 23/30, Train RMSE value: 0.0396, Test RMSE value: 0.0222\n",
            "Epoch 24/30, Train RMSE value: 0.0420, Test RMSE value: 0.0247\n",
            "Epoch 25/30, Train RMSE value: 0.0379, Test RMSE value: 0.0188\n",
            "Epoch 26/30, Train RMSE value: 0.0369, Test RMSE value: 0.0193\n",
            "Epoch 27/30, Train RMSE value: 0.0360, Test RMSE value: 0.0182\n",
            "Epoch 28/30, Train RMSE value: 0.0372, Test RMSE value: 0.0214\n",
            "Epoch 29/30, Train RMSE value: 0.0369, Test RMSE value: 0.0206\n",
            "Epoch 30/30, Train RMSE value: 0.0360, Test RMSE value: 0.0195\n"
          ]
        }
      ],
      "source": [
        "\n",
        "n_epochs = 30\n",
        "train_loader = DataLoader(TensorDataset(X_train, y_train), shuffle=True, batch_size=32)\n",
        "\n",
        "for epoch in range(n_epochs):\n",
        "    model.train()\n",
        "    for X_batch, y_batch in train_loader:\n",
        "        optimizer.zero_grad()\n",
        "        y_pred = model(X_batch)\n",
        "        loss = loss_fn(y_pred, y_batch)\n",
        "        loss.backward()\n",
        "        optimizer.step()\n",
        "\n",
        "    # Validation after each epoch\n",
        "    model.eval()\n",
        "    with torch.no_grad():\n",
        "        train_rmse = torch.sqrt(loss_fn(model(X_train), y_train))\n",
        "        test_rmse = torch.sqrt(loss_fn(model(X_test), y_test))\n",
        "    print(f\"Epoch {epoch + 1}/{n_epochs}, Train RMSE value: {train_rmse:.4f}, Test RMSE value: {test_rmse:.4f}\")\n",
        "\n"
      ]
    },
    {
      "cell_type": "markdown",
      "metadata": {
        "id": "5WW01gMSb-9y"
      },
      "source": [
        "# Step 5: Plot the Results"
      ]
    },
    {
      "cell_type": "code",
      "execution_count": 119,
      "metadata": {
        "colab": {
          "base_uri": "https://localhost:8080/",
          "height": 430
        },
        "id": "oNF6MMifbIwe",
        "outputId": "d329776c-24f8-4579-8e15-60d0190e95e5"
      },
      "outputs": [
        {
          "data": {
            "image/png": "[encoded data removed]",
            "text/plain": [
              "<Figure size 640x480 with 1 Axes>"
            ]
          },
          "metadata": {},
          "output_type": "display_data"
        }
      ],
      "source": [
        "\n",
        "model.eval()\n",
        "with torch.no_grad():\n",
        "    train_pred = model(X_train).squeeze().cpu().numpy()\n",
        "    test_pred = model(X_test).squeeze().cpu().numpy()\n",
        "\n",
        "# Reversing scaling to original prices\n",
        "train_pred = scaler.inverse_transform(train_pred.reshape(-1, 1))\n",
        "test_pred = scaler.inverse_transform(test_pred.reshape(-1, 1))\n",
        "y_train_inv = scaler.inverse_transform(y_train.cpu().numpy())\n",
        "y_test_inv = scaler.inverse_transform(y_test.cpu().numpy())\n",
        "\n",
        "# Actual and predicted values\n",
        "plt.plot(np.arange(len(data)), scaler.inverse_transform(data), label=\"Actual\")\n",
        "plt.plot(np.arange(lookback, train_size + lookback), train_pred, label=\"Train Predictions\")\n",
        "plt.plot(np.arange(train_size + lookback, len(data)), test_pred, label=\"Test Predictions\")\n",
        "plt.legend()\n",
        "plt.grid()\n",
        "plt.show()"
      ]
    },
    {
      "cell_type": "markdown",
      "metadata": {
        "id": "ZgPEFa0ddvVg"
      },
      "source": [
        "# ------------------ Report -----------------"
      ]
    },
    {
      "cell_type": "markdown",
      "metadata": {},
      "source": [
        "# Model Architecture & Training \n",
        "- The LSTM model implemented for this project will be used to predict stock prices with the PyTorch library. An architecture consisting of an LSTM model with two layers and a hidden size of 100 in each layer is necessary because this will enable the capturing of sequential dependencies associated with time series data. \n",
        "- Besides, a dropout layer has been added where the drop rate will be set to 0.2 with the purpose of overcoming overfitting by randomly setting neurons to zero during training. This is used for mapping the output of the LSTM onto one value representing the predicted stock price. \n",
        "- By default, the LSTM cells are using sigmoid and tanh as the activation functions. The output layer has a linear activation function, while Mean Squared Error has been used as the loss function. The optimization will be done by the Adam optimizer; the learning rate is set to 0.001, and this minimizes the error in the prediction."
      ]
    },
    {
      "cell_type": "markdown",
      "metadata": {},
      "source": [
        "# Results & Analysis\n",
        "- This model has been trained for more than 30 epochs, and in each of them, the Root Mean Square Error values have been computed for the training and test sets. From the progress of the RMSEs, it can be seen that the values are continuously getting smaller, which is indicative of proper learning by the model. \n",
        "- Eventually, at the end of the training, the RMSEs for both the training and test datasets were low, indicating good performance with less overfitting. The last plot of actual versus predicted stock prices indicates that model predictions track the actual stock price trend with small deviations. \n",
        "- The extent to which this is matched-especially on the test set-indicates a pretty good generalization in the model, capturing the most important patterns in the stock price data."
      ]
    }
  ],
  "metadata": {
    "accelerator": "GPU",
    "colab": {
      "gpuType": "T4",
      "provenance": []
    },
    "kernelspec": {
      "display_name": "Python 3",
      "name": "python3"
    },
    "language_info": {
      "codemirror_mode": {
        "name": "ipython",
        "version": 3
      },
      "file_extension": ".py",
      "mimetype": "text/x-python",
      "name": "python",
      "nbconvert_exporter": "python",
      "pygments_lexer": "ipython3",
      "version": "3.10.13"
    }
  },
  "nbformat": 4,
  "nbformat_minor": 0
}

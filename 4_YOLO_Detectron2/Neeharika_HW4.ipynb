{
 "cells": [
  {
   "cell_type": "code",
   "execution_count": 5,
   "metadata": {},
   "outputs": [],
   "source": [
    "import cv2\n",
    "import os\n",
    "\n",
    "# Load the video\n",
    "video_path = '1_testing.mp4'\n",
    "video_capture = cv2.VideoCapture(video_path)\n",
    "\n",
    "# Folder where frames will be saved\n",
    "output_folder = 'Data/training_data'  # Specify the folder you want to save the frames in\n",
    "\n",
    "# Create the folder if it doesn't exist\n",
    "if not os.path.exists(output_folder):\n",
    "    os.makedirs(output_folder)\n",
    "\n",
    "# Initialize frame count\n",
    "frame_number = 0\n",
    "\n",
    "while video_capture.isOpened():\n",
    "    ret, frame = video_capture.read()\n",
    "    if not ret:\n",
    "        break\n",
    "    \n",
    "    # Save each frame as an image in the specified folder\n",
    "    frame_path = os.path.join(output_folder, f'frame_{frame_number}.jpg')\n",
    "    cv2.imwrite(frame_path, frame)\n",
    "    frame_number += 1\n",
    "\n",
    "video_capture.release()\n",
    "cv2.destroyAllWindows()\n"
   ]
  },
  {
   "cell_type": "code",
   "execution_count": 7,
   "metadata": {},
   "outputs": [],
   "source": [
    "import cv2\n",
    "import os\n",
    "\n",
    "# Folder where the frames are stored\n",
    "frame_folder = 'Data/training_data'  # Specify the folder containing the frames\n",
    "\n",
    "# Output video file\n",
    "output_video_path = 'output_video.mp4'\n",
    "\n",
    "# Get the list of frame files\n",
    "frame_files = sorted([f for f in os.listdir(frame_folder) if f.endswith('.jpg')])\n",
    "\n",
    "# Read the first frame to get the frame width and height\n",
    "first_frame = cv2.imread(os.path.join(frame_folder, frame_files[0]))\n",
    "height, width, layers = first_frame.shape\n",
    "\n",
    "# Define the codec and initialize the video writer\n",
    "fourcc = cv2.VideoWriter_fourcc(*'mp4v')  # H.264 codec for MP4\n",
    "fps = 30  # Frames per second\n",
    "video_writer = cv2.VideoWriter(output_video_path, fourcc, fps, (width, height))\n",
    "\n",
    "# Write each frame to the video\n",
    "for frame_file in frame_files:\n",
    "    frame_path = os.path.join(frame_folder, frame_file)\n",
    "    frame = cv2.imread(frame_path)\n",
    "    \n",
    "    video_writer.write(frame)\n",
    "\n",
    "video_writer.release()\n",
    "cv2.destroyAllWindows()\n"
   ]
  },
  {
   "cell_type": "code",
   "execution_count": null,
   "metadata": {},
   "outputs": [],
   "source": []
  }
 ],
 "metadata": {
  "kernelspec": {
   "display_name": "Python 3",
   "language": "python",
   "name": "python3"
  },
  "language_info": {
   "codemirror_mode": {
    "name": "ipython",
    "version": 3
   },
   "file_extension": ".py",
   "mimetype": "text/x-python",
   "name": "python",
   "nbconvert_exporter": "python",
   "pygments_lexer": "ipython3",
   "version": "3.12.2"
  }
 },
 "nbformat": 4,
 "nbformat_minor": 2
}

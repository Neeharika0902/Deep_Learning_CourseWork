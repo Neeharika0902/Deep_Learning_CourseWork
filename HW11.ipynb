{
  "cells": [
    {
      "cell_type": "code",
      "execution_count": 1,
      "metadata": {
        "colab": {
          "base_uri": "https://localhost:8080/"
        },
        "id": "uLf2y-TfmtTI",
        "outputId": "09572903-5500-4c2d-efd9-26b09a9f3a13"
      },
      "outputs": [
        {
          "name": "stdout",
          "output_type": "stream",
          "text": [
            "Drive already mounted at /content/drive; to attempt to forcibly remount, call drive.mount(\"/content/drive\", force_remount=True).\n"
          ]
        }
      ],
      "source": [
        "from google.colab import drive\n",
        "drive.mount('/content/drive')"
      ]
    },
    {
      "cell_type": "code",
      "execution_count": 2,
      "metadata": {
        "colab": {
          "base_uri": "https://localhost:8080/"
        },
        "id": "Wt5wbOg5zd5r",
        "outputId": "985ff9dc-467c-4a74-dc3e-a585912111ef"
      },
      "outputs": [
        {
          "name": "stdout",
          "output_type": "stream",
          "text": [
            "Requirement already satisfied: openai==0.28 in /usr/local/lib/python3.10/dist-packages (0.28.0)\n",
            "Requirement already satisfied: requests>=2.20 in /usr/local/lib/python3.10/dist-packages (from openai==0.28) (2.32.3)\n",
            "Requirement already satisfied: tqdm in /usr/local/lib/python3.10/dist-packages (from openai==0.28) (4.66.6)\n",
            "Requirement already satisfied: aiohttp in /usr/local/lib/python3.10/dist-packages (from openai==0.28) (3.11.9)\n",
            "Requirement already satisfied: charset-normalizer<4,>=2 in /usr/local/lib/python3.10/dist-packages (from requests>=2.20->openai==0.28) (3.4.0)\n",
            "Requirement already satisfied: idna<4,>=2.5 in /usr/local/lib/python3.10/dist-packages (from requests>=2.20->openai==0.28) (3.10)\n",
            "Requirement already satisfied: urllib3<3,>=1.21.1 in /usr/local/lib/python3.10/dist-packages (from requests>=2.20->openai==0.28) (2.2.3)\n",
            "Requirement already satisfied: certifi>=2017.4.17 in /usr/local/lib/python3.10/dist-packages (from requests>=2.20->openai==0.28) (2024.8.30)\n",
            "Requirement already satisfied: aiohappyeyeballs>=2.3.0 in /usr/local/lib/python3.10/dist-packages (from aiohttp->openai==0.28) (2.4.4)\n",
            "Requirement already satisfied: aiosignal>=1.1.2 in /usr/local/lib/python3.10/dist-packages (from aiohttp->openai==0.28) (1.3.1)\n",
            "Requirement already satisfied: async-timeout<6.0,>=4.0 in /usr/local/lib/python3.10/dist-packages (from aiohttp->openai==0.28) (5.0.1)\n",
            "Requirement already satisfied: attrs>=17.3.0 in /usr/local/lib/python3.10/dist-packages (from aiohttp->openai==0.28) (24.2.0)\n",
            "Requirement already satisfied: frozenlist>=1.1.1 in /usr/local/lib/python3.10/dist-packages (from aiohttp->openai==0.28) (1.5.0)\n",
            "Requirement already satisfied: multidict<7.0,>=4.5 in /usr/local/lib/python3.10/dist-packages (from aiohttp->openai==0.28) (6.1.0)\n",
            "Requirement already satisfied: propcache>=0.2.0 in /usr/local/lib/python3.10/dist-packages (from aiohttp->openai==0.28) (0.2.1)\n",
            "Requirement already satisfied: yarl<2.0,>=1.17.0 in /usr/local/lib/python3.10/dist-packages (from aiohttp->openai==0.28) (1.18.3)\n",
            "Requirement already satisfied: typing-extensions>=4.1.0 in /usr/local/lib/python3.10/dist-packages (from multidict<7.0,>=4.5->aiohttp->openai==0.28) (4.12.2)\n"
          ]
        }
      ],
      "source": [
        "!pip install openai==0.28"
      ]
    },
    {
      "cell_type": "code",
      "execution_count": 3,
      "metadata": {
        "colab": {
          "base_uri": "https://localhost:8080/"
        },
        "id": "ufK41IJnzhMG",
        "outputId": "cf0ae263-f336-4a88-cf28-8a6ae5948393"
      },
      "outputs": [
        {
          "name": "stdout",
          "output_type": "stream",
          "text": [
            "0.28.0\n"
          ]
        }
      ],
      "source": [
        "import openai\n",
        "print(openai.__version__)\n"
      ]
    },
    {
      "cell_type": "code",
      "execution_count": 4,
      "metadata": {
        "id": "HwcihkW6DIvh"
      },
      "outputs": [],
      "source": [
        "import os\n",
        "openai.api_key = os.getenv(\"OPENAI_API_KEY\")"
      ]
    },
    {
      "cell_type": "markdown",
      "metadata": {
        "id": "gl460FxGEwz1"
      },
      "source": [
        "### Write prompts using OPENAI API keys that perform the Math task, PDF -website Reading and display the output ###"
      ]
    },
    {
      "cell_type": "code",
      "execution_count": 5,
      "metadata": {
        "colab": {
          "base_uri": "https://localhost:8080/"
        },
        "id": "S_qbdGlIzsQ9",
        "outputId": "cc0d1708-b4ec-4fc0-bd4a-b784aab6b4ff"
      },
      "outputs": [
        {
          "name": "stdout",
          "output_type": "stream",
          "text": [
            "Requirement already satisfied: PyPDF2 in /usr/local/lib/python3.10/dist-packages (3.0.1)\n"
          ]
        }
      ],
      "source": [
        "!pip install PyPDF2\n"
      ]
    },
    {
      "cell_type": "code",
      "execution_count": 15,
      "metadata": {
        "id": "K5HtPVT13VFw"
      },
      "outputs": [],
      "source": [
        "import requests\n",
        "from bs4 import BeautifulSoup\n",
        "import PyPDF2\n",
        "import openai"
      ]
    },
    {
      "cell_type": "code",
      "execution_count": 6,
      "metadata": {
        "id": "XLQPzuf2_Nf2"
      },
      "outputs": [],
      "source": [
        "# Extract website content\n",
        "def extract_website_content(url):\n",
        "    try:\n",
        "        response = requests.get(url)\n",
        "        if response.status_code == 200:\n",
        "            soup = BeautifulSoup(response.content, \"html.parser\")\n",
        "            paragraphs = soup.find_all(\"p\")\n",
        "            content = \" \".join([para.get_text() for para in paragraphs])\n",
        "            return content.strip()\n",
        "        else:\n",
        "            return f\"Failed to fetch website content. Status code: {response.status_code}\"\n",
        "    except Exception as e:\n",
        "        return f\"Error fetching website: {e}\"\n",
        "\n",
        "# Extract PDF content\n",
        "def extract_pdf_content(pdf_path):\n",
        "    try:\n",
        "        with open(pdf_path, \"rb\") as pdf_file:\n",
        "            reader = PyPDF2.PdfReader(pdf_file)\n",
        "            text = \"\"\n",
        "            for page in reader.pages:\n",
        "                text += page.extract_text()\n",
        "        return text.strip()\n",
        "    except Exception as e:\n",
        "        return f\"Error reading PDF: {e}\"\n",
        "\n",
        "# Rewrite content using OpenAI\n",
        "def rewrite_content(content, model=\"gpt-3.5-turbo\"):\n",
        "    try:\n",
        "        response = openai.ChatCompletion.create(\n",
        "            model=model,\n",
        "            messages=[\n",
        "                {\"role\": \"system\", \"content\": \"You are a content writer specializing in simplifying text.\"},\n",
        "                {\"role\": \"user\", \"content\": f\"Rewrite this content for better readability:\\n\\n{content}\"}\n",
        "            ],\n",
        "            max_tokens=1500,\n",
        "            temperature=0.7\n",
        "        )\n",
        "        return response['choices'][0]['message']['content'].strip()\n",
        "    except Exception as e:\n",
        "        return f\"Error rewriting content: {e}\"\n",
        "\n",
        "# Solve math problems\n",
        "def solve_math_problem(problem, model=\"gpt-3.5-turbo\"):\n",
        "    try:\n",
        "        response = openai.ChatCompletion.create(\n",
        "            model=model,\n",
        "            messages=[\n",
        "                {\"role\": \"system\", \"content\": \"You are a math tutor who explains problems step-by-step.\"},\n",
        "                {\"role\": \"user\", \"content\": f\"Solve this math problem step-by-step: {problem}\"}\n",
        "            ],\n",
        "            max_tokens=500,\n",
        "            temperature=0.5\n",
        "        )\n",
        "        return response['choices'][0]['message']['content'].strip()\n",
        "    except Exception as e:\n",
        "        return f\"Error solving math problem: {e}\"\n",
        "\n",
        "# Summarize the conversation\n",
        "def summarize_chat(messages, model=\"gpt-3.5-turbo\"):\n",
        "    try:\n",
        "        chat_content = \"\\n\".join(messages)\n",
        "        response = openai.ChatCompletion.create(\n",
        "            model=model,\n",
        "            messages=[\n",
        "                {\"role\": \"system\", \"content\": \"You are a summarization assistant.\"},\n",
        "                {\"role\": \"user\", \"content\": f\"Summarize this chat session:\\n\\n{chat_content}\"}\n",
        "            ],\n",
        "            max_tokens=300,\n",
        "            temperature=0.5\n",
        "        )\n",
        "        return response['choices'][0]['message']['content'].strip()\n",
        "    except Exception as e:\n",
        "        return f\"Error summarizing chat: {e}\"\n",
        "\n",
        "# Workflow\n"
      ]
    },
    {
      "cell_type": "markdown",
      "metadata": {
        "id": "_gXy-bAB4noS"
      },
      "source": [
        "# Que 1: Solve a math problem using OpenAi"
      ]
    },
    {
      "cell_type": "code",
      "execution_count": 9,
      "metadata": {
        "colab": {
          "base_uri": "https://localhost:8080/"
        },
        "id": "ayYqPa-MAc8C",
        "outputId": "e227646c-ce33-49cf-9eda-2916d6d77c19"
      },
      "outputs": [
        {
          "name": "stdout",
          "output_type": "stream",
          "text": [
            "Solving math problem...\n",
            "\n",
            "Math Problem Solution:\n",
            " Step 1: Subtract 5 from both sides of the equation to isolate the term with x on one side.\n",
            "3x + 5 - 5 = 20 - 5\n",
            "3x = 15\n",
            "\n",
            "Step 2: Divide both sides by 3 to solve for x.\n",
            "3x/3 = 15/3\n",
            "x = 5\n",
            "\n",
            "Therefore, the value of x is 5.\n"
          ]
        }
      ],
      "source": [
        "\n",
        "math_problem = \"Find the value of x if 3x + 5 = 20.\"\n",
        "print(\"Solving math problem...\")\n",
        "math_solution = solve_math_problem(math_problem)\n",
        "print(\"\\nMath Problem Solution:\\n\", math_solution)"
      ]
    },
    {
      "cell_type": "markdown",
      "metadata": {
        "id": "HnHCzzTf4rvj"
      },
      "source": [
        "# Que 2: Process PDF content\n",
        "- Give a PDF and ask the model to rewrite and answer questions on the given PDF."
      ]
    },
    {
      "cell_type": "code",
      "execution_count": 10,
      "metadata": {
        "colab": {
          "base_uri": "https://localhost:8080/"
        },
        "id": "2ifqg9ZSBrqg",
        "outputId": "68afeb70-b114-4140-97f3-df03061dab4a"
      },
      "outputs": [
        {
          "name": "stdout",
          "output_type": "stream",
          "text": [
            "\n",
            "Extracting DeepLearning PDF content...\n"
          ]
        }
      ],
      "source": [
        "\n",
        "pdf_path = \"/content/DeepLearning.pdf\"\n",
        "print(\"\\nExtracting DeepLearning PDF content...\")\n",
        "pdf_content = extract_pdf_content(pdf_path)"
      ]
    },
    {
      "cell_type": "markdown",
      "metadata": {
        "id": "J31xkK1mETeR"
      },
      "source": [
        "# Rewritten pdf content #"
      ]
    },
    {
      "cell_type": "code",
      "execution_count": 11,
      "metadata": {
        "colab": {
          "base_uri": "https://localhost:8080/"
        },
        "id": "MjZ6f2EJBuE7",
        "outputId": "505a0a1f-786c-4f90-fc14-d9d96df7a3ef"
      },
      "outputs": [
        {
          "name": "stdout",
          "output_type": "stream",
          "text": [
            "\n",
            "Extracted DeepLearning PDF Content (Preview):\n",
            " DDoSNet: A Deep-Learning Model for\n",
            "Detecting Network Attacks\n",
            "Mahmoud Said Elsayed1, Nhien-An Le-Khac1, Soumyabrata Dev1,2, and Anca Delia Jurcut1\n",
            "1School of Computer Science, University College Dublin, Dublin, Ireland\n",
            "2ADAPT SFI Research Centre, Dublin, Ireland\n",
            "Abstract —Software-Deﬁned Networking (SDN) is an emerging\n",
            "paradigm, which evolved in recent years to address the weaknesses in\n",
            "traditional networks. The signiﬁcant feature of the SDN, which is achievedby disassociating the control plane f ...\n",
            "\n",
            "\n",
            "Rewritten PDF Content:\n",
            " Title: DDoSNet: A Deep-Learning Model for Detecting Network Attacks\n",
            "\n",
            "Authors: Mahmoud Said Elsayed, Nhien-An Le-Khac, Soumyabrata Dev, Anca Delia Jurcut\n",
            "Affiliations: School of Computer Science, University College Dublin, Dublin, Ireland; ADAPT SFI Research Centre, Dublin, Ireland\n",
            "\n",
            "Abstract:\n",
            "Software-Defined Networking (SDN) has emerged as a new paradigm to address weaknesses in traditional networks by separating the control plane from the data plane. However, SDN architecture is vulnerable to various attacks, including Distributed Denial of Service (DDoS) attacks, which can disrupt network resources. Current intrusion detection methods using Machine Learning (ML) in SDN networks face limitations due to outdated datasets lacking in attack diversity. This paper introduces DDoSNet, an intrusion detection system based on Deep Learning (DL) utilizing Recurrent Neural Network (RNN) with autoencoder. Evaluation using the CICDDoS2019 dataset demonstrates improved attack detection compared to standard methods, enhancing network security.\n",
            "\n",
            "Introduction:\n",
            "Software-Defined Networking (SDN) revolutionizes network management by centralizing control and separating it from data transmission, leading to increased reliability. However, SDN is susceptible to new security vulnerabilities and attacks, including DDoS attacks, which can overwhelm network resources. DDoS attacks pose significant threats and are challenging to detect, especially in SDN environments. Traditional Machine Learning methods for intrusion detection lack effectiveness due to outdated datasets and limited attack diversity. To address these limitations, this paper proposes DDoSNet, a DL-based model for enhanced DDoS attack detection in SDN networks.\n",
            "\n",
            "Methodology:\n",
            "DDoSNet combines RNN with autoencoder to extract features from network traffic data. The model is trained and evaluated using the CICDDoS2019 dataset, which offers a comprehensive range of DDoS attacks for improved analysis. By leveraging DL techniques, DDoSNet achieves superior performance in detecting network attacks compared to conventional ML approaches.\n",
            "\n",
            "Results and Discussion:\n",
            "Evaluation metrics, including precision, recall, F1-score, and accuracy, demonstrate the effectiveness of DDoSNet in identifying DDoS attacks with high confidence. The model outperforms classical ML algorithms such as Decision Tree, SVM, and Logistic Regression, indicating its potential for enhancing network security. Further research may explore multi-class classification frameworks and diverse datasets to strengthen anomaly detection capabilities in SDN environments.\n",
            "\n",
            "Conclusion and Future Work:\n",
            "DDoSNet presents a promising solution for detecting DDoS attacks in SDN networks using DL techniques. The model shows significant improvements in attack detection accuracy, highlighting its potential for enhancing network security. Future work may focus on expanding the model's capabilities to classify specific attack types and simulate diverse network environments for comprehensive evaluation.\n"
          ]
        }
      ],
      "source": [
        "if pdf_content:\n",
        "    print(\"\\nExtracted DeepLearning PDF Content (Preview):\\n\", pdf_content[:500], \"...\\n\")\n",
        "    rewritten_pdf_content = rewrite_content(pdf_content)\n",
        "    print(\"\\nRewritten PDF Content:\\n\", rewritten_pdf_content)\n",
        "else:\n",
        "    print(\"No content extracted from the PDF.\")"
      ]
    },
    {
      "cell_type": "markdown",
      "metadata": {
        "id": "ThZX-FSdEOjq"
      },
      "source": [
        "# Que 3 : Rewrite the content of the website\n",
        "- Give a PDF and ask the model to rewrite and answer questions on the given PDF."
      ]
    },
    {
      "cell_type": "code",
      "execution_count": 12,
      "metadata": {
        "colab": {
          "base_uri": "https://localhost:8080/"
        },
        "id": "TswYmMwnB1Hy",
        "outputId": "d74f2438-4066-4ae2-9772-2a74652168a1"
      },
      "outputs": [
        {
          "name": "stdout",
          "output_type": "stream",
          "text": [
            "\n",
            "Extracting website content...\n",
            "\n",
            "Extracted Website Content (Preview):\n",
            " In the fast-evolving era of artificial intelligence, Deep Learning stands as a cornerstone technology, revolutionizing how machines understand, learn, and interact with complex data. At its essence, Deep Learning AI mimics the intricate neural networks of the human brain, enabling computers to autonomously discover patterns and make decisions from vast amounts of unstructured data. This transformative field has propelled breakthroughs across various domains, from computer vision and natural lang ...\n",
            "\n",
            "\n",
            "Rewritten Website Content:\n",
            " In today's rapidly evolving world of artificial intelligence, Deep Learning is a key technology that is transforming how machines process complex data. Essentially, Deep Learning AI imitates the intricate neural networks of the human brain, enabling computers to autonomously identify patterns and make decisions from large amounts of unstructured data. This innovative field has led to breakthroughs in areas like computer vision, natural language processing, healthcare diagnostics, and autonomous driving.\n",
            "\n",
            "Introduction to Deep Learning\n",
            "\n",
            "This introduction to Deep Learning explores its fundamental principles, applications, and the mechanisms that empower machines to achieve human-like cognitive abilities. It delves into how Deep Learning is reshaping industries, expanding the possibilities in AI, and paving the way for intelligent systems to perceive, comprehend, and innovate independently.\n",
            "\n",
            "What is Deep Learning?\n",
            "\n",
            "Deep learning is a branch of machine learning based on artificial neural network architecture. Artificial neural networks, or ANNs, consist of layers of interconnected nodes called neurons that process and learn from input data. In a fully connected deep neural network, there are input and hidden layers linked sequentially. Neurons in each layer receive input from the previous layer or the input layer, passing it on to the next layer until the final output is generated. Through nonlinear transformations, these layers allow the network to learn complex representations of the input data.\n",
            "\n",
            "Scope of Deep Learning Today\n",
            "\n",
            "Deep learning AI has gained popularity for its success in applications like computer vision, natural language processing, and reinforcement learning. It can be used for supervised, unsupervised, and reinforcement machine learning, utilizing various methods to process data. Artificial neural networks are inspired by human neurons and consist of input, hidden, and output layers. The connections between neurons have weighted inputs that are adjusted during training to improve model performance.\n",
            "\n",
            "Deep Learning Applications\n",
            "\n",
            "Deep learning models can automatically learn features from data, making them suitable for tasks such as image recognition, speech recognition, and natural language processing. Common deep learning architectures include feedforward neural networks, convolutional neural networks (CNNs), and recurrent neural networks (RNNs). Applications of deep learning include computer vision, natural language processing (NLP), and reinforcement learning.\n",
            "\n",
            "Challenges in Deep Learning\n",
            "\n",
            "While deep learning has made significant advancements, challenges like interpretability and ethical considerations persist. Despite these challenges, ongoing research and innovation in deep learning promise to reshape the future, enabling machines to learn, adapt, and solve complex problems at an unprecedented scale and speed.\n"
          ]
        }
      ],
      "source": [
        "url = \"https://www.geeksforgeeks.org/introduction-deep-learning/\"\n",
        "print(\"\\nExtracting website content...\")\n",
        "web_content = extract_website_content(url)\n",
        "\n",
        "if web_content:\n",
        "    print(\"\\nExtracted Website Content (Preview):\\n\", web_content[:500], \"...\\n\")\n",
        "    rewritten_web_content = rewrite_content(web_content)\n",
        "    print(\"\\nRewritten Website Content:\\n\", rewritten_web_content)\n",
        "else:\n",
        "    print(\"No content extracted from the website.\")"
      ]
    },
    {
      "cell_type": "markdown",
      "metadata": {
        "id": "UhzDz7mpEi7O"
      },
      "source": [
        "# Summarize the chat"
      ]
    },
    {
      "cell_type": "code",
      "execution_count": 14,
      "metadata": {
        "colab": {
          "base_uri": "https://localhost:8080/"
        },
        "id": "786pI8GsB56c",
        "outputId": "a0f1a860-89fd-4500-d32a-9e9761f6d3e9"
      },
      "outputs": [
        {
          "name": "stdout",
          "output_type": "stream",
          "text": [
            "\n",
            "Summarizing the chats...\n",
            "\n",
            "\n",
            "Chat Summary is as below..:\n",
            " The chat session discussed a math problem solution where x was found to be 5. The remaining content focused on a research paper titled \"DDoSNet: A Deep-Learning Model for Detecting Network Attacks\" which introduces an intrusion detection system based on Deep Learning for improved DDoS attack detection in Software-Defined Networking (SDN) environments. The paper highlights the methodology, results, and implications of using Deep Learning techniques in enhancing network security. Additionally, the rewritten content provides an overview of Deep Learning, its applications, scope, challenges, and the transformative impact it has on various industries.\n"
          ]
        }
      ],
      "source": [
        "# Step 4: Summarize the conversation\n",
        "messages = [\n",
        "    f\"Math Problem Solution: {math_solution}\",\n",
        "    f\"Rewritten Deep Learning PDF Content: {rewritten_pdf_content}\",\n",
        "    f\"Rewritten Deep Learning Website Content: {rewritten_web_content}\"\n",
        "]\n",
        "print(\"\\nSummarizing the chats...\\n\")\n",
        "summary = summarize_chat(messages)\n",
        "print(\"\\nChat Summary is as below..:\\n\", summary)\n"
      ]
    }
  ],
  "metadata": {
    "accelerator": "TPU",
    "colab": {
      "gpuType": "V28",
      "provenance": []
    },
    "kernelspec": {
      "display_name": "Python 3",
      "name": "python3"
    },
    "language_info": {
      "name": "python"
    }
  },
  "nbformat": 4,
  "nbformat_minor": 0
}

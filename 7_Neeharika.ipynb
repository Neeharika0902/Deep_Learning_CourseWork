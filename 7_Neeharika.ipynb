{
  "nbformat": 4,
  "nbformat_minor": 0,
  "metadata": {
    "colab": {
      "provenance": [],
      "gpuType": "T4"
    },
    "kernelspec": {
      "name": "python3",
      "display_name": "Python 3"
    },
    "language_info": {
      "name": "python"
    },
    "accelerator": "GPU"
  },
  "cells": [
    {
      "cell_type": "markdown",
      "source": [
        "# Step 1: Load the Wikipedia GLoVE Word2Vec."
      ],
      "metadata": {
        "id": "dbBU1Y2WNCya"
      }
    },
    {
      "cell_type": "code",
      "execution_count": 1,
      "metadata": {
        "id": "f03ad6a1Dx_H",
        "colab": {
          "base_uri": "https://localhost:8080/"
        },
        "outputId": "0f8b1025-cdaa-41cc-f619-d88a45e23cd7"
      },
      "outputs": [
        {
          "output_type": "stream",
          "name": "stdout",
          "text": [
            "[==================================================] 100.0% 128.1/128.1MB downloaded\n"
          ]
        }
      ],
      "source": [
        "import gensim.downloader as api\n",
        "\n",
        "glove_vectors = api.load(\"glove-wiki-gigaword-100\")"
      ]
    },
    {
      "cell_type": "markdown",
      "source": [
        "# Step 2: Show how similar are these words:"
      ],
      "metadata": {
        "id": "NACCHJXBNGVd"
      }
    },
    {
      "cell_type": "code",
      "source": [
        "similarity_btween_man_woman = glove_vectors.similarity('man', 'woman')\n",
        "similarity_btween_chair_throne = glove_vectors.similarity('chair', 'throne')\n",
        "similarity_btween_water_baby = glove_vectors.similarity('water', 'baby')\n",
        "\n",
        "print(f\"Similarity between 'man' & 'woman': {similarity_btween_man_woman:.4f}\")\n",
        "print(f\"Similarity between 'chair' & 'throne': {similarity_btween_chair_throne:.4f}\")\n",
        "print(f\"Similarity between 'water' & 'baby': {similarity_btween_water_baby:.4f}\")\n"
      ],
      "metadata": {
        "id": "s-juHo04KQGM",
        "colab": {
          "base_uri": "https://localhost:8080/"
        },
        "outputId": "69a24884-10d8-4394-d65a-17d5f95e77ec"
      },
      "execution_count": 2,
      "outputs": [
        {
          "output_type": "stream",
          "name": "stdout",
          "text": [
            "Similarity between 'man' & 'woman': 0.8323\n",
            "Similarity between 'chair' & 'throne': 0.3001\n",
            "Similarity between 'water' & 'baby': 0.4032\n"
          ]
        }
      ]
    },
    {
      "cell_type": "markdown",
      "source": [
        "# Step 3: Using these provide analogies for the following:"
      ],
      "metadata": {
        "id": "iJue9GoFNKrG"
      }
    },
    {
      "cell_type": "code",
      "source": [
        "\n",
        "king_woman = glove_vectors.most_similar(positive=['woman', 'king'], negative=['man'], topn=1)\n",
        "\n",
        "princess_woman = glove_vectors.most_similar(positive=['woman', 'princess'], negative=['man'], topn=1)\n",
        "\n",
        "adult_woman = glove_vectors.most_similar(positive=['woman', 'child'], negative=['adult'], topn=1)\n",
        "\n",
        "print(f\"{king_woman[0][0]} is to King as Woman is to Man \")\n",
        "print(f\"{princess_woman[0][0]} is to Princess as Man is to Woman \")\n",
        "print(f\"{adult_woman[0][0]} is to a woman as a child is to an adult\")\n"
      ],
      "metadata": {
        "colab": {
          "base_uri": "https://localhost:8080/"
        },
        "id": "MtXjiC1lblcn",
        "outputId": "c079dcab-0ea6-42f2-f946-c69e87ef725d"
      },
      "execution_count": 3,
      "outputs": [
        {
          "output_type": "stream",
          "name": "stdout",
          "text": [
            "queen is to King as Woman is to Man \n",
            "duchess is to Princess as Man is to Woman \n",
            "mother is to a woman as a child is to an adult\n"
          ]
        }
      ]
    },
    {
      "cell_type": "markdown",
      "source": [
        "# 4 Multinomial Naive Bayes classifier"
      ],
      "metadata": {
        "id": "CIeGb6xFcGNs"
      }
    },
    {
      "cell_type": "code",
      "source": [
        "import pandas as pd\n",
        "from sklearn.model_selection import train_test_split\n",
        "from sklearn.feature_extraction.text import CountVectorizer\n",
        "from sklearn.naive_bayes import MultinomialNB\n",
        "from sklearn.metrics import accuracy_score, confusion_matrix, classification_report\n",
        "import matplotlib.pyplot as plt\n",
        "import seaborn as sns\n"
      ],
      "metadata": {
        "id": "qFmyEbz1M0Wd"
      },
      "execution_count": 6,
      "outputs": []
    },
    {
      "cell_type": "code",
      "source": [
        "\n",
        "messages = pd.read_csv(\"spam.csv\", encoding='latin-1')\n",
        "\n",
        "\n",
        "messages = messages[['v1', 'v2']]\n",
        "messages.columns = ['label', 'message']\n",
        "\n",
        "messages['label'] = messages['label'].map({'ham': 0, 'spam': 1})\n",
        "\n",
        "X = messages['message']\n",
        "y = messages['label']\n",
        "X_train, X_test, y_train, y_test = train_test_split(X, y, test_size=0.33, random_state=42)\n",
        "\n",
        "vectorizer = CountVectorizer()\n",
        "X_train_vectorized = vectorizer.fit_transform(X_train)\n",
        "X_test_vectorized = vectorizer.transform(X_test)\n",
        "\n",
        "# Multinomial Naive Bayes classifier\n",
        "model = MultinomialNB()\n",
        "model.fit(X_train_vectorized, y_train)\n",
        "\n",
        "y_pred = model.predict(X_test_vectorized)\n",
        "\n",
        "accuracy = accuracy_score(y_test, y_pred)\n",
        "confusion = confusion_matrix(y_test, y_pred)\n",
        "report = classification_report(y_test, y_pred)\n",
        "\n",
        "# evaluation metrics\n",
        "print(\"Accuracy is \", accuracy)\n",
        "print(\"Confusion Matrix is \\n\", confusion)\n",
        "print(\"Classification Report is \\n\", report)\n",
        "\n"
      ],
      "metadata": {
        "colab": {
          "base_uri": "https://localhost:8080/"
        },
        "id": "xBjLGcNuEJtQ",
        "outputId": "c5ac2c3f-662f-425d-8c3b-176f87574319"
      },
      "execution_count": 12,
      "outputs": [
        {
          "output_type": "stream",
          "name": "stdout",
          "text": [
            "Accuracy is  0.9825992387166939\n",
            "Confusion Matrix is \n",
            " [[1581    6]\n",
            " [  26  226]]\n",
            "Classification Report is \n",
            "               precision    recall  f1-score   support\n",
            "\n",
            "           0       0.98      1.00      0.99      1587\n",
            "           1       0.97      0.90      0.93       252\n",
            "\n",
            "    accuracy                           0.98      1839\n",
            "   macro avg       0.98      0.95      0.96      1839\n",
            "weighted avg       0.98      0.98      0.98      1839\n",
            "\n"
          ]
        }
      ]
    },
    {
      "cell_type": "code",
      "source": [
        "# confusion matrix\n",
        "y_pred = model.predict(X_test_vectorized)\n",
        "conf_matrix = confusion_matrix(y_test, y_pred)\n",
        "\n",
        "print(\"Confusion Matrix of naive bayes:\")\n",
        "print(conf_matrix)\n",
        "\n",
        "plt.figure(figsize=(6, 4))\n",
        "sns.heatmap(conf_matrix, annot=True, fmt='d', cmap='Blues', xticklabels=['Ham', 'Spam'], yticklabels=['Ham', 'Spam'])\n",
        "plt.xlabel('Predicted Label')\n",
        "plt.ylabel('True Label')\n",
        "plt.title('Confusion Matrix')\n",
        "plt.show()\n"
      ],
      "metadata": {
        "colab": {
          "base_uri": "https://localhost:8080/"
        },
        "id": "w73qgDPzNPuw",
        "outputId": "10e135bb-4c49-46b4-f6af-e16970408255"
      },
      "execution_count": 9,
      "outputs": [
        {
          "output_type": "stream",
          "name": "stdout",
          "text": [
            "Confusion Matrix of naive bayes:\n",
            "[[1581    6]\n",
            " [  26  226]]\n"
          ]
        }
      ]
    },
    {
      "cell_type": "code",
      "source": [
        "plt.figure(figsize=(6, 4))\n",
        "sns.heatmap(conf_matrix, annot=True, fmt='d', cmap='Blues', xticklabels=['Ham', 'Spam'], yticklabels=['Ham', 'Spam'])\n",
        "plt.xlabel('Predicted Label')\n",
        "plt.ylabel('True Label')\n",
        "plt.title('Confusion Matrix')\n",
        "plt.show()\n"
      ],
      "metadata": {
        "id": "TOsrpBA7ElWU",
        "colab": {
          "base_uri": "https://localhost:8080/",
          "height": 410
        },
        "outputId": "507b61d3-7c23-4a9b-8632-d73c455af569"
      },
      "execution_count": 10,
      "outputs": [
        {
          "output_type": "display_data",
          "data": {
            "text/plain": [
              "<Figure size 600x400 with 2 Axes>"
            ],
            "image/png": "[encoded data removed]"
          },
          "metadata": {}
        }
      ]
    },
    {
      "cell_type": "code",
      "source": [],
      "metadata": {
        "id": "CK7SVUTgNRhT"
      },
      "execution_count": null,
      "outputs": []
    }
  ]
}
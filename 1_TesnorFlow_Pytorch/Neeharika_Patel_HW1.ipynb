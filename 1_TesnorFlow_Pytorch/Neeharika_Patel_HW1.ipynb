{
 "cells": [
  {
   "cell_type": "markdown",
   "metadata": {},
   "source": [
    "# Part 1 : TensorFlow ---------------------------------------------------------"
   ]
  },
  {
   "cell_type": "code",
   "execution_count": 96,
   "metadata": {},
   "outputs": [],
   "source": [
    "# Libraries\n",
    "import pandas as pd\n",
    "import numpy as np\n",
    "import matplotlib.pyplot as plt\n",
    "import tensorflow as tn\n"
   ]
  },
  {
   "cell_type": "markdown",
   "metadata": {},
   "source": [
    "# Step 1 : import the dataset"
   ]
  },
  {
   "cell_type": "code",
   "execution_count": 97,
   "metadata": {},
   "outputs": [
    {
     "data": {
      "text/plain": [
       "Index(['-0.294118', '0.487437', '0.180328', '-0.292929', '0', '0.00149028',\n",
       "       '-0.53117', '-0.0333333', '0.1'],\n",
       "      dtype='object')"
      ]
     },
     "execution_count": 97,
     "metadata": {},
     "output_type": "execute_result"
    }
   ],
   "source": [
    "\n",
    "data = pd.read_csv('diabetes.csv')\n",
    "data.columns"
   ]
  },
  {
   "cell_type": "code",
   "execution_count": 98,
   "metadata": {},
   "outputs": [],
   "source": [
    "# We dont have column names, so adding header to them\n",
    "data = data.set_axis(['fr1','fr2','fr3','fr4','fr5','fr6','fr7','fr9','target'],axis=1)"
   ]
  },
  {
   "cell_type": "markdown",
   "metadata": {},
   "source": [
    "# Step 2: Preprocessing the Data & Visualization"
   ]
  },
  {
   "cell_type": "code",
   "execution_count": 99,
   "metadata": {},
   "outputs": [
    {
     "data": {
      "text/html": [
       "<div>\n",
       "<style scoped>\n",
       "    .dataframe tbody tr th:only-of-type {\n",
       "        vertical-align: middle;\n",
       "    }\n",
       "\n",
       "    .dataframe tbody tr th {\n",
       "        vertical-align: top;\n",
       "    }\n",
       "\n",
       "    .dataframe thead th {\n",
       "        text-align: right;\n",
       "    }\n",
       "</style>\n",
       "<table border=\"1\" class=\"dataframe\">\n",
       "  <thead>\n",
       "    <tr style=\"text-align: right;\">\n",
       "      <th></th>\n",
       "      <th>fr1</th>\n",
       "      <th>fr2</th>\n",
       "      <th>fr3</th>\n",
       "      <th>fr4</th>\n",
       "      <th>fr5</th>\n",
       "      <th>fr6</th>\n",
       "      <th>fr7</th>\n",
       "      <th>fr9</th>\n",
       "      <th>target</th>\n",
       "    </tr>\n",
       "  </thead>\n",
       "  <tbody>\n",
       "    <tr>\n",
       "      <th>0</th>\n",
       "      <td>-0.882353</td>\n",
       "      <td>-0.145729</td>\n",
       "      <td>0.081967</td>\n",
       "      <td>-0.414141</td>\n",
       "      <td>0.000000</td>\n",
       "      <td>-0.207153</td>\n",
       "      <td>-0.766866</td>\n",
       "      <td>-0.666667</td>\n",
       "      <td>1</td>\n",
       "    </tr>\n",
       "    <tr>\n",
       "      <th>1</th>\n",
       "      <td>-0.058824</td>\n",
       "      <td>0.839196</td>\n",
       "      <td>0.049180</td>\n",
       "      <td>0.000000</td>\n",
       "      <td>0.000000</td>\n",
       "      <td>-0.305514</td>\n",
       "      <td>-0.492741</td>\n",
       "      <td>-0.633333</td>\n",
       "      <td>0</td>\n",
       "    </tr>\n",
       "    <tr>\n",
       "      <th>2</th>\n",
       "      <td>-0.882353</td>\n",
       "      <td>-0.105528</td>\n",
       "      <td>0.081967</td>\n",
       "      <td>-0.535354</td>\n",
       "      <td>-0.777778</td>\n",
       "      <td>-0.162444</td>\n",
       "      <td>-0.923997</td>\n",
       "      <td>0.000000</td>\n",
       "      <td>1</td>\n",
       "    </tr>\n",
       "    <tr>\n",
       "      <th>3</th>\n",
       "      <td>0.000000</td>\n",
       "      <td>0.376884</td>\n",
       "      <td>-0.344262</td>\n",
       "      <td>-0.292929</td>\n",
       "      <td>-0.602837</td>\n",
       "      <td>0.284650</td>\n",
       "      <td>0.887276</td>\n",
       "      <td>-0.600000</td>\n",
       "      <td>0</td>\n",
       "    </tr>\n",
       "    <tr>\n",
       "      <th>4</th>\n",
       "      <td>-0.411765</td>\n",
       "      <td>0.165829</td>\n",
       "      <td>0.213115</td>\n",
       "      <td>0.000000</td>\n",
       "      <td>0.000000</td>\n",
       "      <td>-0.236960</td>\n",
       "      <td>-0.894962</td>\n",
       "      <td>-0.700000</td>\n",
       "      <td>1</td>\n",
       "    </tr>\n",
       "  </tbody>\n",
       "</table>\n",
       "</div>"
      ],
      "text/plain": [
       "        fr1       fr2       fr3       fr4       fr5       fr6       fr7  \\\n",
       "0 -0.882353 -0.145729  0.081967 -0.414141  0.000000 -0.207153 -0.766866   \n",
       "1 -0.058824  0.839196  0.049180  0.000000  0.000000 -0.305514 -0.492741   \n",
       "2 -0.882353 -0.105528  0.081967 -0.535354 -0.777778 -0.162444 -0.923997   \n",
       "3  0.000000  0.376884 -0.344262 -0.292929 -0.602837  0.284650  0.887276   \n",
       "4 -0.411765  0.165829  0.213115  0.000000  0.000000 -0.236960 -0.894962   \n",
       "\n",
       "        fr9  target  \n",
       "0 -0.666667       1  \n",
       "1 -0.633333       0  \n",
       "2  0.000000       1  \n",
       "3 -0.600000       0  \n",
       "4 -0.700000       1  "
      ]
     },
     "execution_count": 99,
     "metadata": {},
     "output_type": "execute_result"
    }
   ],
   "source": [
    "data.head()"
   ]
  },
  {
   "cell_type": "code",
   "execution_count": 100,
   "metadata": {},
   "outputs": [
    {
     "data": {
      "text/html": [
       "<div>\n",
       "<style scoped>\n",
       "    .dataframe tbody tr th:only-of-type {\n",
       "        vertical-align: middle;\n",
       "    }\n",
       "\n",
       "    .dataframe tbody tr th {\n",
       "        vertical-align: top;\n",
       "    }\n",
       "\n",
       "    .dataframe thead th {\n",
       "        text-align: right;\n",
       "    }\n",
       "</style>\n",
       "<table border=\"1\" class=\"dataframe\">\n",
       "  <thead>\n",
       "    <tr style=\"text-align: right;\">\n",
       "      <th></th>\n",
       "      <th>fr1</th>\n",
       "      <th>fr2</th>\n",
       "      <th>fr3</th>\n",
       "      <th>fr4</th>\n",
       "      <th>fr5</th>\n",
       "      <th>fr6</th>\n",
       "      <th>fr7</th>\n",
       "      <th>fr9</th>\n",
       "      <th>target</th>\n",
       "    </tr>\n",
       "  </thead>\n",
       "  <tbody>\n",
       "    <tr>\n",
       "      <th>count</th>\n",
       "      <td>758.000000</td>\n",
       "      <td>758.000000</td>\n",
       "      <td>758.000000</td>\n",
       "      <td>758.000000</td>\n",
       "      <td>758.000000</td>\n",
       "      <td>758.000000</td>\n",
       "      <td>758.000000</td>\n",
       "      <td>758.000000</td>\n",
       "      <td>758.000000</td>\n",
       "    </tr>\n",
       "    <tr>\n",
       "      <th>mean</th>\n",
       "      <td>-0.407807</td>\n",
       "      <td>0.218208</td>\n",
       "      <td>0.176500</td>\n",
       "      <td>-0.289731</td>\n",
       "      <td>-0.323961</td>\n",
       "      <td>-0.032289</td>\n",
       "      <td>-0.663427</td>\n",
       "      <td>-0.516799</td>\n",
       "      <td>0.654354</td>\n",
       "    </tr>\n",
       "    <tr>\n",
       "      <th>std</th>\n",
       "      <td>0.386493</td>\n",
       "      <td>0.306465</td>\n",
       "      <td>0.201420</td>\n",
       "      <td>0.258651</td>\n",
       "      <td>0.375608</td>\n",
       "      <td>0.205508</td>\n",
       "      <td>0.283202</td>\n",
       "      <td>0.400674</td>\n",
       "      <td>0.475893</td>\n",
       "    </tr>\n",
       "    <tr>\n",
       "      <th>min</th>\n",
       "      <td>-0.882353</td>\n",
       "      <td>-0.557789</td>\n",
       "      <td>-0.606557</td>\n",
       "      <td>-0.858586</td>\n",
       "      <td>-0.966903</td>\n",
       "      <td>-0.457526</td>\n",
       "      <td>-0.994876</td>\n",
       "      <td>-0.966667</td>\n",
       "      <td>0.000000</td>\n",
       "    </tr>\n",
       "    <tr>\n",
       "      <th>25%</th>\n",
       "      <td>-0.764706</td>\n",
       "      <td>-0.005025</td>\n",
       "      <td>0.016393</td>\n",
       "      <td>-0.494949</td>\n",
       "      <td>-0.716312</td>\n",
       "      <td>-0.179583</td>\n",
       "      <td>-0.858241</td>\n",
       "      <td>-0.866667</td>\n",
       "      <td>0.000000</td>\n",
       "    </tr>\n",
       "    <tr>\n",
       "      <th>50%</th>\n",
       "      <td>-0.529412</td>\n",
       "      <td>0.165829</td>\n",
       "      <td>0.180328</td>\n",
       "      <td>-0.292929</td>\n",
       "      <td>0.000000</td>\n",
       "      <td>-0.034277</td>\n",
       "      <td>-0.748506</td>\n",
       "      <td>-0.633333</td>\n",
       "      <td>1.000000</td>\n",
       "    </tr>\n",
       "    <tr>\n",
       "      <th>75%</th>\n",
       "      <td>0.000000</td>\n",
       "      <td>0.407035</td>\n",
       "      <td>0.311475</td>\n",
       "      <td>0.000000</td>\n",
       "      <td>0.000000</td>\n",
       "      <td>0.087929</td>\n",
       "      <td>-0.532451</td>\n",
       "      <td>-0.233333</td>\n",
       "      <td>1.000000</td>\n",
       "    </tr>\n",
       "    <tr>\n",
       "      <th>max</th>\n",
       "      <td>1.000000</td>\n",
       "      <td>1.000000</td>\n",
       "      <td>1.000000</td>\n",
       "      <td>1.000000</td>\n",
       "      <td>1.000000</td>\n",
       "      <td>1.000000</td>\n",
       "      <td>1.000000</td>\n",
       "      <td>1.000000</td>\n",
       "      <td>1.000000</td>\n",
       "    </tr>\n",
       "  </tbody>\n",
       "</table>\n",
       "</div>"
      ],
      "text/plain": [
       "              fr1         fr2         fr3         fr4         fr5         fr6  \\\n",
       "count  758.000000  758.000000  758.000000  758.000000  758.000000  758.000000   \n",
       "mean    -0.407807    0.218208    0.176500   -0.289731   -0.323961   -0.032289   \n",
       "std      0.386493    0.306465    0.201420    0.258651    0.375608    0.205508   \n",
       "min     -0.882353   -0.557789   -0.606557   -0.858586   -0.966903   -0.457526   \n",
       "25%     -0.764706   -0.005025    0.016393   -0.494949   -0.716312   -0.179583   \n",
       "50%     -0.529412    0.165829    0.180328   -0.292929    0.000000   -0.034277   \n",
       "75%      0.000000    0.407035    0.311475    0.000000    0.000000    0.087929   \n",
       "max      1.000000    1.000000    1.000000    1.000000    1.000000    1.000000   \n",
       "\n",
       "              fr7         fr9      target  \n",
       "count  758.000000  758.000000  758.000000  \n",
       "mean    -0.663427   -0.516799    0.654354  \n",
       "std      0.283202    0.400674    0.475893  \n",
       "min     -0.994876   -0.966667    0.000000  \n",
       "25%     -0.858241   -0.866667    0.000000  \n",
       "50%     -0.748506   -0.633333    1.000000  \n",
       "75%     -0.532451   -0.233333    1.000000  \n",
       "max      1.000000    1.000000    1.000000  "
      ]
     },
     "execution_count": 100,
     "metadata": {},
     "output_type": "execute_result"
    }
   ],
   "source": [
    "data.describe()"
   ]
  },
  {
   "cell_type": "code",
   "execution_count": 101,
   "metadata": {},
   "outputs": [
    {
     "data": {
      "text/plain": [
       "0"
      ]
     },
     "execution_count": 101,
     "metadata": {},
     "output_type": "execute_result"
    }
   ],
   "source": [
    "# to check is is there any duplicate rows\n",
    "data.duplicated().sum()"
   ]
  },
  {
   "cell_type": "code",
   "execution_count": 102,
   "metadata": {},
   "outputs": [
    {
     "data": {
      "text/plain": [
       "fr1       0\n",
       "fr2       0\n",
       "fr3       0\n",
       "fr4       0\n",
       "fr5       0\n",
       "fr6       0\n",
       "fr7       0\n",
       "fr9       0\n",
       "target    0\n",
       "dtype: int64"
      ]
     },
     "execution_count": 102,
     "metadata": {},
     "output_type": "execute_result"
    }
   ],
   "source": [
    "data.isnull().sum()"
   ]
  },
  {
   "cell_type": "code",
   "execution_count": 103,
   "metadata": {},
   "outputs": [
    {
     "data": {
      "text/plain": [
       "(758, 9)"
      ]
     },
     "execution_count": 103,
     "metadata": {},
     "output_type": "execute_result"
    }
   ],
   "source": [
    "data.shape"
   ]
  },
  {
   "cell_type": "code",
   "execution_count": 104,
   "metadata": {},
   "outputs": [
    {
     "data": {
      "text/plain": [
       "array([[<Axes: title={'center': 'fr1'}>, <Axes: title={'center': 'fr2'}>,\n",
       "        <Axes: title={'center': 'fr3'}>],\n",
       "       [<Axes: title={'center': 'fr4'}>, <Axes: title={'center': 'fr5'}>,\n",
       "        <Axes: title={'center': 'fr6'}>],\n",
       "       [<Axes: title={'center': 'fr7'}>, <Axes: title={'center': 'fr9'}>,\n",
       "        <Axes: title={'center': 'target'}>]], dtype=object)"
      ]
     },
     "execution_count": 104,
     "metadata": {},
     "output_type": "execute_result"
    },
    {
     "data": {
      "image/png": "[encoded data removed]",
      "text/plain": [
       "<Figure size 1000x1000 with 9 Axes>"
      ]
     },
     "metadata": {},
     "output_type": "display_data"
    }
   ],
   "source": [
    "# visualizations of each data field\n",
    "data.hist(figsize=(10,10))"
   ]
  },
  {
   "cell_type": "code",
   "execution_count": 105,
   "metadata": {},
   "outputs": [
    {
     "data": {
      "text/plain": [
       "<Axes: >"
      ]
     },
     "execution_count": 105,
     "metadata": {},
     "output_type": "execute_result"
    },
    {
     "data": {
      "image/png": "[encoded data removed]",
      "text/plain": [
       "<Figure size 640x480 with 1 Axes>"
      ]
     },
     "metadata": {},
     "output_type": "display_data"
    }
   ],
   "source": [
    "# Box plot to identify outliers\n",
    "import seaborn as sns\n",
    "sns.boxenplot(data=data,palette='pastel')"
   ]
  },
  {
   "cell_type": "code",
   "execution_count": 106,
   "metadata": {},
   "outputs": [
    {
     "data": {
      "text/plain": [
       "<Axes: >"
      ]
     },
     "execution_count": 106,
     "metadata": {},
     "output_type": "execute_result"
    },
    {
     "data": {
      "image/png": "[encoded data removed]",
      "text/plain": [
       "<Figure size 640x480 with 2 Axes>"
      ]
     },
     "metadata": {},
     "output_type": "display_data"
    }
   ],
   "source": [
    "# heapMap to check Correlation of data points \n",
    "sns.heatmap(data.corr())"
   ]
  },
  {
   "cell_type": "markdown",
   "metadata": {},
   "source": [
    "# Step 3: Split into 70% train 30% test"
   ]
  },
  {
   "cell_type": "code",
   "execution_count": 107,
   "metadata": {},
   "outputs": [
    {
     "data": {
      "text/plain": [
       "array([[-0.01924968, -0.22083283,  0.34204625, ..., -0.19423045,\n",
       "        -0.37066807,  0.70479237],\n",
       "       [-1.23740727, -1.4535344 , -1.27872991, ...,  0.11026748,\n",
       "         2.3178001 , -0.97630421],\n",
       "       [ 0.28528972, -1.19401862,  0.50412426, ..., -0.19423045,\n",
       "        -0.2551938 ,  0.53668195],\n",
       "       ...,\n",
       "       [-1.23740727, -0.72364506, -1.92704097, ..., -1.1367224 ,\n",
       "        -0.97172368, -1.14441462],\n",
       "       [ 1.04663951, -0.57766751,  0.34204625, ..., -2.05021917,\n",
       "         0.3369789 , -0.72413985],\n",
       "       [-0.62832848,  1.88773208, -0.63042034, ...,  0.21176676,\n",
       "        -0.5838508 , -0.8081938 ]])"
      ]
     },
     "execution_count": 107,
     "metadata": {},
     "output_type": "execute_result"
    }
   ],
   "source": [
    "# Data needs to be scaled.\n",
    "\n",
    "from sklearn.model_selection import train_test_split\n",
    "\n",
    "x = data.drop(columns=['target'])\n",
    "y = data['target']\n",
    "\n",
    "x_train, x_test, y_train, y_test = train_test_split(x,y,test_size=0.3,random_state=1)\n",
    "\n",
    "from sklearn.preprocessing import StandardScaler\n",
    "scaler = StandardScaler()\n",
    "\n",
    "x_trained_scaled  = scaler.fit_transform(x_train)\n",
    "x_test_scaled = scaler.transform(x_test)\n",
    "\n",
    "\n",
    "x_trained_scaled"
   ]
  },
  {
   "cell_type": "markdown",
   "metadata": {},
   "source": [
    "# Step 4: Modify the model "
   ]
  },
  {
   "cell_type": "code",
   "execution_count": 108,
   "metadata": {},
   "outputs": [],
   "source": [
    "# Now we will apply Keras for \n",
    "\n",
    "import tensorflow \n",
    "from tensorflow import keras\n",
    "from tensorflow.keras import Sequential\n",
    "from tensorflow.keras.layers import Dense"
   ]
  },
  {
   "cell_type": "code",
   "execution_count": 109,
   "metadata": {},
   "outputs": [],
   "source": [
    "# Creating Object \n",
    "model = Sequential()"
   ]
  },
  {
   "cell_type": "code",
   "execution_count": 110,
   "metadata": {},
   "outputs": [
    {
     "name": "stderr",
     "output_type": "stream",
     "text": [
      "/Library/Frameworks/Python.framework/Versions/3.12/lib/python3.12/site-packages/keras/src/layers/core/dense.py:87: UserWarning: Do not pass an `input_shape`/`input_dim` argument to a layer. When using Sequential models, prefer using an `Input(shape)` object as the first layer in the model instead.\n",
      "  super().__init__(activity_regularizer=activity_regularizer, **kwargs)\n"
     ]
    },
    {
     "data": {
      "text/html": [
       "<pre style=\"white-space:pre;overflow-x:auto;line-height:normal;font-family:Menlo,'DejaVu Sans Mono',consolas,'Courier New',monospace\"><span style=\"font-weight: bold\">Model: \"sequential_12\"</span>\n",
       "</pre>\n"
      ],
      "text/plain": [
       "\u001b[1mModel: \"sequential_12\"\u001b[0m\n"
      ]
     },
     "metadata": {},
     "output_type": "display_data"
    },
    {
     "data": {
      "text/html": [
       "<pre style=\"white-space:pre;overflow-x:auto;line-height:normal;font-family:Menlo,'DejaVu Sans Mono',consolas,'Courier New',monospace\">┏━━━━━━━━━━━━━━━━━━━━━━━━━━━━━━━━━┳━━━━━━━━━━━━━━━━━━━━━━━━┳━━━━━━━━━━━━━━━┓\n",
       "┃<span style=\"font-weight: bold\"> Layer (type)                    </span>┃<span style=\"font-weight: bold\"> Output Shape           </span>┃<span style=\"font-weight: bold\">       Param # </span>┃\n",
       "┡━━━━━━━━━━━━━━━━━━━━━━━━━━━━━━━━━╇━━━━━━━━━━━━━━━━━━━━━━━━╇━━━━━━━━━━━━━━━┩\n",
       "│ dense_34 (<span style=\"color: #0087ff; text-decoration-color: #0087ff\">Dense</span>)                │ (<span style=\"color: #00d7ff; text-decoration-color: #00d7ff\">None</span>, <span style=\"color: #00af00; text-decoration-color: #00af00\">3</span>)              │            <span style=\"color: #00af00; text-decoration-color: #00af00\">27</span> │\n",
       "├─────────────────────────────────┼────────────────────────┼───────────────┤\n",
       "│ dense_35 (<span style=\"color: #0087ff; text-decoration-color: #0087ff\">Dense</span>)                │ (<span style=\"color: #00d7ff; text-decoration-color: #00d7ff\">None</span>, <span style=\"color: #00af00; text-decoration-color: #00af00\">1</span>)              │             <span style=\"color: #00af00; text-decoration-color: #00af00\">4</span> │\n",
       "└─────────────────────────────────┴────────────────────────┴───────────────┘\n",
       "</pre>\n"
      ],
      "text/plain": [
       "┏━━━━━━━━━━━━━━━━━━━━━━━━━━━━━━━━━┳━━━━━━━━━━━━━━━━━━━━━━━━┳━━━━━━━━━━━━━━━┓\n",
       "┃\u001b[1m \u001b[0m\u001b[1mLayer (type)                   \u001b[0m\u001b[1m \u001b[0m┃\u001b[1m \u001b[0m\u001b[1mOutput Shape          \u001b[0m\u001b[1m \u001b[0m┃\u001b[1m \u001b[0m\u001b[1m      Param #\u001b[0m\u001b[1m \u001b[0m┃\n",
       "┡━━━━━━━━━━━━━━━━━━━━━━━━━━━━━━━━━╇━━━━━━━━━━━━━━━━━━━━━━━━╇━━━━━━━━━━━━━━━┩\n",
       "│ dense_34 (\u001b[38;5;33mDense\u001b[0m)                │ (\u001b[38;5;45mNone\u001b[0m, \u001b[38;5;34m3\u001b[0m)              │            \u001b[38;5;34m27\u001b[0m │\n",
       "├─────────────────────────────────┼────────────────────────┼───────────────┤\n",
       "│ dense_35 (\u001b[38;5;33mDense\u001b[0m)                │ (\u001b[38;5;45mNone\u001b[0m, \u001b[38;5;34m1\u001b[0m)              │             \u001b[38;5;34m4\u001b[0m │\n",
       "└─────────────────────────────────┴────────────────────────┴───────────────┘\n"
      ]
     },
     "metadata": {},
     "output_type": "display_data"
    },
    {
     "data": {
      "text/html": [
       "<pre style=\"white-space:pre;overflow-x:auto;line-height:normal;font-family:Menlo,'DejaVu Sans Mono',consolas,'Courier New',monospace\"><span style=\"font-weight: bold\"> Total params: </span><span style=\"color: #00af00; text-decoration-color: #00af00\">31</span> (124.00 B)\n",
       "</pre>\n"
      ],
      "text/plain": [
       "\u001b[1m Total params: \u001b[0m\u001b[38;5;34m31\u001b[0m (124.00 B)\n"
      ]
     },
     "metadata": {},
     "output_type": "display_data"
    },
    {
     "data": {
      "text/html": [
       "<pre style=\"white-space:pre;overflow-x:auto;line-height:normal;font-family:Menlo,'DejaVu Sans Mono',consolas,'Courier New',monospace\"><span style=\"font-weight: bold\"> Trainable params: </span><span style=\"color: #00af00; text-decoration-color: #00af00\">31</span> (124.00 B)\n",
       "</pre>\n"
      ],
      "text/plain": [
       "\u001b[1m Trainable params: \u001b[0m\u001b[38;5;34m31\u001b[0m (124.00 B)\n"
      ]
     },
     "metadata": {},
     "output_type": "display_data"
    },
    {
     "data": {
      "text/html": [
       "<pre style=\"white-space:pre;overflow-x:auto;line-height:normal;font-family:Menlo,'DejaVu Sans Mono',consolas,'Courier New',monospace\"><span style=\"font-weight: bold\"> Non-trainable params: </span><span style=\"color: #00af00; text-decoration-color: #00af00\">0</span> (0.00 B)\n",
       "</pre>\n"
      ],
      "text/plain": [
       "\u001b[1m Non-trainable params: \u001b[0m\u001b[38;5;34m0\u001b[0m (0.00 B)\n"
      ]
     },
     "metadata": {},
     "output_type": "display_data"
    }
   ],
   "source": [
    "model.add(Dense(3,activation='sigmoid',input_dim = 8)) # First Hidden Layer\n",
    "model.add(Dense(1,activation='sigmoid')) # Output Layer\n",
    "\n",
    "# Here, we can see how many weights and bias are given to each layer\n",
    "model.summary()\n",
    "\n",
    "# for better performance and acuracy while compile time we will declare loss_function and Optimizers\n",
    "model.compile(loss='binary_crossentropy', optimizer='Adam', metrics=['accuracy'])"
   ]
  },
  {
   "cell_type": "markdown",
   "metadata": {},
   "source": [
    "# Step 5:  Train the model on the data"
   ]
  },
  {
   "cell_type": "code",
   "execution_count": 111,
   "metadata": {},
   "outputs": [
    {
     "name": "stdout",
     "output_type": "stream",
     "text": [
      "Epoch 1/20\n",
      "\u001b[1m12/12\u001b[0m \u001b[32m━━━━━━━━━━━━━━━━━━━━\u001b[0m\u001b[37m\u001b[0m \u001b[1m0s\u001b[0m 7ms/step - accuracy: 0.3360 - loss: 1.0848 - val_accuracy: 0.3962 - val_loss: 0.9760\n",
      "Epoch 2/20\n",
      "\u001b[1m12/12\u001b[0m \u001b[32m━━━━━━━━━━━━━━━━━━━━\u001b[0m\u001b[37m\u001b[0m \u001b[1m0s\u001b[0m 2ms/step - accuracy: 0.3313 - loss: 1.0688 - val_accuracy: 0.3962 - val_loss: 0.9608\n",
      "Epoch 3/20\n",
      "\u001b[1m12/12\u001b[0m \u001b[32m━━━━━━━━━━━━━━━━━━━━\u001b[0m\u001b[37m\u001b[0m \u001b[1m0s\u001b[0m 2ms/step - accuracy: 0.3415 - loss: 1.0365 - val_accuracy: 0.3962 - val_loss: 0.9457\n",
      "Epoch 4/20\n",
      "\u001b[1m12/12\u001b[0m \u001b[32m━━━━━━━━━━━━━━━━━━━━\u001b[0m\u001b[37m\u001b[0m \u001b[1m0s\u001b[0m 2ms/step - accuracy: 0.3613 - loss: 1.0016 - val_accuracy: 0.3962 - val_loss: 0.9316\n",
      "Epoch 5/20\n",
      "\u001b[1m12/12\u001b[0m \u001b[32m━━━━━━━━━━━━━━━━━━━━\u001b[0m\u001b[37m\u001b[0m \u001b[1m0s\u001b[0m 2ms/step - accuracy: 0.3347 - loss: 1.0211 - val_accuracy: 0.3962 - val_loss: 0.9176\n",
      "Epoch 6/20\n",
      "\u001b[1m12/12\u001b[0m \u001b[32m━━━━━━━━━━━━━━━━━━━━\u001b[0m\u001b[37m\u001b[0m \u001b[1m0s\u001b[0m 2ms/step - accuracy: 0.3394 - loss: 0.9992 - val_accuracy: 0.3962 - val_loss: 0.9043\n",
      "Epoch 7/20\n",
      "\u001b[1m12/12\u001b[0m \u001b[32m━━━━━━━━━━━━━━━━━━━━\u001b[0m\u001b[37m\u001b[0m \u001b[1m0s\u001b[0m 2ms/step - accuracy: 0.2711 - loss: 1.0430 - val_accuracy: 0.3962 - val_loss: 0.8911\n",
      "Epoch 8/20\n",
      "\u001b[1m12/12\u001b[0m \u001b[32m━━━━━━━━━━━━━━━━━━━━\u001b[0m\u001b[37m\u001b[0m \u001b[1m0s\u001b[0m 2ms/step - accuracy: 0.3324 - loss: 0.9655 - val_accuracy: 0.3962 - val_loss: 0.8792\n",
      "Epoch 9/20\n",
      "\u001b[1m12/12\u001b[0m \u001b[32m━━━━━━━━━━━━━━━━━━━━\u001b[0m\u001b[37m\u001b[0m \u001b[1m0s\u001b[0m 2ms/step - accuracy: 0.3382 - loss: 0.9487 - val_accuracy: 0.3962 - val_loss: 0.8674\n",
      "Epoch 10/20\n",
      "\u001b[1m12/12\u001b[0m \u001b[32m━━━━━━━━━━━━━━━━━━━━\u001b[0m\u001b[37m\u001b[0m \u001b[1m0s\u001b[0m 2ms/step - accuracy: 0.3345 - loss: 0.9305 - val_accuracy: 0.3962 - val_loss: 0.8564\n",
      "Epoch 11/20\n",
      "\u001b[1m12/12\u001b[0m \u001b[32m━━━━━━━━━━━━━━━━━━━━\u001b[0m\u001b[37m\u001b[0m \u001b[1m0s\u001b[0m 2ms/step - accuracy: 0.3650 - loss: 0.9015 - val_accuracy: 0.3962 - val_loss: 0.8458\n",
      "Epoch 12/20\n",
      "\u001b[1m12/12\u001b[0m \u001b[32m━━━━━━━━━━━━━━━━━━━━\u001b[0m\u001b[37m\u001b[0m \u001b[1m0s\u001b[0m 2ms/step - accuracy: 0.2855 - loss: 0.9538 - val_accuracy: 0.3962 - val_loss: 0.8350\n",
      "Epoch 13/20\n",
      "\u001b[1m12/12\u001b[0m \u001b[32m━━━━━━━━━━━━━━━━━━━━\u001b[0m\u001b[37m\u001b[0m \u001b[1m0s\u001b[0m 2ms/step - accuracy: 0.3391 - loss: 0.9017 - val_accuracy: 0.3962 - val_loss: 0.8252\n",
      "Epoch 14/20\n",
      "\u001b[1m12/12\u001b[0m \u001b[32m━━━━━━━━━━━━━━━━━━━━\u001b[0m\u001b[37m\u001b[0m \u001b[1m0s\u001b[0m 2ms/step - accuracy: 0.3383 - loss: 0.8892 - val_accuracy: 0.3962 - val_loss: 0.8157\n",
      "Epoch 15/20\n",
      "\u001b[1m12/12\u001b[0m \u001b[32m━━━━━━━━━━━━━━━━━━━━\u001b[0m\u001b[37m\u001b[0m \u001b[1m0s\u001b[0m 2ms/step - accuracy: 0.3489 - loss: 0.8568 - val_accuracy: 0.3962 - val_loss: 0.8066\n",
      "Epoch 16/20\n",
      "\u001b[1m12/12\u001b[0m \u001b[32m━━━━━━━━━━━━━━━━━━━━\u001b[0m\u001b[37m\u001b[0m \u001b[1m0s\u001b[0m 2ms/step - accuracy: 0.3214 - loss: 0.8716 - val_accuracy: 0.3962 - val_loss: 0.7976\n",
      "Epoch 17/20\n",
      "\u001b[1m12/12\u001b[0m \u001b[32m━━━━━━━━━━━━━━━━━━━━\u001b[0m\u001b[37m\u001b[0m \u001b[1m0s\u001b[0m 2ms/step - accuracy: 0.3578 - loss: 0.8408 - val_accuracy: 0.3962 - val_loss: 0.7894\n",
      "Epoch 18/20\n",
      "\u001b[1m12/12\u001b[0m \u001b[32m━━━━━━━━━━━━━━━━━━━━\u001b[0m\u001b[37m\u001b[0m \u001b[1m0s\u001b[0m 2ms/step - accuracy: 0.3229 - loss: 0.8667 - val_accuracy: 0.3962 - val_loss: 0.7814\n",
      "Epoch 19/20\n",
      "\u001b[1m12/12\u001b[0m \u001b[32m━━━━━━━━━━━━━━━━━━━━\u001b[0m\u001b[37m\u001b[0m \u001b[1m0s\u001b[0m 2ms/step - accuracy: 0.3542 - loss: 0.8331 - val_accuracy: 0.4025 - val_loss: 0.7740\n",
      "Epoch 20/20\n",
      "\u001b[1m12/12\u001b[0m \u001b[32m━━━━━━━━━━━━━━━━━━━━\u001b[0m\u001b[37m\u001b[0m \u001b[1m0s\u001b[0m 2ms/step - accuracy: 0.3307 - loss: 0.8252 - val_accuracy: 0.4088 - val_loss: 0.7663\n"
     ]
    }
   ],
   "source": [
    "# we willl store all the values of 'accuracy' & 'loss' in a variable to plot graph of loss and Accuracy\n",
    "acc_loss_model = model.fit(x_trained_scaled,y_train,epochs=20, validation_split=0.3)"
   ]
  },
  {
   "cell_type": "markdown",
   "metadata": {},
   "source": [
    "# Step 6 : Model is ready for prediction"
   ]
  },
  {
   "cell_type": "code",
   "execution_count": 112,
   "metadata": {},
   "outputs": [
    {
     "name": "stdout",
     "output_type": "stream",
     "text": [
      "\u001b[1m8/8\u001b[0m \u001b[32m━━━━━━━━━━━━━━━━━━━━\u001b[0m\u001b[37m\u001b[0m \u001b[1m0s\u001b[0m 2ms/step \n"
     ]
    }
   ],
   "source": [
    "y_pred_data = model.predict(x_test_scaled)\n"
   ]
  },
  {
   "cell_type": "markdown",
   "metadata": {},
   "source": [
    "# Step 7: Accuracy Calculation"
   ]
  },
  {
   "cell_type": "markdown",
   "metadata": {},
   "source": []
  },
  {
   "cell_type": "code",
   "execution_count": 113,
   "metadata": {},
   "outputs": [
    {
     "name": "stdout",
     "output_type": "stream",
     "text": [
      "Accuracy of the ANN is :  33.33333333333333 %\n"
     ]
    }
   ],
   "source": [
    "from sklearn.metrics import accuracy_score\n",
    "\n",
    "# Now, This is out task to convert prediction value in 0 & 1. for that we will apply condition, \n",
    "# if probability is > 0.5 then 1 (cutomer will leave the bank) , other wise 0 (cutomer will not leave the bank) \n",
    "\n",
    "y_final_pred = np.where(y_pred_data>0.5, 1, 0)\n",
    "Accuracy = accuracy_score(y_test,y_final_pred)\n",
    "\n",
    "print('Accuracy of the ANN is : ',  Accuracy*100,'%')"
   ]
  },
  {
   "cell_type": "markdown",
   "metadata": {},
   "source": [
    "# Difference of loss_value between training and testing phase"
   ]
  },
  {
   "cell_type": "code",
   "execution_count": 114,
   "metadata": {},
   "outputs": [
    {
     "data": {
      "text/plain": [
       "{'accuracy': [0.33423179388046265,\n",
       "  0.33423179388046265,\n",
       "  0.33423179388046265,\n",
       "  0.33423179388046265,\n",
       "  0.33423179388046265,\n",
       "  0.33423179388046265,\n",
       "  0.33423179388046265,\n",
       "  0.33423179388046265,\n",
       "  0.33423179388046265,\n",
       "  0.33423179388046265,\n",
       "  0.33423179388046265,\n",
       "  0.33423179388046265,\n",
       "  0.33423179388046265,\n",
       "  0.33423179388046265,\n",
       "  0.33423179388046265,\n",
       "  0.33423179388046265,\n",
       "  0.33423179388046265,\n",
       "  0.33423179388046265,\n",
       "  0.33423179388046265,\n",
       "  0.33423179388046265],\n",
       " 'loss': [1.087496042251587,\n",
       "  1.0680105686187744,\n",
       "  1.0498186349868774,\n",
       "  1.0315966606140137,\n",
       "  1.0146664381027222,\n",
       "  0.9979190230369568,\n",
       "  0.9825707674026489,\n",
       "  0.966559648513794,\n",
       "  0.9524029493331909,\n",
       "  0.9379494786262512,\n",
       "  0.9243850708007812,\n",
       "  0.9121356010437012,\n",
       "  0.8989890217781067,\n",
       "  0.8870813250541687,\n",
       "  0.8756053447723389,\n",
       "  0.8647181391716003,\n",
       "  0.8538426160812378,\n",
       "  0.8440627455711365,\n",
       "  0.8340010643005371,\n",
       "  0.8250055313110352],\n",
       " 'val_accuracy': [0.3962264060974121,\n",
       "  0.3962264060974121,\n",
       "  0.3962264060974121,\n",
       "  0.3962264060974121,\n",
       "  0.3962264060974121,\n",
       "  0.3962264060974121,\n",
       "  0.3962264060974121,\n",
       "  0.3962264060974121,\n",
       "  0.3962264060974121,\n",
       "  0.3962264060974121,\n",
       "  0.3962264060974121,\n",
       "  0.3962264060974121,\n",
       "  0.3962264060974121,\n",
       "  0.3962264060974121,\n",
       "  0.3962264060974121,\n",
       "  0.3962264060974121,\n",
       "  0.3962264060974121,\n",
       "  0.3962264060974121,\n",
       "  0.402515709400177,\n",
       "  0.4088050425052643],\n",
       " 'val_loss': [0.9759515523910522,\n",
       "  0.960758626461029,\n",
       "  0.9456766247749329,\n",
       "  0.931617021560669,\n",
       "  0.9176028370857239,\n",
       "  0.9042929410934448,\n",
       "  0.8911052942276001,\n",
       "  0.879195511341095,\n",
       "  0.8673802018165588,\n",
       "  0.8563664555549622,\n",
       "  0.8457561731338501,\n",
       "  0.8350009322166443,\n",
       "  0.8251693844795227,\n",
       "  0.8157083988189697,\n",
       "  0.8065791130065918,\n",
       "  0.797619640827179,\n",
       "  0.7894220948219299,\n",
       "  0.7814307808876038,\n",
       "  0.7740196585655212,\n",
       "  0.7663462162017822]}"
      ]
     },
     "execution_count": 114,
     "metadata": {},
     "output_type": "execute_result"
    }
   ],
   "source": [
    "acc_loss_model.history"
   ]
  },
  {
   "cell_type": "code",
   "execution_count": 115,
   "metadata": {},
   "outputs": [
    {
     "data": {
      "image/png": "[encoded data removed]",
      "text/plain": [
       "<Figure size 640x480 with 1 Axes>"
      ]
     },
     "metadata": {},
     "output_type": "display_data"
    }
   ],
   "source": [
    "plt.plot(acc_loss_model.history['accuracy'],color='Red')\n",
    "plt.plot(acc_loss_model.history['val_accuracy'],color='blue')\n",
    "plt.grid()"
   ]
  },
  {
   "cell_type": "markdown",
   "metadata": {},
   "source": [
    "# Step 8: Hypothesize"
   ]
  },
  {
   "cell_type": "markdown",
   "metadata": {},
   "source": [
    "# 1) Changing the number of layers "
   ]
  },
  {
   "cell_type": "code",
   "execution_count": 116,
   "metadata": {},
   "outputs": [
    {
     "name": "stdout",
     "output_type": "stream",
     "text": [
      "Epoch 1/20\n"
     ]
    },
    {
     "name": "stderr",
     "output_type": "stream",
     "text": [
      "/Library/Frameworks/Python.framework/Versions/3.12/lib/python3.12/site-packages/keras/src/layers/core/dense.py:87: UserWarning: Do not pass an `input_shape`/`input_dim` argument to a layer. When using Sequential models, prefer using an `Input(shape)` object as the first layer in the model instead.\n",
      "  super().__init__(activity_regularizer=activity_regularizer, **kwargs)\n"
     ]
    },
    {
     "name": "stdout",
     "output_type": "stream",
     "text": [
      "\u001b[1m12/12\u001b[0m \u001b[32m━━━━━━━━━━━━━━━━━━━━\u001b[0m\u001b[37m\u001b[0m \u001b[1m0s\u001b[0m 7ms/step - accuracy: 0.6542 - loss: 0.6775 - val_accuracy: 0.6038 - val_loss: 0.6822\n",
      "Epoch 2/20\n",
      "\u001b[1m12/12\u001b[0m \u001b[32m━━━━━━━━━━━━━━━━━━━━\u001b[0m\u001b[37m\u001b[0m \u001b[1m0s\u001b[0m 2ms/step - accuracy: 0.6622 - loss: 0.6734 - val_accuracy: 0.6038 - val_loss: 0.6805\n",
      "Epoch 3/20\n",
      "\u001b[1m12/12\u001b[0m \u001b[32m━━━━━━━━━━━━━━━━━━━━\u001b[0m\u001b[37m\u001b[0m \u001b[1m0s\u001b[0m 2ms/step - accuracy: 0.6839 - loss: 0.6667 - val_accuracy: 0.6038 - val_loss: 0.6790\n",
      "Epoch 4/20\n"
     ]
    },
    {
     "name": "stdout",
     "output_type": "stream",
     "text": [
      "\u001b[1m12/12\u001b[0m \u001b[32m━━━━━━━━━━━━━━━━━━━━\u001b[0m\u001b[37m\u001b[0m \u001b[1m0s\u001b[0m 2ms/step - accuracy: 0.6696 - loss: 0.6657 - val_accuracy: 0.6038 - val_loss: 0.6778\n",
      "Epoch 5/20\n",
      "\u001b[1m12/12\u001b[0m \u001b[32m━━━━━━━━━━━━━━━━━━━━\u001b[0m\u001b[37m\u001b[0m \u001b[1m0s\u001b[0m 3ms/step - accuracy: 0.7098 - loss: 0.6545 - val_accuracy: 0.6038 - val_loss: 0.6766\n",
      "Epoch 6/20\n",
      "\u001b[1m12/12\u001b[0m \u001b[32m━━━━━━━━━━━━━━━━━━━━\u001b[0m\u001b[37m\u001b[0m \u001b[1m0s\u001b[0m 2ms/step - accuracy: 0.6720 - loss: 0.6596 - val_accuracy: 0.6038 - val_loss: 0.6757\n",
      "Epoch 7/20\n",
      "\u001b[1m12/12\u001b[0m \u001b[32m━━━━━━━━━━━━━━━━━━━━\u001b[0m\u001b[37m\u001b[0m \u001b[1m0s\u001b[0m 2ms/step - accuracy: 0.7178 - loss: 0.6454 - val_accuracy: 0.6038 - val_loss: 0.6748\n",
      "Epoch 8/20\n",
      "\u001b[1m12/12\u001b[0m \u001b[32m━━━━━━━━━━━━━━━━━━━━\u001b[0m\u001b[37m\u001b[0m \u001b[1m0s\u001b[0m 1ms/step - accuracy: 0.6491 - loss: 0.6615 - val_accuracy: 0.6038 - val_loss: 0.6741\n",
      "Epoch 9/20\n",
      "\u001b[1m12/12\u001b[0m \u001b[32m━━━━━━━━━━━━━━━━━━━━\u001b[0m\u001b[37m\u001b[0m \u001b[1m0s\u001b[0m 1ms/step - accuracy: 0.7017 - loss: 0.6442 - val_accuracy: 0.6038 - val_loss: 0.6734\n",
      "Epoch 10/20\n",
      "\u001b[1m12/12\u001b[0m \u001b[32m━━━━━━━━━━━━━━━━━━━━\u001b[0m\u001b[37m\u001b[0m \u001b[1m0s\u001b[0m 1ms/step - accuracy: 0.6525 - loss: 0.6569 - val_accuracy: 0.6038 - val_loss: 0.6729\n",
      "Epoch 11/20\n",
      "\u001b[1m12/12\u001b[0m \u001b[32m━━━━━━━━━━━━━━━━━━━━\u001b[0m\u001b[37m\u001b[0m \u001b[1m0s\u001b[0m 1ms/step - accuracy: 0.6494 - loss: 0.6563 - val_accuracy: 0.6038 - val_loss: 0.6724\n",
      "Epoch 12/20\n",
      "\u001b[1m12/12\u001b[0m \u001b[32m━━━━━━━━━━━━━━━━━━━━\u001b[0m\u001b[37m\u001b[0m \u001b[1m0s\u001b[0m 1ms/step - accuracy: 0.6693 - loss: 0.6477 - val_accuracy: 0.6038 - val_loss: 0.6721\n",
      "Epoch 13/20\n",
      "\u001b[1m12/12\u001b[0m \u001b[32m━━━━━━━━━━━━━━━━━━━━\u001b[0m\u001b[37m\u001b[0m \u001b[1m0s\u001b[0m 1ms/step - accuracy: 0.6591 - loss: 0.6498 - val_accuracy: 0.6038 - val_loss: 0.6717\n",
      "Epoch 14/20\n",
      "\u001b[1m12/12\u001b[0m \u001b[32m━━━━━━━━━━━━━━━━━━━━\u001b[0m\u001b[37m\u001b[0m \u001b[1m0s\u001b[0m 2ms/step - accuracy: 0.6714 - loss: 0.6434 - val_accuracy: 0.6038 - val_loss: 0.6715\n",
      "Epoch 15/20\n",
      "\u001b[1m12/12\u001b[0m \u001b[32m━━━━━━━━━━━━━━━━━━━━\u001b[0m\u001b[37m\u001b[0m \u001b[1m0s\u001b[0m 1ms/step - accuracy: 0.6534 - loss: 0.6493 - val_accuracy: 0.6038 - val_loss: 0.6713\n",
      "Epoch 16/20\n",
      "\u001b[1m12/12\u001b[0m \u001b[32m━━━━━━━━━━━━━━━━━━━━\u001b[0m\u001b[37m\u001b[0m \u001b[1m0s\u001b[0m 1ms/step - accuracy: 0.6796 - loss: 0.6371 - val_accuracy: 0.6038 - val_loss: 0.6712\n",
      "Epoch 17/20\n",
      "\u001b[1m12/12\u001b[0m \u001b[32m━━━━━━━━━━━━━━━━━━━━\u001b[0m\u001b[37m\u001b[0m \u001b[1m0s\u001b[0m 1ms/step - accuracy: 0.6521 - loss: 0.6480 - val_accuracy: 0.6038 - val_loss: 0.6711\n",
      "Epoch 18/20\n",
      "\u001b[1m12/12\u001b[0m \u001b[32m━━━━━━━━━━━━━━━━━━━━\u001b[0m\u001b[37m\u001b[0m \u001b[1m0s\u001b[0m 1ms/step - accuracy: 0.6653 - loss: 0.6407 - val_accuracy: 0.6038 - val_loss: 0.6710\n",
      "Epoch 19/20\n",
      "\u001b[1m12/12\u001b[0m \u001b[32m━━━━━━━━━━━━━━━━━━━━\u001b[0m\u001b[37m\u001b[0m \u001b[1m0s\u001b[0m 1ms/step - accuracy: 0.6464 - loss: 0.6493 - val_accuracy: 0.6038 - val_loss: 0.6710\n",
      "Epoch 20/20\n",
      "\u001b[1m12/12\u001b[0m \u001b[32m━━━━━━━━━━━━━━━━━━━━\u001b[0m\u001b[37m\u001b[0m \u001b[1m0s\u001b[0m 1ms/step - accuracy: 0.6543 - loss: 0.6441 - val_accuracy: 0.6038 - val_loss: 0.6710\n",
      "\u001b[1m8/8\u001b[0m \u001b[32m━━━━━━━━━━━━━━━━━━━━\u001b[0m\u001b[37m\u001b[0m \u001b[1m0s\u001b[0m 2ms/step \n",
      "Accuracy of the ANN is :  67.10526315789474 %\n"
     ]
    },
    {
     "data": {
      "text/plain": [
       "{'accuracy': [0.6657682061195374,\n",
       "  0.6657682061195374,\n",
       "  0.6657682061195374,\n",
       "  0.6657682061195374,\n",
       "  0.6657682061195374,\n",
       "  0.6657682061195374,\n",
       "  0.6657682061195374,\n",
       "  0.6657682061195374,\n",
       "  0.6657682061195374,\n",
       "  0.6657682061195374,\n",
       "  0.6657682061195374,\n",
       "  0.6657682061195374,\n",
       "  0.6657682061195374,\n",
       "  0.6657682061195374,\n",
       "  0.6657682061195374,\n",
       "  0.6657682061195374,\n",
       "  0.6657682061195374,\n",
       "  0.6657682061195374,\n",
       "  0.6657682061195374,\n",
       "  0.6657682061195374],\n",
       " 'loss': [0.6752989292144775,\n",
       "  0.672102689743042,\n",
       "  0.6690905094146729,\n",
       "  0.6661688089370728,\n",
       "  0.6635320782661438,\n",
       "  0.660975456237793,\n",
       "  0.658689022064209,\n",
       "  0.6561806797981262,\n",
       "  0.6546247601509094,\n",
       "  0.6521701216697693,\n",
       "  0.650340735912323,\n",
       "  0.6485228538513184,\n",
       "  0.6469481587409973,\n",
       "  0.6454171538352966,\n",
       "  0.6439858675003052,\n",
       "  0.6428540349006653,\n",
       "  0.6415809988975525,\n",
       "  0.6406087279319763,\n",
       "  0.6395062804222107,\n",
       "  0.6386703848838806],\n",
       " 'val_accuracy': [0.6037735939025879,\n",
       "  0.6037735939025879,\n",
       "  0.6037735939025879,\n",
       "  0.6037735939025879,\n",
       "  0.6037735939025879,\n",
       "  0.6037735939025879,\n",
       "  0.6037735939025879,\n",
       "  0.6037735939025879,\n",
       "  0.6037735939025879,\n",
       "  0.6037735939025879,\n",
       "  0.6037735939025879,\n",
       "  0.6037735939025879,\n",
       "  0.6037735939025879,\n",
       "  0.6037735939025879,\n",
       "  0.6037735939025879,\n",
       "  0.6037735939025879,\n",
       "  0.6037735939025879,\n",
       "  0.6037735939025879,\n",
       "  0.6037735939025879,\n",
       "  0.6037735939025879],\n",
       " 'val_loss': [0.6821851134300232,\n",
       "  0.6805341243743896,\n",
       "  0.6790335774421692,\n",
       "  0.6777634620666504,\n",
       "  0.6766319274902344,\n",
       "  0.6756635308265686,\n",
       "  0.6748099327087402,\n",
       "  0.6741477847099304,\n",
       "  0.6734185218811035,\n",
       "  0.6728940010070801,\n",
       "  0.6724300980567932,\n",
       "  0.6720518469810486,\n",
       "  0.6717420816421509,\n",
       "  0.6715090870857239,\n",
       "  0.6713228225708008,\n",
       "  0.671205997467041,\n",
       "  0.6710892915725708,\n",
       "  0.6710343956947327,\n",
       "  0.6710054874420166,\n",
       "  0.6710311770439148]}"
      ]
     },
     "execution_count": 116,
     "metadata": {},
     "output_type": "execute_result"
    }
   ],
   "source": [
    "\n",
    "# Creating Object \n",
    "model = Sequential()\n",
    "\n",
    "# Model Architecture\n",
    "model.add(Dense(3,activation='sigmoid',input_dim = 8)) # First Hidden Layer\n",
    "model.add(Dense(3,activation='sigmoid')) # Second Hidden Layer\n",
    "model.add(Dense(1,activation='sigmoid')) # Output Layer\n",
    "\n",
    "# Model Compilation\n",
    "model.compile(loss='binary_crossentropy', optimizer='Adam', metrics=['accuracy'])\n",
    "\n",
    "# Model Training\n",
    "model_train = model.fit(x_trained_scaled,y_train,epochs=20, validation_split=0.3)\n",
    "\n",
    "# Model Prediction\n",
    "y_pred_data = model.predict(x_test_scaled)\n",
    "\n",
    "# accuracy calculation of model \n",
    "y_final_pred = np.where(y_pred_data>0.5, 1, 0)\n",
    "Accuracy = accuracy_score(y_test,y_final_pred)\n",
    "\n",
    "print('Accuracy of the ANN is : ',  Accuracy*100,'%')\n",
    "\n",
    "# History of model accuracy & loss\n",
    "model_train.history"
   ]
  },
  {
   "cell_type": "code",
   "execution_count": 117,
   "metadata": {},
   "outputs": [
    {
     "data": {
      "image/png": "[encoded data removed]",
      "text/plain": [
       "<Figure size 640x480 with 1 Axes>"
      ]
     },
     "metadata": {},
     "output_type": "display_data"
    }
   ],
   "source": [
    "# Model accuracy Graph\n",
    "plt.plot(model_train.history['loss'],color='Red')\n",
    "plt.plot(model_train.history['val_loss'],color='blue')\n",
    "plt.grid()"
   ]
  },
  {
   "cell_type": "markdown",
   "metadata": {},
   "source": [
    "# Description \n",
    "- As we can see by adding additional layer on Neural network we achive around 0.64 of loss while training we achived 0.61."
   ]
  },
  {
   "cell_type": "markdown",
   "metadata": {},
   "source": [
    "# 2) Changing number of Dense"
   ]
  },
  {
   "cell_type": "code",
   "execution_count": 118,
   "metadata": {},
   "outputs": [
    {
     "name": "stdout",
     "output_type": "stream",
     "text": [
      "Epoch 1/20\n"
     ]
    },
    {
     "name": "stderr",
     "output_type": "stream",
     "text": [
      "/Library/Frameworks/Python.framework/Versions/3.12/lib/python3.12/site-packages/keras/src/layers/core/dense.py:87: UserWarning: Do not pass an `input_shape`/`input_dim` argument to a layer. When using Sequential models, prefer using an `Input(shape)` object as the first layer in the model instead.\n",
      "  super().__init__(activity_regularizer=activity_regularizer, **kwargs)\n"
     ]
    },
    {
     "name": "stdout",
     "output_type": "stream",
     "text": [
      "\u001b[1m12/12\u001b[0m \u001b[32m━━━━━━━━━━━━━━━━━━━━\u001b[0m\u001b[37m\u001b[0m \u001b[1m0s\u001b[0m 6ms/step - accuracy: 0.3256 - loss: 0.9020 - val_accuracy: 0.3962 - val_loss: 0.8263\n",
      "Epoch 2/20\n",
      "\u001b[1m12/12\u001b[0m \u001b[32m━━━━━━━━━━━━━━━━━━━━\u001b[0m\u001b[37m\u001b[0m \u001b[1m0s\u001b[0m 2ms/step - accuracy: 0.3591 - loss: 0.8511 - val_accuracy: 0.3962 - val_loss: 0.8086\n",
      "Epoch 3/20\n",
      "\u001b[1m12/12\u001b[0m \u001b[32m━━━━━━━━━━━━━━━━━━━━\u001b[0m\u001b[37m\u001b[0m \u001b[1m0s\u001b[0m 2ms/step - accuracy: 0.2923 - loss: 0.8791 - val_accuracy: 0.3962 - val_loss: 0.7918\n",
      "Epoch 4/20\n",
      "\u001b[1m12/12\u001b[0m \u001b[32m━━━━━━━━━━━━━━━━━━━━\u001b[0m\u001b[37m\u001b[0m \u001b[1m0s\u001b[0m 2ms/step - accuracy: 0.3404 - loss: 0.8238 - val_accuracy: 0.3962 - val_loss: 0.7769\n",
      "Epoch 5/20\n",
      "\u001b[1m12/12\u001b[0m \u001b[32m━━━━━━━━━━━━━━━━━━━━\u001b[0m\u001b[37m\u001b[0m \u001b[1m0s\u001b[0m 2ms/step - accuracy: 0.3144 - loss: 0.8217 - val_accuracy: 0.3962 - val_loss: 0.7632\n",
      "Epoch 6/20\n",
      "\u001b[1m12/12\u001b[0m \u001b[32m━━━━━━━━━━━━━━━━━━━━\u001b[0m\u001b[37m\u001b[0m \u001b[1m0s\u001b[0m 2ms/step - accuracy: 0.3400 - loss: 0.7921 - val_accuracy: 0.3962 - val_loss: 0.7505\n",
      "Epoch 7/20\n",
      "\u001b[1m12/12\u001b[0m \u001b[32m━━━━━━━━━━━━━━━━━━━━\u001b[0m\u001b[37m\u001b[0m \u001b[1m0s\u001b[0m 2ms/step - accuracy: 0.3266 - loss: 0.7777 - val_accuracy: 0.3962 - val_loss: 0.7387\n",
      "Epoch 8/20\n",
      "\u001b[1m12/12\u001b[0m \u001b[32m━━━━━━━━━━━━━━━━━━━━\u001b[0m\u001b[37m\u001b[0m \u001b[1m0s\u001b[0m 2ms/step - accuracy: 0.3382 - loss: 0.7586 - val_accuracy: 0.3962 - val_loss: 0.7279\n",
      "Epoch 9/20\n",
      "\u001b[1m12/12\u001b[0m \u001b[32m━━━━━━━━━━━━━━━━━━━━\u001b[0m\u001b[37m\u001b[0m \u001b[1m0s\u001b[0m 4ms/step - accuracy: 0.3014 - loss: 0.7585 - val_accuracy: 0.3962 - val_loss: 0.7179\n",
      "Epoch 10/20\n",
      "\u001b[1m12/12\u001b[0m \u001b[32m━━━━━━━━━━━━━━━━━━━━\u001b[0m\u001b[37m\u001b[0m \u001b[1m0s\u001b[0m 2ms/step - accuracy: 0.2930 - loss: 0.7449 - val_accuracy: 0.3962 - val_loss: 0.7089\n",
      "Epoch 11/20\n",
      "\u001b[1m12/12\u001b[0m \u001b[32m━━━━━━━━━━━━━━━━━━━━\u001b[0m\u001b[37m\u001b[0m \u001b[1m0s\u001b[0m 1ms/step - accuracy: 0.3439 - loss: 0.7208 - val_accuracy: 0.3962 - val_loss: 0.7014\n",
      "Epoch 12/20\n",
      "\u001b[1m12/12\u001b[0m \u001b[32m━━━━━━━━━━━━━━━━━━━━\u001b[0m\u001b[37m\u001b[0m \u001b[1m0s\u001b[0m 1ms/step - accuracy: 0.3647 - loss: 0.7077 - val_accuracy: 0.4340 - val_loss: 0.6944\n",
      "Epoch 13/20\n",
      "\u001b[1m12/12\u001b[0m \u001b[32m━━━━━━━━━━━━━━━━━━━━\u001b[0m\u001b[37m\u001b[0m \u001b[1m0s\u001b[0m 1ms/step - accuracy: 0.3657 - loss: 0.6998 - val_accuracy: 0.5472 - val_loss: 0.6880\n",
      "Epoch 14/20\n",
      "\u001b[1m12/12\u001b[0m \u001b[32m━━━━━━━━━━━━━━━━━━━━\u001b[0m\u001b[37m\u001b[0m \u001b[1m0s\u001b[0m 1ms/step - accuracy: 0.4672 - loss: 0.6922 - val_accuracy: 0.6667 - val_loss: 0.6821\n",
      "Epoch 15/20\n",
      "\u001b[1m12/12\u001b[0m \u001b[32m━━━━━━━━━━━━━━━━━━━━\u001b[0m\u001b[37m\u001b[0m \u001b[1m0s\u001b[0m 1ms/step - accuracy: 0.6277 - loss: 0.6856 - val_accuracy: 0.6604 - val_loss: 0.6771\n",
      "Epoch 16/20\n",
      "\u001b[1m12/12\u001b[0m \u001b[32m━━━━━━━━━━━━━━━━━━━━\u001b[0m\u001b[37m\u001b[0m \u001b[1m0s\u001b[0m 1ms/step - accuracy: 0.7224 - loss: 0.6767 - val_accuracy: 0.6855 - val_loss: 0.6726\n",
      "Epoch 17/20\n",
      "\u001b[1m12/12\u001b[0m \u001b[32m━━━━━━━━━━━━━━━━━━━━\u001b[0m\u001b[37m\u001b[0m \u001b[1m0s\u001b[0m 1ms/step - accuracy: 0.7142 - loss: 0.6684 - val_accuracy: 0.6541 - val_loss: 0.6687\n",
      "Epoch 18/20\n",
      "\u001b[1m12/12\u001b[0m \u001b[32m━━━━━━━━━━━━━━━━━━━━\u001b[0m\u001b[37m\u001b[0m \u001b[1m0s\u001b[0m 1ms/step - accuracy: 0.7187 - loss: 0.6620 - val_accuracy: 0.6226 - val_loss: 0.6653\n",
      "Epoch 19/20\n",
      "\u001b[1m12/12\u001b[0m \u001b[32m━━━━━━━━━━━━━━━━━━━━\u001b[0m\u001b[37m\u001b[0m \u001b[1m0s\u001b[0m 1ms/step - accuracy: 0.6806 - loss: 0.6563 - val_accuracy: 0.5975 - val_loss: 0.6623\n",
      "Epoch 20/20\n",
      "\u001b[1m12/12\u001b[0m \u001b[32m━━━━━━━━━━━━━━━━━━━━\u001b[0m\u001b[37m\u001b[0m \u001b[1m0s\u001b[0m 1ms/step - accuracy: 0.6847 - loss: 0.6495 - val_accuracy: 0.6038 - val_loss: 0.6596\n",
      "\u001b[1m8/8\u001b[0m \u001b[32m━━━━━━━━━━━━━━━━━━━━\u001b[0m\u001b[37m\u001b[0m \u001b[1m0s\u001b[0m 2ms/step \n",
      "Accuracy of the ANN is :  67.54385964912281 %\n"
     ]
    },
    {
     "data": {
      "text/plain": [
       "{'accuracy': [0.33423179388046265,\n",
       "  0.33423179388046265,\n",
       "  0.33423179388046265,\n",
       "  0.33423179388046265,\n",
       "  0.33423179388046265,\n",
       "  0.33423179388046265,\n",
       "  0.33423179388046265,\n",
       "  0.33423179388046265,\n",
       "  0.33423179388046265,\n",
       "  0.33423179388046265,\n",
       "  0.33423179388046265,\n",
       "  0.3396226465702057,\n",
       "  0.36927223205566406,\n",
       "  0.520215630531311,\n",
       "  0.6495956778526306,\n",
       "  0.7008086442947388,\n",
       "  0.684636116027832,\n",
       "  0.6900269389152527,\n",
       "  0.671159029006958,\n",
       "  0.6684635877609253],\n",
       " 'loss': [0.8892487287521362,\n",
       "  0.8662889003753662,\n",
       "  0.8457667231559753,\n",
       "  0.8251709938049316,\n",
       "  0.807096004486084,\n",
       "  0.7897526621818542,\n",
       "  0.7738431692123413,\n",
       "  0.7587381601333618,\n",
       "  0.7452899217605591,\n",
       "  0.7325913906097412,\n",
       "  0.7203165292739868,\n",
       "  0.7097616195678711,\n",
       "  0.7003251910209656,\n",
       "  0.691514253616333,\n",
       "  0.683251142501831,\n",
       "  0.6758745908737183,\n",
       "  0.6695688366889954,\n",
       "  0.6633208990097046,\n",
       "  0.6580480933189392,\n",
       "  0.6533576846122742],\n",
       " 'val_accuracy': [0.3962264060974121,\n",
       "  0.3962264060974121,\n",
       "  0.3962264060974121,\n",
       "  0.3962264060974121,\n",
       "  0.3962264060974121,\n",
       "  0.3962264060974121,\n",
       "  0.3962264060974121,\n",
       "  0.3962264060974121,\n",
       "  0.3962264060974121,\n",
       "  0.3962264060974121,\n",
       "  0.3962264060974121,\n",
       "  0.43396225571632385,\n",
       "  0.5471698045730591,\n",
       "  0.6666666865348816,\n",
       "  0.6603773832321167,\n",
       "  0.6855345964431763,\n",
       "  0.6540880799293518,\n",
       "  0.6226415038108826,\n",
       "  0.597484290599823,\n",
       "  0.6037735939025879],\n",
       " 'val_loss': [0.826309859752655,\n",
       "  0.8085610270500183,\n",
       "  0.7917718291282654,\n",
       "  0.776936948299408,\n",
       "  0.7631566524505615,\n",
       "  0.7505165338516235,\n",
       "  0.7387219071388245,\n",
       "  0.7279436588287354,\n",
       "  0.7178577780723572,\n",
       "  0.7088701725006104,\n",
       "  0.7013627290725708,\n",
       "  0.6944298148155212,\n",
       "  0.687988817691803,\n",
       "  0.6821110844612122,\n",
       "  0.6770843863487244,\n",
       "  0.6726499199867249,\n",
       "  0.6686525940895081,\n",
       "  0.6652507185935974,\n",
       "  0.6622600555419922,\n",
       "  0.6596351861953735]}"
      ]
     },
     "execution_count": 118,
     "metadata": {},
     "output_type": "execute_result"
    }
   ],
   "source": [
    "\n",
    "# Creating Object \n",
    "model = Sequential()\n",
    "\n",
    "# Model Architecture\n",
    "model.add(Dense(5,activation='sigmoid',input_dim = 8)) # First Hidden Layer\n",
    "model.add(Dense(5,activation='sigmoid')) # Second Hidden Layer\n",
    "model.add(Dense(1,activation='sigmoid')) # Output Layer\n",
    "\n",
    "# Model Compilation\n",
    "model.compile(loss='binary_crossentropy', optimizer='Adam', metrics=['accuracy'])\n",
    "\n",
    "# Model Training\n",
    "model_train = model.fit(x_trained_scaled,y_train,epochs=20, validation_split=0.3)\n",
    "\n",
    "# Model Prediction\n",
    "y_pred_data = model.predict(x_test_scaled)\n",
    "\n",
    "# accuracy calculation of model \n",
    "y_final_pred = np.where(y_pred_data>0.5, 1, 0)\n",
    "Accuracy = accuracy_score(y_test,y_final_pred)\n",
    "\n",
    "print('Accuracy of the ANN is : ',  Accuracy*100,'%')\n",
    "\n",
    "# History of model accuracy & loss\n",
    "model_train.history"
   ]
  },
  {
   "cell_type": "code",
   "execution_count": 119,
   "metadata": {},
   "outputs": [
    {
     "data": {
      "image/png": "[encoded data removed]",
      "text/plain": [
       "<Figure size 640x480 with 1 Axes>"
      ]
     },
     "metadata": {},
     "output_type": "display_data"
    }
   ],
   "source": [
    "# Model accuracy Graph\n",
    "plt.plot(model_train.history['loss'],color='Red')\n",
    "plt.plot(model_train.history['val_loss'],color='blue')\n",
    "plt.grid()"
   ]
  },
  {
   "cell_type": "markdown",
   "metadata": {},
   "source": [
    "# Description \n",
    "- As we can see by adding additional dense on Neural network we achive around 0.65 of loss while training we achived 0.62."
   ]
  },
  {
   "cell_type": "markdown",
   "metadata": {},
   "source": [
    "# 3) Changing activation function as 'ReLU'"
   ]
  },
  {
   "cell_type": "code",
   "execution_count": 120,
   "metadata": {},
   "outputs": [
    {
     "name": "stdout",
     "output_type": "stream",
     "text": [
      "Epoch 1/20\n"
     ]
    },
    {
     "name": "stderr",
     "output_type": "stream",
     "text": [
      "/Library/Frameworks/Python.framework/Versions/3.12/lib/python3.12/site-packages/keras/src/layers/core/dense.py:87: UserWarning: Do not pass an `input_shape`/`input_dim` argument to a layer. When using Sequential models, prefer using an `Input(shape)` object as the first layer in the model instead.\n",
      "  super().__init__(activity_regularizer=activity_regularizer, **kwargs)\n"
     ]
    },
    {
     "name": "stdout",
     "output_type": "stream",
     "text": [
      "\u001b[1m12/12\u001b[0m \u001b[32m━━━━━━━━━━━━━━━━━━━━\u001b[0m\u001b[37m\u001b[0m \u001b[1m0s\u001b[0m 6ms/step - accuracy: 0.6597 - loss: 0.7507 - val_accuracy: 0.6038 - val_loss: 0.8023\n",
      "Epoch 2/20\n",
      "\u001b[1m12/12\u001b[0m \u001b[32m━━━━━━━━━━━━━━━━━━━━\u001b[0m\u001b[37m\u001b[0m \u001b[1m0s\u001b[0m 2ms/step - accuracy: 0.6688 - loss: 0.7454 - val_accuracy: 0.6038 - val_loss: 0.7763\n",
      "Epoch 3/20\n",
      "\u001b[1m12/12\u001b[0m \u001b[32m━━━━━━━━━━━━━━━━━━━━\u001b[0m\u001b[37m\u001b[0m \u001b[1m0s\u001b[0m 2ms/step - accuracy: 0.6349 - loss: 0.7462 - val_accuracy: 0.6038 - val_loss: 0.7553\n",
      "Epoch 4/20\n",
      "\u001b[1m12/12\u001b[0m \u001b[32m━━━━━━━━━━━━━━━━━━━━\u001b[0m\u001b[37m\u001b[0m \u001b[1m0s\u001b[0m 2ms/step - accuracy: 0.6807 - loss: 0.6990 - val_accuracy: 0.6038 - val_loss: 0.7413\n",
      "Epoch 5/20\n",
      "\u001b[1m12/12\u001b[0m \u001b[32m━━━━━━━━━━━━━━━━━━━━\u001b[0m\u001b[37m\u001b[0m \u001b[1m0s\u001b[0m 2ms/step - accuracy: 0.6608 - loss: 0.7217 - val_accuracy: 0.6038 - val_loss: 0.7277\n",
      "Epoch 6/20\n",
      "\u001b[1m12/12\u001b[0m \u001b[32m━━━━━━━━━━━━━━━━━━━━\u001b[0m\u001b[37m\u001b[0m \u001b[1m0s\u001b[0m 3ms/step - accuracy: 0.6780 - loss: 0.6914 - val_accuracy: 0.6038 - val_loss: 0.7175\n",
      "Epoch 7/20\n",
      "\u001b[1m12/12\u001b[0m \u001b[32m━━━━━━━━━━━━━━━━━━━━\u001b[0m\u001b[37m\u001b[0m \u001b[1m0s\u001b[0m 2ms/step - accuracy: 0.6618 - loss: 0.6994 - val_accuracy: 0.6038 - val_loss: 0.7081\n",
      "Epoch 8/20\n",
      "\u001b[1m12/12\u001b[0m \u001b[32m━━━━━━━━━━━━━━━━━━━━\u001b[0m\u001b[37m\u001b[0m \u001b[1m0s\u001b[0m 2ms/step - accuracy: 0.6864 - loss: 0.6728 - val_accuracy: 0.6038 - val_loss: 0.7012\n",
      "Epoch 9/20\n",
      "\u001b[1m12/12\u001b[0m \u001b[32m━━━━━━━━━━━━━━━━━━━━\u001b[0m\u001b[37m\u001b[0m \u001b[1m0s\u001b[0m 1ms/step - accuracy: 0.6648 - loss: 0.6790 - val_accuracy: 0.6038 - val_loss: 0.6944\n",
      "Epoch 10/20\n",
      "\u001b[1m12/12\u001b[0m \u001b[32m━━━━━━━━━━━━━━━━━━━━\u001b[0m\u001b[37m\u001b[0m \u001b[1m0s\u001b[0m 1ms/step - accuracy: 0.6753 - loss: 0.6747 - val_accuracy: 0.6038 - val_loss: 0.6887\n",
      "Epoch 11/20\n",
      "\u001b[1m12/12\u001b[0m \u001b[32m━━━━━━━━━━━━━━━━━━━━\u001b[0m\u001b[37m\u001b[0m \u001b[1m0s\u001b[0m 1ms/step - accuracy: 0.6445 - loss: 0.6878 - val_accuracy: 0.6038 - val_loss: 0.6835\n",
      "Epoch 12/20\n",
      "\u001b[1m12/12\u001b[0m \u001b[32m━━━━━━━━━━━━━━━━━━━━\u001b[0m\u001b[37m\u001b[0m \u001b[1m0s\u001b[0m 1ms/step - accuracy: 0.6306 - loss: 0.6850 - val_accuracy: 0.6038 - val_loss: 0.6787\n",
      "Epoch 13/20\n",
      "\u001b[1m12/12\u001b[0m \u001b[32m━━━━━━━━━━━━━━━━━━━━\u001b[0m\u001b[37m\u001b[0m \u001b[1m0s\u001b[0m 1ms/step - accuracy: 0.6836 - loss: 0.6394 - val_accuracy: 0.6038 - val_loss: 0.6747\n",
      "Epoch 14/20\n",
      "\u001b[1m12/12\u001b[0m \u001b[32m━━━━━━━━━━━━━━━━━━━━\u001b[0m\u001b[37m\u001b[0m \u001b[1m0s\u001b[0m 1ms/step - accuracy: 0.6935 - loss: 0.6558 - val_accuracy: 0.6038 - val_loss: 0.6705\n",
      "Epoch 15/20\n",
      "\u001b[1m12/12\u001b[0m \u001b[32m━━━━━━━━━━━━━━━━━━━━\u001b[0m\u001b[37m\u001b[0m \u001b[1m0s\u001b[0m 1ms/step - accuracy: 0.6607 - loss: 0.6662 - val_accuracy: 0.6038 - val_loss: 0.6668\n",
      "Epoch 16/20\n",
      "\u001b[1m12/12\u001b[0m \u001b[32m━━━━━━━━━━━━━━━━━━━━\u001b[0m\u001b[37m\u001b[0m \u001b[1m0s\u001b[0m 1ms/step - accuracy: 0.6535 - loss: 0.6621 - val_accuracy: 0.6038 - val_loss: 0.6634\n",
      "Epoch 17/20\n",
      "\u001b[1m12/12\u001b[0m \u001b[32m━━━━━━━━━━━━━━━━━━━━\u001b[0m\u001b[37m\u001b[0m \u001b[1m0s\u001b[0m 1ms/step - accuracy: 0.6472 - loss: 0.6566 - val_accuracy: 0.6038 - val_loss: 0.6601\n",
      "Epoch 18/20\n",
      "\u001b[1m12/12\u001b[0m \u001b[32m━━━━━━━━━━━━━━━━━━━━\u001b[0m\u001b[37m\u001b[0m \u001b[1m0s\u001b[0m 1ms/step - accuracy: 0.6441 - loss: 0.6589 - val_accuracy: 0.6038 - val_loss: 0.6569\n",
      "Epoch 19/20\n",
      "\u001b[1m12/12\u001b[0m \u001b[32m━━━━━━━━━━━━━━━━━━━━\u001b[0m\u001b[37m\u001b[0m \u001b[1m0s\u001b[0m 2ms/step - accuracy: 0.6907 - loss: 0.6276 - val_accuracy: 0.6038 - val_loss: 0.6543\n",
      "Epoch 20/20\n",
      "\u001b[1m12/12\u001b[0m \u001b[32m━━━━━━━━━━━━━━━━━━━━\u001b[0m\u001b[37m\u001b[0m \u001b[1m0s\u001b[0m 1ms/step - accuracy: 0.6446 - loss: 0.6550 - val_accuracy: 0.6038 - val_loss: 0.6516\n",
      "\u001b[1m8/8\u001b[0m \u001b[32m━━━━━━━━━━━━━━━━━━━━\u001b[0m\u001b[37m\u001b[0m \u001b[1m0s\u001b[0m 2ms/step \n",
      "Accuracy of the ANN is :  67.10526315789474 %\n"
     ]
    },
    {
     "data": {
      "text/plain": [
       "{'accuracy': [0.657681941986084,\n",
       "  0.6657682061195374,\n",
       "  0.6657682061195374,\n",
       "  0.6657682061195374,\n",
       "  0.6657682061195374,\n",
       "  0.6657682061195374,\n",
       "  0.6657682061195374,\n",
       "  0.6657682061195374,\n",
       "  0.6657682061195374,\n",
       "  0.6657682061195374,\n",
       "  0.6657682061195374,\n",
       "  0.6657682061195374,\n",
       "  0.6657682061195374,\n",
       "  0.6657682061195374,\n",
       "  0.6657682061195374,\n",
       "  0.6657682061195374,\n",
       "  0.6657682061195374,\n",
       "  0.6657682061195374,\n",
       "  0.6657682061195374,\n",
       "  0.6657682061195374],\n",
       " 'loss': [0.760338306427002,\n",
       "  0.7431243062019348,\n",
       "  0.7284652590751648,\n",
       "  0.7147352695465088,\n",
       "  0.7058817744255066,\n",
       "  0.696921706199646,\n",
       "  0.6909713745117188,\n",
       "  0.6844984292984009,\n",
       "  0.6791593432426453,\n",
       "  0.6738777756690979,\n",
       "  0.6689721941947937,\n",
       "  0.6645022034645081,\n",
       "  0.6605827808380127,\n",
       "  0.6565101146697998,\n",
       "  0.6527956128120422,\n",
       "  0.649311900138855,\n",
       "  0.6461808681488037,\n",
       "  0.6430655717849731,\n",
       "  0.640153706073761,\n",
       "  0.6370896697044373],\n",
       " 'val_accuracy': [0.6037735939025879,\n",
       "  0.6037735939025879,\n",
       "  0.6037735939025879,\n",
       "  0.6037735939025879,\n",
       "  0.6037735939025879,\n",
       "  0.6037735939025879,\n",
       "  0.6037735939025879,\n",
       "  0.6037735939025879,\n",
       "  0.6037735939025879,\n",
       "  0.6037735939025879,\n",
       "  0.6037735939025879,\n",
       "  0.6037735939025879,\n",
       "  0.6037735939025879,\n",
       "  0.6037735939025879,\n",
       "  0.6037735939025879,\n",
       "  0.6037735939025879,\n",
       "  0.6037735939025879,\n",
       "  0.6037735939025879,\n",
       "  0.6037735939025879,\n",
       "  0.6037735939025879],\n",
       " 'val_loss': [0.8022599220275879,\n",
       "  0.7763438820838928,\n",
       "  0.7553308606147766,\n",
       "  0.7413110136985779,\n",
       "  0.7277451157569885,\n",
       "  0.717537522315979,\n",
       "  0.7080739736557007,\n",
       "  0.7011773586273193,\n",
       "  0.6943987011909485,\n",
       "  0.6886579394340515,\n",
       "  0.6834553480148315,\n",
       "  0.6787103414535522,\n",
       "  0.6747310757637024,\n",
       "  0.6705237627029419,\n",
       "  0.6667841076850891,\n",
       "  0.6634135842323303,\n",
       "  0.6600678563117981,\n",
       "  0.656922459602356,\n",
       "  0.6542765498161316,\n",
       "  0.6516312956809998]}"
      ]
     },
     "execution_count": 120,
     "metadata": {},
     "output_type": "execute_result"
    }
   ],
   "source": [
    "\n",
    "# Creating Object \n",
    "model = Sequential()\n",
    "\n",
    "# Model Architecture\n",
    "model.add(Dense(5,activation='relu',input_dim = 8)) # First Hidden Layer\n",
    "model.add(Dense(5,activation='relu')) # Second Hidden Layer\n",
    "model.add(Dense(1,activation='sigmoid')) # Output Layer\n",
    "\n",
    "# Model Compilation\n",
    "model.compile(loss='binary_crossentropy', optimizer='Adam', metrics=['accuracy'])\n",
    "\n",
    "# Model Training\n",
    "model_train = model.fit(x_trained_scaled,y_train,epochs=20, validation_split=0.3)\n",
    "\n",
    "# Model Prediction\n",
    "y_pred_data = model.predict(x_test_scaled)\n",
    "\n",
    "# accuracy calculation of model \n",
    "y_final_pred = np.where(y_pred_data>0.5, 1, 0)\n",
    "Accuracy = accuracy_score(y_test,y_final_pred)\n",
    "\n",
    "print('Accuracy of the ANN is : ',  Accuracy*100,'%')\n",
    "\n",
    "# History of model accuracy & loss\n",
    "model_train.history"
   ]
  },
  {
   "cell_type": "code",
   "execution_count": 121,
   "metadata": {},
   "outputs": [
    {
     "data": {
      "image/png": "[encoded data removed]",
      "text/plain": [
       "<Figure size 640x480 with 1 Axes>"
      ]
     },
     "metadata": {},
     "output_type": "display_data"
    }
   ],
   "source": [
    "# Model accuracy Graph\n",
    "plt.plot(model_train.history['loss'],color='Red')\n",
    "plt.plot(model_train.history['val_loss'],color='blue')\n",
    "plt.grid()"
   ]
  },
  {
   "cell_type": "markdown",
   "metadata": {},
   "source": [
    "# Description \n",
    "- As we can see by changing activation function layer on Neural network we achive around 0.56 of loss while testing phase. This is better than previous two hypothesize."
   ]
  },
  {
   "cell_type": "markdown",
   "metadata": {},
   "source": [
    "# 4) Changing Loss Function with 'mean_squared_error'"
   ]
  },
  {
   "cell_type": "code",
   "execution_count": 122,
   "metadata": {},
   "outputs": [
    {
     "name": "stdout",
     "output_type": "stream",
     "text": [
      "Epoch 1/20\n"
     ]
    },
    {
     "name": "stderr",
     "output_type": "stream",
     "text": [
      "/Library/Frameworks/Python.framework/Versions/3.12/lib/python3.12/site-packages/keras/src/layers/core/dense.py:87: UserWarning: Do not pass an `input_shape`/`input_dim` argument to a layer. When using Sequential models, prefer using an `Input(shape)` object as the first layer in the model instead.\n",
      "  super().__init__(activity_regularizer=activity_regularizer, **kwargs)\n"
     ]
    },
    {
     "name": "stdout",
     "output_type": "stream",
     "text": [
      "\u001b[1m12/12\u001b[0m \u001b[32m━━━━━━━━━━━━━━━━━━━━\u001b[0m\u001b[37m\u001b[0m \u001b[1m0s\u001b[0m 6ms/step - accuracy: 0.3041 - loss: 0.3242 - val_accuracy: 0.3962 - val_loss: 0.3205\n",
      "Epoch 2/20\n",
      "\u001b[1m12/12\u001b[0m \u001b[32m━━━━━━━━━━━━━━━━━━━━\u001b[0m\u001b[37m\u001b[0m \u001b[1m0s\u001b[0m 1ms/step - accuracy: 0.3022 - loss: 0.3243 - val_accuracy: 0.4088 - val_loss: 0.3108\n",
      "Epoch 3/20\n",
      "\u001b[1m12/12\u001b[0m \u001b[32m━━━━━━━━━━━━━━━━━━━━\u001b[0m\u001b[37m\u001b[0m \u001b[1m0s\u001b[0m 2ms/step - accuracy: 0.3148 - loss: 0.3105 - val_accuracy: 0.4088 - val_loss: 0.3021\n",
      "Epoch 4/20\n",
      "\u001b[1m12/12\u001b[0m \u001b[32m━━━━━━━━━━━━━━━━━━━━\u001b[0m\u001b[37m\u001b[0m \u001b[1m0s\u001b[0m 2ms/step - accuracy: 0.3440 - loss: 0.2923 - val_accuracy: 0.3962 - val_loss: 0.2947\n",
      "Epoch 5/20\n",
      "\u001b[1m12/12\u001b[0m \u001b[32m━━━━━━━━━━━━━━━━━━━━\u001b[0m\u001b[37m\u001b[0m \u001b[1m0s\u001b[0m 3ms/step - accuracy: 0.3498 - loss: 0.2969 - val_accuracy: 0.3962 - val_loss: 0.2879\n",
      "Epoch 6/20\n",
      "\u001b[1m12/12\u001b[0m \u001b[32m━━━━━━━━━━━━━━━━━━━━\u001b[0m\u001b[37m\u001b[0m \u001b[1m0s\u001b[0m 2ms/step - accuracy: 0.3594 - loss: 0.2826 - val_accuracy: 0.3774 - val_loss: 0.2823\n",
      "Epoch 7/20\n",
      "\u001b[1m12/12\u001b[0m \u001b[32m━━━━━━━━━━━━━━━━━━━━\u001b[0m\u001b[37m\u001b[0m \u001b[1m0s\u001b[0m 2ms/step - accuracy: 0.3444 - loss: 0.2873 - val_accuracy: 0.3899 - val_loss: 0.2774\n",
      "Epoch 8/20\n",
      "\u001b[1m12/12\u001b[0m \u001b[32m━━━━━━━━━━━━━━━━━━━━\u001b[0m\u001b[37m\u001b[0m \u001b[1m0s\u001b[0m 1ms/step - accuracy: 0.4146 - loss: 0.2736 - val_accuracy: 0.3899 - val_loss: 0.2733\n",
      "Epoch 9/20\n",
      "\u001b[1m12/12\u001b[0m \u001b[32m━━━━━━━━━━━━━━━━━━━━\u001b[0m\u001b[37m\u001b[0m \u001b[1m0s\u001b[0m 1ms/step - accuracy: 0.4370 - loss: 0.2648 - val_accuracy: 0.4277 - val_loss: 0.2696\n",
      "Epoch 10/20\n",
      "\u001b[1m12/12\u001b[0m \u001b[32m━━━━━━━━━━━━━━━━━━━━\u001b[0m\u001b[37m\u001b[0m \u001b[1m0s\u001b[0m 1ms/step - accuracy: 0.4102 - loss: 0.2685 - val_accuracy: 0.4465 - val_loss: 0.2661\n",
      "Epoch 11/20\n",
      "\u001b[1m12/12\u001b[0m \u001b[32m━━━━━━━━━━━━━━━━━━━━\u001b[0m\u001b[37m\u001b[0m \u001b[1m0s\u001b[0m 1ms/step - accuracy: 0.4083 - loss: 0.2680 - val_accuracy: 0.4654 - val_loss: 0.2629\n",
      "Epoch 12/20\n",
      "\u001b[1m12/12\u001b[0m \u001b[32m━━━━━━━━━━━━━━━━━━━━\u001b[0m\u001b[37m\u001b[0m \u001b[1m0s\u001b[0m 1ms/step - accuracy: 0.5128 - loss: 0.2607 - val_accuracy: 0.4465 - val_loss: 0.2602\n",
      "Epoch 13/20\n",
      "\u001b[1m12/12\u001b[0m \u001b[32m━━━━━━━━━━━━━━━━━━━━\u001b[0m\u001b[37m\u001b[0m \u001b[1m0s\u001b[0m 1ms/step - accuracy: 0.5158 - loss: 0.2560 - val_accuracy: 0.4906 - val_loss: 0.2579\n",
      "Epoch 14/20\n",
      "\u001b[1m12/12\u001b[0m \u001b[32m━━━━━━━━━━━━━━━━━━━━\u001b[0m\u001b[37m\u001b[0m \u001b[1m0s\u001b[0m 1ms/step - accuracy: 0.5039 - loss: 0.2546 - val_accuracy: 0.5094 - val_loss: 0.2558\n",
      "Epoch 15/20\n",
      "\u001b[1m12/12\u001b[0m \u001b[32m━━━━━━━━━━━━━━━━━━━━\u001b[0m\u001b[37m\u001b[0m \u001b[1m0s\u001b[0m 1ms/step - accuracy: 0.5531 - loss: 0.2491 - val_accuracy: 0.5220 - val_loss: 0.2540\n",
      "Epoch 16/20\n",
      "\u001b[1m12/12\u001b[0m \u001b[32m━━━━━━━━━━━━━━━━━━━━\u001b[0m\u001b[37m\u001b[0m \u001b[1m0s\u001b[0m 1ms/step - accuracy: 0.5955 - loss: 0.2475 - val_accuracy: 0.5472 - val_loss: 0.2524\n",
      "Epoch 17/20\n",
      "\u001b[1m12/12\u001b[0m \u001b[32m━━━━━━━━━━━━━━━━━━━━\u001b[0m\u001b[37m\u001b[0m \u001b[1m0s\u001b[0m 1ms/step - accuracy: 0.5946 - loss: 0.2485 - val_accuracy: 0.5597 - val_loss: 0.2510\n",
      "Epoch 18/20\n",
      "\u001b[1m12/12\u001b[0m \u001b[32m━━━━━━━━━━━━━━━━━━━━\u001b[0m\u001b[37m\u001b[0m \u001b[1m0s\u001b[0m 1ms/step - accuracy: 0.6148 - loss: 0.2447 - val_accuracy: 0.5786 - val_loss: 0.2496\n",
      "Epoch 19/20\n",
      "\u001b[1m12/12\u001b[0m \u001b[32m━━━━━━━━━━━━━━━━━━━━\u001b[0m\u001b[37m\u001b[0m \u001b[1m0s\u001b[0m 1ms/step - accuracy: 0.6280 - loss: 0.2420 - val_accuracy: 0.5849 - val_loss: 0.2485\n",
      "Epoch 20/20\n",
      "\u001b[1m12/12\u001b[0m \u001b[32m━━━━━━━━━━━━━━━━━━━━\u001b[0m\u001b[37m\u001b[0m \u001b[1m0s\u001b[0m 1ms/step - accuracy: 0.6226 - loss: 0.2411 - val_accuracy: 0.5849 - val_loss: 0.2473\n",
      "\u001b[1m8/8\u001b[0m \u001b[32m━━━━━━━━━━━━━━━━━━━━\u001b[0m\u001b[37m\u001b[0m \u001b[1m0s\u001b[0m 2ms/step \n",
      "Accuracy of the ANN is :  61.40350877192983 %\n"
     ]
    },
    {
     "data": {
      "text/plain": [
       "{'accuracy': [0.31266847252845764,\n",
       "  0.3099730312824249,\n",
       "  0.3180592954158783,\n",
       "  0.3396226465702057,\n",
       "  0.3530997335910797,\n",
       "  0.3638814091682434,\n",
       "  0.3854447305202484,\n",
       "  0.40970349311828613,\n",
       "  0.4150943458080292,\n",
       "  0.42587602138519287,\n",
       "  0.45552560687065125,\n",
       "  0.49865227937698364,\n",
       "  0.5229110717773438,\n",
       "  0.5229110717773438,\n",
       "  0.5417789816856384,\n",
       "  0.5741239786148071,\n",
       "  0.5902965068817139,\n",
       "  0.6010781526565552,\n",
       "  0.6091644167900085,\n",
       "  0.6145552396774292],\n",
       " 'loss': [0.32852548360824585,\n",
       "  0.3172934055328369,\n",
       "  0.30685320496559143,\n",
       "  0.2978129982948303,\n",
       "  0.2904151380062103,\n",
       "  0.2836005389690399,\n",
       "  0.2779487371444702,\n",
       "  0.2727797031402588,\n",
       "  0.26849937438964844,\n",
       "  0.26480695605278015,\n",
       "  0.2613271474838257,\n",
       "  0.2581559121608734,\n",
       "  0.2552277743816376,\n",
       "  0.2529417872428894,\n",
       "  0.2505813241004944,\n",
       "  0.24866896867752075,\n",
       "  0.24678103625774384,\n",
       "  0.24515002965927124,\n",
       "  0.24358080327510834,\n",
       "  0.2422460913658142],\n",
       " 'val_accuracy': [0.3962264060974121,\n",
       "  0.4088050425052643,\n",
       "  0.4088050425052643,\n",
       "  0.3962264060974121,\n",
       "  0.3962264060974121,\n",
       "  0.37735849618911743,\n",
       "  0.3899371027946472,\n",
       "  0.3899371027946472,\n",
       "  0.42767295241355896,\n",
       "  0.446540892124176,\n",
       "  0.4654088020324707,\n",
       "  0.446540892124176,\n",
       "  0.49056604504585266,\n",
       "  0.5094339847564697,\n",
       "  0.5220125913619995,\n",
       "  0.5471698045730591,\n",
       "  0.5597484111785889,\n",
       "  0.5786163806915283,\n",
       "  0.5849056839942932,\n",
       "  0.5849056839942932],\n",
       " 'val_loss': [0.3204563558101654,\n",
       "  0.31075823307037354,\n",
       "  0.3021421730518341,\n",
       "  0.29470938444137573,\n",
       "  0.2879151999950409,\n",
       "  0.2822835147380829,\n",
       "  0.277400940656662,\n",
       "  0.27334266901016235,\n",
       "  0.26962119340896606,\n",
       "  0.2660878002643585,\n",
       "  0.26293691992759705,\n",
       "  0.26016315817832947,\n",
       "  0.257941335439682,\n",
       "  0.25577715039253235,\n",
       "  0.25404781103134155,\n",
       "  0.25242140889167786,\n",
       "  0.2509661614894867,\n",
       "  0.24963897466659546,\n",
       "  0.2484617382287979,\n",
       "  0.2473069131374359]}"
      ]
     },
     "execution_count": 122,
     "metadata": {},
     "output_type": "execute_result"
    }
   ],
   "source": [
    "# Creating Object \n",
    "model = Sequential()\n",
    "\n",
    "# Model Architecture\n",
    "model.add(Dense(5,activation='relu',input_dim = 8)) # First Hidden Layer\n",
    "model.add(Dense(5,activation='relu')) # Second Hidden Layer\n",
    "model.add(Dense(1,activation='sigmoid')) # Output Layer\n",
    "\n",
    "# Model Compilation\n",
    "model.compile(loss='mean_squared_error', optimizer='Adam', metrics=['accuracy'])\n",
    "\n",
    "# Model Training\n",
    "model_train = model.fit(x_trained_scaled,y_train,epochs=20, validation_split=0.3)\n",
    "\n",
    "# Model Prediction\n",
    "y_pred_data = model.predict(x_test_scaled)\n",
    "\n",
    "# accuracy calculation of model \n",
    "y_final_pred = np.where(y_pred_data>0.5, 1, 0)\n",
    "Accuracy = accuracy_score(y_test,y_final_pred)\n",
    "\n",
    "print('Accuracy of the ANN is : ',  Accuracy*100,'%')\n",
    "\n",
    "# History of model accuracy & loss\n",
    "model_train.history"
   ]
  },
  {
   "cell_type": "code",
   "execution_count": 123,
   "metadata": {},
   "outputs": [
    {
     "data": {
      "image/png": "[encoded data removed]",
      "text/plain": [
       "<Figure size 640x480 with 1 Axes>"
      ]
     },
     "metadata": {},
     "output_type": "display_data"
    }
   ],
   "source": [
    "# Model accuracy Graph\n",
    "plt.plot(model_train.history['loss'],color='Red')\n",
    "plt.plot(model_train.history['val_loss'],color='blue')\n",
    "plt.grid()"
   ]
  },
  {
   "cell_type": "markdown",
   "metadata": {},
   "source": [
    "# Description \n",
    "- So, by replacing activation function with 'mean_squared_error' we achivedaround 0.18 of loss which is better than all the hypothesize.\n",
    "- In this, we have additional hidden layers, additional denses, ReLU as activation function, and 'mean_squared_error' as loss function.  "
   ]
  },
  {
   "cell_type": "markdown",
   "metadata": {},
   "source": []
  },
  {
   "cell_type": "markdown",
   "metadata": {},
   "source": [
    "# Part 2 : PyTorch ---------------------------------------------------------"
   ]
  },
  {
   "cell_type": "code",
   "execution_count": 124,
   "metadata": {},
   "outputs": [],
   "source": [
    "# Libraries\n",
    "import pandas as pd\n",
    "import numpy as np\n",
    "import matplotlib.pyplot as plt\n",
    "import torch\n",
    "import torch.nn as nn\n",
    "import torch.optim as optim\n"
   ]
  },
  {
   "cell_type": "markdown",
   "metadata": {},
   "source": [
    "# Step 1 : import the dataset"
   ]
  },
  {
   "cell_type": "code",
   "execution_count": 125,
   "metadata": {},
   "outputs": [
    {
     "data": {
      "text/plain": [
       "Index(['-0.294118', '0.487437', '0.180328', '-0.292929', '0', '0.00149028',\n",
       "       '-0.53117', '-0.0333333', '0.1'],\n",
       "      dtype='object')"
      ]
     },
     "execution_count": 125,
     "metadata": {},
     "output_type": "execute_result"
    }
   ],
   "source": [
    "data = pd.read_csv('diabetes.csv')\n",
    "data.columns"
   ]
  },
  {
   "cell_type": "markdown",
   "metadata": {},
   "source": [
    "# Step 2: Preprocessing the Data & Visualization"
   ]
  },
  {
   "cell_type": "code",
   "execution_count": 126,
   "metadata": {},
   "outputs": [],
   "source": [
    "# We dont have column names, so adding header to them\n",
    "data = data.set_axis(['fr1','fr2','fr3','fr4','fr5','fr6','fr7','fr9','target'],axis=1)"
   ]
  },
  {
   "cell_type": "code",
   "execution_count": 127,
   "metadata": {},
   "outputs": [
    {
     "data": {
      "text/html": [
       "<div>\n",
       "<style scoped>\n",
       "    .dataframe tbody tr th:only-of-type {\n",
       "        vertical-align: middle;\n",
       "    }\n",
       "\n",
       "    .dataframe tbody tr th {\n",
       "        vertical-align: top;\n",
       "    }\n",
       "\n",
       "    .dataframe thead th {\n",
       "        text-align: right;\n",
       "    }\n",
       "</style>\n",
       "<table border=\"1\" class=\"dataframe\">\n",
       "  <thead>\n",
       "    <tr style=\"text-align: right;\">\n",
       "      <th></th>\n",
       "      <th>fr1</th>\n",
       "      <th>fr2</th>\n",
       "      <th>fr3</th>\n",
       "      <th>fr4</th>\n",
       "      <th>fr5</th>\n",
       "      <th>fr6</th>\n",
       "      <th>fr7</th>\n",
       "      <th>fr9</th>\n",
       "      <th>target</th>\n",
       "    </tr>\n",
       "  </thead>\n",
       "  <tbody>\n",
       "    <tr>\n",
       "      <th>0</th>\n",
       "      <td>-0.882353</td>\n",
       "      <td>-0.145729</td>\n",
       "      <td>0.081967</td>\n",
       "      <td>-0.414141</td>\n",
       "      <td>0.000000</td>\n",
       "      <td>-0.207153</td>\n",
       "      <td>-0.766866</td>\n",
       "      <td>-0.666667</td>\n",
       "      <td>1</td>\n",
       "    </tr>\n",
       "    <tr>\n",
       "      <th>1</th>\n",
       "      <td>-0.058824</td>\n",
       "      <td>0.839196</td>\n",
       "      <td>0.049180</td>\n",
       "      <td>0.000000</td>\n",
       "      <td>0.000000</td>\n",
       "      <td>-0.305514</td>\n",
       "      <td>-0.492741</td>\n",
       "      <td>-0.633333</td>\n",
       "      <td>0</td>\n",
       "    </tr>\n",
       "    <tr>\n",
       "      <th>2</th>\n",
       "      <td>-0.882353</td>\n",
       "      <td>-0.105528</td>\n",
       "      <td>0.081967</td>\n",
       "      <td>-0.535354</td>\n",
       "      <td>-0.777778</td>\n",
       "      <td>-0.162444</td>\n",
       "      <td>-0.923997</td>\n",
       "      <td>0.000000</td>\n",
       "      <td>1</td>\n",
       "    </tr>\n",
       "    <tr>\n",
       "      <th>3</th>\n",
       "      <td>0.000000</td>\n",
       "      <td>0.376884</td>\n",
       "      <td>-0.344262</td>\n",
       "      <td>-0.292929</td>\n",
       "      <td>-0.602837</td>\n",
       "      <td>0.284650</td>\n",
       "      <td>0.887276</td>\n",
       "      <td>-0.600000</td>\n",
       "      <td>0</td>\n",
       "    </tr>\n",
       "    <tr>\n",
       "      <th>4</th>\n",
       "      <td>-0.411765</td>\n",
       "      <td>0.165829</td>\n",
       "      <td>0.213115</td>\n",
       "      <td>0.000000</td>\n",
       "      <td>0.000000</td>\n",
       "      <td>-0.236960</td>\n",
       "      <td>-0.894962</td>\n",
       "      <td>-0.700000</td>\n",
       "      <td>1</td>\n",
       "    </tr>\n",
       "  </tbody>\n",
       "</table>\n",
       "</div>"
      ],
      "text/plain": [
       "        fr1       fr2       fr3       fr4       fr5       fr6       fr7  \\\n",
       "0 -0.882353 -0.145729  0.081967 -0.414141  0.000000 -0.207153 -0.766866   \n",
       "1 -0.058824  0.839196  0.049180  0.000000  0.000000 -0.305514 -0.492741   \n",
       "2 -0.882353 -0.105528  0.081967 -0.535354 -0.777778 -0.162444 -0.923997   \n",
       "3  0.000000  0.376884 -0.344262 -0.292929 -0.602837  0.284650  0.887276   \n",
       "4 -0.411765  0.165829  0.213115  0.000000  0.000000 -0.236960 -0.894962   \n",
       "\n",
       "        fr9  target  \n",
       "0 -0.666667       1  \n",
       "1 -0.633333       0  \n",
       "2  0.000000       1  \n",
       "3 -0.600000       0  \n",
       "4 -0.700000       1  "
      ]
     },
     "execution_count": 127,
     "metadata": {},
     "output_type": "execute_result"
    }
   ],
   "source": [
    "data.head()"
   ]
  },
  {
   "cell_type": "code",
   "execution_count": 128,
   "metadata": {},
   "outputs": [
    {
     "data": {
      "text/html": [
       "<div>\n",
       "<style scoped>\n",
       "    .dataframe tbody tr th:only-of-type {\n",
       "        vertical-align: middle;\n",
       "    }\n",
       "\n",
       "    .dataframe tbody tr th {\n",
       "        vertical-align: top;\n",
       "    }\n",
       "\n",
       "    .dataframe thead th {\n",
       "        text-align: right;\n",
       "    }\n",
       "</style>\n",
       "<table border=\"1\" class=\"dataframe\">\n",
       "  <thead>\n",
       "    <tr style=\"text-align: right;\">\n",
       "      <th></th>\n",
       "      <th>fr1</th>\n",
       "      <th>fr2</th>\n",
       "      <th>fr3</th>\n",
       "      <th>fr4</th>\n",
       "      <th>fr5</th>\n",
       "      <th>fr6</th>\n",
       "      <th>fr7</th>\n",
       "      <th>fr9</th>\n",
       "      <th>target</th>\n",
       "    </tr>\n",
       "  </thead>\n",
       "  <tbody>\n",
       "    <tr>\n",
       "      <th>count</th>\n",
       "      <td>758.000000</td>\n",
       "      <td>758.000000</td>\n",
       "      <td>758.000000</td>\n",
       "      <td>758.000000</td>\n",
       "      <td>758.000000</td>\n",
       "      <td>758.000000</td>\n",
       "      <td>758.000000</td>\n",
       "      <td>758.000000</td>\n",
       "      <td>758.000000</td>\n",
       "    </tr>\n",
       "    <tr>\n",
       "      <th>mean</th>\n",
       "      <td>-0.407807</td>\n",
       "      <td>0.218208</td>\n",
       "      <td>0.176500</td>\n",
       "      <td>-0.289731</td>\n",
       "      <td>-0.323961</td>\n",
       "      <td>-0.032289</td>\n",
       "      <td>-0.663427</td>\n",
       "      <td>-0.516799</td>\n",
       "      <td>0.654354</td>\n",
       "    </tr>\n",
       "    <tr>\n",
       "      <th>std</th>\n",
       "      <td>0.386493</td>\n",
       "      <td>0.306465</td>\n",
       "      <td>0.201420</td>\n",
       "      <td>0.258651</td>\n",
       "      <td>0.375608</td>\n",
       "      <td>0.205508</td>\n",
       "      <td>0.283202</td>\n",
       "      <td>0.400674</td>\n",
       "      <td>0.475893</td>\n",
       "    </tr>\n",
       "    <tr>\n",
       "      <th>min</th>\n",
       "      <td>-0.882353</td>\n",
       "      <td>-0.557789</td>\n",
       "      <td>-0.606557</td>\n",
       "      <td>-0.858586</td>\n",
       "      <td>-0.966903</td>\n",
       "      <td>-0.457526</td>\n",
       "      <td>-0.994876</td>\n",
       "      <td>-0.966667</td>\n",
       "      <td>0.000000</td>\n",
       "    </tr>\n",
       "    <tr>\n",
       "      <th>25%</th>\n",
       "      <td>-0.764706</td>\n",
       "      <td>-0.005025</td>\n",
       "      <td>0.016393</td>\n",
       "      <td>-0.494949</td>\n",
       "      <td>-0.716312</td>\n",
       "      <td>-0.179583</td>\n",
       "      <td>-0.858241</td>\n",
       "      <td>-0.866667</td>\n",
       "      <td>0.000000</td>\n",
       "    </tr>\n",
       "    <tr>\n",
       "      <th>50%</th>\n",
       "      <td>-0.529412</td>\n",
       "      <td>0.165829</td>\n",
       "      <td>0.180328</td>\n",
       "      <td>-0.292929</td>\n",
       "      <td>0.000000</td>\n",
       "      <td>-0.034277</td>\n",
       "      <td>-0.748506</td>\n",
       "      <td>-0.633333</td>\n",
       "      <td>1.000000</td>\n",
       "    </tr>\n",
       "    <tr>\n",
       "      <th>75%</th>\n",
       "      <td>0.000000</td>\n",
       "      <td>0.407035</td>\n",
       "      <td>0.311475</td>\n",
       "      <td>0.000000</td>\n",
       "      <td>0.000000</td>\n",
       "      <td>0.087929</td>\n",
       "      <td>-0.532451</td>\n",
       "      <td>-0.233333</td>\n",
       "      <td>1.000000</td>\n",
       "    </tr>\n",
       "    <tr>\n",
       "      <th>max</th>\n",
       "      <td>1.000000</td>\n",
       "      <td>1.000000</td>\n",
       "      <td>1.000000</td>\n",
       "      <td>1.000000</td>\n",
       "      <td>1.000000</td>\n",
       "      <td>1.000000</td>\n",
       "      <td>1.000000</td>\n",
       "      <td>1.000000</td>\n",
       "      <td>1.000000</td>\n",
       "    </tr>\n",
       "  </tbody>\n",
       "</table>\n",
       "</div>"
      ],
      "text/plain": [
       "              fr1         fr2         fr3         fr4         fr5         fr6  \\\n",
       "count  758.000000  758.000000  758.000000  758.000000  758.000000  758.000000   \n",
       "mean    -0.407807    0.218208    0.176500   -0.289731   -0.323961   -0.032289   \n",
       "std      0.386493    0.306465    0.201420    0.258651    0.375608    0.205508   \n",
       "min     -0.882353   -0.557789   -0.606557   -0.858586   -0.966903   -0.457526   \n",
       "25%     -0.764706   -0.005025    0.016393   -0.494949   -0.716312   -0.179583   \n",
       "50%     -0.529412    0.165829    0.180328   -0.292929    0.000000   -0.034277   \n",
       "75%      0.000000    0.407035    0.311475    0.000000    0.000000    0.087929   \n",
       "max      1.000000    1.000000    1.000000    1.000000    1.000000    1.000000   \n",
       "\n",
       "              fr7         fr9      target  \n",
       "count  758.000000  758.000000  758.000000  \n",
       "mean    -0.663427   -0.516799    0.654354  \n",
       "std      0.283202    0.400674    0.475893  \n",
       "min     -0.994876   -0.966667    0.000000  \n",
       "25%     -0.858241   -0.866667    0.000000  \n",
       "50%     -0.748506   -0.633333    1.000000  \n",
       "75%     -0.532451   -0.233333    1.000000  \n",
       "max      1.000000    1.000000    1.000000  "
      ]
     },
     "execution_count": 128,
     "metadata": {},
     "output_type": "execute_result"
    }
   ],
   "source": [
    "data.describe()"
   ]
  },
  {
   "cell_type": "code",
   "execution_count": 129,
   "metadata": {},
   "outputs": [
    {
     "data": {
      "text/plain": [
       "fr1       0\n",
       "fr2       0\n",
       "fr3       0\n",
       "fr4       0\n",
       "fr5       0\n",
       "fr6       0\n",
       "fr7       0\n",
       "fr9       0\n",
       "target    0\n",
       "dtype: int64"
      ]
     },
     "execution_count": 129,
     "metadata": {},
     "output_type": "execute_result"
    }
   ],
   "source": [
    "data.isnull().sum()"
   ]
  },
  {
   "cell_type": "code",
   "execution_count": 130,
   "metadata": {},
   "outputs": [
    {
     "data": {
      "text/plain": [
       "0      False\n",
       "1      False\n",
       "2      False\n",
       "3      False\n",
       "4      False\n",
       "       ...  \n",
       "753    False\n",
       "754    False\n",
       "755    False\n",
       "756    False\n",
       "757    False\n",
       "Length: 758, dtype: bool"
      ]
     },
     "execution_count": 130,
     "metadata": {},
     "output_type": "execute_result"
    }
   ],
   "source": [
    "data.duplicated()"
   ]
  },
  {
   "cell_type": "code",
   "execution_count": 131,
   "metadata": {},
   "outputs": [
    {
     "data": {
      "text/plain": [
       "array([[<Axes: title={'center': 'fr1'}>, <Axes: title={'center': 'fr2'}>,\n",
       "        <Axes: title={'center': 'fr3'}>],\n",
       "       [<Axes: title={'center': 'fr4'}>, <Axes: title={'center': 'fr5'}>,\n",
       "        <Axes: title={'center': 'fr6'}>],\n",
       "       [<Axes: title={'center': 'fr7'}>, <Axes: title={'center': 'fr9'}>,\n",
       "        <Axes: title={'center': 'target'}>]], dtype=object)"
      ]
     },
     "execution_count": 131,
     "metadata": {},
     "output_type": "execute_result"
    },
    {
     "data": {
      "image/png": "[encoded data removed]",
      "text/plain": [
       "<Figure size 1000x1000 with 9 Axes>"
      ]
     },
     "metadata": {},
     "output_type": "display_data"
    }
   ],
   "source": [
    "# we have already described many data visualization in Part 1.\n",
    "data.hist(figsize=(10,10))"
   ]
  },
  {
   "cell_type": "markdown",
   "metadata": {},
   "source": [
    "# Step 3: Split into 70% train 30% test"
   ]
  },
  {
   "cell_type": "code",
   "execution_count": 141,
   "metadata": {},
   "outputs": [],
   "source": [
    "\n",
    "from sklearn.model_selection import train_test_split\n",
    "\n",
    "x = data.drop(columns=['target'])\n",
    "y = data['target']\n",
    "\n",
    "features_normalized = (x - x.mean()) / x.std()\n",
    "\n",
    "# Converting to PyTorch tensors\n",
    "features_tensor = torch.tensor(features_normalized.values, dtype=torch.float32)\n",
    "labels_tensor = torch.tensor(y.values, dtype=torch.float32)\n",
    "\n",
    "\n",
    "x_train, x_test, y_train, y_test = train_test_split(features_tensor,labels_tensor,test_size=0.3,random_state=1)\n"
   ]
  },
  {
   "cell_type": "markdown",
   "metadata": {},
   "source": [
    "# Step 4: Modify the model \n"
   ]
  },
  {
   "cell_type": "code",
   "execution_count": 133,
   "metadata": {},
   "outputs": [],
   "source": [
    "import torch.nn as nn\n",
    "import torch.optim as optim\n",
    "\n",
    "# Defining the model for our dataset\n",
    "class DiabetesModel(nn.Module):\n",
    "    def __init__(self):\n",
    "        super(DiabetesModel, self).__init__()\n",
    "        self.layer1 = nn.Linear(features_tensor.shape[1], 16)\n",
    "        self.activation1 = nn.ReLU()\n",
    "        self.layer2 = nn.Linear(16, 16)\n",
    "        self.activation2 = nn.ReLU()\n",
    "        self.output_layer = nn.Linear(16, 1)\n",
    "\n",
    "    def forward(self, x):\n",
    "        x = self.activation1(self.layer1(x))\n",
    "        x = self.activation2(self.layer2(x))\n",
    "        x = self.output_layer(x)\n",
    "        return x\n",
    "\n",
    "model = DiabetesModel()\n"
   ]
  },
  {
   "cell_type": "markdown",
   "metadata": {},
   "source": [
    "# Step 5: Training the model"
   ]
  },
  {
   "cell_type": "code",
   "execution_count": 134,
   "metadata": {},
   "outputs": [],
   "source": [
    "optimizer = optim.Adam(model.parameters(), lr=0.01)\n",
    "criterion = nn.BCEWithLogitsLoss()\n",
    "\n",
    "def train_model(model, x_train, y_train, epochs=100):\n",
    "    for epoch in range(epochs):\n",
    "        model.train()\n",
    "        optimizer.zero_grad()\n",
    "        outputs = model(x_train)\n",
    "        loss = criterion(outputs.squeeze(), y_train)\n",
    "        loss.backward()\n",
    "        optimizer.step()\n",
    "\n",
    "train_model(model, x_train, y_train)"
   ]
  },
  {
   "cell_type": "markdown",
   "metadata": {},
   "source": [
    "# Step 6-7 : Model Prediction & Evalution "
   ]
  },
  {
   "cell_type": "code",
   "execution_count": 135,
   "metadata": {},
   "outputs": [
    {
     "name": "stdout",
     "output_type": "stream",
     "text": [
      "75.87719559669495 %\n"
     ]
    }
   ],
   "source": [
    "model.eval()\n",
    "with torch.no_grad():\n",
    "    outputs = model(x_test)\n",
    "    predictions = torch.sigmoid(outputs) > 0.5\n",
    "    accuracy = (predictions.squeeze().int() == y_test.int()).float().mean().item()\n",
    "\n",
    "print(accuracy*100,'%')"
   ]
  },
  {
   "cell_type": "markdown",
   "metadata": {},
   "source": [
    "# Step 8 : Hypothesize\n",
    "\n",
    "By doubling size of the layer will imorove the accuracy."
   ]
  },
  {
   "cell_type": "code",
   "execution_count": 145,
   "metadata": {},
   "outputs": [
    {
     "name": "stdout",
     "output_type": "stream",
     "text": [
      "76.31579041481018 %\n"
     ]
    }
   ],
   "source": [
    "# Changing width size\n",
    "\n",
    "class DiabetesModel(nn.Module):\n",
    "    def __init__(self):\n",
    "        super(DiabetesModel, self).__init__()\n",
    "        self.layer1 = nn.Linear(features_tensor.shape[1], 32)  # doubled width\n",
    "        self.activation1 = nn.ReLU()\n",
    "        self.layer2 = nn.Linear(32, 32) # doubled width\n",
    "        self.activation2 = nn.ReLU()\n",
    "        self.output_layer = nn.Linear(32, 1)\n",
    "\n",
    "    def forward(self, x):\n",
    "        x = self.activation1(self.layer1(x))\n",
    "        x = self.activation2(self.layer2(x))\n",
    "        x = self.output_layer(x)\n",
    "        return x\n",
    "\n",
    "model = DiabetesModel()\n",
    "\n",
    "optimizer = optim.Adam(model.parameters(), lr=0.01)\n",
    "criterion = nn.BCEWithLogitsLoss()\n",
    "\n",
    "def train_model(model, x_train, y_train, epochs=100):\n",
    "    for epoch in range(epochs):\n",
    "        model.train()\n",
    "        optimizer.zero_grad()\n",
    "        outputs = model(x_train)\n",
    "        loss = criterion(outputs.squeeze(), y_train)\n",
    "        loss.backward()\n",
    "        optimizer.step()\n",
    "\n",
    "train_model(model, x_train, y_train)\n",
    "\n",
    "\n",
    "model.eval()\n",
    "with torch.no_grad():\n",
    "    outputs = model(x_test)\n",
    "    predictions = torch.sigmoid(outputs) > 0.5\n",
    "    accuracy = (predictions.squeeze().int() == y_test.int()).float().mean().item()\n",
    "\n",
    "print(accuracy*100,'%')"
   ]
  }
 ],
 "metadata": {
  "kernelspec": {
   "display_name": "Python 3",
   "language": "python",
   "name": "python3"
  },
  "language_info": {
   "codemirror_mode": {
    "name": "ipython",
    "version": 3
   },
   "file_extension": ".py",
   "mimetype": "text/x-python",
   "name": "python",
   "nbconvert_exporter": "python",
   "pygments_lexer": "ipython3",
   "version": "3.12.2"
  }
 },
 "nbformat": 4,
 "nbformat_minor": 2
}

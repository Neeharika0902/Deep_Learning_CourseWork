{
 "cells": [
  {
   "cell_type": "markdown",
   "metadata": {},
   "source": [
    "# Part 1 : TensorFlow ---------------------------------------------------------"
   ]
  },
  {
   "cell_type": "code",
   "execution_count": 146,
   "metadata": {},
   "outputs": [],
   "source": [
    "# Libraries\n",
    "import pandas as pd\n",
    "import numpy as np\n",
    "import matplotlib.pyplot as plt\n",
    "import tensorflow as tn\n"
   ]
  },
  {
   "cell_type": "markdown",
   "metadata": {},
   "source": [
    "# Step 1 : import the dataset"
   ]
  },
  {
   "cell_type": "code",
   "execution_count": 147,
   "metadata": {},
   "outputs": [
    {
     "data": {
      "text/plain": [
       "Index(['-0.294118', '0.487437', '0.180328', '-0.292929', '0', '0.00149028',\n",
       "       '-0.53117', '-0.0333333', '0.1'],\n",
       "      dtype='object')"
      ]
     },
     "execution_count": 147,
     "metadata": {},
     "output_type": "execute_result"
    }
   ],
   "source": [
    "\n",
    "data = pd.read_csv('diabetes.csv')\n",
    "data.columns"
   ]
  },
  {
   "cell_type": "code",
   "execution_count": 148,
   "metadata": {},
   "outputs": [],
   "source": [
    "# We dont have column names, so adding header to them\n",
    "data = data.set_axis(['fr1','fr2','fr3','fr4','fr5','fr6','fr7','fr9','target'],axis=1)"
   ]
  },
  {
   "cell_type": "markdown",
   "metadata": {},
   "source": [
    "# Step 2: Preprocessing the Data & Visualization"
   ]
  },
  {
   "cell_type": "code",
   "execution_count": 149,
   "metadata": {},
   "outputs": [
    {
     "data": {
      "text/html": [
       "<div>\n",
       "<style scoped>\n",
       "    .dataframe tbody tr th:only-of-type {\n",
       "        vertical-align: middle;\n",
       "    }\n",
       "\n",
       "    .dataframe tbody tr th {\n",
       "        vertical-align: top;\n",
       "    }\n",
       "\n",
       "    .dataframe thead th {\n",
       "        text-align: right;\n",
       "    }\n",
       "</style>\n",
       "<table border=\"1\" class=\"dataframe\">\n",
       "  <thead>\n",
       "    <tr style=\"text-align: right;\">\n",
       "      <th></th>\n",
       "      <th>fr1</th>\n",
       "      <th>fr2</th>\n",
       "      <th>fr3</th>\n",
       "      <th>fr4</th>\n",
       "      <th>fr5</th>\n",
       "      <th>fr6</th>\n",
       "      <th>fr7</th>\n",
       "      <th>fr9</th>\n",
       "      <th>target</th>\n",
       "    </tr>\n",
       "  </thead>\n",
       "  <tbody>\n",
       "    <tr>\n",
       "      <th>0</th>\n",
       "      <td>-0.882353</td>\n",
       "      <td>-0.145729</td>\n",
       "      <td>0.081967</td>\n",
       "      <td>-0.414141</td>\n",
       "      <td>0.000000</td>\n",
       "      <td>-0.207153</td>\n",
       "      <td>-0.766866</td>\n",
       "      <td>-0.666667</td>\n",
       "      <td>1</td>\n",
       "    </tr>\n",
       "    <tr>\n",
       "      <th>1</th>\n",
       "      <td>-0.058824</td>\n",
       "      <td>0.839196</td>\n",
       "      <td>0.049180</td>\n",
       "      <td>0.000000</td>\n",
       "      <td>0.000000</td>\n",
       "      <td>-0.305514</td>\n",
       "      <td>-0.492741</td>\n",
       "      <td>-0.633333</td>\n",
       "      <td>0</td>\n",
       "    </tr>\n",
       "    <tr>\n",
       "      <th>2</th>\n",
       "      <td>-0.882353</td>\n",
       "      <td>-0.105528</td>\n",
       "      <td>0.081967</td>\n",
       "      <td>-0.535354</td>\n",
       "      <td>-0.777778</td>\n",
       "      <td>-0.162444</td>\n",
       "      <td>-0.923997</td>\n",
       "      <td>0.000000</td>\n",
       "      <td>1</td>\n",
       "    </tr>\n",
       "    <tr>\n",
       "      <th>3</th>\n",
       "      <td>0.000000</td>\n",
       "      <td>0.376884</td>\n",
       "      <td>-0.344262</td>\n",
       "      <td>-0.292929</td>\n",
       "      <td>-0.602837</td>\n",
       "      <td>0.284650</td>\n",
       "      <td>0.887276</td>\n",
       "      <td>-0.600000</td>\n",
       "      <td>0</td>\n",
       "    </tr>\n",
       "    <tr>\n",
       "      <th>4</th>\n",
       "      <td>-0.411765</td>\n",
       "      <td>0.165829</td>\n",
       "      <td>0.213115</td>\n",
       "      <td>0.000000</td>\n",
       "      <td>0.000000</td>\n",
       "      <td>-0.236960</td>\n",
       "      <td>-0.894962</td>\n",
       "      <td>-0.700000</td>\n",
       "      <td>1</td>\n",
       "    </tr>\n",
       "  </tbody>\n",
       "</table>\n",
       "</div>"
      ],
      "text/plain": [
       "        fr1       fr2       fr3       fr4       fr5       fr6       fr7  \\\n",
       "0 -0.882353 -0.145729  0.081967 -0.414141  0.000000 -0.207153 -0.766866   \n",
       "1 -0.058824  0.839196  0.049180  0.000000  0.000000 -0.305514 -0.492741   \n",
       "2 -0.882353 -0.105528  0.081967 -0.535354 -0.777778 -0.162444 -0.923997   \n",
       "3  0.000000  0.376884 -0.344262 -0.292929 -0.602837  0.284650  0.887276   \n",
       "4 -0.411765  0.165829  0.213115  0.000000  0.000000 -0.236960 -0.894962   \n",
       "\n",
       "        fr9  target  \n",
       "0 -0.666667       1  \n",
       "1 -0.633333       0  \n",
       "2  0.000000       1  \n",
       "3 -0.600000       0  \n",
       "4 -0.700000       1  "
      ]
     },
     "execution_count": 149,
     "metadata": {},
     "output_type": "execute_result"
    }
   ],
   "source": [
    "data.head()"
   ]
  },
  {
   "cell_type": "code",
   "execution_count": 150,
   "metadata": {},
   "outputs": [
    {
     "data": {
      "text/html": [
       "<div>\n",
       "<style scoped>\n",
       "    .dataframe tbody tr th:only-of-type {\n",
       "        vertical-align: middle;\n",
       "    }\n",
       "\n",
       "    .dataframe tbody tr th {\n",
       "        vertical-align: top;\n",
       "    }\n",
       "\n",
       "    .dataframe thead th {\n",
       "        text-align: right;\n",
       "    }\n",
       "</style>\n",
       "<table border=\"1\" class=\"dataframe\">\n",
       "  <thead>\n",
       "    <tr style=\"text-align: right;\">\n",
       "      <th></th>\n",
       "      <th>fr1</th>\n",
       "      <th>fr2</th>\n",
       "      <th>fr3</th>\n",
       "      <th>fr4</th>\n",
       "      <th>fr5</th>\n",
       "      <th>fr6</th>\n",
       "      <th>fr7</th>\n",
       "      <th>fr9</th>\n",
       "      <th>target</th>\n",
       "    </tr>\n",
       "  </thead>\n",
       "  <tbody>\n",
       "    <tr>\n",
       "      <th>count</th>\n",
       "      <td>758.000000</td>\n",
       "      <td>758.000000</td>\n",
       "      <td>758.000000</td>\n",
       "      <td>758.000000</td>\n",
       "      <td>758.000000</td>\n",
       "      <td>758.000000</td>\n",
       "      <td>758.000000</td>\n",
       "      <td>758.000000</td>\n",
       "      <td>758.000000</td>\n",
       "    </tr>\n",
       "    <tr>\n",
       "      <th>mean</th>\n",
       "      <td>-0.407807</td>\n",
       "      <td>0.218208</td>\n",
       "      <td>0.176500</td>\n",
       "      <td>-0.289731</td>\n",
       "      <td>-0.323961</td>\n",
       "      <td>-0.032289</td>\n",
       "      <td>-0.663427</td>\n",
       "      <td>-0.516799</td>\n",
       "      <td>0.654354</td>\n",
       "    </tr>\n",
       "    <tr>\n",
       "      <th>std</th>\n",
       "      <td>0.386493</td>\n",
       "      <td>0.306465</td>\n",
       "      <td>0.201420</td>\n",
       "      <td>0.258651</td>\n",
       "      <td>0.375608</td>\n",
       "      <td>0.205508</td>\n",
       "      <td>0.283202</td>\n",
       "      <td>0.400674</td>\n",
       "      <td>0.475893</td>\n",
       "    </tr>\n",
       "    <tr>\n",
       "      <th>min</th>\n",
       "      <td>-0.882353</td>\n",
       "      <td>-0.557789</td>\n",
       "      <td>-0.606557</td>\n",
       "      <td>-0.858586</td>\n",
       "      <td>-0.966903</td>\n",
       "      <td>-0.457526</td>\n",
       "      <td>-0.994876</td>\n",
       "      <td>-0.966667</td>\n",
       "      <td>0.000000</td>\n",
       "    </tr>\n",
       "    <tr>\n",
       "      <th>25%</th>\n",
       "      <td>-0.764706</td>\n",
       "      <td>-0.005025</td>\n",
       "      <td>0.016393</td>\n",
       "      <td>-0.494949</td>\n",
       "      <td>-0.716312</td>\n",
       "      <td>-0.179583</td>\n",
       "      <td>-0.858241</td>\n",
       "      <td>-0.866667</td>\n",
       "      <td>0.000000</td>\n",
       "    </tr>\n",
       "    <tr>\n",
       "      <th>50%</th>\n",
       "      <td>-0.529412</td>\n",
       "      <td>0.165829</td>\n",
       "      <td>0.180328</td>\n",
       "      <td>-0.292929</td>\n",
       "      <td>0.000000</td>\n",
       "      <td>-0.034277</td>\n",
       "      <td>-0.748506</td>\n",
       "      <td>-0.633333</td>\n",
       "      <td>1.000000</td>\n",
       "    </tr>\n",
       "    <tr>\n",
       "      <th>75%</th>\n",
       "      <td>0.000000</td>\n",
       "      <td>0.407035</td>\n",
       "      <td>0.311475</td>\n",
       "      <td>0.000000</td>\n",
       "      <td>0.000000</td>\n",
       "      <td>0.087929</td>\n",
       "      <td>-0.532451</td>\n",
       "      <td>-0.233333</td>\n",
       "      <td>1.000000</td>\n",
       "    </tr>\n",
       "    <tr>\n",
       "      <th>max</th>\n",
       "      <td>1.000000</td>\n",
       "      <td>1.000000</td>\n",
       "      <td>1.000000</td>\n",
       "      <td>1.000000</td>\n",
       "      <td>1.000000</td>\n",
       "      <td>1.000000</td>\n",
       "      <td>1.000000</td>\n",
       "      <td>1.000000</td>\n",
       "      <td>1.000000</td>\n",
       "    </tr>\n",
       "  </tbody>\n",
       "</table>\n",
       "</div>"
      ],
      "text/plain": [
       "              fr1         fr2         fr3         fr4         fr5         fr6  \\\n",
       "count  758.000000  758.000000  758.000000  758.000000  758.000000  758.000000   \n",
       "mean    -0.407807    0.218208    0.176500   -0.289731   -0.323961   -0.032289   \n",
       "std      0.386493    0.306465    0.201420    0.258651    0.375608    0.205508   \n",
       "min     -0.882353   -0.557789   -0.606557   -0.858586   -0.966903   -0.457526   \n",
       "25%     -0.764706   -0.005025    0.016393   -0.494949   -0.716312   -0.179583   \n",
       "50%     -0.529412    0.165829    0.180328   -0.292929    0.000000   -0.034277   \n",
       "75%      0.000000    0.407035    0.311475    0.000000    0.000000    0.087929   \n",
       "max      1.000000    1.000000    1.000000    1.000000    1.000000    1.000000   \n",
       "\n",
       "              fr7         fr9      target  \n",
       "count  758.000000  758.000000  758.000000  \n",
       "mean    -0.663427   -0.516799    0.654354  \n",
       "std      0.283202    0.400674    0.475893  \n",
       "min     -0.994876   -0.966667    0.000000  \n",
       "25%     -0.858241   -0.866667    0.000000  \n",
       "50%     -0.748506   -0.633333    1.000000  \n",
       "75%     -0.532451   -0.233333    1.000000  \n",
       "max      1.000000    1.000000    1.000000  "
      ]
     },
     "execution_count": 150,
     "metadata": {},
     "output_type": "execute_result"
    }
   ],
   "source": [
    "data.describe()"
   ]
  },
  {
   "cell_type": "code",
   "execution_count": 151,
   "metadata": {},
   "outputs": [
    {
     "data": {
      "text/plain": [
       "0"
      ]
     },
     "execution_count": 151,
     "metadata": {},
     "output_type": "execute_result"
    }
   ],
   "source": [
    "# to check is is there any duplicate rows\n",
    "data.duplicated().sum()"
   ]
  },
  {
   "cell_type": "code",
   "execution_count": 152,
   "metadata": {},
   "outputs": [
    {
     "data": {
      "text/plain": [
       "fr1       0\n",
       "fr2       0\n",
       "fr3       0\n",
       "fr4       0\n",
       "fr5       0\n",
       "fr6       0\n",
       "fr7       0\n",
       "fr9       0\n",
       "target    0\n",
       "dtype: int64"
      ]
     },
     "execution_count": 152,
     "metadata": {},
     "output_type": "execute_result"
    }
   ],
   "source": [
    "data.isnull().sum()"
   ]
  },
  {
   "cell_type": "code",
   "execution_count": 153,
   "metadata": {},
   "outputs": [
    {
     "data": {
      "text/plain": [
       "(758, 9)"
      ]
     },
     "execution_count": 153,
     "metadata": {},
     "output_type": "execute_result"
    }
   ],
   "source": [
    "data.shape"
   ]
  },
  {
   "cell_type": "code",
   "execution_count": 154,
   "metadata": {},
   "outputs": [
    {
     "data": {
      "text/plain": [
       "array([[<Axes: title={'center': 'fr1'}>, <Axes: title={'center': 'fr2'}>,\n",
       "        <Axes: title={'center': 'fr3'}>],\n",
       "       [<Axes: title={'center': 'fr4'}>, <Axes: title={'center': 'fr5'}>,\n",
       "        <Axes: title={'center': 'fr6'}>],\n",
       "       [<Axes: title={'center': 'fr7'}>, <Axes: title={'center': 'fr9'}>,\n",
       "        <Axes: title={'center': 'target'}>]], dtype=object)"
      ]
     },
     "execution_count": 154,
     "metadata": {},
     "output_type": "execute_result"
    },
    {
     "data": {
      "image/png": "[encoded data removed]",
      "text/plain": [
       "<Figure size 1000x1000 with 9 Axes>"
      ]
     },
     "metadata": {},
     "output_type": "display_data"
    }
   ],
   "source": [
    "# visualizations of each data field\n",
    "data.hist(figsize=(10,10))"
   ]
  },
  {
   "cell_type": "code",
   "execution_count": 155,
   "metadata": {},
   "outputs": [
    {
     "data": {
      "text/plain": [
       "<Axes: >"
      ]
     },
     "execution_count": 155,
     "metadata": {},
     "output_type": "execute_result"
    },
    {
     "data": {
      "image/png": "[encoded data removed]",
      "text/plain": [
       "<Figure size 640x480 with 1 Axes>"
      ]
     },
     "metadata": {},
     "output_type": "display_data"
    }
   ],
   "source": [
    "# Box plot to identify outliers\n",
    "import seaborn as sns\n",
    "sns.boxenplot(data=data,palette='pastel')"
   ]
  },
  {
   "cell_type": "code",
   "execution_count": 156,
   "metadata": {},
   "outputs": [
    {
     "data": {
      "text/plain": [
       "<Axes: >"
      ]
     },
     "execution_count": 156,
     "metadata": {},
     "output_type": "execute_result"
    },
    {
     "data": {
      "image/png": "[encoded data removed]",
      "text/plain": [
       "<Figure size 640x480 with 2 Axes>"
      ]
     },
     "metadata": {},
     "output_type": "display_data"
    }
   ],
   "source": [
    "# heapMap to check Correlation of data points \n",
    "sns.heatmap(data.corr())"
   ]
  },
  {
   "cell_type": "markdown",
   "metadata": {},
   "source": [
    "# Step 3: Split into 70% train 30% test"
   ]
  },
  {
   "cell_type": "code",
   "execution_count": 157,
   "metadata": {},
   "outputs": [
    {
     "data": {
      "text/plain": [
       "array([[-0.01924968, -0.22083283,  0.34204625, ..., -0.19423045,\n",
       "        -0.37066807,  0.70479237],\n",
       "       [-1.23740727, -1.4535344 , -1.27872991, ...,  0.11026748,\n",
       "         2.3178001 , -0.97630421],\n",
       "       [ 0.28528972, -1.19401862,  0.50412426, ..., -0.19423045,\n",
       "        -0.2551938 ,  0.53668195],\n",
       "       ...,\n",
       "       [-1.23740727, -0.72364506, -1.92704097, ..., -1.1367224 ,\n",
       "        -0.97172368, -1.14441462],\n",
       "       [ 1.04663951, -0.57766751,  0.34204625, ..., -2.05021917,\n",
       "         0.3369789 , -0.72413985],\n",
       "       [-0.62832848,  1.88773208, -0.63042034, ...,  0.21176676,\n",
       "        -0.5838508 , -0.8081938 ]])"
      ]
     },
     "execution_count": 157,
     "metadata": {},
     "output_type": "execute_result"
    }
   ],
   "source": [
    "# Data needs to be scaled.\n",
    "\n",
    "from sklearn.model_selection import train_test_split\n",
    "\n",
    "x = data.drop(columns=['target'])\n",
    "y = data['target']\n",
    "\n",
    "x_train, x_test, y_train, y_test = train_test_split(x,y,test_size=0.3,random_state=1)\n",
    "\n",
    "from sklearn.preprocessing import StandardScaler\n",
    "scaler = StandardScaler()\n",
    "\n",
    "x_trained_scaled  = scaler.fit_transform(x_train)\n",
    "x_test_scaled = scaler.transform(x_test)\n",
    "\n",
    "\n",
    "x_trained_scaled"
   ]
  },
  {
   "cell_type": "markdown",
   "metadata": {},
   "source": [
    "# Step 4: Modify the model "
   ]
  },
  {
   "cell_type": "code",
   "execution_count": 158,
   "metadata": {},
   "outputs": [],
   "source": [
    "# Now we will apply Keras for \n",
    "\n",
    "import tensorflow \n",
    "from tensorflow import keras\n",
    "from tensorflow.keras import Sequential\n",
    "from tensorflow.keras.layers import Dense"
   ]
  },
  {
   "cell_type": "code",
   "execution_count": 159,
   "metadata": {},
   "outputs": [],
   "source": [
    "# Creating Object \n",
    "model = Sequential()"
   ]
  },
  {
   "cell_type": "code",
   "execution_count": 160,
   "metadata": {},
   "outputs": [
    {
     "name": "stderr",
     "output_type": "stream",
     "text": [
      "/Library/Frameworks/Python.framework/Versions/3.12/lib/python3.12/site-packages/keras/src/layers/core/dense.py:87: UserWarning: Do not pass an `input_shape`/`input_dim` argument to a layer. When using Sequential models, prefer using an `Input(shape)` object as the first layer in the model instead.\n",
      "  super().__init__(activity_regularizer=activity_regularizer, **kwargs)\n"
     ]
    },
    {
     "data": {
      "text/html": [
       "<pre style=\"white-space:pre;overflow-x:auto;line-height:normal;font-family:Menlo,'DejaVu Sans Mono',consolas,'Courier New',monospace\"><span style=\"font-weight: bold\">Model: \"sequential_17\"</span>\n",
       "</pre>\n"
      ],
      "text/plain": [
       "\u001b[1mModel: \"sequential_17\"\u001b[0m\n"
      ]
     },
     "metadata": {},
     "output_type": "display_data"
    },
    {
     "data": {
      "text/html": [
       "<pre style=\"white-space:pre;overflow-x:auto;line-height:normal;font-family:Menlo,'DejaVu Sans Mono',consolas,'Courier New',monospace\">┏━━━━━━━━━━━━━━━━━━━━━━━━━━━━━━━━━┳━━━━━━━━━━━━━━━━━━━━━━━━┳━━━━━━━━━━━━━━━┓\n",
       "┃<span style=\"font-weight: bold\"> Layer (type)                    </span>┃<span style=\"font-weight: bold\"> Output Shape           </span>┃<span style=\"font-weight: bold\">       Param # </span>┃\n",
       "┡━━━━━━━━━━━━━━━━━━━━━━━━━━━━━━━━━╇━━━━━━━━━━━━━━━━━━━━━━━━╇━━━━━━━━━━━━━━━┩\n",
       "│ dense_48 (<span style=\"color: #0087ff; text-decoration-color: #0087ff\">Dense</span>)                │ (<span style=\"color: #00d7ff; text-decoration-color: #00d7ff\">None</span>, <span style=\"color: #00af00; text-decoration-color: #00af00\">3</span>)              │            <span style=\"color: #00af00; text-decoration-color: #00af00\">27</span> │\n",
       "├─────────────────────────────────┼────────────────────────┼───────────────┤\n",
       "│ dense_49 (<span style=\"color: #0087ff; text-decoration-color: #0087ff\">Dense</span>)                │ (<span style=\"color: #00d7ff; text-decoration-color: #00d7ff\">None</span>, <span style=\"color: #00af00; text-decoration-color: #00af00\">1</span>)              │             <span style=\"color: #00af00; text-decoration-color: #00af00\">4</span> │\n",
       "└─────────────────────────────────┴────────────────────────┴───────────────┘\n",
       "</pre>\n"
      ],
      "text/plain": [
       "┏━━━━━━━━━━━━━━━━━━━━━━━━━━━━━━━━━┳━━━━━━━━━━━━━━━━━━━━━━━━┳━━━━━━━━━━━━━━━┓\n",
       "┃\u001b[1m \u001b[0m\u001b[1mLayer (type)                   \u001b[0m\u001b[1m \u001b[0m┃\u001b[1m \u001b[0m\u001b[1mOutput Shape          \u001b[0m\u001b[1m \u001b[0m┃\u001b[1m \u001b[0m\u001b[1m      Param #\u001b[0m\u001b[1m \u001b[0m┃\n",
       "┡━━━━━━━━━━━━━━━━━━━━━━━━━━━━━━━━━╇━━━━━━━━━━━━━━━━━━━━━━━━╇━━━━━━━━━━━━━━━┩\n",
       "│ dense_48 (\u001b[38;5;33mDense\u001b[0m)                │ (\u001b[38;5;45mNone\u001b[0m, \u001b[38;5;34m3\u001b[0m)              │            \u001b[38;5;34m27\u001b[0m │\n",
       "├─────────────────────────────────┼────────────────────────┼───────────────┤\n",
       "│ dense_49 (\u001b[38;5;33mDense\u001b[0m)                │ (\u001b[38;5;45mNone\u001b[0m, \u001b[38;5;34m1\u001b[0m)              │             \u001b[38;5;34m4\u001b[0m │\n",
       "└─────────────────────────────────┴────────────────────────┴───────────────┘\n"
      ]
     },
     "metadata": {},
     "output_type": "display_data"
    },
    {
     "data": {
      "text/html": [
       "<pre style=\"white-space:pre;overflow-x:auto;line-height:normal;font-family:Menlo,'DejaVu Sans Mono',consolas,'Courier New',monospace\"><span style=\"font-weight: bold\"> Total params: </span><span style=\"color: #00af00; text-decoration-color: #00af00\">31</span> (124.00 B)\n",
       "</pre>\n"
      ],
      "text/plain": [
       "\u001b[1m Total params: \u001b[0m\u001b[38;5;34m31\u001b[0m (124.00 B)\n"
      ]
     },
     "metadata": {},
     "output_type": "display_data"
    },
    {
     "data": {
      "text/html": [
       "<pre style=\"white-space:pre;overflow-x:auto;line-height:normal;font-family:Menlo,'DejaVu Sans Mono',consolas,'Courier New',monospace\"><span style=\"font-weight: bold\"> Trainable params: </span><span style=\"color: #00af00; text-decoration-color: #00af00\">31</span> (124.00 B)\n",
       "</pre>\n"
      ],
      "text/plain": [
       "\u001b[1m Trainable params: \u001b[0m\u001b[38;5;34m31\u001b[0m (124.00 B)\n"
      ]
     },
     "metadata": {},
     "output_type": "display_data"
    },
    {
     "data": {
      "text/html": [
       "<pre style=\"white-space:pre;overflow-x:auto;line-height:normal;font-family:Menlo,'DejaVu Sans Mono',consolas,'Courier New',monospace\"><span style=\"font-weight: bold\"> Non-trainable params: </span><span style=\"color: #00af00; text-decoration-color: #00af00\">0</span> (0.00 B)\n",
       "</pre>\n"
      ],
      "text/plain": [
       "\u001b[1m Non-trainable params: \u001b[0m\u001b[38;5;34m0\u001b[0m (0.00 B)\n"
      ]
     },
     "metadata": {},
     "output_type": "display_data"
    }
   ],
   "source": [
    "model.add(Dense(3,activation='sigmoid',input_dim = 8)) # First Hidden Layer\n",
    "model.add(Dense(1,activation='sigmoid')) # Output Layer\n",
    "\n",
    "# Here, we can see how many weights and bias are given to each layer\n",
    "model.summary()\n",
    "\n",
    "# for better performance and acuracy while compile time we will declare loss_function and Optimizers\n",
    "model.compile(loss='binary_crossentropy', optimizer='Adam', metrics=['accuracy'])"
   ]
  },
  {
   "cell_type": "markdown",
   "metadata": {},
   "source": [
    "# Step 5:  Train the model on the data"
   ]
  },
  {
   "cell_type": "code",
   "execution_count": 161,
   "metadata": {},
   "outputs": [
    {
     "name": "stdout",
     "output_type": "stream",
     "text": [
      "Epoch 1/20\n",
      "\u001b[1m12/12\u001b[0m \u001b[32m━━━━━━━━━━━━━━━━━━━━\u001b[0m\u001b[37m\u001b[0m \u001b[1m0s\u001b[0m 7ms/step - accuracy: 0.3256 - loss: 0.7473 - val_accuracy: 0.3962 - val_loss: 0.7265\n",
      "Epoch 2/20\n",
      "\u001b[1m12/12\u001b[0m \u001b[32m━━━━━━━━━━━━━━━━━━━━\u001b[0m\u001b[37m\u001b[0m \u001b[1m0s\u001b[0m 2ms/step - accuracy: 0.3098 - loss: 0.7438 - val_accuracy: 0.3899 - val_loss: 0.7215\n",
      "Epoch 3/20\n",
      "\u001b[1m12/12\u001b[0m \u001b[32m━━━━━━━━━━━━━━━━━━━━\u001b[0m\u001b[37m\u001b[0m \u001b[1m0s\u001b[0m 2ms/step - accuracy: 0.3371 - loss: 0.7311 - val_accuracy: 0.3962 - val_loss: 0.7172\n",
      "Epoch 4/20\n",
      "\u001b[1m12/12\u001b[0m \u001b[32m━━━━━━━━━━━━━━━━━━━━\u001b[0m\u001b[37m\u001b[0m \u001b[1m0s\u001b[0m 2ms/step - accuracy: 0.3555 - loss: 0.7205 - val_accuracy: 0.4151 - val_loss: 0.7130\n",
      "Epoch 5/20\n",
      "\u001b[1m12/12\u001b[0m \u001b[32m━━━━━━━━━━━━━━━━━━━━\u001b[0m\u001b[37m\u001b[0m \u001b[1m0s\u001b[0m 2ms/step - accuracy: 0.3723 - loss: 0.7210 - val_accuracy: 0.4214 - val_loss: 0.7090\n",
      "Epoch 6/20\n",
      "\u001b[1m12/12\u001b[0m \u001b[32m━━━━━━━━━━━━━━━━━━━━\u001b[0m\u001b[37m\u001b[0m \u001b[1m0s\u001b[0m 2ms/step - accuracy: 0.3910 - loss: 0.7158 - val_accuracy: 0.4654 - val_loss: 0.7053\n",
      "Epoch 7/20\n",
      "\u001b[1m12/12\u001b[0m \u001b[32m━━━━━━━━━━━━━━━━━━━━\u001b[0m\u001b[37m\u001b[0m \u001b[1m0s\u001b[0m 2ms/step - accuracy: 0.3943 - loss: 0.7110 - val_accuracy: 0.4906 - val_loss: 0.7016\n",
      "Epoch 8/20\n",
      "\u001b[1m12/12\u001b[0m \u001b[32m━━━━━━━━━━━━━━━━━━━━\u001b[0m\u001b[37m\u001b[0m \u001b[1m0s\u001b[0m 2ms/step - accuracy: 0.4545 - loss: 0.7053 - val_accuracy: 0.4969 - val_loss: 0.6984\n",
      "Epoch 9/20\n",
      "\u001b[1m12/12\u001b[0m \u001b[32m━━━━━━━━━━━━━━━━━━━━\u001b[0m\u001b[37m\u001b[0m \u001b[1m0s\u001b[0m 4ms/step - accuracy: 0.4396 - loss: 0.7015 - val_accuracy: 0.5409 - val_loss: 0.6955\n",
      "Epoch 10/20\n",
      "\u001b[1m12/12\u001b[0m \u001b[32m━━━━━━━━━━━━━━━━━━━━\u001b[0m\u001b[37m\u001b[0m \u001b[1m0s\u001b[0m 2ms/step - accuracy: 0.5455 - loss: 0.6921 - val_accuracy: 0.5535 - val_loss: 0.6928\n",
      "Epoch 11/20\n",
      "\u001b[1m12/12\u001b[0m \u001b[32m━━━━━━━━━━━━━━━━━━━━\u001b[0m\u001b[37m\u001b[0m \u001b[1m0s\u001b[0m 2ms/step - accuracy: 0.5539 - loss: 0.6916 - val_accuracy: 0.5220 - val_loss: 0.6899\n",
      "Epoch 12/20\n",
      "\u001b[1m12/12\u001b[0m \u001b[32m━━━━━━━━━━━━━━━━━━━━\u001b[0m\u001b[37m\u001b[0m \u001b[1m0s\u001b[0m 2ms/step - accuracy: 0.5653 - loss: 0.6871 - val_accuracy: 0.5220 - val_loss: 0.6874\n",
      "Epoch 13/20\n",
      "\u001b[1m12/12\u001b[0m \u001b[32m━━━━━━━━━━━━━━━━━━━━\u001b[0m\u001b[37m\u001b[0m \u001b[1m0s\u001b[0m 2ms/step - accuracy: 0.6294 - loss: 0.6807 - val_accuracy: 0.5535 - val_loss: 0.6848\n",
      "Epoch 14/20\n",
      "\u001b[1m12/12\u001b[0m \u001b[32m━━━━━━━━━━━━━━━━━━━━\u001b[0m\u001b[37m\u001b[0m \u001b[1m0s\u001b[0m 2ms/step - accuracy: 0.6114 - loss: 0.6808 - val_accuracy: 0.5723 - val_loss: 0.6825\n",
      "Epoch 15/20\n",
      "\u001b[1m12/12\u001b[0m \u001b[32m━━━━━━━━━━━━━━━━━━━━\u001b[0m\u001b[37m\u001b[0m \u001b[1m0s\u001b[0m 3ms/step - accuracy: 0.6066 - loss: 0.6798 - val_accuracy: 0.5849 - val_loss: 0.6802\n",
      "Epoch 16/20\n",
      "\u001b[1m12/12\u001b[0m \u001b[32m━━━━━━━━━━━━━━━━━━━━\u001b[0m\u001b[37m\u001b[0m \u001b[1m0s\u001b[0m 2ms/step - accuracy: 0.6324 - loss: 0.6714 - val_accuracy: 0.5786 - val_loss: 0.6779\n",
      "Epoch 17/20\n",
      "\u001b[1m12/12\u001b[0m \u001b[32m━━━━━━━━━━━━━━━━━━━━\u001b[0m\u001b[37m\u001b[0m \u001b[1m0s\u001b[0m 2ms/step - accuracy: 0.6026 - loss: 0.6717 - val_accuracy: 0.5849 - val_loss: 0.6758\n",
      "Epoch 18/20\n",
      "\u001b[1m12/12\u001b[0m \u001b[32m━━━━━━━━━━━━━━━━━━━━\u001b[0m\u001b[37m\u001b[0m \u001b[1m0s\u001b[0m 2ms/step - accuracy: 0.6656 - loss: 0.6635 - val_accuracy: 0.5912 - val_loss: 0.6737\n",
      "Epoch 19/20\n",
      "\u001b[1m12/12\u001b[0m \u001b[32m━━━━━━━━━━━━━━━━━━━━\u001b[0m\u001b[37m\u001b[0m \u001b[1m0s\u001b[0m 2ms/step - accuracy: 0.6155 - loss: 0.6679 - val_accuracy: 0.5912 - val_loss: 0.6717\n",
      "Epoch 20/20\n",
      "\u001b[1m12/12\u001b[0m \u001b[32m━━━━━━━━━━━━━━━━━━━━\u001b[0m\u001b[37m\u001b[0m \u001b[1m0s\u001b[0m 2ms/step - accuracy: 0.6513 - loss: 0.6584 - val_accuracy: 0.5975 - val_loss: 0.6696\n"
     ]
    }
   ],
   "source": [
    "# we willl store all the values of 'accuracy' & 'loss' in a variable to plot graph of loss and Accuracy\n",
    "acc_loss_model = model.fit(x_trained_scaled,y_train,epochs=20, validation_split=0.3)"
   ]
  },
  {
   "cell_type": "markdown",
   "metadata": {},
   "source": [
    "# Step 6 : Model is ready for prediction"
   ]
  },
  {
   "cell_type": "code",
   "execution_count": 162,
   "metadata": {},
   "outputs": [
    {
     "name": "stdout",
     "output_type": "stream",
     "text": [
      "\u001b[1m8/8\u001b[0m \u001b[32m━━━━━━━━━━━━━━━━━━━━\u001b[0m\u001b[37m\u001b[0m \u001b[1m0s\u001b[0m 2ms/step \n"
     ]
    }
   ],
   "source": [
    "y_pred_data = model.predict(x_test_scaled)\n"
   ]
  },
  {
   "cell_type": "markdown",
   "metadata": {},
   "source": [
    "# Step 7: Accuracy Calculation"
   ]
  },
  {
   "cell_type": "markdown",
   "metadata": {},
   "source": []
  },
  {
   "cell_type": "code",
   "execution_count": 163,
   "metadata": {},
   "outputs": [
    {
     "name": "stdout",
     "output_type": "stream",
     "text": [
      "Accuracy of the ANN is :  65.35087719298247 %\n"
     ]
    }
   ],
   "source": [
    "from sklearn.metrics import accuracy_score\n",
    "\n",
    "# Now, This is out task to convert prediction value in 0 & 1. for that we will apply condition, \n",
    "# if probability is > 0.5 then 1 (cutomer will leave the bank) , other wise 0 (cutomer will not leave the bank) \n",
    "\n",
    "y_final_pred = np.where(y_pred_data>0.5, 1, 0)\n",
    "Accuracy = accuracy_score(y_test,y_final_pred)\n",
    "\n",
    "print('Accuracy of the ANN is : ',  Accuracy*100,'%')"
   ]
  },
  {
   "cell_type": "markdown",
   "metadata": {},
   "source": [
    "# Difference of loss_value between training and testing phase"
   ]
  },
  {
   "cell_type": "code",
   "execution_count": 164,
   "metadata": {},
   "outputs": [
    {
     "data": {
      "text/plain": [
       "{'accuracy': [0.33423179388046265,\n",
       "  0.3396226465702057,\n",
       "  0.34770888090133667,\n",
       "  0.3504043221473694,\n",
       "  0.3638814091682434,\n",
       "  0.3989218473434448,\n",
       "  0.42048516869544983,\n",
       "  0.4420485198497772,\n",
       "  0.4716981053352356,\n",
       "  0.506738543510437,\n",
       "  0.5525606274604797,\n",
       "  0.5741239786148071,\n",
       "  0.6010781526565552,\n",
       "  0.6199460625648499,\n",
       "  0.6307277679443359,\n",
       "  0.6334232091903687,\n",
       "  0.6388140320777893,\n",
       "  0.6388140320777893,\n",
       "  0.64420485496521,\n",
       "  0.6522911190986633],\n",
       " 'loss': [0.743626594543457,\n",
       "  0.7369641661643982,\n",
       "  0.7302079200744629,\n",
       "  0.7243033647537231,\n",
       "  0.7187382578849792,\n",
       "  0.7132940292358398,\n",
       "  0.708437442779541,\n",
       "  0.7034632563591003,\n",
       "  0.6988359093666077,\n",
       "  0.6944778561592102,\n",
       "  0.6905850172042847,\n",
       "  0.6862549781799316,\n",
       "  0.6828318238258362,\n",
       "  0.6788055300712585,\n",
       "  0.6751317977905273,\n",
       "  0.671989917755127,\n",
       "  0.6682634353637695,\n",
       "  0.6653472781181335,\n",
       "  0.6619746685028076,\n",
       "  0.6591260433197021],\n",
       " 'val_accuracy': [0.3962264060974121,\n",
       "  0.3899371027946472,\n",
       "  0.3962264060974121,\n",
       "  0.4150943458080292,\n",
       "  0.42138364911079407,\n",
       "  0.4654088020324707,\n",
       "  0.49056604504585266,\n",
       "  0.49685534834861755,\n",
       "  0.5408805012702942,\n",
       "  0.553459107875824,\n",
       "  0.5220125913619995,\n",
       "  0.5220125913619995,\n",
       "  0.553459107875824,\n",
       "  0.5723270177841187,\n",
       "  0.5849056839942932,\n",
       "  0.5786163806915283,\n",
       "  0.5849056839942932,\n",
       "  0.5911949872970581,\n",
       "  0.5911949872970581,\n",
       "  0.597484290599823],\n",
       " 'val_loss': [0.7264971137046814,\n",
       "  0.7215334177017212,\n",
       "  0.7172340750694275,\n",
       "  0.7130422592163086,\n",
       "  0.7090184688568115,\n",
       "  0.7052717804908752,\n",
       "  0.7016324400901794,\n",
       "  0.6984273791313171,\n",
       "  0.6955382823944092,\n",
       "  0.6927537322044373,\n",
       "  0.6899259686470032,\n",
       "  0.6874213218688965,\n",
       "  0.6847718954086304,\n",
       "  0.6824548840522766,\n",
       "  0.680226743221283,\n",
       "  0.6778565645217896,\n",
       "  0.6758131980895996,\n",
       "  0.6736542582511902,\n",
       "  0.6716565489768982,\n",
       "  0.66960608959198]}"
      ]
     },
     "execution_count": 164,
     "metadata": {},
     "output_type": "execute_result"
    }
   ],
   "source": [
    "acc_loss_model.history"
   ]
  },
  {
   "cell_type": "code",
   "execution_count": 165,
   "metadata": {},
   "outputs": [
    {
     "data": {
      "image/png": "[encoded data removed]",
      "text/plain": [
       "<Figure size 640x480 with 1 Axes>"
      ]
     },
     "metadata": {},
     "output_type": "display_data"
    }
   ],
   "source": [
    "plt.plot(acc_loss_model.history['accuracy'],color='Red')\n",
    "plt.plot(acc_loss_model.history['val_accuracy'],color='blue')\n",
    "plt.grid()"
   ]
  },
  {
   "cell_type": "markdown",
   "metadata": {},
   "source": [
    "# Step 8: Hypothesize"
   ]
  },
  {
   "cell_type": "markdown",
   "metadata": {},
   "source": [
    "# 1) Changing the number of layers "
   ]
  },
  {
   "cell_type": "code",
   "execution_count": 166,
   "metadata": {},
   "outputs": [
    {
     "name": "stdout",
     "output_type": "stream",
     "text": [
      "Epoch 1/20\n"
     ]
    },
    {
     "name": "stderr",
     "output_type": "stream",
     "text": [
      "/Library/Frameworks/Python.framework/Versions/3.12/lib/python3.12/site-packages/keras/src/layers/core/dense.py:87: UserWarning: Do not pass an `input_shape`/`input_dim` argument to a layer. When using Sequential models, prefer using an `Input(shape)` object as the first layer in the model instead.\n",
      "  super().__init__(activity_regularizer=activity_regularizer, **kwargs)\n"
     ]
    },
    {
     "name": "stdout",
     "output_type": "stream",
     "text": [
      "\u001b[1m12/12\u001b[0m \u001b[32m━━━━━━━━━━━━━━━━━━━━\u001b[0m\u001b[37m\u001b[0m \u001b[1m0s\u001b[0m 7ms/step - accuracy: 0.6864 - loss: 0.6269 - val_accuracy: 0.6038 - val_loss: 0.7126\n",
      "Epoch 2/20\n",
      "\u001b[1m12/12\u001b[0m \u001b[32m━━━━━━━━━━━━━━━━━━━━\u001b[0m\u001b[37m\u001b[0m \u001b[1m0s\u001b[0m 2ms/step - accuracy: 0.6496 - loss: 0.6639 - val_accuracy: 0.6038 - val_loss: 0.7076\n",
      "Epoch 3/20\n",
      "\u001b[1m12/12\u001b[0m \u001b[32m━━━━━━━━━━━━━━━━━━━━\u001b[0m\u001b[37m\u001b[0m \u001b[1m0s\u001b[0m 2ms/step - accuracy: 0.6460 - loss: 0.6633 - val_accuracy: 0.6038 - val_loss: 0.7030\n",
      "Epoch 4/20\n",
      "\u001b[1m12/12\u001b[0m \u001b[32m━━━━━━━━━━━━━━━━━━━━\u001b[0m\u001b[37m\u001b[0m \u001b[1m0s\u001b[0m 2ms/step - accuracy: 0.6714 - loss: 0.6356 - val_accuracy: 0.6038 - val_loss: 0.6991\n",
      "Epoch 5/20\n",
      "\u001b[1m12/12\u001b[0m \u001b[32m━━━━━━━━━━━━━━━━━━━━\u001b[0m\u001b[37m\u001b[0m \u001b[1m0s\u001b[0m 2ms/step - accuracy: 0.6550 - loss: 0.6501 - val_accuracy: 0.6038 - val_loss: 0.6952\n",
      "Epoch 6/20\n",
      "\u001b[1m12/12\u001b[0m \u001b[32m━━━━━━━━━━━━━━━━━━━━\u001b[0m\u001b[37m\u001b[0m \u001b[1m0s\u001b[0m 2ms/step - accuracy: 0.6777 - loss: 0.6233 - val_accuracy: 0.6038 - val_loss: 0.6920\n",
      "Epoch 7/20\n",
      "\u001b[1m12/12\u001b[0m \u001b[32m━━━━━━━━━━━━━━━━━━━━\u001b[0m\u001b[37m\u001b[0m \u001b[1m0s\u001b[0m 2ms/step - accuracy: 0.6570 - loss: 0.6411 - val_accuracy: 0.6038 - val_loss: 0.6886\n",
      "Epoch 8/20\n",
      "\u001b[1m12/12\u001b[0m \u001b[32m━━━━━━━━━━━━━━━━━━━━\u001b[0m\u001b[37m\u001b[0m \u001b[1m0s\u001b[0m 2ms/step - accuracy: 0.6515 - loss: 0.6483 - val_accuracy: 0.6038 - val_loss: 0.6851\n",
      "Epoch 9/20\n",
      "\u001b[1m12/12\u001b[0m \u001b[32m━━━━━━━━━━━━━━━━━━━━\u001b[0m\u001b[37m\u001b[0m \u001b[1m0s\u001b[0m 2ms/step - accuracy: 0.6610 - loss: 0.6337 - val_accuracy: 0.6038 - val_loss: 0.6825\n",
      "Epoch 10/20\n",
      "\u001b[1m12/12\u001b[0m \u001b[32m━━━━━━━━━━━━━━━━━━━━\u001b[0m\u001b[37m\u001b[0m \u001b[1m0s\u001b[0m 2ms/step - accuracy: 0.6493 - loss: 0.6432 - val_accuracy: 0.6038 - val_loss: 0.6798\n",
      "Epoch 11/20\n",
      "\u001b[1m12/12\u001b[0m \u001b[32m━━━━━━━━━━━━━━━━━━━━\u001b[0m\u001b[37m\u001b[0m \u001b[1m0s\u001b[0m 2ms/step - accuracy: 0.6767 - loss: 0.6189 - val_accuracy: 0.6038 - val_loss: 0.6776\n",
      "Epoch 12/20\n",
      "\u001b[1m12/12\u001b[0m \u001b[32m━━━━━━━━━━━━━━━━━━━━\u001b[0m\u001b[37m\u001b[0m \u001b[1m0s\u001b[0m 2ms/step - accuracy: 0.6386 - loss: 0.6519 - val_accuracy: 0.6038 - val_loss: 0.6751\n",
      "Epoch 13/20\n",
      "\u001b[1m12/12\u001b[0m \u001b[32m━━━━━━━━━━━━━━━━━━━━\u001b[0m\u001b[37m\u001b[0m \u001b[1m0s\u001b[0m 2ms/step - accuracy: 0.6685 - loss: 0.6235 - val_accuracy: 0.6038 - val_loss: 0.6734\n",
      "Epoch 14/20\n",
      "\u001b[1m12/12\u001b[0m \u001b[32m━━━━━━━━━━━━━━━━━━━━\u001b[0m\u001b[37m\u001b[0m \u001b[1m0s\u001b[0m 2ms/step - accuracy: 0.6684 - loss: 0.6223 - val_accuracy: 0.6038 - val_loss: 0.6715\n",
      "Epoch 15/20\n",
      "\u001b[1m12/12\u001b[0m \u001b[32m━━━━━━━━━━━━━━━━━━━━\u001b[0m\u001b[37m\u001b[0m \u001b[1m0s\u001b[0m 2ms/step - accuracy: 0.6729 - loss: 0.6185 - val_accuracy: 0.6038 - val_loss: 0.6697\n",
      "Epoch 16/20\n",
      "\u001b[1m12/12\u001b[0m \u001b[32m━━━━━━━━━━━━━━━━━━━━\u001b[0m\u001b[37m\u001b[0m \u001b[1m0s\u001b[0m 2ms/step - accuracy: 0.6951 - loss: 0.6020 - val_accuracy: 0.6038 - val_loss: 0.6679\n",
      "Epoch 17/20\n",
      "\u001b[1m12/12\u001b[0m \u001b[32m━━━━━━━━━━━━━━━━━━━━\u001b[0m\u001b[37m\u001b[0m \u001b[1m0s\u001b[0m 2ms/step - accuracy: 0.6439 - loss: 0.6412 - val_accuracy: 0.6038 - val_loss: 0.6658\n",
      "Epoch 18/20\n",
      "\u001b[1m12/12\u001b[0m \u001b[32m━━━━━━━━━━━━━━━━━━━━\u001b[0m\u001b[37m\u001b[0m \u001b[1m0s\u001b[0m 2ms/step - accuracy: 0.7019 - loss: 0.5932 - val_accuracy: 0.6038 - val_loss: 0.6644\n",
      "Epoch 19/20\n",
      "\u001b[1m12/12\u001b[0m \u001b[32m━━━━━━━━━━━━━━━━━━━━\u001b[0m\u001b[37m\u001b[0m \u001b[1m0s\u001b[0m 2ms/step - accuracy: 0.6679 - loss: 0.6186 - val_accuracy: 0.6038 - val_loss: 0.6623\n",
      "Epoch 20/20\n",
      "\u001b[1m12/12\u001b[0m \u001b[32m━━━━━━━━━━━━━━━━━━━━\u001b[0m\u001b[37m\u001b[0m \u001b[1m0s\u001b[0m 2ms/step - accuracy: 0.6705 - loss: 0.6150 - val_accuracy: 0.6038 - val_loss: 0.6607\n",
      "\u001b[1m8/8\u001b[0m \u001b[32m━━━━━━━━━━━━━━━━━━━━\u001b[0m\u001b[37m\u001b[0m \u001b[1m0s\u001b[0m 6ms/step \n",
      "Accuracy of the ANN is :  67.10526315789474 %\n"
     ]
    },
    {
     "data": {
      "text/plain": [
       "{'accuracy': [0.6657682061195374,\n",
       "  0.6657682061195374,\n",
       "  0.6657682061195374,\n",
       "  0.6657682061195374,\n",
       "  0.6657682061195374,\n",
       "  0.6657682061195374,\n",
       "  0.6657682061195374,\n",
       "  0.6657682061195374,\n",
       "  0.6657682061195374,\n",
       "  0.6657682061195374,\n",
       "  0.6657682061195374,\n",
       "  0.6657682061195374,\n",
       "  0.6657682061195374,\n",
       "  0.6657682061195374,\n",
       "  0.6657682061195374,\n",
       "  0.6657682061195374,\n",
       "  0.6657682061195374,\n",
       "  0.6657682061195374,\n",
       "  0.6657682061195374,\n",
       "  0.6657682061195374],\n",
       " 'loss': [0.6490162014961243,\n",
       "  0.6463193893432617,\n",
       "  0.6436476707458496,\n",
       "  0.6410124897956848,\n",
       "  0.6388756036758423,\n",
       "  0.636717677116394,\n",
       "  0.6349607110023499,\n",
       "  0.6333907246589661,\n",
       "  0.6315974593162537,\n",
       "  0.6302712559700012,\n",
       "  0.6288661360740662,\n",
       "  0.6277716159820557,\n",
       "  0.6264601349830627,\n",
       "  0.6253771781921387,\n",
       "  0.6243064999580383,\n",
       "  0.6232059001922607,\n",
       "  0.6221745610237122,\n",
       "  0.6210765838623047,\n",
       "  0.6200827956199646,\n",
       "  0.6189674139022827],\n",
       " 'val_accuracy': [0.6037735939025879,\n",
       "  0.6037735939025879,\n",
       "  0.6037735939025879,\n",
       "  0.6037735939025879,\n",
       "  0.6037735939025879,\n",
       "  0.6037735939025879,\n",
       "  0.6037735939025879,\n",
       "  0.6037735939025879,\n",
       "  0.6037735939025879,\n",
       "  0.6037735939025879,\n",
       "  0.6037735939025879,\n",
       "  0.6037735939025879,\n",
       "  0.6037735939025879,\n",
       "  0.6037735939025879,\n",
       "  0.6037735939025879,\n",
       "  0.6037735939025879,\n",
       "  0.6037735939025879,\n",
       "  0.6037735939025879,\n",
       "  0.6037735939025879,\n",
       "  0.6037735939025879],\n",
       " 'val_loss': [0.7125617265701294,\n",
       "  0.7076137065887451,\n",
       "  0.7030293941497803,\n",
       "  0.6990965604782104,\n",
       "  0.6952006816864014,\n",
       "  0.6919535994529724,\n",
       "  0.6886026859283447,\n",
       "  0.685106635093689,\n",
       "  0.6825121641159058,\n",
       "  0.679771900177002,\n",
       "  0.6775519251823425,\n",
       "  0.675066351890564,\n",
       "  0.6734219193458557,\n",
       "  0.6715043783187866,\n",
       "  0.6697223782539368,\n",
       "  0.6678906679153442,\n",
       "  0.6658439636230469,\n",
       "  0.6643902063369751,\n",
       "  0.6623456478118896,\n",
       "  0.6606624722480774]}"
      ]
     },
     "execution_count": 166,
     "metadata": {},
     "output_type": "execute_result"
    }
   ],
   "source": [
    "\n",
    "# Creating Object \n",
    "model = Sequential()\n",
    "\n",
    "# Model Architecture\n",
    "model.add(Dense(3,activation='sigmoid',input_dim = 8)) # First Hidden Layer\n",
    "model.add(Dense(3,activation='sigmoid')) # Second Hidden Layer\n",
    "model.add(Dense(1,activation='sigmoid')) # Output Layer\n",
    "\n",
    "# Model Compilation\n",
    "model.compile(loss='binary_crossentropy', optimizer='Adam', metrics=['accuracy'])\n",
    "\n",
    "# Model Training\n",
    "model_train = model.fit(x_trained_scaled,y_train,epochs=20, validation_split=0.3)\n",
    "\n",
    "# Model Prediction\n",
    "y_pred_data = model.predict(x_test_scaled)\n",
    "\n",
    "# accuracy calculation of model \n",
    "y_final_pred = np.where(y_pred_data>0.5, 1, 0)\n",
    "Accuracy = accuracy_score(y_test,y_final_pred)\n",
    "\n",
    "print('Accuracy of the ANN is : ',  Accuracy*100,'%')\n",
    "\n",
    "# History of model accuracy & loss\n",
    "model_train.history"
   ]
  },
  {
   "cell_type": "code",
   "execution_count": 167,
   "metadata": {},
   "outputs": [
    {
     "data": {
      "image/png": "[encoded data removed]",
      "text/plain": [
       "<Figure size 640x480 with 1 Axes>"
      ]
     },
     "metadata": {},
     "output_type": "display_data"
    }
   ],
   "source": [
    "# Model accuracy Graph\n",
    "plt.plot(model_train.history['loss'],color='Red')\n",
    "plt.plot(model_train.history['val_loss'],color='blue')\n",
    "plt.grid()"
   ]
  },
  {
   "cell_type": "markdown",
   "metadata": {},
   "source": [
    "# Description \n",
    "- As we can see by adding additional layer on Neural network we achive around 0.64 of loss while training we achived 0.61."
   ]
  },
  {
   "cell_type": "markdown",
   "metadata": {},
   "source": [
    "# 2) Changing number of Dense"
   ]
  },
  {
   "cell_type": "code",
   "execution_count": 168,
   "metadata": {},
   "outputs": [
    {
     "name": "stdout",
     "output_type": "stream",
     "text": [
      "Epoch 1/20\n"
     ]
    },
    {
     "name": "stderr",
     "output_type": "stream",
     "text": [
      "/Library/Frameworks/Python.framework/Versions/3.12/lib/python3.12/site-packages/keras/src/layers/core/dense.py:87: UserWarning: Do not pass an `input_shape`/`input_dim` argument to a layer. When using Sequential models, prefer using an `Input(shape)` object as the first layer in the model instead.\n",
      "  super().__init__(activity_regularizer=activity_regularizer, **kwargs)\n"
     ]
    },
    {
     "name": "stdout",
     "output_type": "stream",
     "text": [
      "\u001b[1m12/12\u001b[0m \u001b[32m━━━━━━━━━━━━━━━━━━━━\u001b[0m\u001b[37m\u001b[0m \u001b[1m1s\u001b[0m 8ms/step - accuracy: 0.3087 - loss: 0.7341 - val_accuracy: 0.3585 - val_loss: 0.7172\n",
      "Epoch 2/20\n",
      "\u001b[1m12/12\u001b[0m \u001b[32m━━━━━━━━━━━━━━━━━━━━\u001b[0m\u001b[37m\u001b[0m \u001b[1m0s\u001b[0m 2ms/step - accuracy: 0.3103 - loss: 0.7232 - val_accuracy: 0.3585 - val_loss: 0.7102\n",
      "Epoch 3/20\n",
      "\u001b[1m12/12\u001b[0m \u001b[32m━━━━━━━━━━━━━━━━━━━━\u001b[0m\u001b[37m\u001b[0m \u001b[1m0s\u001b[0m 2ms/step - accuracy: 0.3251 - loss: 0.7086 - val_accuracy: 0.3962 - val_loss: 0.7039\n",
      "Epoch 4/20\n",
      "\u001b[1m12/12\u001b[0m \u001b[32m━━━━━━━━━━━━━━━━━━━━\u001b[0m\u001b[37m\u001b[0m \u001b[1m0s\u001b[0m 2ms/step - accuracy: 0.3937 - loss: 0.7031 - val_accuracy: 0.4528 - val_loss: 0.6981\n",
      "Epoch 5/20\n",
      "\u001b[1m12/12\u001b[0m \u001b[32m━━━━━━━━━━━━━━━━━━━━\u001b[0m\u001b[37m\u001b[0m \u001b[1m0s\u001b[0m 2ms/step - accuracy: 0.4966 - loss: 0.6907 - val_accuracy: 0.5912 - val_loss: 0.6934\n",
      "Epoch 6/20\n",
      "\u001b[1m12/12\u001b[0m \u001b[32m━━━━━━━━━━━━━━━━━━━━\u001b[0m\u001b[37m\u001b[0m \u001b[1m0s\u001b[0m 2ms/step - accuracy: 0.6350 - loss: 0.6849 - val_accuracy: 0.6038 - val_loss: 0.6897\n",
      "Epoch 7/20\n",
      "\u001b[1m12/12\u001b[0m \u001b[32m━━━━━━━━━━━━━━━━━━━━\u001b[0m\u001b[37m\u001b[0m \u001b[1m0s\u001b[0m 2ms/step - accuracy: 0.6716 - loss: 0.6782 - val_accuracy: 0.6038 - val_loss: 0.6863\n",
      "Epoch 8/20\n",
      "\u001b[1m12/12\u001b[0m \u001b[32m━━━━━━━━━━━━━━━━━━━━\u001b[0m\u001b[37m\u001b[0m \u001b[1m0s\u001b[0m 2ms/step - accuracy: 0.7070 - loss: 0.6649 - val_accuracy: 0.6038 - val_loss: 0.6835\n",
      "Epoch 9/20\n",
      "\u001b[1m12/12\u001b[0m \u001b[32m━━━━━━━━━━━━━━━━━━━━\u001b[0m\u001b[37m\u001b[0m \u001b[1m0s\u001b[0m 2ms/step - accuracy: 0.6703 - loss: 0.6655 - val_accuracy: 0.6038 - val_loss: 0.6813\n",
      "Epoch 10/20\n",
      "\u001b[1m12/12\u001b[0m \u001b[32m━━━━━━━━━━━━━━━━━━━━\u001b[0m\u001b[37m\u001b[0m \u001b[1m0s\u001b[0m 2ms/step - accuracy: 0.6737 - loss: 0.6610 - val_accuracy: 0.6038 - val_loss: 0.6792\n",
      "Epoch 11/20\n",
      "\u001b[1m12/12\u001b[0m \u001b[32m━━━━━━━━━━━━━━━━━━━━\u001b[0m\u001b[37m\u001b[0m \u001b[1m0s\u001b[0m 2ms/step - accuracy: 0.6684 - loss: 0.6582 - val_accuracy: 0.6038 - val_loss: 0.6775\n",
      "Epoch 12/20\n",
      "\u001b[1m12/12\u001b[0m \u001b[32m━━━━━━━━━━━━━━━━━━━━\u001b[0m\u001b[37m\u001b[0m \u001b[1m0s\u001b[0m 2ms/step - accuracy: 0.6919 - loss: 0.6445 - val_accuracy: 0.6038 - val_loss: 0.6761\n",
      "Epoch 13/20\n",
      "\u001b[1m12/12\u001b[0m \u001b[32m━━━━━━━━━━━━━━━━━━━━\u001b[0m\u001b[37m\u001b[0m \u001b[1m0s\u001b[0m 2ms/step - accuracy: 0.6650 - loss: 0.6511 - val_accuracy: 0.6038 - val_loss: 0.6748\n",
      "Epoch 14/20\n",
      "\u001b[1m12/12\u001b[0m \u001b[32m━━━━━━━━━━━━━━━━━━━━\u001b[0m\u001b[37m\u001b[0m \u001b[1m0s\u001b[0m 2ms/step - accuracy: 0.6807 - loss: 0.6425 - val_accuracy: 0.6038 - val_loss: 0.6738\n",
      "Epoch 15/20\n",
      "\u001b[1m12/12\u001b[0m \u001b[32m━━━━━━━━━━━━━━━━━━━━\u001b[0m\u001b[37m\u001b[0m \u001b[1m0s\u001b[0m 2ms/step - accuracy: 0.6404 - loss: 0.6567 - val_accuracy: 0.6038 - val_loss: 0.6728\n",
      "Epoch 16/20\n",
      "\u001b[1m12/12\u001b[0m \u001b[32m━━━━━━━━━━━━━━━━━━━━\u001b[0m\u001b[37m\u001b[0m \u001b[1m0s\u001b[0m 1ms/step - accuracy: 0.6652 - loss: 0.6445 - val_accuracy: 0.6038 - val_loss: 0.6720\n",
      "Epoch 17/20\n",
      "\u001b[1m12/12\u001b[0m \u001b[32m━━━━━━━━━━━━━━━━━━━━\u001b[0m\u001b[37m\u001b[0m \u001b[1m0s\u001b[0m 1ms/step - accuracy: 0.6536 - loss: 0.6475 - val_accuracy: 0.6038 - val_loss: 0.6711\n",
      "Epoch 18/20\n",
      "\u001b[1m12/12\u001b[0m \u001b[32m━━━━━━━━━━━━━━━━━━━━\u001b[0m\u001b[37m\u001b[0m \u001b[1m0s\u001b[0m 2ms/step - accuracy: 0.6566 - loss: 0.6443 - val_accuracy: 0.6038 - val_loss: 0.6704\n",
      "Epoch 19/20\n",
      "\u001b[1m12/12\u001b[0m \u001b[32m━━━━━━━━━━━━━━━━━━━━\u001b[0m\u001b[37m\u001b[0m \u001b[1m0s\u001b[0m 2ms/step - accuracy: 0.6486 - loss: 0.6482 - val_accuracy: 0.6038 - val_loss: 0.6696\n",
      "Epoch 20/20\n",
      "\u001b[1m12/12\u001b[0m \u001b[32m━━━━━━━━━━━━━━━━━━━━\u001b[0m\u001b[37m\u001b[0m \u001b[1m0s\u001b[0m 1ms/step - accuracy: 0.6978 - loss: 0.6193 - val_accuracy: 0.6038 - val_loss: 0.6691\n",
      "\u001b[1m8/8\u001b[0m \u001b[32m━━━━━━━━━━━━━━━━━━━━\u001b[0m\u001b[37m\u001b[0m \u001b[1m0s\u001b[0m 2ms/step \n",
      "Accuracy of the ANN is :  67.10526315789474 %\n"
     ]
    },
    {
     "data": {
      "text/plain": [
       "{'accuracy': [0.328840970993042,\n",
       "  0.32345014810562134,\n",
       "  0.33423179388046265,\n",
       "  0.42318058013916016,\n",
       "  0.5121293663978577,\n",
       "  0.6415094137191772,\n",
       "  0.6657682061195374,\n",
       "  0.6657682061195374,\n",
       "  0.6657682061195374,\n",
       "  0.6657682061195374,\n",
       "  0.6657682061195374,\n",
       "  0.6657682061195374,\n",
       "  0.6657682061195374,\n",
       "  0.6657682061195374,\n",
       "  0.6657682061195374,\n",
       "  0.6657682061195374,\n",
       "  0.6657682061195374,\n",
       "  0.6657682061195374,\n",
       "  0.6657682061195374,\n",
       "  0.6657682061195374],\n",
       " 'loss': [0.7317535281181335,\n",
       "  0.7196927666664124,\n",
       "  0.708848237991333,\n",
       "  0.6998856663703918,\n",
       "  0.6914713382720947,\n",
       "  0.6835787892341614,\n",
       "  0.6774551868438721,\n",
       "  0.6719488501548767,\n",
       "  0.6664146184921265,\n",
       "  0.6619586944580078,\n",
       "  0.6576418280601501,\n",
       "  0.6542047262191772,\n",
       "  0.6509711742401123,\n",
       "  0.6480531096458435,\n",
       "  0.6452414989471436,\n",
       "  0.6430287957191467,\n",
       "  0.6408694386482239,\n",
       "  0.6390696167945862,\n",
       "  0.6371921896934509,\n",
       "  0.6360301971435547],\n",
       " 'val_accuracy': [0.35849055647850037,\n",
       "  0.35849055647850037,\n",
       "  0.3962264060974121,\n",
       "  0.4528301954269409,\n",
       "  0.5911949872970581,\n",
       "  0.6037735939025879,\n",
       "  0.6037735939025879,\n",
       "  0.6037735939025879,\n",
       "  0.6037735939025879,\n",
       "  0.6037735939025879,\n",
       "  0.6037735939025879,\n",
       "  0.6037735939025879,\n",
       "  0.6037735939025879,\n",
       "  0.6037735939025879,\n",
       "  0.6037735939025879,\n",
       "  0.6037735939025879,\n",
       "  0.6037735939025879,\n",
       "  0.6037735939025879,\n",
       "  0.6037735939025879,\n",
       "  0.6037735939025879],\n",
       " 'val_loss': [0.7172303199768066,\n",
       "  0.7101789712905884,\n",
       "  0.7039368152618408,\n",
       "  0.6980873942375183,\n",
       "  0.6934038996696472,\n",
       "  0.6897110939025879,\n",
       "  0.6863235235214233,\n",
       "  0.6835215091705322,\n",
       "  0.6812513470649719,\n",
       "  0.6792011260986328,\n",
       "  0.6775467395782471,\n",
       "  0.6761084198951721,\n",
       "  0.6748239994049072,\n",
       "  0.6738007664680481,\n",
       "  0.6728273034095764,\n",
       "  0.671964168548584,\n",
       "  0.6711037158966064,\n",
       "  0.6704074740409851,\n",
       "  0.6696468591690063,\n",
       "  0.6690605878829956]}"
      ]
     },
     "execution_count": 168,
     "metadata": {},
     "output_type": "execute_result"
    }
   ],
   "source": [
    "\n",
    "# Creating Object \n",
    "model = Sequential()\n",
    "\n",
    "# Model Architecture\n",
    "model.add(Dense(5,activation='sigmoid',input_dim = 8)) # First Hidden Layer\n",
    "model.add(Dense(5,activation='sigmoid')) # Second Hidden Layer\n",
    "model.add(Dense(1,activation='sigmoid')) # Output Layer\n",
    "\n",
    "# Model Compilation\n",
    "model.compile(loss='binary_crossentropy', optimizer='Adam', metrics=['accuracy'])\n",
    "\n",
    "# Model Training\n",
    "model_train = model.fit(x_trained_scaled,y_train,epochs=20, validation_split=0.3)\n",
    "\n",
    "# Model Prediction\n",
    "y_pred_data = model.predict(x_test_scaled)\n",
    "\n",
    "# accuracy calculation of model \n",
    "y_final_pred = np.where(y_pred_data>0.5, 1, 0)\n",
    "Accuracy = accuracy_score(y_test,y_final_pred)\n",
    "\n",
    "print('Accuracy of the ANN is : ',  Accuracy*100,'%')\n",
    "\n",
    "# History of model accuracy & loss\n",
    "model_train.history"
   ]
  },
  {
   "cell_type": "code",
   "execution_count": 169,
   "metadata": {},
   "outputs": [
    {
     "data": {
      "image/png": "[encoded data removed]",
      "text/plain": [
       "<Figure size 640x480 with 1 Axes>"
      ]
     },
     "metadata": {},
     "output_type": "display_data"
    }
   ],
   "source": [
    "# Model accuracy Graph\n",
    "plt.plot(model_train.history['loss'],color='Red')\n",
    "plt.plot(model_train.history['val_loss'],color='blue')\n",
    "plt.grid()"
   ]
  },
  {
   "cell_type": "markdown",
   "metadata": {},
   "source": [
    "# Description \n",
    "- As we can see by adding additional dense on Neural network we achive around 0.65 of loss while training we achived 0.62."
   ]
  },
  {
   "cell_type": "markdown",
   "metadata": {},
   "source": [
    "# 3) Changing activation function as 'ReLU'"
   ]
  },
  {
   "cell_type": "code",
   "execution_count": 170,
   "metadata": {},
   "outputs": [
    {
     "name": "stdout",
     "output_type": "stream",
     "text": [
      "Epoch 1/20\n"
     ]
    },
    {
     "name": "stderr",
     "output_type": "stream",
     "text": [
      "/Library/Frameworks/Python.framework/Versions/3.12/lib/python3.12/site-packages/keras/src/layers/core/dense.py:87: UserWarning: Do not pass an `input_shape`/`input_dim` argument to a layer. When using Sequential models, prefer using an `Input(shape)` object as the first layer in the model instead.\n",
      "  super().__init__(activity_regularizer=activity_regularizer, **kwargs)\n"
     ]
    },
    {
     "name": "stdout",
     "output_type": "stream",
     "text": [
      "\u001b[1m12/12\u001b[0m \u001b[32m━━━━━━━━━━━━━━━━━━━━\u001b[0m\u001b[37m\u001b[0m \u001b[1m0s\u001b[0m 6ms/step - accuracy: 0.3836 - loss: 0.7941 - val_accuracy: 0.5094 - val_loss: 0.7362\n",
      "Epoch 2/20\n",
      "\u001b[1m12/12\u001b[0m \u001b[32m━━━━━━━━━━━━━━━━━━━━\u001b[0m\u001b[37m\u001b[0m \u001b[1m0s\u001b[0m 2ms/step - accuracy: 0.4493 - loss: 0.7604 - val_accuracy: 0.5535 - val_loss: 0.7165\n",
      "Epoch 3/20\n",
      "\u001b[1m12/12\u001b[0m \u001b[32m━━━━━━━━━━━━━━━━━━━━\u001b[0m\u001b[37m\u001b[0m \u001b[1m0s\u001b[0m 2ms/step - accuracy: 0.5434 - loss: 0.7528 - val_accuracy: 0.5660 - val_loss: 0.7016\n",
      "Epoch 4/20\n",
      "\u001b[1m12/12\u001b[0m \u001b[32m━━━━━━━━━━━━━━━━━━━━\u001b[0m\u001b[37m\u001b[0m \u001b[1m0s\u001b[0m 2ms/step - accuracy: 0.5823 - loss: 0.7287 - val_accuracy: 0.5786 - val_loss: 0.6900\n",
      "Epoch 5/20\n",
      "\u001b[1m12/12\u001b[0m \u001b[32m━━━━━━━━━━━━━━━━━━━━\u001b[0m\u001b[37m\u001b[0m \u001b[1m0s\u001b[0m 2ms/step - accuracy: 0.5662 - loss: 0.7323 - val_accuracy: 0.6164 - val_loss: 0.6806\n",
      "Epoch 6/20\n",
      "\u001b[1m12/12\u001b[0m \u001b[32m━━━━━━━━━━━━━━━━━━━━\u001b[0m\u001b[37m\u001b[0m \u001b[1m0s\u001b[0m 2ms/step - accuracy: 0.6154 - loss: 0.7146 - val_accuracy: 0.6352 - val_loss: 0.6741\n",
      "Epoch 7/20\n",
      "\u001b[1m12/12\u001b[0m \u001b[32m━━━━━━━━━━━━━━━━━━━━\u001b[0m\u001b[37m\u001b[0m \u001b[1m0s\u001b[0m 2ms/step - accuracy: 0.6407 - loss: 0.6937 - val_accuracy: 0.6667 - val_loss: 0.6686\n",
      "Epoch 8/20\n",
      "\u001b[1m12/12\u001b[0m \u001b[32m━━━━━━━━━━━━━━━━━━━━\u001b[0m\u001b[37m\u001b[0m \u001b[1m0s\u001b[0m 2ms/step - accuracy: 0.6492 - loss: 0.7024 - val_accuracy: 0.6918 - val_loss: 0.6639\n",
      "Epoch 9/20\n",
      "\u001b[1m12/12\u001b[0m \u001b[32m━━━━━━━━━━━━━━━━━━━━\u001b[0m\u001b[37m\u001b[0m \u001b[1m0s\u001b[0m 1ms/step - accuracy: 0.6755 - loss: 0.6944 - val_accuracy: 0.6667 - val_loss: 0.6601\n",
      "Epoch 10/20\n",
      "\u001b[1m12/12\u001b[0m \u001b[32m━━━━━━━━━━━━━━━━━━━━\u001b[0m\u001b[37m\u001b[0m \u001b[1m0s\u001b[0m 1ms/step - accuracy: 0.6705 - loss: 0.6766 - val_accuracy: 0.6792 - val_loss: 0.6567\n",
      "Epoch 11/20\n",
      "\u001b[1m12/12\u001b[0m \u001b[32m━━━━━━━━━━━━━━━━━━━━\u001b[0m\u001b[37m\u001b[0m \u001b[1m0s\u001b[0m 1ms/step - accuracy: 0.6703 - loss: 0.6932 - val_accuracy: 0.6792 - val_loss: 0.6534\n",
      "Epoch 12/20\n",
      "\u001b[1m12/12\u001b[0m \u001b[32m━━━━━━━━━━━━━━━━━━━━\u001b[0m\u001b[37m\u001b[0m \u001b[1m0s\u001b[0m 1ms/step - accuracy: 0.7103 - loss: 0.6711 - val_accuracy: 0.6918 - val_loss: 0.6501\n",
      "Epoch 13/20\n",
      "\u001b[1m12/12\u001b[0m \u001b[32m━━━━━━━━━━━━━━━━━━━━\u001b[0m\u001b[37m\u001b[0m \u001b[1m0s\u001b[0m 1ms/step - accuracy: 0.7350 - loss: 0.6570 - val_accuracy: 0.7107 - val_loss: 0.6468\n",
      "Epoch 14/20\n",
      "\u001b[1m12/12\u001b[0m \u001b[32m━━━━━━━━━━━━━━━━━━━━\u001b[0m\u001b[37m\u001b[0m \u001b[1m0s\u001b[0m 1ms/step - accuracy: 0.7044 - loss: 0.6691 - val_accuracy: 0.7107 - val_loss: 0.6439\n",
      "Epoch 15/20\n",
      "\u001b[1m12/12\u001b[0m \u001b[32m━━━━━━━━━━━━━━━━━━━━\u001b[0m\u001b[37m\u001b[0m \u001b[1m0s\u001b[0m 1ms/step - accuracy: 0.6729 - loss: 0.6655 - val_accuracy: 0.7107 - val_loss: 0.6403\n",
      "Epoch 16/20\n",
      "\u001b[1m12/12\u001b[0m \u001b[32m━━━━━━━━━━━━━━━━━━━━\u001b[0m\u001b[37m\u001b[0m \u001b[1m0s\u001b[0m 1ms/step - accuracy: 0.6834 - loss: 0.6545 - val_accuracy: 0.7421 - val_loss: 0.6367\n",
      "Epoch 17/20\n",
      "\u001b[1m12/12\u001b[0m \u001b[32m━━━━━━━━━━━━━━━━━━━━\u001b[0m\u001b[37m\u001b[0m \u001b[1m0s\u001b[0m 1ms/step - accuracy: 0.6889 - loss: 0.6551 - val_accuracy: 0.7484 - val_loss: 0.6324\n",
      "Epoch 18/20\n",
      "\u001b[1m12/12\u001b[0m \u001b[32m━━━━━━━━━━━━━━━━━━━━\u001b[0m\u001b[37m\u001b[0m \u001b[1m0s\u001b[0m 1ms/step - accuracy: 0.6503 - loss: 0.6524 - val_accuracy: 0.7484 - val_loss: 0.6282\n",
      "Epoch 19/20\n",
      "\u001b[1m12/12\u001b[0m \u001b[32m━━━━━━━━━━━━━━━━━━━━\u001b[0m\u001b[37m\u001b[0m \u001b[1m0s\u001b[0m 1ms/step - accuracy: 0.6674 - loss: 0.6462 - val_accuracy: 0.7421 - val_loss: 0.6234\n",
      "Epoch 20/20\n",
      "\u001b[1m12/12\u001b[0m \u001b[32m━━━━━━━━━━━━━━━━━━━━\u001b[0m\u001b[37m\u001b[0m \u001b[1m0s\u001b[0m 1ms/step - accuracy: 0.7148 - loss: 0.6279 - val_accuracy: 0.7421 - val_loss: 0.6182\n",
      "\u001b[1m8/8\u001b[0m \u001b[32m━━━━━━━━━━━━━━━━━━━━\u001b[0m\u001b[37m\u001b[0m \u001b[1m0s\u001b[0m 2ms/step \n",
      "Accuracy of the ANN is :  74.56140350877193 %\n"
     ]
    },
    {
     "data": {
      "text/plain": [
       "{'accuracy': [0.4150943458080292,\n",
       "  0.46630728244781494,\n",
       "  0.5363881587982178,\n",
       "  0.5714285969734192,\n",
       "  0.5849056839942932,\n",
       "  0.6145552396774292,\n",
       "  0.6307277679443359,\n",
       "  0.6522911190986633,\n",
       "  0.6738544702529907,\n",
       "  0.6684635877609253,\n",
       "  0.6792452931404114,\n",
       "  0.684636116027832,\n",
       "  0.684636116027832,\n",
       "  0.6900269389152527,\n",
       "  0.6900269389152527,\n",
       "  0.6927223801612854,\n",
       "  0.6819406747817993,\n",
       "  0.6873315572738647,\n",
       "  0.6873315572738647,\n",
       "  0.6900269389152527],\n",
       " 'loss': [0.8017508387565613,\n",
       "  0.7716397643089294,\n",
       "  0.7494235634803772,\n",
       "  0.732168436050415,\n",
       "  0.7197856903076172,\n",
       "  0.7087980508804321,\n",
       "  0.7009515762329102,\n",
       "  0.6941929459571838,\n",
       "  0.6877869367599487,\n",
       "  0.6822097301483154,\n",
       "  0.6772778630256653,\n",
       "  0.6725155115127563,\n",
       "  0.667795717716217,\n",
       "  0.6635281443595886,\n",
       "  0.6587556600570679,\n",
       "  0.6536038517951965,\n",
       "  0.6487556099891663,\n",
       "  0.642787754535675,\n",
       "  0.637220025062561,\n",
       "  0.6309346556663513],\n",
       " 'val_accuracy': [0.5094339847564697,\n",
       "  0.553459107875824,\n",
       "  0.5660377144813538,\n",
       "  0.5786163806915283,\n",
       "  0.6163522005081177,\n",
       "  0.6352201104164124,\n",
       "  0.6666666865348816,\n",
       "  0.6918238997459412,\n",
       "  0.6666666865348816,\n",
       "  0.6792452931404114,\n",
       "  0.6792452931404114,\n",
       "  0.6918238997459412,\n",
       "  0.7106918096542358,\n",
       "  0.7106918096542358,\n",
       "  0.7106918096542358,\n",
       "  0.7421383857727051,\n",
       "  0.74842768907547,\n",
       "  0.74842768907547,\n",
       "  0.7421383857727051,\n",
       "  0.7421383857727051],\n",
       " 'val_loss': [0.736150324344635,\n",
       "  0.7165051102638245,\n",
       "  0.7015851736068726,\n",
       "  0.6899521350860596,\n",
       "  0.6805918216705322,\n",
       "  0.6741312742233276,\n",
       "  0.6685962080955505,\n",
       "  0.663935124874115,\n",
       "  0.6601474285125732,\n",
       "  0.6566728353500366,\n",
       "  0.6534378528594971,\n",
       "  0.6501354575157166,\n",
       "  0.6468395590782166,\n",
       "  0.643875002861023,\n",
       "  0.6403191685676575,\n",
       "  0.6366888284683228,\n",
       "  0.632396936416626,\n",
       "  0.6282336115837097,\n",
       "  0.623357355594635,\n",
       "  0.618191123008728]}"
      ]
     },
     "execution_count": 170,
     "metadata": {},
     "output_type": "execute_result"
    }
   ],
   "source": [
    "\n",
    "# Creating Object \n",
    "model = Sequential()\n",
    "\n",
    "# Model Architecture\n",
    "model.add(Dense(5,activation='relu',input_dim = 8)) # First Hidden Layer\n",
    "model.add(Dense(5,activation='relu')) # Second Hidden Layer\n",
    "model.add(Dense(1,activation='sigmoid')) # Output Layer\n",
    "\n",
    "# Model Compilation\n",
    "model.compile(loss='binary_crossentropy', optimizer='Adam', metrics=['accuracy'])\n",
    "\n",
    "# Model Training\n",
    "model_train = model.fit(x_trained_scaled,y_train,epochs=20, validation_split=0.3)\n",
    "\n",
    "# Model Prediction\n",
    "y_pred_data = model.predict(x_test_scaled)\n",
    "\n",
    "# accuracy calculation of model \n",
    "y_final_pred = np.where(y_pred_data>0.5, 1, 0)\n",
    "Accuracy = accuracy_score(y_test,y_final_pred)\n",
    "\n",
    "print('Accuracy of the ANN is : ',  Accuracy*100,'%')\n",
    "\n",
    "# History of model accuracy & loss\n",
    "model_train.history"
   ]
  },
  {
   "cell_type": "code",
   "execution_count": 171,
   "metadata": {},
   "outputs": [
    {
     "data": {
      "image/png": "[encoded data removed]",
      "text/plain": [
       "<Figure size 640x480 with 1 Axes>"
      ]
     },
     "metadata": {},
     "output_type": "display_data"
    }
   ],
   "source": [
    "# Model accuracy Graph\n",
    "plt.plot(model_train.history['loss'],color='Red')\n",
    "plt.plot(model_train.history['val_loss'],color='blue')\n",
    "plt.grid()"
   ]
  },
  {
   "cell_type": "markdown",
   "metadata": {},
   "source": [
    "# Description \n",
    "- As we can see by changing activation function layer on Neural network we achive around 0.56 of loss while testing phase. This is better than previous two hypothesize."
   ]
  },
  {
   "cell_type": "markdown",
   "metadata": {},
   "source": [
    "# 4) Changing Loss Function with 'mean_squared_error'"
   ]
  },
  {
   "cell_type": "code",
   "execution_count": 172,
   "metadata": {},
   "outputs": [
    {
     "name": "stdout",
     "output_type": "stream",
     "text": [
      "Epoch 1/20\n"
     ]
    },
    {
     "name": "stderr",
     "output_type": "stream",
     "text": [
      "/Library/Frameworks/Python.framework/Versions/3.12/lib/python3.12/site-packages/keras/src/layers/core/dense.py:87: UserWarning: Do not pass an `input_shape`/`input_dim` argument to a layer. When using Sequential models, prefer using an `Input(shape)` object as the first layer in the model instead.\n",
      "  super().__init__(activity_regularizer=activity_regularizer, **kwargs)\n"
     ]
    },
    {
     "name": "stdout",
     "output_type": "stream",
     "text": [
      "\u001b[1m12/12\u001b[0m \u001b[32m━━━━━━━━━━━━━━━━━━━━\u001b[0m\u001b[37m\u001b[0m \u001b[1m0s\u001b[0m 6ms/step - accuracy: 0.4078 - loss: 0.2729 - val_accuracy: 0.4528 - val_loss: 0.2709\n",
      "Epoch 2/20\n",
      "\u001b[1m12/12\u001b[0m \u001b[32m━━━━━━━━━━━━━━━━━━━━\u001b[0m\u001b[37m\u001b[0m \u001b[1m0s\u001b[0m 2ms/step - accuracy: 0.4506 - loss: 0.2606 - val_accuracy: 0.5094 - val_loss: 0.2673\n",
      "Epoch 3/20\n",
      "\u001b[1m12/12\u001b[0m \u001b[32m━━━━━━━━━━━━━━━━━━━━\u001b[0m\u001b[37m\u001b[0m \u001b[1m0s\u001b[0m 2ms/step - accuracy: 0.5226 - loss: 0.2560 - val_accuracy: 0.5220 - val_loss: 0.2642\n",
      "Epoch 4/20\n",
      "\u001b[1m12/12\u001b[0m \u001b[32m━━━━━━━━━━━━━━━━━━━━\u001b[0m\u001b[37m\u001b[0m \u001b[1m0s\u001b[0m 1ms/step - accuracy: 0.5561 - loss: 0.2540 - val_accuracy: 0.5409 - val_loss: 0.2615\n",
      "Epoch 5/20\n",
      "\u001b[1m12/12\u001b[0m \u001b[32m━━━━━━━━━━━━━━━━━━━━\u001b[0m\u001b[37m\u001b[0m \u001b[1m0s\u001b[0m 1ms/step - accuracy: 0.6014 - loss: 0.2512 - val_accuracy: 0.5220 - val_loss: 0.2592\n",
      "Epoch 6/20\n",
      "\u001b[1m12/12\u001b[0m \u001b[32m━━━━━━━━━━━━━━━━━━━━\u001b[0m\u001b[37m\u001b[0m \u001b[1m0s\u001b[0m 1ms/step - accuracy: 0.6452 - loss: 0.2477 - val_accuracy: 0.5283 - val_loss: 0.2570\n",
      "Epoch 7/20\n",
      "\u001b[1m12/12\u001b[0m \u001b[32m━━━━━━━━━━━━━━━━━━━━\u001b[0m\u001b[37m\u001b[0m \u001b[1m0s\u001b[0m 1ms/step - accuracy: 0.6630 - loss: 0.2415 - val_accuracy: 0.5535 - val_loss: 0.2552\n",
      "Epoch 8/20\n",
      "\u001b[1m12/12\u001b[0m \u001b[32m━━━━━━━━━━━━━━━━━━━━\u001b[0m\u001b[37m\u001b[0m \u001b[1m0s\u001b[0m 1ms/step - accuracy: 0.6654 - loss: 0.2426 - val_accuracy: 0.5597 - val_loss: 0.2534\n",
      "Epoch 9/20\n",
      "\u001b[1m12/12\u001b[0m \u001b[32m━━━━━━━━━━━━━━━━━━━━\u001b[0m\u001b[37m\u001b[0m \u001b[1m0s\u001b[0m 1ms/step - accuracy: 0.6092 - loss: 0.2425 - val_accuracy: 0.5723 - val_loss: 0.2519\n",
      "Epoch 10/20\n",
      "\u001b[1m12/12\u001b[0m \u001b[32m━━━━━━━━━━━━━━━━━━━━\u001b[0m\u001b[37m\u001b[0m \u001b[1m0s\u001b[0m 1ms/step - accuracy: 0.6418 - loss: 0.2411 - val_accuracy: 0.5786 - val_loss: 0.2505\n",
      "Epoch 11/20\n",
      "\u001b[1m12/12\u001b[0m \u001b[32m━━━━━━━━━━━━━━━━━━━━\u001b[0m\u001b[37m\u001b[0m \u001b[1m0s\u001b[0m 1ms/step - accuracy: 0.7062 - loss: 0.2287 - val_accuracy: 0.5786 - val_loss: 0.2493\n",
      "Epoch 12/20\n",
      "\u001b[1m12/12\u001b[0m \u001b[32m━━━━━━━━━━━━━━━━━━━━\u001b[0m\u001b[37m\u001b[0m \u001b[1m0s\u001b[0m 1ms/step - accuracy: 0.6894 - loss: 0.2308 - val_accuracy: 0.5786 - val_loss: 0.2479\n",
      "Epoch 13/20\n",
      "\u001b[1m12/12\u001b[0m \u001b[32m━━━━━━━━━━━━━━━━━━━━\u001b[0m\u001b[37m\u001b[0m \u001b[1m0s\u001b[0m 1ms/step - accuracy: 0.6826 - loss: 0.2350 - val_accuracy: 0.5975 - val_loss: 0.2467\n",
      "Epoch 14/20\n",
      "\u001b[1m12/12\u001b[0m \u001b[32m━━━━━━━━━━━━━━━━━━━━\u001b[0m\u001b[37m\u001b[0m \u001b[1m0s\u001b[0m 1ms/step - accuracy: 0.7227 - loss: 0.2267 - val_accuracy: 0.5975 - val_loss: 0.2455\n",
      "Epoch 15/20\n",
      "\u001b[1m12/12\u001b[0m \u001b[32m━━━━━━━━━━━━━━━━━━━━\u001b[0m\u001b[37m\u001b[0m \u001b[1m0s\u001b[0m 1ms/step - accuracy: 0.7018 - loss: 0.2273 - val_accuracy: 0.5975 - val_loss: 0.2441\n",
      "Epoch 16/20\n",
      "\u001b[1m12/12\u001b[0m \u001b[32m━━━━━━━━━━━━━━━━━━━━\u001b[0m\u001b[37m\u001b[0m \u001b[1m0s\u001b[0m 1ms/step - accuracy: 0.6964 - loss: 0.2283 - val_accuracy: 0.5912 - val_loss: 0.2426\n",
      "Epoch 17/20\n",
      "\u001b[1m12/12\u001b[0m \u001b[32m━━━━━━━━━━━━━━━━━━━━\u001b[0m\u001b[37m\u001b[0m \u001b[1m0s\u001b[0m 1ms/step - accuracy: 0.6920 - loss: 0.2280 - val_accuracy: 0.6038 - val_loss: 0.2413\n",
      "Epoch 18/20\n",
      "\u001b[1m12/12\u001b[0m \u001b[32m━━━━━━━━━━━━━━━━━━━━\u001b[0m\u001b[37m\u001b[0m \u001b[1m0s\u001b[0m 1ms/step - accuracy: 0.7314 - loss: 0.2197 - val_accuracy: 0.6101 - val_loss: 0.2398\n",
      "Epoch 19/20\n",
      "\u001b[1m12/12\u001b[0m \u001b[32m━━━━━━━━━━━━━━━━━━━━\u001b[0m\u001b[37m\u001b[0m \u001b[1m0s\u001b[0m 1ms/step - accuracy: 0.7192 - loss: 0.2218 - val_accuracy: 0.6164 - val_loss: 0.2382\n",
      "Epoch 20/20\n",
      "\u001b[1m12/12\u001b[0m \u001b[32m━━━━━━━━━━━━━━━━━━━━\u001b[0m\u001b[37m\u001b[0m \u001b[1m0s\u001b[0m 1ms/step - accuracy: 0.7132 - loss: 0.2201 - val_accuracy: 0.6164 - val_loss: 0.2366\n",
      "\u001b[1m8/8\u001b[0m \u001b[32m━━━━━━━━━━━━━━━━━━━━\u001b[0m\u001b[37m\u001b[0m \u001b[1m0s\u001b[0m 2ms/step \n",
      "Accuracy of the ANN is :  69.2982456140351 %\n"
     ]
    },
    {
     "data": {
      "text/plain": [
       "{'accuracy': [0.4393531084060669,\n",
       "  0.4528301954269409,\n",
       "  0.5175201892852783,\n",
       "  0.5606468915939331,\n",
       "  0.6037735939025879,\n",
       "  0.6469002962112427,\n",
       "  0.6522911190986633,\n",
       "  0.657681941986084,\n",
       "  0.657681941986084,\n",
       "  0.6630727648735046,\n",
       "  0.6657682061195374,\n",
       "  0.684636116027832,\n",
       "  0.698113203048706,\n",
       "  0.7061994671821594,\n",
       "  0.7035040259361267,\n",
       "  0.7088949084281921,\n",
       "  0.7035040259361267,\n",
       "  0.7061994671821594,\n",
       "  0.7061994671821594,\n",
       "  0.7035040259361267],\n",
       " 'loss': [0.26976972818374634,\n",
       "  0.26423361897468567,\n",
       "  0.2594917416572571,\n",
       "  0.2546967566013336,\n",
       "  0.25076764822006226,\n",
       "  0.24721738696098328,\n",
       "  0.24437499046325684,\n",
       "  0.24202074110507965,\n",
       "  0.23957565426826477,\n",
       "  0.23766662180423737,\n",
       "  0.2358854115009308,\n",
       "  0.23406894505023956,\n",
       "  0.2323833405971527,\n",
       "  0.23090964555740356,\n",
       "  0.22927223145961761,\n",
       "  0.2276538759469986,\n",
       "  0.22609803080558777,\n",
       "  0.22446945309638977,\n",
       "  0.22267214953899384,\n",
       "  0.22089062631130219],\n",
       " 'val_accuracy': [0.4528301954269409,\n",
       "  0.5094339847564697,\n",
       "  0.5220125913619995,\n",
       "  0.5408805012702942,\n",
       "  0.5220125913619995,\n",
       "  0.5283018946647644,\n",
       "  0.553459107875824,\n",
       "  0.5597484111785889,\n",
       "  0.5723270177841187,\n",
       "  0.5786163806915283,\n",
       "  0.5786163806915283,\n",
       "  0.5786163806915283,\n",
       "  0.597484290599823,\n",
       "  0.597484290599823,\n",
       "  0.597484290599823,\n",
       "  0.5911949872970581,\n",
       "  0.6037735939025879,\n",
       "  0.6100628972053528,\n",
       "  0.6163522005081177,\n",
       "  0.6163522005081177],\n",
       " 'val_loss': [0.2708871066570282,\n",
       "  0.26729464530944824,\n",
       "  0.2641962766647339,\n",
       "  0.2614525258541107,\n",
       "  0.2591816186904907,\n",
       "  0.25696903467178345,\n",
       "  0.2552225589752197,\n",
       "  0.253440797328949,\n",
       "  0.2518720328807831,\n",
       "  0.25046029686927795,\n",
       "  0.2492537796497345,\n",
       "  0.24792532622814178,\n",
       "  0.2466762661933899,\n",
       "  0.2455185055732727,\n",
       "  0.2441132813692093,\n",
       "  0.24264393746852875,\n",
       "  0.24129769206047058,\n",
       "  0.2398059219121933,\n",
       "  0.23824775218963623,\n",
       "  0.23660793900489807]}"
      ]
     },
     "execution_count": 172,
     "metadata": {},
     "output_type": "execute_result"
    }
   ],
   "source": [
    "# Creating Object \n",
    "model = Sequential()\n",
    "\n",
    "# Model Architecture\n",
    "model.add(Dense(5,activation='relu',input_dim = 8)) # First Hidden Layer\n",
    "model.add(Dense(5,activation='relu')) # Second Hidden Layer\n",
    "model.add(Dense(1,activation='sigmoid')) # Output Layer\n",
    "\n",
    "# Model Compilation\n",
    "model.compile(loss='mean_squared_error', optimizer='Adam', metrics=['accuracy'])\n",
    "\n",
    "# Model Training\n",
    "model_train = model.fit(x_trained_scaled,y_train,epochs=20, validation_split=0.3)\n",
    "\n",
    "# Model Prediction\n",
    "y_pred_data = model.predict(x_test_scaled)\n",
    "\n",
    "# accuracy calculation of model \n",
    "y_final_pred = np.where(y_pred_data>0.5, 1, 0)\n",
    "Accuracy = accuracy_score(y_test,y_final_pred)\n",
    "\n",
    "print('Accuracy of the ANN is : ',  Accuracy*100,'%')\n",
    "\n",
    "# History of model accuracy & loss\n",
    "model_train.history"
   ]
  },
  {
   "cell_type": "code",
   "execution_count": 173,
   "metadata": {},
   "outputs": [
    {
     "data": {
      "image/png": "[encoded data removed]",
      "text/plain": [
       "<Figure size 640x480 with 1 Axes>"
      ]
     },
     "metadata": {},
     "output_type": "display_data"
    }
   ],
   "source": [
    "# Model accuracy Graph\n",
    "plt.plot(model_train.history['loss'],color='Red')\n",
    "plt.plot(model_train.history['val_loss'],color='blue')\n",
    "plt.grid()"
   ]
  },
  {
   "cell_type": "markdown",
   "metadata": {},
   "source": [
    "# Description \n",
    "- So, by replacing activation function with 'mean_squared_error' we achivedaround 0.18 of loss which is better than all the hypothesize.\n",
    "- In this, we have additional hidden layers, additional denses, ReLU as activation function, and 'mean_squared_error' as loss function.  "
   ]
  },
  {
   "cell_type": "markdown",
   "metadata": {},
   "source": []
  },
  {
   "cell_type": "markdown",
   "metadata": {},
   "source": [
    "# Part 2 : PyTorch ---------------------------------------------------------"
   ]
  },
  {
   "cell_type": "code",
   "execution_count": 174,
   "metadata": {},
   "outputs": [],
   "source": [
    "\n",
    "import pandas as pd\n",
    "import numpy as np\n",
    "import matplotlib.pyplot as plt\n",
    "import torch\n",
    "import torch.nn as nn\n",
    "import torch.optim as optim\n"
   ]
  },
  {
   "cell_type": "markdown",
   "metadata": {},
   "source": [
    "# Step 1 : import the dataset"
   ]
  },
  {
   "cell_type": "code",
   "execution_count": 175,
   "metadata": {},
   "outputs": [
    {
     "data": {
      "text/plain": [
       "Index(['-0.294118', '0.487437', '0.180328', '-0.292929', '0', '0.00149028',\n",
       "       '-0.53117', '-0.0333333', '0.1'],\n",
       "      dtype='object')"
      ]
     },
     "execution_count": 175,
     "metadata": {},
     "output_type": "execute_result"
    }
   ],
   "source": [
    "data = pd.read_csv('diabetes.csv')\n",
    "data.columns"
   ]
  },
  {
   "cell_type": "markdown",
   "metadata": {},
   "source": [
    "# Step 2: Preprocessing the Data & Visualization"
   ]
  },
  {
   "cell_type": "code",
   "execution_count": 176,
   "metadata": {},
   "outputs": [],
   "source": [
    "# We dont have column names, so adding header to them\n",
    "data = data.set_axis(['fr1','fr2','fr3','fr4','fr5','fr6','fr7','fr9','target'],axis=1)"
   ]
  },
  {
   "cell_type": "code",
   "execution_count": 177,
   "metadata": {},
   "outputs": [
    {
     "data": {
      "text/html": [
       "<div>\n",
       "<style scoped>\n",
       "    .dataframe tbody tr th:only-of-type {\n",
       "        vertical-align: middle;\n",
       "    }\n",
       "\n",
       "    .dataframe tbody tr th {\n",
       "        vertical-align: top;\n",
       "    }\n",
       "\n",
       "    .dataframe thead th {\n",
       "        text-align: right;\n",
       "    }\n",
       "</style>\n",
       "<table border=\"1\" class=\"dataframe\">\n",
       "  <thead>\n",
       "    <tr style=\"text-align: right;\">\n",
       "      <th></th>\n",
       "      <th>fr1</th>\n",
       "      <th>fr2</th>\n",
       "      <th>fr3</th>\n",
       "      <th>fr4</th>\n",
       "      <th>fr5</th>\n",
       "      <th>fr6</th>\n",
       "      <th>fr7</th>\n",
       "      <th>fr9</th>\n",
       "      <th>target</th>\n",
       "    </tr>\n",
       "  </thead>\n",
       "  <tbody>\n",
       "    <tr>\n",
       "      <th>0</th>\n",
       "      <td>-0.882353</td>\n",
       "      <td>-0.145729</td>\n",
       "      <td>0.081967</td>\n",
       "      <td>-0.414141</td>\n",
       "      <td>0.000000</td>\n",
       "      <td>-0.207153</td>\n",
       "      <td>-0.766866</td>\n",
       "      <td>-0.666667</td>\n",
       "      <td>1</td>\n",
       "    </tr>\n",
       "    <tr>\n",
       "      <th>1</th>\n",
       "      <td>-0.058824</td>\n",
       "      <td>0.839196</td>\n",
       "      <td>0.049180</td>\n",
       "      <td>0.000000</td>\n",
       "      <td>0.000000</td>\n",
       "      <td>-0.305514</td>\n",
       "      <td>-0.492741</td>\n",
       "      <td>-0.633333</td>\n",
       "      <td>0</td>\n",
       "    </tr>\n",
       "    <tr>\n",
       "      <th>2</th>\n",
       "      <td>-0.882353</td>\n",
       "      <td>-0.105528</td>\n",
       "      <td>0.081967</td>\n",
       "      <td>-0.535354</td>\n",
       "      <td>-0.777778</td>\n",
       "      <td>-0.162444</td>\n",
       "      <td>-0.923997</td>\n",
       "      <td>0.000000</td>\n",
       "      <td>1</td>\n",
       "    </tr>\n",
       "    <tr>\n",
       "      <th>3</th>\n",
       "      <td>0.000000</td>\n",
       "      <td>0.376884</td>\n",
       "      <td>-0.344262</td>\n",
       "      <td>-0.292929</td>\n",
       "      <td>-0.602837</td>\n",
       "      <td>0.284650</td>\n",
       "      <td>0.887276</td>\n",
       "      <td>-0.600000</td>\n",
       "      <td>0</td>\n",
       "    </tr>\n",
       "    <tr>\n",
       "      <th>4</th>\n",
       "      <td>-0.411765</td>\n",
       "      <td>0.165829</td>\n",
       "      <td>0.213115</td>\n",
       "      <td>0.000000</td>\n",
       "      <td>0.000000</td>\n",
       "      <td>-0.236960</td>\n",
       "      <td>-0.894962</td>\n",
       "      <td>-0.700000</td>\n",
       "      <td>1</td>\n",
       "    </tr>\n",
       "  </tbody>\n",
       "</table>\n",
       "</div>"
      ],
      "text/plain": [
       "        fr1       fr2       fr3       fr4       fr5       fr6       fr7  \\\n",
       "0 -0.882353 -0.145729  0.081967 -0.414141  0.000000 -0.207153 -0.766866   \n",
       "1 -0.058824  0.839196  0.049180  0.000000  0.000000 -0.305514 -0.492741   \n",
       "2 -0.882353 -0.105528  0.081967 -0.535354 -0.777778 -0.162444 -0.923997   \n",
       "3  0.000000  0.376884 -0.344262 -0.292929 -0.602837  0.284650  0.887276   \n",
       "4 -0.411765  0.165829  0.213115  0.000000  0.000000 -0.236960 -0.894962   \n",
       "\n",
       "        fr9  target  \n",
       "0 -0.666667       1  \n",
       "1 -0.633333       0  \n",
       "2  0.000000       1  \n",
       "3 -0.600000       0  \n",
       "4 -0.700000       1  "
      ]
     },
     "execution_count": 177,
     "metadata": {},
     "output_type": "execute_result"
    }
   ],
   "source": [
    "data.head()"
   ]
  },
  {
   "cell_type": "code",
   "execution_count": 178,
   "metadata": {},
   "outputs": [
    {
     "data": {
      "text/html": [
       "<div>\n",
       "<style scoped>\n",
       "    .dataframe tbody tr th:only-of-type {\n",
       "        vertical-align: middle;\n",
       "    }\n",
       "\n",
       "    .dataframe tbody tr th {\n",
       "        vertical-align: top;\n",
       "    }\n",
       "\n",
       "    .dataframe thead th {\n",
       "        text-align: right;\n",
       "    }\n",
       "</style>\n",
       "<table border=\"1\" class=\"dataframe\">\n",
       "  <thead>\n",
       "    <tr style=\"text-align: right;\">\n",
       "      <th></th>\n",
       "      <th>fr1</th>\n",
       "      <th>fr2</th>\n",
       "      <th>fr3</th>\n",
       "      <th>fr4</th>\n",
       "      <th>fr5</th>\n",
       "      <th>fr6</th>\n",
       "      <th>fr7</th>\n",
       "      <th>fr9</th>\n",
       "      <th>target</th>\n",
       "    </tr>\n",
       "  </thead>\n",
       "  <tbody>\n",
       "    <tr>\n",
       "      <th>count</th>\n",
       "      <td>758.000000</td>\n",
       "      <td>758.000000</td>\n",
       "      <td>758.000000</td>\n",
       "      <td>758.000000</td>\n",
       "      <td>758.000000</td>\n",
       "      <td>758.000000</td>\n",
       "      <td>758.000000</td>\n",
       "      <td>758.000000</td>\n",
       "      <td>758.000000</td>\n",
       "    </tr>\n",
       "    <tr>\n",
       "      <th>mean</th>\n",
       "      <td>-0.407807</td>\n",
       "      <td>0.218208</td>\n",
       "      <td>0.176500</td>\n",
       "      <td>-0.289731</td>\n",
       "      <td>-0.323961</td>\n",
       "      <td>-0.032289</td>\n",
       "      <td>-0.663427</td>\n",
       "      <td>-0.516799</td>\n",
       "      <td>0.654354</td>\n",
       "    </tr>\n",
       "    <tr>\n",
       "      <th>std</th>\n",
       "      <td>0.386493</td>\n",
       "      <td>0.306465</td>\n",
       "      <td>0.201420</td>\n",
       "      <td>0.258651</td>\n",
       "      <td>0.375608</td>\n",
       "      <td>0.205508</td>\n",
       "      <td>0.283202</td>\n",
       "      <td>0.400674</td>\n",
       "      <td>0.475893</td>\n",
       "    </tr>\n",
       "    <tr>\n",
       "      <th>min</th>\n",
       "      <td>-0.882353</td>\n",
       "      <td>-0.557789</td>\n",
       "      <td>-0.606557</td>\n",
       "      <td>-0.858586</td>\n",
       "      <td>-0.966903</td>\n",
       "      <td>-0.457526</td>\n",
       "      <td>-0.994876</td>\n",
       "      <td>-0.966667</td>\n",
       "      <td>0.000000</td>\n",
       "    </tr>\n",
       "    <tr>\n",
       "      <th>25%</th>\n",
       "      <td>-0.764706</td>\n",
       "      <td>-0.005025</td>\n",
       "      <td>0.016393</td>\n",
       "      <td>-0.494949</td>\n",
       "      <td>-0.716312</td>\n",
       "      <td>-0.179583</td>\n",
       "      <td>-0.858241</td>\n",
       "      <td>-0.866667</td>\n",
       "      <td>0.000000</td>\n",
       "    </tr>\n",
       "    <tr>\n",
       "      <th>50%</th>\n",
       "      <td>-0.529412</td>\n",
       "      <td>0.165829</td>\n",
       "      <td>0.180328</td>\n",
       "      <td>-0.292929</td>\n",
       "      <td>0.000000</td>\n",
       "      <td>-0.034277</td>\n",
       "      <td>-0.748506</td>\n",
       "      <td>-0.633333</td>\n",
       "      <td>1.000000</td>\n",
       "    </tr>\n",
       "    <tr>\n",
       "      <th>75%</th>\n",
       "      <td>0.000000</td>\n",
       "      <td>0.407035</td>\n",
       "      <td>0.311475</td>\n",
       "      <td>0.000000</td>\n",
       "      <td>0.000000</td>\n",
       "      <td>0.087929</td>\n",
       "      <td>-0.532451</td>\n",
       "      <td>-0.233333</td>\n",
       "      <td>1.000000</td>\n",
       "    </tr>\n",
       "    <tr>\n",
       "      <th>max</th>\n",
       "      <td>1.000000</td>\n",
       "      <td>1.000000</td>\n",
       "      <td>1.000000</td>\n",
       "      <td>1.000000</td>\n",
       "      <td>1.000000</td>\n",
       "      <td>1.000000</td>\n",
       "      <td>1.000000</td>\n",
       "      <td>1.000000</td>\n",
       "      <td>1.000000</td>\n",
       "    </tr>\n",
       "  </tbody>\n",
       "</table>\n",
       "</div>"
      ],
      "text/plain": [
       "              fr1         fr2         fr3         fr4         fr5         fr6  \\\n",
       "count  758.000000  758.000000  758.000000  758.000000  758.000000  758.000000   \n",
       "mean    -0.407807    0.218208    0.176500   -0.289731   -0.323961   -0.032289   \n",
       "std      0.386493    0.306465    0.201420    0.258651    0.375608    0.205508   \n",
       "min     -0.882353   -0.557789   -0.606557   -0.858586   -0.966903   -0.457526   \n",
       "25%     -0.764706   -0.005025    0.016393   -0.494949   -0.716312   -0.179583   \n",
       "50%     -0.529412    0.165829    0.180328   -0.292929    0.000000   -0.034277   \n",
       "75%      0.000000    0.407035    0.311475    0.000000    0.000000    0.087929   \n",
       "max      1.000000    1.000000    1.000000    1.000000    1.000000    1.000000   \n",
       "\n",
       "              fr7         fr9      target  \n",
       "count  758.000000  758.000000  758.000000  \n",
       "mean    -0.663427   -0.516799    0.654354  \n",
       "std      0.283202    0.400674    0.475893  \n",
       "min     -0.994876   -0.966667    0.000000  \n",
       "25%     -0.858241   -0.866667    0.000000  \n",
       "50%     -0.748506   -0.633333    1.000000  \n",
       "75%     -0.532451   -0.233333    1.000000  \n",
       "max      1.000000    1.000000    1.000000  "
      ]
     },
     "execution_count": 178,
     "metadata": {},
     "output_type": "execute_result"
    }
   ],
   "source": [
    "data.describe()"
   ]
  },
  {
   "cell_type": "code",
   "execution_count": 179,
   "metadata": {},
   "outputs": [
    {
     "data": {
      "text/plain": [
       "fr1       0\n",
       "fr2       0\n",
       "fr3       0\n",
       "fr4       0\n",
       "fr5       0\n",
       "fr6       0\n",
       "fr7       0\n",
       "fr9       0\n",
       "target    0\n",
       "dtype: int64"
      ]
     },
     "execution_count": 179,
     "metadata": {},
     "output_type": "execute_result"
    }
   ],
   "source": [
    "data.isnull().sum()"
   ]
  },
  {
   "cell_type": "code",
   "execution_count": 180,
   "metadata": {},
   "outputs": [
    {
     "data": {
      "text/plain": [
       "0      False\n",
       "1      False\n",
       "2      False\n",
       "3      False\n",
       "4      False\n",
       "       ...  \n",
       "753    False\n",
       "754    False\n",
       "755    False\n",
       "756    False\n",
       "757    False\n",
       "Length: 758, dtype: bool"
      ]
     },
     "execution_count": 180,
     "metadata": {},
     "output_type": "execute_result"
    }
   ],
   "source": [
    "data.duplicated()"
   ]
  },
  {
   "cell_type": "code",
   "execution_count": 181,
   "metadata": {},
   "outputs": [
    {
     "data": {
      "text/plain": [
       "array([[<Axes: title={'center': 'fr1'}>, <Axes: title={'center': 'fr2'}>,\n",
       "        <Axes: title={'center': 'fr3'}>],\n",
       "       [<Axes: title={'center': 'fr4'}>, <Axes: title={'center': 'fr5'}>,\n",
       "        <Axes: title={'center': 'fr6'}>],\n",
       "       [<Axes: title={'center': 'fr7'}>, <Axes: title={'center': 'fr9'}>,\n",
       "        <Axes: title={'center': 'target'}>]], dtype=object)"
      ]
     },
     "execution_count": 181,
     "metadata": {},
     "output_type": "execute_result"
    },
    {
     "data": {
      "image/png": "[encoded data removed]",
      "text/plain": [
       "<Figure size 1000x1000 with 9 Axes>"
      ]
     },
     "metadata": {},
     "output_type": "display_data"
    }
   ],
   "source": [
    "# we have already described many data visualization in Part 1.\n",
    "data.hist(figsize=(10,10))"
   ]
  },
  {
   "cell_type": "markdown",
   "metadata": {},
   "source": [
    "# Step 3: Split into 70% train 30% test"
   ]
  },
  {
   "cell_type": "code",
   "execution_count": 182,
   "metadata": {},
   "outputs": [],
   "source": [
    "\n",
    "from sklearn.model_selection import train_test_split\n",
    "\n",
    "x = data.drop(columns=['target'])\n",
    "y = data['target']\n",
    "\n",
    "features_normalized = (x - x.mean()) / x.std()\n",
    "\n",
    "# Converting to PyTorch tensors\n",
    "features_tensor = torch.tensor(features_normalized.values, dtype=torch.float32)\n",
    "labels_tensor = torch.tensor(y.values, dtype=torch.float32)\n",
    "\n",
    "\n",
    "x_train, x_test, y_train, y_test = train_test_split(features_tensor,labels_tensor,test_size=0.3,random_state=1)\n"
   ]
  },
  {
   "cell_type": "markdown",
   "metadata": {},
   "source": [
    "# Step 4: Modify the model \n"
   ]
  },
  {
   "cell_type": "code",
   "execution_count": 183,
   "metadata": {},
   "outputs": [],
   "source": [
    "import torch.nn as nn\n",
    "import torch.optim as optim\n",
    "\n",
    "\n",
    "class DModel(nn.Module):\n",
    "    def __init__(self):\n",
    "        super(DModel, self).__init__()\n",
    "        self.layer1 = nn.Linear(features_tensor.shape[1], 16)\n",
    "        self.activation1 = nn.ReLU()\n",
    "        self.layer2 = nn.Linear(16, 16)\n",
    "        self.activation2 = nn.ReLU()\n",
    "        self.output_layer = nn.Linear(16, 1)\n",
    "\n",
    "    def forward(self, x):\n",
    "        x = self.activation1(self.layer1(x))\n",
    "        x = self.activation2(self.layer2(x))\n",
    "        x = self.output_layer(x)\n",
    "        return x\n",
    "\n",
    "model = DModel()\n"
   ]
  },
  {
   "cell_type": "markdown",
   "metadata": {},
   "source": [
    "# Step 5: Training the model"
   ]
  },
  {
   "cell_type": "code",
   "execution_count": 184,
   "metadata": {},
   "outputs": [],
   "source": [
    "optimizer = optim.Adam(model.parameters(), lr=0.01)\n",
    "criterion = nn.BCEWithLogitsLoss()\n",
    "\n",
    "def model_training(model, x_train, y_train, epochs=100):\n",
    "    for epoch in range(epochs):\n",
    "        model.train()\n",
    "        optimizer.zero_grad()\n",
    "        outputs = model(x_train)\n",
    "        loss = criterion(outputs.squeeze(), y_train)\n",
    "        loss.backward()\n",
    "        optimizer.step()\n",
    "\n",
    "model_training(model, x_train, y_train)"
   ]
  },
  {
   "cell_type": "markdown",
   "metadata": {},
   "source": [
    "# Step 6-7 : Model Prediction & Evalution "
   ]
  },
  {
   "cell_type": "code",
   "execution_count": 185,
   "metadata": {},
   "outputs": [
    {
     "name": "stdout",
     "output_type": "stream",
     "text": [
      "76.75438523292542 %\n"
     ]
    }
   ],
   "source": [
    "model.eval()\n",
    "with torch.no_grad():\n",
    "    outputs = model(x_test)\n",
    "    predictions = torch.sigmoid(outputs) > 0.5\n",
    "    accuracy = (predictions.squeeze().int() == y_test.int()).float().mean().item()\n",
    "\n",
    "print(accuracy*100,'%')"
   ]
  },
  {
   "cell_type": "markdown",
   "metadata": {},
   "source": [
    "# Step 8 : Hypothesize\n",
    "\n",
    "By doubling size of the layer, accuracy has been almost same."
   ]
  },
  {
   "cell_type": "code",
   "execution_count": 189,
   "metadata": {},
   "outputs": [
    {
     "name": "stdout",
     "output_type": "stream",
     "text": [
      "74.56140518188477 %\n"
     ]
    }
   ],
   "source": [
    "# Changing width size\n",
    "\n",
    "class DModel(nn.Module):\n",
    "    def __init__(self):\n",
    "        super(DModel, self).__init__()\n",
    "        self.layer1 = nn.Linear(features_tensor.shape[1], 32)  # doubled width\n",
    "        self.activation1 = nn.ReLU()\n",
    "        self.layer2 = nn.Linear(32, 32) # doubled width\n",
    "        self.activation2 = nn.ReLU()\n",
    "        self.output_layer = nn.Linear(32, 1)\n",
    "\n",
    "    def forward(self, x):\n",
    "        x = self.activation1(self.layer1(x))\n",
    "        x = self.activation2(self.layer2(x))\n",
    "        x = self.output_layer(x)\n",
    "        return x\n",
    "\n",
    "model = DModel()\n",
    "\n",
    "optimizer = optim.Adam(model.parameters(), lr=0.01)\n",
    "criterion = nn.BCEWithLogitsLoss()\n",
    "\n",
    "def model_training(model, x_train, y_train, epochs=100):\n",
    "    for epoch in range(epochs):\n",
    "        model.train()\n",
    "        optimizer.zero_grad()\n",
    "        outputs = model(x_train)\n",
    "        loss = criterion(outputs.squeeze(), y_train)\n",
    "        loss.backward()\n",
    "        optimizer.step()\n",
    "\n",
    "model_training(model, x_train, y_train)\n",
    "\n",
    "\n",
    "model.eval()\n",
    "with torch.no_grad():\n",
    "    outputs = model(x_test)\n",
    "    predictions = torch.sigmoid(outputs) > 0.5\n",
    "    accuracy = (predictions.squeeze().int() == y_test.int()).float().mean().item()\n",
    "\n",
    "print(accuracy*100,'%')"
   ]
  },
  {
   "cell_type": "code",
   "execution_count": null,
   "metadata": {},
   "outputs": [],
   "source": []
  }
 ],
 "metadata": {
  "kernelspec": {
   "display_name": "Python 3",
   "language": "python",
   "name": "python3"
  },
  "language_info": {
   "codemirror_mode": {
    "name": "ipython",
    "version": 3
   },
   "file_extension": ".py",
   "mimetype": "text/x-python",
   "name": "python",
   "nbconvert_exporter": "python",
   "pygments_lexer": "ipython3",
   "version": "3.12.2"
  }
 },
 "nbformat": 4,
 "nbformat_minor": 2
}

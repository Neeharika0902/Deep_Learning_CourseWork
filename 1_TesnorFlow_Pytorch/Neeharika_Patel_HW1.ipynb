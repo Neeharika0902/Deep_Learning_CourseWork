{
 "cells": [
  {
   "cell_type": "markdown",
   "metadata": {},
   "source": [
    "# Part 1 : TensorFlow ---------------------------------------------------------"
   ]
  },
  {
   "cell_type": "code",
   "execution_count": 46,
   "metadata": {},
   "outputs": [],
   "source": [
    "# Libraries\n",
    "import pandas as pd\n",
    "import numpy as np\n",
    "import matplotlib.pyplot as plt\n",
    "import tensorflow as tn\n"
   ]
  },
  {
   "cell_type": "markdown",
   "metadata": {},
   "source": [
    "# Step 1 : import the dataset"
   ]
  },
  {
   "cell_type": "code",
   "execution_count": 47,
   "metadata": {},
   "outputs": [
    {
     "data": {
      "text/plain": [
       "Index(['-0.294118', '0.487437', '0.180328', '-0.292929', '0', '0.00149028',\n",
       "       '-0.53117', '-0.0333333', '0.1'],\n",
       "      dtype='object')"
      ]
     },
     "execution_count": 47,
     "metadata": {},
     "output_type": "execute_result"
    }
   ],
   "source": [
    "\n",
    "data = pd.read_csv('diabetes.csv')\n",
    "data.columns"
   ]
  },
  {
   "cell_type": "code",
   "execution_count": 48,
   "metadata": {},
   "outputs": [],
   "source": [
    "# We dont have column names, so adding header to them\n",
    "data = data.set_axis(['fr1','fr2','fr3','fr4','fr5','fr6','fr7','fr9','target'],axis=1)"
   ]
  },
  {
   "cell_type": "markdown",
   "metadata": {},
   "source": [
    "# Step 2: Preprocessing the Data & Visualization"
   ]
  },
  {
   "cell_type": "code",
   "execution_count": 49,
   "metadata": {},
   "outputs": [
    {
     "data": {
      "text/html": [
       "<div>\n",
       "<style scoped>\n",
       "    .dataframe tbody tr th:only-of-type {\n",
       "        vertical-align: middle;\n",
       "    }\n",
       "\n",
       "    .dataframe tbody tr th {\n",
       "        vertical-align: top;\n",
       "    }\n",
       "\n",
       "    .dataframe thead th {\n",
       "        text-align: right;\n",
       "    }\n",
       "</style>\n",
       "<table border=\"1\" class=\"dataframe\">\n",
       "  <thead>\n",
       "    <tr style=\"text-align: right;\">\n",
       "      <th></th>\n",
       "      <th>fr1</th>\n",
       "      <th>fr2</th>\n",
       "      <th>fr3</th>\n",
       "      <th>fr4</th>\n",
       "      <th>fr5</th>\n",
       "      <th>fr6</th>\n",
       "      <th>fr7</th>\n",
       "      <th>fr9</th>\n",
       "      <th>target</th>\n",
       "    </tr>\n",
       "  </thead>\n",
       "  <tbody>\n",
       "    <tr>\n",
       "      <th>0</th>\n",
       "      <td>-0.882353</td>\n",
       "      <td>-0.145729</td>\n",
       "      <td>0.081967</td>\n",
       "      <td>-0.414141</td>\n",
       "      <td>0.000000</td>\n",
       "      <td>-0.207153</td>\n",
       "      <td>-0.766866</td>\n",
       "      <td>-0.666667</td>\n",
       "      <td>1</td>\n",
       "    </tr>\n",
       "    <tr>\n",
       "      <th>1</th>\n",
       "      <td>-0.058824</td>\n",
       "      <td>0.839196</td>\n",
       "      <td>0.049180</td>\n",
       "      <td>0.000000</td>\n",
       "      <td>0.000000</td>\n",
       "      <td>-0.305514</td>\n",
       "      <td>-0.492741</td>\n",
       "      <td>-0.633333</td>\n",
       "      <td>0</td>\n",
       "    </tr>\n",
       "    <tr>\n",
       "      <th>2</th>\n",
       "      <td>-0.882353</td>\n",
       "      <td>-0.105528</td>\n",
       "      <td>0.081967</td>\n",
       "      <td>-0.535354</td>\n",
       "      <td>-0.777778</td>\n",
       "      <td>-0.162444</td>\n",
       "      <td>-0.923997</td>\n",
       "      <td>0.000000</td>\n",
       "      <td>1</td>\n",
       "    </tr>\n",
       "    <tr>\n",
       "      <th>3</th>\n",
       "      <td>0.000000</td>\n",
       "      <td>0.376884</td>\n",
       "      <td>-0.344262</td>\n",
       "      <td>-0.292929</td>\n",
       "      <td>-0.602837</td>\n",
       "      <td>0.284650</td>\n",
       "      <td>0.887276</td>\n",
       "      <td>-0.600000</td>\n",
       "      <td>0</td>\n",
       "    </tr>\n",
       "    <tr>\n",
       "      <th>4</th>\n",
       "      <td>-0.411765</td>\n",
       "      <td>0.165829</td>\n",
       "      <td>0.213115</td>\n",
       "      <td>0.000000</td>\n",
       "      <td>0.000000</td>\n",
       "      <td>-0.236960</td>\n",
       "      <td>-0.894962</td>\n",
       "      <td>-0.700000</td>\n",
       "      <td>1</td>\n",
       "    </tr>\n",
       "  </tbody>\n",
       "</table>\n",
       "</div>"
      ],
      "text/plain": [
       "        fr1       fr2       fr3       fr4       fr5       fr6       fr7  \\\n",
       "0 -0.882353 -0.145729  0.081967 -0.414141  0.000000 -0.207153 -0.766866   \n",
       "1 -0.058824  0.839196  0.049180  0.000000  0.000000 -0.305514 -0.492741   \n",
       "2 -0.882353 -0.105528  0.081967 -0.535354 -0.777778 -0.162444 -0.923997   \n",
       "3  0.000000  0.376884 -0.344262 -0.292929 -0.602837  0.284650  0.887276   \n",
       "4 -0.411765  0.165829  0.213115  0.000000  0.000000 -0.236960 -0.894962   \n",
       "\n",
       "        fr9  target  \n",
       "0 -0.666667       1  \n",
       "1 -0.633333       0  \n",
       "2  0.000000       1  \n",
       "3 -0.600000       0  \n",
       "4 -0.700000       1  "
      ]
     },
     "execution_count": 49,
     "metadata": {},
     "output_type": "execute_result"
    }
   ],
   "source": [
    "data.head()"
   ]
  },
  {
   "cell_type": "code",
   "execution_count": 50,
   "metadata": {},
   "outputs": [
    {
     "data": {
      "text/html": [
       "<div>\n",
       "<style scoped>\n",
       "    .dataframe tbody tr th:only-of-type {\n",
       "        vertical-align: middle;\n",
       "    }\n",
       "\n",
       "    .dataframe tbody tr th {\n",
       "        vertical-align: top;\n",
       "    }\n",
       "\n",
       "    .dataframe thead th {\n",
       "        text-align: right;\n",
       "    }\n",
       "</style>\n",
       "<table border=\"1\" class=\"dataframe\">\n",
       "  <thead>\n",
       "    <tr style=\"text-align: right;\">\n",
       "      <th></th>\n",
       "      <th>fr1</th>\n",
       "      <th>fr2</th>\n",
       "      <th>fr3</th>\n",
       "      <th>fr4</th>\n",
       "      <th>fr5</th>\n",
       "      <th>fr6</th>\n",
       "      <th>fr7</th>\n",
       "      <th>fr9</th>\n",
       "      <th>target</th>\n",
       "    </tr>\n",
       "  </thead>\n",
       "  <tbody>\n",
       "    <tr>\n",
       "      <th>count</th>\n",
       "      <td>758.000000</td>\n",
       "      <td>758.000000</td>\n",
       "      <td>758.000000</td>\n",
       "      <td>758.000000</td>\n",
       "      <td>758.000000</td>\n",
       "      <td>758.000000</td>\n",
       "      <td>758.000000</td>\n",
       "      <td>758.000000</td>\n",
       "      <td>758.000000</td>\n",
       "    </tr>\n",
       "    <tr>\n",
       "      <th>mean</th>\n",
       "      <td>-0.407807</td>\n",
       "      <td>0.218208</td>\n",
       "      <td>0.176500</td>\n",
       "      <td>-0.289731</td>\n",
       "      <td>-0.323961</td>\n",
       "      <td>-0.032289</td>\n",
       "      <td>-0.663427</td>\n",
       "      <td>-0.516799</td>\n",
       "      <td>0.654354</td>\n",
       "    </tr>\n",
       "    <tr>\n",
       "      <th>std</th>\n",
       "      <td>0.386493</td>\n",
       "      <td>0.306465</td>\n",
       "      <td>0.201420</td>\n",
       "      <td>0.258651</td>\n",
       "      <td>0.375608</td>\n",
       "      <td>0.205508</td>\n",
       "      <td>0.283202</td>\n",
       "      <td>0.400674</td>\n",
       "      <td>0.475893</td>\n",
       "    </tr>\n",
       "    <tr>\n",
       "      <th>min</th>\n",
       "      <td>-0.882353</td>\n",
       "      <td>-0.557789</td>\n",
       "      <td>-0.606557</td>\n",
       "      <td>-0.858586</td>\n",
       "      <td>-0.966903</td>\n",
       "      <td>-0.457526</td>\n",
       "      <td>-0.994876</td>\n",
       "      <td>-0.966667</td>\n",
       "      <td>0.000000</td>\n",
       "    </tr>\n",
       "    <tr>\n",
       "      <th>25%</th>\n",
       "      <td>-0.764706</td>\n",
       "      <td>-0.005025</td>\n",
       "      <td>0.016393</td>\n",
       "      <td>-0.494949</td>\n",
       "      <td>-0.716312</td>\n",
       "      <td>-0.179583</td>\n",
       "      <td>-0.858241</td>\n",
       "      <td>-0.866667</td>\n",
       "      <td>0.000000</td>\n",
       "    </tr>\n",
       "    <tr>\n",
       "      <th>50%</th>\n",
       "      <td>-0.529412</td>\n",
       "      <td>0.165829</td>\n",
       "      <td>0.180328</td>\n",
       "      <td>-0.292929</td>\n",
       "      <td>0.000000</td>\n",
       "      <td>-0.034277</td>\n",
       "      <td>-0.748506</td>\n",
       "      <td>-0.633333</td>\n",
       "      <td>1.000000</td>\n",
       "    </tr>\n",
       "    <tr>\n",
       "      <th>75%</th>\n",
       "      <td>0.000000</td>\n",
       "      <td>0.407035</td>\n",
       "      <td>0.311475</td>\n",
       "      <td>0.000000</td>\n",
       "      <td>0.000000</td>\n",
       "      <td>0.087929</td>\n",
       "      <td>-0.532451</td>\n",
       "      <td>-0.233333</td>\n",
       "      <td>1.000000</td>\n",
       "    </tr>\n",
       "    <tr>\n",
       "      <th>max</th>\n",
       "      <td>1.000000</td>\n",
       "      <td>1.000000</td>\n",
       "      <td>1.000000</td>\n",
       "      <td>1.000000</td>\n",
       "      <td>1.000000</td>\n",
       "      <td>1.000000</td>\n",
       "      <td>1.000000</td>\n",
       "      <td>1.000000</td>\n",
       "      <td>1.000000</td>\n",
       "    </tr>\n",
       "  </tbody>\n",
       "</table>\n",
       "</div>"
      ],
      "text/plain": [
       "              fr1         fr2         fr3         fr4         fr5         fr6  \\\n",
       "count  758.000000  758.000000  758.000000  758.000000  758.000000  758.000000   \n",
       "mean    -0.407807    0.218208    0.176500   -0.289731   -0.323961   -0.032289   \n",
       "std      0.386493    0.306465    0.201420    0.258651    0.375608    0.205508   \n",
       "min     -0.882353   -0.557789   -0.606557   -0.858586   -0.966903   -0.457526   \n",
       "25%     -0.764706   -0.005025    0.016393   -0.494949   -0.716312   -0.179583   \n",
       "50%     -0.529412    0.165829    0.180328   -0.292929    0.000000   -0.034277   \n",
       "75%      0.000000    0.407035    0.311475    0.000000    0.000000    0.087929   \n",
       "max      1.000000    1.000000    1.000000    1.000000    1.000000    1.000000   \n",
       "\n",
       "              fr7         fr9      target  \n",
       "count  758.000000  758.000000  758.000000  \n",
       "mean    -0.663427   -0.516799    0.654354  \n",
       "std      0.283202    0.400674    0.475893  \n",
       "min     -0.994876   -0.966667    0.000000  \n",
       "25%     -0.858241   -0.866667    0.000000  \n",
       "50%     -0.748506   -0.633333    1.000000  \n",
       "75%     -0.532451   -0.233333    1.000000  \n",
       "max      1.000000    1.000000    1.000000  "
      ]
     },
     "execution_count": 50,
     "metadata": {},
     "output_type": "execute_result"
    }
   ],
   "source": [
    "data.describe()"
   ]
  },
  {
   "cell_type": "code",
   "execution_count": 51,
   "metadata": {},
   "outputs": [
    {
     "data": {
      "text/plain": [
       "0"
      ]
     },
     "execution_count": 51,
     "metadata": {},
     "output_type": "execute_result"
    }
   ],
   "source": [
    "# to check is is there any duplicate rows\n",
    "data.duplicated().sum()"
   ]
  },
  {
   "cell_type": "code",
   "execution_count": 52,
   "metadata": {},
   "outputs": [
    {
     "data": {
      "text/plain": [
       "fr1       0\n",
       "fr2       0\n",
       "fr3       0\n",
       "fr4       0\n",
       "fr5       0\n",
       "fr6       0\n",
       "fr7       0\n",
       "fr9       0\n",
       "target    0\n",
       "dtype: int64"
      ]
     },
     "execution_count": 52,
     "metadata": {},
     "output_type": "execute_result"
    }
   ],
   "source": [
    "data.isnull().sum()"
   ]
  },
  {
   "cell_type": "code",
   "execution_count": 53,
   "metadata": {},
   "outputs": [
    {
     "data": {
      "text/plain": [
       "(758, 9)"
      ]
     },
     "execution_count": 53,
     "metadata": {},
     "output_type": "execute_result"
    }
   ],
   "source": [
    "data.shape"
   ]
  },
  {
   "cell_type": "code",
   "execution_count": 54,
   "metadata": {},
   "outputs": [
    {
     "data": {
      "text/plain": [
       "array([[<Axes: title={'center': 'fr1'}>, <Axes: title={'center': 'fr2'}>,\n",
       "        <Axes: title={'center': 'fr3'}>],\n",
       "       [<Axes: title={'center': 'fr4'}>, <Axes: title={'center': 'fr5'}>,\n",
       "        <Axes: title={'center': 'fr6'}>],\n",
       "       [<Axes: title={'center': 'fr7'}>, <Axes: title={'center': 'fr9'}>,\n",
       "        <Axes: title={'center': 'target'}>]], dtype=object)"
      ]
     },
     "execution_count": 54,
     "metadata": {},
     "output_type": "execute_result"
    },
    {
     "data": {
      "image/png": "[encoded data removed]",
      "text/plain": [
       "<Figure size 1000x1000 with 9 Axes>"
      ]
     },
     "metadata": {},
     "output_type": "display_data"
    }
   ],
   "source": [
    "# visualizations of each data field\n",
    "data.hist(figsize=(10,10))"
   ]
  },
  {
   "cell_type": "code",
   "execution_count": 55,
   "metadata": {},
   "outputs": [
    {
     "data": {
      "text/plain": [
       "<Axes: >"
      ]
     },
     "execution_count": 55,
     "metadata": {},
     "output_type": "execute_result"
    },
    {
     "data": {
      "image/png": "[encoded data removed]",
      "text/plain": [
       "<Figure size 640x480 with 1 Axes>"
      ]
     },
     "metadata": {},
     "output_type": "display_data"
    }
   ],
   "source": [
    "# Box plot to identify outliers\n",
    "import seaborn as sns\n",
    "sns.boxenplot(data=data,palette='pastel')"
   ]
  },
  {
   "cell_type": "code",
   "execution_count": 56,
   "metadata": {},
   "outputs": [
    {
     "data": {
      "text/plain": [
       "<Axes: >"
      ]
     },
     "execution_count": 56,
     "metadata": {},
     "output_type": "execute_result"
    },
    {
     "data": {
      "image/png": "[encoded data removed]",
      "text/plain": [
       "<Figure size 640x480 with 2 Axes>"
      ]
     },
     "metadata": {},
     "output_type": "display_data"
    }
   ],
   "source": [
    "# heapMap to check Correlation of data points \n",
    "sns.heatmap(data.corr())"
   ]
  },
  {
   "cell_type": "markdown",
   "metadata": {},
   "source": [
    "# Step 3: Split into 70% train 30% test"
   ]
  },
  {
   "cell_type": "code",
   "execution_count": 57,
   "metadata": {},
   "outputs": [],
   "source": [
    "# Data needs to be scaled.\n",
    "\n",
    "from sklearn.model_selection import train_test_split\n",
    "\n",
    "x = data.drop(columns=['target'])\n",
    "y = data['target']\n",
    "\n",
    "x_train, x_test, y_train, y_test = train_test_split(x,y,test_size=0.3,random_state=1)\n",
    "\n",
    "from sklearn.preprocessing import StandardScaler\n",
    "scaler = StandardScaler()\n",
    "\n",
    "x_trained_scaled  = scaler.fit_transform(x_train)\n",
    "x_test_scaled = scaler.transform(x_test)\n",
    "\n",
    "\n",
    "x_trained_scaled"
   ]
  },
  {
   "cell_type": "markdown",
   "metadata": {},
   "source": [
    "# Step 4: Modify the model "
   ]
  },
  {
   "cell_type": "code",
   "execution_count": 60,
   "metadata": {},
   "outputs": [],
   "source": [
    "# Now we will apply Keras for \n",
    "\n",
    "import tensorflow \n",
    "from tensorflow import keras\n",
    "from tensorflow.keras import Sequential\n",
    "from tensorflow.keras.layers import Dense"
   ]
  },
  {
   "cell_type": "code",
   "execution_count": 61,
   "metadata": {},
   "outputs": [],
   "source": [
    "# Creating Object \n",
    "model = Sequential()"
   ]
  },
  {
   "cell_type": "code",
   "execution_count": 62,
   "metadata": {},
   "outputs": [
    {
     "name": "stderr",
     "output_type": "stream",
     "text": [
      "/Library/Frameworks/Python.framework/Versions/3.12/lib/python3.12/site-packages/keras/src/layers/core/dense.py:87: UserWarning: Do not pass an `input_shape`/`input_dim` argument to a layer. When using Sequential models, prefer using an `Input(shape)` object as the first layer in the model instead.\n",
      "  super().__init__(activity_regularizer=activity_regularizer, **kwargs)\n"
     ]
    },
    {
     "data": {
      "text/html": [
       "<pre style=\"white-space:pre;overflow-x:auto;line-height:normal;font-family:Menlo,'DejaVu Sans Mono',consolas,'Courier New',monospace\"><span style=\"font-weight: bold\">Model: \"sequential_7\"</span>\n",
       "</pre>\n"
      ],
      "text/plain": [
       "\u001b[1mModel: \"sequential_7\"\u001b[0m\n"
      ]
     },
     "metadata": {},
     "output_type": "display_data"
    },
    {
     "data": {
      "text/html": [
       "<pre style=\"white-space:pre;overflow-x:auto;line-height:normal;font-family:Menlo,'DejaVu Sans Mono',consolas,'Courier New',monospace\">┏━━━━━━━━━━━━━━━━━━━━━━━━━━━━━━━━━┳━━━━━━━━━━━━━━━━━━━━━━━━┳━━━━━━━━━━━━━━━┓\n",
       "┃<span style=\"font-weight: bold\"> Layer (type)                    </span>┃<span style=\"font-weight: bold\"> Output Shape           </span>┃<span style=\"font-weight: bold\">       Param # </span>┃\n",
       "┡━━━━━━━━━━━━━━━━━━━━━━━━━━━━━━━━━╇━━━━━━━━━━━━━━━━━━━━━━━━╇━━━━━━━━━━━━━━━┩\n",
       "│ dense_20 (<span style=\"color: #0087ff; text-decoration-color: #0087ff\">Dense</span>)                │ (<span style=\"color: #00d7ff; text-decoration-color: #00d7ff\">None</span>, <span style=\"color: #00af00; text-decoration-color: #00af00\">3</span>)              │            <span style=\"color: #00af00; text-decoration-color: #00af00\">27</span> │\n",
       "├─────────────────────────────────┼────────────────────────┼───────────────┤\n",
       "│ dense_21 (<span style=\"color: #0087ff; text-decoration-color: #0087ff\">Dense</span>)                │ (<span style=\"color: #00d7ff; text-decoration-color: #00d7ff\">None</span>, <span style=\"color: #00af00; text-decoration-color: #00af00\">1</span>)              │             <span style=\"color: #00af00; text-decoration-color: #00af00\">4</span> │\n",
       "└─────────────────────────────────┴────────────────────────┴───────────────┘\n",
       "</pre>\n"
      ],
      "text/plain": [
       "┏━━━━━━━━━━━━━━━━━━━━━━━━━━━━━━━━━┳━━━━━━━━━━━━━━━━━━━━━━━━┳━━━━━━━━━━━━━━━┓\n",
       "┃\u001b[1m \u001b[0m\u001b[1mLayer (type)                   \u001b[0m\u001b[1m \u001b[0m┃\u001b[1m \u001b[0m\u001b[1mOutput Shape          \u001b[0m\u001b[1m \u001b[0m┃\u001b[1m \u001b[0m\u001b[1m      Param #\u001b[0m\u001b[1m \u001b[0m┃\n",
       "┡━━━━━━━━━━━━━━━━━━━━━━━━━━━━━━━━━╇━━━━━━━━━━━━━━━━━━━━━━━━╇━━━━━━━━━━━━━━━┩\n",
       "│ dense_20 (\u001b[38;5;33mDense\u001b[0m)                │ (\u001b[38;5;45mNone\u001b[0m, \u001b[38;5;34m3\u001b[0m)              │            \u001b[38;5;34m27\u001b[0m │\n",
       "├─────────────────────────────────┼────────────────────────┼───────────────┤\n",
       "│ dense_21 (\u001b[38;5;33mDense\u001b[0m)                │ (\u001b[38;5;45mNone\u001b[0m, \u001b[38;5;34m1\u001b[0m)              │             \u001b[38;5;34m4\u001b[0m │\n",
       "└─────────────────────────────────┴────────────────────────┴───────────────┘\n"
      ]
     },
     "metadata": {},
     "output_type": "display_data"
    },
    {
     "data": {
      "text/html": [
       "<pre style=\"white-space:pre;overflow-x:auto;line-height:normal;font-family:Menlo,'DejaVu Sans Mono',consolas,'Courier New',monospace\"><span style=\"font-weight: bold\"> Total params: </span><span style=\"color: #00af00; text-decoration-color: #00af00\">31</span> (124.00 B)\n",
       "</pre>\n"
      ],
      "text/plain": [
       "\u001b[1m Total params: \u001b[0m\u001b[38;5;34m31\u001b[0m (124.00 B)\n"
      ]
     },
     "metadata": {},
     "output_type": "display_data"
    },
    {
     "data": {
      "text/html": [
       "<pre style=\"white-space:pre;overflow-x:auto;line-height:normal;font-family:Menlo,'DejaVu Sans Mono',consolas,'Courier New',monospace\"><span style=\"font-weight: bold\"> Trainable params: </span><span style=\"color: #00af00; text-decoration-color: #00af00\">31</span> (124.00 B)\n",
       "</pre>\n"
      ],
      "text/plain": [
       "\u001b[1m Trainable params: \u001b[0m\u001b[38;5;34m31\u001b[0m (124.00 B)\n"
      ]
     },
     "metadata": {},
     "output_type": "display_data"
    },
    {
     "data": {
      "text/html": [
       "<pre style=\"white-space:pre;overflow-x:auto;line-height:normal;font-family:Menlo,'DejaVu Sans Mono',consolas,'Courier New',monospace\"><span style=\"font-weight: bold\"> Non-trainable params: </span><span style=\"color: #00af00; text-decoration-color: #00af00\">0</span> (0.00 B)\n",
       "</pre>\n"
      ],
      "text/plain": [
       "\u001b[1m Non-trainable params: \u001b[0m\u001b[38;5;34m0\u001b[0m (0.00 B)\n"
      ]
     },
     "metadata": {},
     "output_type": "display_data"
    }
   ],
   "source": [
    "model.add(Dense(3,activation='sigmoid',input_dim = 8)) # First Hidden Layer\n",
    "model.add(Dense(1,activation='sigmoid')) # Output Layer\n",
    "\n",
    "# Here, we can see how many weights and bias are given to each layer\n",
    "model.summary()\n",
    "\n",
    "# for better performance and acuracy while compile time we will declare loss_function and Optimizers\n",
    "model.compile(loss='binary_crossentropy', optimizer='Adam', metrics=['accuracy'])"
   ]
  },
  {
   "cell_type": "markdown",
   "metadata": {},
   "source": [
    "# Step 5:  Train the model on the data"
   ]
  },
  {
   "cell_type": "code",
   "execution_count": 63,
   "metadata": {},
   "outputs": [
    {
     "name": "stdout",
     "output_type": "stream",
     "text": [
      "Epoch 1/20\n"
     ]
    },
    {
     "name": "stdout",
     "output_type": "stream",
     "text": [
      "\u001b[1m12/12\u001b[0m \u001b[32m━━━━━━━━━━━━━━━━━━━━\u001b[0m\u001b[37m\u001b[0m \u001b[1m0s\u001b[0m 6ms/step - accuracy: 0.6918 - loss: 0.6263 - val_accuracy: 0.6038 - val_loss: 0.6793\n",
      "Epoch 2/20\n",
      "\u001b[1m12/12\u001b[0m \u001b[32m━━━━━━━━━━━━━━━━━━━━\u001b[0m\u001b[37m\u001b[0m \u001b[1m0s\u001b[0m 2ms/step - accuracy: 0.6804 - loss: 0.6174 - val_accuracy: 0.6038 - val_loss: 0.6756\n",
      "Epoch 3/20\n",
      "\u001b[1m12/12\u001b[0m \u001b[32m━━━━━━━━━━━━━━━━━━━━\u001b[0m\u001b[37m\u001b[0m \u001b[1m0s\u001b[0m 1ms/step - accuracy: 0.6800 - loss: 0.6308 - val_accuracy: 0.6038 - val_loss: 0.6723\n",
      "Epoch 4/20\n",
      "\u001b[1m12/12\u001b[0m \u001b[32m━━━━━━━━━━━━━━━━━━━━\u001b[0m\u001b[37m\u001b[0m \u001b[1m0s\u001b[0m 2ms/step - accuracy: 0.6591 - loss: 0.6394 - val_accuracy: 0.6038 - val_loss: 0.6690\n",
      "Epoch 5/20\n",
      "\u001b[1m12/12\u001b[0m \u001b[32m━━━━━━━━━━━━━━━━━━━━\u001b[0m\u001b[37m\u001b[0m \u001b[1m0s\u001b[0m 2ms/step - accuracy: 0.6600 - loss: 0.6352 - val_accuracy: 0.6038 - val_loss: 0.6661\n",
      "Epoch 6/20\n",
      "\u001b[1m12/12\u001b[0m \u001b[32m━━━━━━━━━━━━━━━━━━━━\u001b[0m\u001b[37m\u001b[0m \u001b[1m0s\u001b[0m 2ms/step - accuracy: 0.6541 - loss: 0.6379 - val_accuracy: 0.6038 - val_loss: 0.6630\n",
      "Epoch 7/20\n",
      "\u001b[1m12/12\u001b[0m \u001b[32m━━━━━━━━━━━━━━━━━━━━\u001b[0m\u001b[37m\u001b[0m \u001b[1m0s\u001b[0m 2ms/step - accuracy: 0.6670 - loss: 0.6239 - val_accuracy: 0.6038 - val_loss: 0.6604\n",
      "Epoch 8/20\n",
      "\u001b[1m12/12\u001b[0m \u001b[32m━━━━━━━━━━━━━━━━━━━━\u001b[0m\u001b[37m\u001b[0m \u001b[1m0s\u001b[0m 1ms/step - accuracy: 0.6818 - loss: 0.6213 - val_accuracy: 0.6038 - val_loss: 0.6580\n",
      "Epoch 9/20\n",
      "\u001b[1m12/12\u001b[0m \u001b[32m━━━━━━━━━━━━━━━━━━━━\u001b[0m\u001b[37m\u001b[0m \u001b[1m0s\u001b[0m 1ms/step - accuracy: 0.6761 - loss: 0.6114 - val_accuracy: 0.6038 - val_loss: 0.6556\n",
      "Epoch 10/20\n",
      "\u001b[1m12/12\u001b[0m \u001b[32m━━━━━━━━━━━━━━━━━━━━\u001b[0m\u001b[37m\u001b[0m \u001b[1m0s\u001b[0m 1ms/step - accuracy: 0.6729 - loss: 0.6115 - val_accuracy: 0.6038 - val_loss: 0.6531\n",
      "Epoch 11/20\n",
      "\u001b[1m12/12\u001b[0m \u001b[32m━━━━━━━━━━━━━━━━━━━━\u001b[0m\u001b[37m\u001b[0m \u001b[1m0s\u001b[0m 1ms/step - accuracy: 0.6787 - loss: 0.6174 - val_accuracy: 0.6038 - val_loss: 0.6509\n",
      "Epoch 12/20\n",
      "\u001b[1m12/12\u001b[0m \u001b[32m━━━━━━━━━━━━━━━━━━━━\u001b[0m\u001b[37m\u001b[0m \u001b[1m0s\u001b[0m 1ms/step - accuracy: 0.6448 - loss: 0.6365 - val_accuracy: 0.6038 - val_loss: 0.6486\n",
      "Epoch 13/20\n",
      "\u001b[1m12/12\u001b[0m \u001b[32m━━━━━━━━━━━━━━━━━━━━\u001b[0m\u001b[37m\u001b[0m \u001b[1m0s\u001b[0m 1ms/step - accuracy: 0.6231 - loss: 0.6361 - val_accuracy: 0.6038 - val_loss: 0.6462\n",
      "Epoch 14/20\n",
      "\u001b[1m12/12\u001b[0m \u001b[32m━━━━━━━━━━━━━━━━━━━━\u001b[0m\u001b[37m\u001b[0m \u001b[1m0s\u001b[0m 1ms/step - accuracy: 0.6948 - loss: 0.5930 - val_accuracy: 0.6038 - val_loss: 0.6445\n",
      "Epoch 15/20\n",
      "\u001b[1m12/12\u001b[0m \u001b[32m━━━━━━━━━━━━━━━━━━━━\u001b[0m\u001b[37m\u001b[0m \u001b[1m0s\u001b[0m 1ms/step - accuracy: 0.6698 - loss: 0.6072 - val_accuracy: 0.6038 - val_loss: 0.6423\n",
      "Epoch 16/20\n",
      "\u001b[1m12/12\u001b[0m \u001b[32m━━━━━━━━━━━━━━━━━━━━\u001b[0m\u001b[37m\u001b[0m \u001b[1m0s\u001b[0m 1ms/step - accuracy: 0.6806 - loss: 0.6059 - val_accuracy: 0.6038 - val_loss: 0.6405\n",
      "Epoch 17/20\n",
      "\u001b[1m12/12\u001b[0m \u001b[32m━━━━━━━━━━━━━━━━━━━━\u001b[0m\u001b[37m\u001b[0m \u001b[1m0s\u001b[0m 1ms/step - accuracy: 0.6363 - loss: 0.6298 - val_accuracy: 0.6038 - val_loss: 0.6386\n",
      "Epoch 18/20\n",
      "\u001b[1m12/12\u001b[0m \u001b[32m━━━━━━━━━━━━━━━━━━━━\u001b[0m\u001b[37m\u001b[0m \u001b[1m0s\u001b[0m 1ms/step - accuracy: 0.6545 - loss: 0.6189 - val_accuracy: 0.6038 - val_loss: 0.6367\n",
      "Epoch 19/20\n",
      "\u001b[1m12/12\u001b[0m \u001b[32m━━━━━━━━━━━━━━━━━━━━\u001b[0m\u001b[37m\u001b[0m \u001b[1m0s\u001b[0m 1ms/step - accuracy: 0.6652 - loss: 0.6039 - val_accuracy: 0.6038 - val_loss: 0.6351\n",
      "Epoch 20/20\n",
      "\u001b[1m12/12\u001b[0m \u001b[32m━━━━━━━━━━━━━━━━━━━━\u001b[0m\u001b[37m\u001b[0m \u001b[1m0s\u001b[0m 2ms/step - accuracy: 0.6641 - loss: 0.5998 - val_accuracy: 0.6038 - val_loss: 0.6333\n"
     ]
    }
   ],
   "source": [
    "# we willl store all the values of 'accuracy' & 'loss' in a variable to plot graph of loss and Accuracy\n",
    "acc_loss_model = model.fit(x_trained_scaled,y_train,epochs=20, validation_split=0.3)"
   ]
  },
  {
   "cell_type": "markdown",
   "metadata": {},
   "source": [
    "# Step 6 : Model is ready for prediction"
   ]
  },
  {
   "cell_type": "code",
   "execution_count": 64,
   "metadata": {},
   "outputs": [
    {
     "name": "stdout",
     "output_type": "stream",
     "text": [
      "\u001b[1m8/8\u001b[0m \u001b[32m━━━━━━━━━━━━━━━━━━━━\u001b[0m\u001b[37m\u001b[0m \u001b[1m0s\u001b[0m 2ms/step \n"
     ]
    }
   ],
   "source": [
    "y_pred_data = model.predict(x_test_scaled)\n"
   ]
  },
  {
   "cell_type": "markdown",
   "metadata": {},
   "source": [
    "# Step 7: Accuracy Calculation"
   ]
  },
  {
   "cell_type": "markdown",
   "metadata": {},
   "source": []
  },
  {
   "cell_type": "code",
   "execution_count": 65,
   "metadata": {},
   "outputs": [
    {
     "name": "stdout",
     "output_type": "stream",
     "text": [
      "Accuracy of the ANN is :  67.10526315789474 %\n"
     ]
    }
   ],
   "source": [
    "from sklearn.metrics import accuracy_score\n",
    "\n",
    "# Now, This is out task to convert prediction value in 0 & 1. for that we will apply condition, \n",
    "# if probability is > 0.5 then 1 (cutomer will leave the bank) , other wise 0 (cutomer will not leave the bank) \n",
    "\n",
    "y_final_pred = np.where(y_pred_data>0.5, 1, 0)\n",
    "Accuracy = accuracy_score(y_test,y_final_pred)\n",
    "\n",
    "print('Accuracy of the ANN is : ',  Accuracy*100,'%')"
   ]
  },
  {
   "cell_type": "markdown",
   "metadata": {},
   "source": [
    "# Difference of loss_value between training and testing phase"
   ]
  },
  {
   "cell_type": "code",
   "execution_count": 66,
   "metadata": {},
   "outputs": [
    {
     "data": {
      "text/plain": [
       "{'accuracy': [0.6657682061195374,\n",
       "  0.6657682061195374,\n",
       "  0.6657682061195374,\n",
       "  0.6657682061195374,\n",
       "  0.6657682061195374,\n",
       "  0.6657682061195374,\n",
       "  0.6657682061195374,\n",
       "  0.6657682061195374,\n",
       "  0.6657682061195374,\n",
       "  0.6657682061195374,\n",
       "  0.6657682061195374,\n",
       "  0.6657682061195374,\n",
       "  0.6657682061195374,\n",
       "  0.6657682061195374,\n",
       "  0.6657682061195374,\n",
       "  0.6657682061195374,\n",
       "  0.6657682061195374,\n",
       "  0.6657682061195374,\n",
       "  0.6657682061195374,\n",
       "  0.6657682061195374],\n",
       " 'loss': [0.6388661861419678,\n",
       "  0.6363179683685303,\n",
       "  0.6339478492736816,\n",
       "  0.6318491697311401,\n",
       "  0.6298217177391052,\n",
       "  0.6278906464576721,\n",
       "  0.6259347796440125,\n",
       "  0.6240974068641663,\n",
       "  0.6224101781845093,\n",
       "  0.620717465877533,\n",
       "  0.6190714836120605,\n",
       "  0.6175509095191956,\n",
       "  0.6161544919013977,\n",
       "  0.6145533919334412,\n",
       "  0.6130471229553223,\n",
       "  0.6116153001785278,\n",
       "  0.6102689504623413,\n",
       "  0.6089183688163757,\n",
       "  0.6075901985168457,\n",
       "  0.6063217520713806],\n",
       " 'val_accuracy': [0.6037735939025879,\n",
       "  0.6037735939025879,\n",
       "  0.6037735939025879,\n",
       "  0.6037735939025879,\n",
       "  0.6037735939025879,\n",
       "  0.6037735939025879,\n",
       "  0.6037735939025879,\n",
       "  0.6037735939025879,\n",
       "  0.6037735939025879,\n",
       "  0.6037735939025879,\n",
       "  0.6037735939025879,\n",
       "  0.6037735939025879,\n",
       "  0.6037735939025879,\n",
       "  0.6037735939025879,\n",
       "  0.6037735939025879,\n",
       "  0.6037735939025879,\n",
       "  0.6037735939025879,\n",
       "  0.6037735939025879,\n",
       "  0.6037735939025879,\n",
       "  0.6037735939025879],\n",
       " 'val_loss': [0.6792992353439331,\n",
       "  0.675636887550354,\n",
       "  0.6723265051841736,\n",
       "  0.6690199971199036,\n",
       "  0.6660952568054199,\n",
       "  0.6630082726478577,\n",
       "  0.6604046821594238,\n",
       "  0.6580290198326111,\n",
       "  0.6555505394935608,\n",
       "  0.6531383991241455,\n",
       "  0.6508632302284241,\n",
       "  0.648597002029419,\n",
       "  0.6462301015853882,\n",
       "  0.6444688439369202,\n",
       "  0.6422749757766724,\n",
       "  0.6404823660850525,\n",
       "  0.6385831236839294,\n",
       "  0.6367371082305908,\n",
       "  0.6351181864738464,\n",
       "  0.633295476436615]}"
      ]
     },
     "execution_count": 66,
     "metadata": {},
     "output_type": "execute_result"
    }
   ],
   "source": [
    "acc_loss_model.history"
   ]
  },
  {
   "cell_type": "code",
   "execution_count": 67,
   "metadata": {},
   "outputs": [
    {
     "data": {
      "image/png": "[encoded data removed]",
      "text/plain": [
       "<Figure size 640x480 with 1 Axes>"
      ]
     },
     "metadata": {},
     "output_type": "display_data"
    }
   ],
   "source": [
    "plt.plot(acc_loss_model.history['accuracy'],color='Red')\n",
    "plt.plot(acc_loss_model.history['val_accuracy'],color='blue')\n",
    "plt.grid()"
   ]
  },
  {
   "cell_type": "markdown",
   "metadata": {},
   "source": [
    "# Step 8: Hypothesize"
   ]
  },
  {
   "cell_type": "markdown",
   "metadata": {},
   "source": [
    "# 1) Changing the number of layers "
   ]
  },
  {
   "cell_type": "code",
   "execution_count": 68,
   "metadata": {},
   "outputs": [
    {
     "name": "stdout",
     "output_type": "stream",
     "text": [
      "Epoch 1/20\n"
     ]
    },
    {
     "name": "stderr",
     "output_type": "stream",
     "text": [
      "/Library/Frameworks/Python.framework/Versions/3.12/lib/python3.12/site-packages/keras/src/layers/core/dense.py:87: UserWarning: Do not pass an `input_shape`/`input_dim` argument to a layer. When using Sequential models, prefer using an `Input(shape)` object as the first layer in the model instead.\n",
      "  super().__init__(activity_regularizer=activity_regularizer, **kwargs)\n"
     ]
    },
    {
     "name": "stdout",
     "output_type": "stream",
     "text": [
      "\u001b[1m12/12\u001b[0m \u001b[32m━━━━━━━━━━━━━━━━━━━━\u001b[0m\u001b[37m\u001b[0m \u001b[1m0s\u001b[0m 6ms/step - accuracy: 0.6882 - loss: 0.6131 - val_accuracy: 0.6038 - val_loss: 0.6667\n",
      "Epoch 2/20\n",
      "\u001b[1m12/12\u001b[0m \u001b[32m━━━━━━━━━━━━━━━━━━━━\u001b[0m\u001b[37m\u001b[0m \u001b[1m0s\u001b[0m 2ms/step - accuracy: 0.6921 - loss: 0.6089 - val_accuracy: 0.6038 - val_loss: 0.6662\n",
      "Epoch 3/20\n",
      "\u001b[1m12/12\u001b[0m \u001b[32m━━━━━━━━━━━━━━━━━━━━\u001b[0m\u001b[37m\u001b[0m \u001b[1m0s\u001b[0m 2ms/step - accuracy: 0.6726 - loss: 0.6230 - val_accuracy: 0.6038 - val_loss: 0.6656\n",
      "Epoch 4/20\n",
      "\u001b[1m12/12\u001b[0m \u001b[32m━━━━━━━━━━━━━━━━━━━━\u001b[0m\u001b[37m\u001b[0m \u001b[1m0s\u001b[0m 2ms/step - accuracy: 0.6351 - loss: 0.6481 - val_accuracy: 0.6038 - val_loss: 0.6650\n",
      "Epoch 5/20\n",
      "\u001b[1m12/12\u001b[0m \u001b[32m━━━━━━━━━━━━━━━━━━━━\u001b[0m\u001b[37m\u001b[0m \u001b[1m0s\u001b[0m 2ms/step - accuracy: 0.6548 - loss: 0.6329 - val_accuracy: 0.6038 - val_loss: 0.6645\n",
      "Epoch 6/20\n",
      "\u001b[1m12/12\u001b[0m \u001b[32m━━━━━━━━━━━━━━━━━━━━\u001b[0m\u001b[37m\u001b[0m \u001b[1m0s\u001b[0m 2ms/step - accuracy: 0.6945 - loss: 0.6055 - val_accuracy: 0.6038 - val_loss: 0.6642\n",
      "Epoch 7/20\n",
      "\u001b[1m12/12\u001b[0m \u001b[32m━━━━━━━━━━━━━━━━━━━━\u001b[0m\u001b[37m\u001b[0m \u001b[1m0s\u001b[0m 2ms/step - accuracy: 0.6775 - loss: 0.6155 - val_accuracy: 0.6038 - val_loss: 0.6637\n",
      "Epoch 8/20\n",
      "\u001b[1m12/12\u001b[0m \u001b[32m━━━━━━━━━━━━━━━━━━━━\u001b[0m\u001b[37m\u001b[0m \u001b[1m0s\u001b[0m 2ms/step - accuracy: 0.6432 - loss: 0.6394 - val_accuracy: 0.6038 - val_loss: 0.6628\n",
      "Epoch 9/20\n",
      "\u001b[1m12/12\u001b[0m \u001b[32m━━━━━━━━━━━━━━━━━━━━\u001b[0m\u001b[37m\u001b[0m \u001b[1m0s\u001b[0m 2ms/step - accuracy: 0.6237 - loss: 0.6510 - val_accuracy: 0.6038 - val_loss: 0.6621\n",
      "Epoch 10/20\n",
      "\u001b[1m12/12\u001b[0m \u001b[32m━━━━━━━━━━━━━━━━━━━━\u001b[0m\u001b[37m\u001b[0m \u001b[1m0s\u001b[0m 2ms/step - accuracy: 0.6565 - loss: 0.6279 - val_accuracy: 0.6038 - val_loss: 0.6615\n",
      "Epoch 11/20\n",
      "\u001b[1m12/12\u001b[0m \u001b[32m━━━━━━━━━━━━━━━━━━━━\u001b[0m\u001b[37m\u001b[0m \u001b[1m0s\u001b[0m 2ms/step - accuracy: 0.6985 - loss: 0.5989 - val_accuracy: 0.6038 - val_loss: 0.6610\n",
      "Epoch 12/20\n",
      "\u001b[1m12/12\u001b[0m \u001b[32m━━━━━━━━━━━━━━━━━━━━\u001b[0m\u001b[37m\u001b[0m \u001b[1m0s\u001b[0m 2ms/step - accuracy: 0.6685 - loss: 0.6191 - val_accuracy: 0.6038 - val_loss: 0.6603\n",
      "Epoch 13/20\n",
      "\u001b[1m12/12\u001b[0m \u001b[32m━━━━━━━━━━━━━━━━━━━━\u001b[0m\u001b[37m\u001b[0m \u001b[1m0s\u001b[0m 2ms/step - accuracy: 0.6396 - loss: 0.6377 - val_accuracy: 0.6038 - val_loss: 0.6593\n",
      "Epoch 14/20\n",
      "\u001b[1m12/12\u001b[0m \u001b[32m━━━━━━━━━━━━━━━━━━━━\u001b[0m\u001b[37m\u001b[0m \u001b[1m0s\u001b[0m 2ms/step - accuracy: 0.6752 - loss: 0.6135 - val_accuracy: 0.6038 - val_loss: 0.6587\n",
      "Epoch 15/20\n",
      "\u001b[1m12/12\u001b[0m \u001b[32m━━━━━━━━━━━━━━━━━━━━\u001b[0m\u001b[37m\u001b[0m \u001b[1m0s\u001b[0m 2ms/step - accuracy: 0.6801 - loss: 0.6108 - val_accuracy: 0.6038 - val_loss: 0.6580\n",
      "Epoch 16/20\n",
      "\u001b[1m12/12\u001b[0m \u001b[32m━━━━━━━━━━━━━━━━━━━━\u001b[0m\u001b[37m\u001b[0m \u001b[1m0s\u001b[0m 2ms/step - accuracy: 0.6921 - loss: 0.6003 - val_accuracy: 0.6038 - val_loss: 0.6572\n",
      "Epoch 17/20\n",
      "\u001b[1m12/12\u001b[0m \u001b[32m━━━━━━━━━━━━━━━━━━━━\u001b[0m\u001b[37m\u001b[0m \u001b[1m0s\u001b[0m 2ms/step - accuracy: 0.6625 - loss: 0.6200 - val_accuracy: 0.6038 - val_loss: 0.6562\n",
      "Epoch 18/20\n",
      "\u001b[1m12/12\u001b[0m \u001b[32m━━━━━━━━━━━━━━━━━━━━\u001b[0m\u001b[37m\u001b[0m \u001b[1m0s\u001b[0m 2ms/step - accuracy: 0.7071 - loss: 0.5895 - val_accuracy: 0.6038 - val_loss: 0.6555\n",
      "Epoch 19/20\n",
      "\u001b[1m12/12\u001b[0m \u001b[32m━━━━━━━━━━━━━━━━━━━━\u001b[0m\u001b[37m\u001b[0m \u001b[1m0s\u001b[0m 2ms/step - accuracy: 0.6357 - loss: 0.6395 - val_accuracy: 0.6038 - val_loss: 0.6543\n",
      "Epoch 20/20\n",
      "\u001b[1m12/12\u001b[0m \u001b[32m━━━━━━━━━━━━━━━━━━━━\u001b[0m\u001b[37m\u001b[0m \u001b[1m0s\u001b[0m 2ms/step - accuracy: 0.6551 - loss: 0.6247 - val_accuracy: 0.6038 - val_loss: 0.6534\n",
      "\u001b[1m8/8\u001b[0m \u001b[32m━━━━━━━━━━━━━━━━━━━━\u001b[0m\u001b[37m\u001b[0m \u001b[1m0s\u001b[0m 2ms/step \n",
      "Accuracy of the ANN is :  67.10526315789474 %\n"
     ]
    },
    {
     "data": {
      "text/plain": [
       "{'accuracy': [0.6657682061195374,\n",
       "  0.6657682061195374,\n",
       "  0.6657682061195374,\n",
       "  0.6657682061195374,\n",
       "  0.6657682061195374,\n",
       "  0.6657682061195374,\n",
       "  0.6657682061195374,\n",
       "  0.6657682061195374,\n",
       "  0.6657682061195374,\n",
       "  0.6657682061195374,\n",
       "  0.6657682061195374,\n",
       "  0.6657682061195374,\n",
       "  0.6657682061195374,\n",
       "  0.6657682061195374,\n",
       "  0.6657682061195374,\n",
       "  0.6657682061195374,\n",
       "  0.6657682061195374,\n",
       "  0.6657682061195374,\n",
       "  0.6657682061195374,\n",
       "  0.6657682061195374],\n",
       " 'loss': [0.6279529333114624,\n",
       "  0.6273193955421448,\n",
       "  0.6267856359481812,\n",
       "  0.6263119578361511,\n",
       "  0.6257257461547852,\n",
       "  0.6252058148384094,\n",
       "  0.6245786547660828,\n",
       "  0.6240028142929077,\n",
       "  0.6234189867973328,\n",
       "  0.6227716207504272,\n",
       "  0.6221643090248108,\n",
       "  0.621469259262085,\n",
       "  0.6208722591400146,\n",
       "  0.6201517581939697,\n",
       "  0.6194518208503723,\n",
       "  0.6187795400619507,\n",
       "  0.6180415153503418,\n",
       "  0.6174046397209167,\n",
       "  0.616659939289093,\n",
       "  0.6158441305160522],\n",
       " 'val_accuracy': [0.6037735939025879,\n",
       "  0.6037735939025879,\n",
       "  0.6037735939025879,\n",
       "  0.6037735939025879,\n",
       "  0.6037735939025879,\n",
       "  0.6037735939025879,\n",
       "  0.6037735939025879,\n",
       "  0.6037735939025879,\n",
       "  0.6037735939025879,\n",
       "  0.6037735939025879,\n",
       "  0.6037735939025879,\n",
       "  0.6037735939025879,\n",
       "  0.6037735939025879,\n",
       "  0.6037735939025879,\n",
       "  0.6037735939025879,\n",
       "  0.6037735939025879,\n",
       "  0.6037735939025879,\n",
       "  0.6037735939025879,\n",
       "  0.6037735939025879,\n",
       "  0.6037735939025879],\n",
       " 'val_loss': [0.6667367815971375,\n",
       "  0.6662433743476868,\n",
       "  0.6656373143196106,\n",
       "  0.6649711728096008,\n",
       "  0.6645383238792419,\n",
       "  0.6642166376113892,\n",
       "  0.6636709570884705,\n",
       "  0.6628249883651733,\n",
       "  0.6620876789093018,\n",
       "  0.6615265607833862,\n",
       "  0.6610391736030579,\n",
       "  0.6602518558502197,\n",
       "  0.6593194007873535,\n",
       "  0.6587353348731995,\n",
       "  0.6579878926277161,\n",
       "  0.6572052836418152,\n",
       "  0.6561849117279053,\n",
       "  0.6555070281028748,\n",
       "  0.6542771458625793,\n",
       "  0.6534067392349243]}"
      ]
     },
     "execution_count": 68,
     "metadata": {},
     "output_type": "execute_result"
    }
   ],
   "source": [
    "\n",
    "# Creating Object \n",
    "model = Sequential()\n",
    "\n",
    "# Model Architecture\n",
    "model.add(Dense(3,activation='sigmoid',input_dim = 8)) # First Hidden Layer\n",
    "model.add(Dense(3,activation='sigmoid')) # Second Hidden Layer\n",
    "model.add(Dense(1,activation='sigmoid')) # Output Layer\n",
    "\n",
    "# Model Compilation\n",
    "model.compile(loss='binary_crossentropy', optimizer='Adam', metrics=['accuracy'])\n",
    "\n",
    "# Model Training\n",
    "model_train = model.fit(x_trained_scaled,y_train,epochs=20, validation_split=0.3)\n",
    "\n",
    "# Model Prediction\n",
    "y_pred_data = model.predict(x_test_scaled)\n",
    "\n",
    "# accuracy calculation of model \n",
    "y_final_pred = np.where(y_pred_data>0.5, 1, 0)\n",
    "Accuracy = accuracy_score(y_test,y_final_pred)\n",
    "\n",
    "print('Accuracy of the ANN is : ',  Accuracy*100,'%')\n",
    "\n",
    "# History of model accuracy & loss\n",
    "model_train.history"
   ]
  },
  {
   "cell_type": "code",
   "execution_count": 69,
   "metadata": {},
   "outputs": [
    {
     "data": {
      "image/png": "[encoded data removed]",
      "text/plain": [
       "<Figure size 640x480 with 1 Axes>"
      ]
     },
     "metadata": {},
     "output_type": "display_data"
    }
   ],
   "source": [
    "# Model accuracy Graph\n",
    "plt.plot(model_train.history['loss'],color='Red')\n",
    "plt.plot(model_train.history['val_loss'],color='blue')\n",
    "plt.grid()"
   ]
  },
  {
   "cell_type": "markdown",
   "metadata": {},
   "source": [
    "# Description \n",
    "- As we can see by adding additional layer on Neural network we achive around 0.64 of loss while training we achived 0.61."
   ]
  },
  {
   "cell_type": "markdown",
   "metadata": {},
   "source": [
    "# 2) Changing number of Dense"
   ]
  },
  {
   "cell_type": "code",
   "execution_count": 70,
   "metadata": {},
   "outputs": [
    {
     "name": "stdout",
     "output_type": "stream",
     "text": [
      "Epoch 1/20\n"
     ]
    },
    {
     "name": "stderr",
     "output_type": "stream",
     "text": [
      "/Library/Frameworks/Python.framework/Versions/3.12/lib/python3.12/site-packages/keras/src/layers/core/dense.py:87: UserWarning: Do not pass an `input_shape`/`input_dim` argument to a layer. When using Sequential models, prefer using an `Input(shape)` object as the first layer in the model instead.\n",
      "  super().__init__(activity_regularizer=activity_regularizer, **kwargs)\n"
     ]
    },
    {
     "name": "stdout",
     "output_type": "stream",
     "text": [
      "\u001b[1m12/12\u001b[0m \u001b[32m━━━━━━━━━━━━━━━━━━━━\u001b[0m\u001b[37m\u001b[0m \u001b[1m0s\u001b[0m 6ms/step - accuracy: 0.6589 - loss: 0.6640 - val_accuracy: 0.6038 - val_loss: 0.6822\n",
      "Epoch 2/20\n",
      "\u001b[1m12/12\u001b[0m \u001b[32m━━━━━━━━━━━━━━━━━━━━\u001b[0m\u001b[37m\u001b[0m \u001b[1m0s\u001b[0m 2ms/step - accuracy: 0.6628 - loss: 0.6563 - val_accuracy: 0.6038 - val_loss: 0.6814\n",
      "Epoch 3/20\n",
      "\u001b[1m12/12\u001b[0m \u001b[32m━━━━━━━━━━━━━━━━━━━━\u001b[0m\u001b[37m\u001b[0m \u001b[1m0s\u001b[0m 2ms/step - accuracy: 0.6798 - loss: 0.6462 - val_accuracy: 0.6038 - val_loss: 0.6810\n",
      "Epoch 4/20\n",
      "\u001b[1m12/12\u001b[0m \u001b[32m━━━━━━━━━━━━━━━━━━━━\u001b[0m\u001b[37m\u001b[0m \u001b[1m0s\u001b[0m 2ms/step - accuracy: 0.6475 - loss: 0.6583 - val_accuracy: 0.6038 - val_loss: 0.6803\n",
      "Epoch 5/20\n",
      "\u001b[1m12/12\u001b[0m \u001b[32m━━━━━━━━━━━━━━━━━━━━\u001b[0m\u001b[37m\u001b[0m \u001b[1m0s\u001b[0m 2ms/step - accuracy: 0.7031 - loss: 0.6283 - val_accuracy: 0.6038 - val_loss: 0.6801\n",
      "Epoch 6/20\n",
      "\u001b[1m12/12\u001b[0m \u001b[32m━━━━━━━━━━━━━━━━━━━━\u001b[0m\u001b[37m\u001b[0m \u001b[1m0s\u001b[0m 2ms/step - accuracy: 0.6476 - loss: 0.6557 - val_accuracy: 0.6038 - val_loss: 0.6794\n",
      "Epoch 7/20\n",
      "\u001b[1m12/12\u001b[0m \u001b[32m━━━━━━━━━━━━━━━━━━━━\u001b[0m\u001b[37m\u001b[0m \u001b[1m0s\u001b[0m 2ms/step - accuracy: 0.6552 - loss: 0.6490 - val_accuracy: 0.6038 - val_loss: 0.6791\n",
      "Epoch 8/20\n",
      "\u001b[1m12/12\u001b[0m \u001b[32m━━━━━━━━━━━━━━━━━━━━\u001b[0m\u001b[37m\u001b[0m \u001b[1m0s\u001b[0m 2ms/step - accuracy: 0.6397 - loss: 0.6574 - val_accuracy: 0.6038 - val_loss: 0.6783\n",
      "Epoch 9/20\n",
      "\u001b[1m12/12\u001b[0m \u001b[32m━━━━━━━━━━━━━━━━━━━━\u001b[0m\u001b[37m\u001b[0m \u001b[1m0s\u001b[0m 1ms/step - accuracy: 0.6797 - loss: 0.6338 - val_accuracy: 0.6038 - val_loss: 0.6781\n",
      "Epoch 10/20\n",
      "\u001b[1m12/12\u001b[0m \u001b[32m━━━━━━━━━━━━━━━━━━━━\u001b[0m\u001b[37m\u001b[0m \u001b[1m0s\u001b[0m 1ms/step - accuracy: 0.6924 - loss: 0.6246 - val_accuracy: 0.6038 - val_loss: 0.6778\n",
      "Epoch 11/20\n",
      "\u001b[1m12/12\u001b[0m \u001b[32m━━━━━━━━━━━━━━━━━━━━\u001b[0m\u001b[37m\u001b[0m \u001b[1m0s\u001b[0m 1ms/step - accuracy: 0.6926 - loss: 0.6210 - val_accuracy: 0.6038 - val_loss: 0.6770\n",
      "Epoch 12/20\n",
      "\u001b[1m12/12\u001b[0m \u001b[32m━━━━━━━━━━━━━━━━━━━━\u001b[0m\u001b[37m\u001b[0m \u001b[1m0s\u001b[0m 2ms/step - accuracy: 0.6703 - loss: 0.6360 - val_accuracy: 0.6038 - val_loss: 0.6764\n",
      "Epoch 13/20\n",
      "\u001b[1m12/12\u001b[0m \u001b[32m━━━━━━━━━━━━━━━━━━━━\u001b[0m\u001b[37m\u001b[0m \u001b[1m0s\u001b[0m 1ms/step - accuracy: 0.6784 - loss: 0.6289 - val_accuracy: 0.6038 - val_loss: 0.6755\n",
      "Epoch 14/20\n",
      "\u001b[1m12/12\u001b[0m \u001b[32m━━━━━━━━━━━━━━━━━━━━\u001b[0m\u001b[37m\u001b[0m \u001b[1m0s\u001b[0m 1ms/step - accuracy: 0.6735 - loss: 0.6299 - val_accuracy: 0.6038 - val_loss: 0.6746\n",
      "Epoch 15/20\n",
      "\u001b[1m12/12\u001b[0m \u001b[32m━━━━━━━━━━━━━━━━━━━━\u001b[0m\u001b[37m\u001b[0m \u001b[1m0s\u001b[0m 3ms/step - accuracy: 0.6638 - loss: 0.6333 - val_accuracy: 0.6038 - val_loss: 0.6737\n",
      "Epoch 16/20\n",
      "\u001b[1m12/12\u001b[0m \u001b[32m━━━━━━━━━━━━━━━━━━━━\u001b[0m\u001b[37m\u001b[0m \u001b[1m0s\u001b[0m 1ms/step - accuracy: 0.6411 - loss: 0.6495 - val_accuracy: 0.6038 - val_loss: 0.6724\n",
      "Epoch 17/20\n",
      "\u001b[1m12/12\u001b[0m \u001b[32m━━━━━━━━━━━━━━━━━━━━\u001b[0m\u001b[37m\u001b[0m \u001b[1m0s\u001b[0m 2ms/step - accuracy: 0.6801 - loss: 0.6234 - val_accuracy: 0.6038 - val_loss: 0.6716\n",
      "Epoch 18/20\n",
      "\u001b[1m12/12\u001b[0m \u001b[32m━━━━━━━━━━━━━━━━━━━━\u001b[0m\u001b[37m\u001b[0m \u001b[1m0s\u001b[0m 1ms/step - accuracy: 0.6725 - loss: 0.6268 - val_accuracy: 0.6038 - val_loss: 0.6708\n",
      "Epoch 19/20\n",
      "\u001b[1m12/12\u001b[0m \u001b[32m━━━━━━━━━━━━━━━━━━━━\u001b[0m\u001b[37m\u001b[0m \u001b[1m0s\u001b[0m 1ms/step - accuracy: 0.6932 - loss: 0.6134 - val_accuracy: 0.6038 - val_loss: 0.6698\n",
      "Epoch 20/20\n",
      "\u001b[1m12/12\u001b[0m \u001b[32m━━━━━━━━━━━━━━━━━━━━\u001b[0m\u001b[37m\u001b[0m \u001b[1m0s\u001b[0m 1ms/step - accuracy: 0.6550 - loss: 0.6362 - val_accuracy: 0.6038 - val_loss: 0.6682\n",
      "\u001b[1m8/8\u001b[0m \u001b[32m━━━━━━━━━━━━━━━━━━━━\u001b[0m\u001b[37m\u001b[0m \u001b[1m0s\u001b[0m 2ms/step \n",
      "Accuracy of the ANN is :  67.10526315789474 %\n"
     ]
    },
    {
     "data": {
      "text/plain": [
       "{'accuracy': [0.6657682061195374,\n",
       "  0.6657682061195374,\n",
       "  0.6657682061195374,\n",
       "  0.6657682061195374,\n",
       "  0.6657682061195374,\n",
       "  0.6657682061195374,\n",
       "  0.6657682061195374,\n",
       "  0.6657682061195374,\n",
       "  0.6657682061195374,\n",
       "  0.6657682061195374,\n",
       "  0.6657682061195374,\n",
       "  0.6657682061195374,\n",
       "  0.6657682061195374,\n",
       "  0.6657682061195374,\n",
       "  0.6657682061195374,\n",
       "  0.6657682061195374,\n",
       "  0.6657682061195374,\n",
       "  0.6657682061195374,\n",
       "  0.6657682061195374,\n",
       "  0.6657682061195374],\n",
       " 'loss': [0.6593095064163208,\n",
       "  0.6551197171211243,\n",
       "  0.6521150469779968,\n",
       "  0.649248480796814,\n",
       "  0.647713303565979,\n",
       "  0.6454983949661255,\n",
       "  0.6440622806549072,\n",
       "  0.6425070762634277,\n",
       "  0.6413094401359558,\n",
       "  0.6400763988494873,\n",
       "  0.638810396194458,\n",
       "  0.6377156972885132,\n",
       "  0.6366837024688721,\n",
       "  0.6355360150337219,\n",
       "  0.6345711946487427,\n",
       "  0.6335490942001343,\n",
       "  0.6325031518936157,\n",
       "  0.631430983543396,\n",
       "  0.6304223537445068,\n",
       "  0.6293737888336182],\n",
       " 'val_accuracy': [0.6037735939025879,\n",
       "  0.6037735939025879,\n",
       "  0.6037735939025879,\n",
       "  0.6037735939025879,\n",
       "  0.6037735939025879,\n",
       "  0.6037735939025879,\n",
       "  0.6037735939025879,\n",
       "  0.6037735939025879,\n",
       "  0.6037735939025879,\n",
       "  0.6037735939025879,\n",
       "  0.6037735939025879,\n",
       "  0.6037735939025879,\n",
       "  0.6037735939025879,\n",
       "  0.6037735939025879,\n",
       "  0.6037735939025879,\n",
       "  0.6037735939025879,\n",
       "  0.6037735939025879,\n",
       "  0.6037735939025879,\n",
       "  0.6037735939025879,\n",
       "  0.6037735939025879],\n",
       " 'val_loss': [0.6821801662445068,\n",
       "  0.6814023852348328,\n",
       "  0.6809873580932617,\n",
       "  0.6803474426269531,\n",
       "  0.680053174495697,\n",
       "  0.6793952584266663,\n",
       "  0.679053008556366,\n",
       "  0.6782663464546204,\n",
       "  0.6781019568443298,\n",
       "  0.6777723431587219,\n",
       "  0.6770380139350891,\n",
       "  0.6763723492622375,\n",
       "  0.6755295991897583,\n",
       "  0.6746019721031189,\n",
       "  0.6737273931503296,\n",
       "  0.6723876595497131,\n",
       "  0.6715888977050781,\n",
       "  0.6707858443260193,\n",
       "  0.6697506308555603,\n",
       "  0.6681729555130005]}"
      ]
     },
     "execution_count": 70,
     "metadata": {},
     "output_type": "execute_result"
    }
   ],
   "source": [
    "\n",
    "# Creating Object \n",
    "model = Sequential()\n",
    "\n",
    "# Model Architecture\n",
    "model.add(Dense(5,activation='sigmoid',input_dim = 8)) # First Hidden Layer\n",
    "model.add(Dense(5,activation='sigmoid')) # Second Hidden Layer\n",
    "model.add(Dense(1,activation='sigmoid')) # Output Layer\n",
    "\n",
    "# Model Compilation\n",
    "model.compile(loss='binary_crossentropy', optimizer='Adam', metrics=['accuracy'])\n",
    "\n",
    "# Model Training\n",
    "model_train = model.fit(x_trained_scaled,y_train,epochs=20, validation_split=0.3)\n",
    "\n",
    "# Model Prediction\n",
    "y_pred_data = model.predict(x_test_scaled)\n",
    "\n",
    "# accuracy calculation of model \n",
    "y_final_pred = np.where(y_pred_data>0.5, 1, 0)\n",
    "Accuracy = accuracy_score(y_test,y_final_pred)\n",
    "\n",
    "print('Accuracy of the ANN is : ',  Accuracy*100,'%')\n",
    "\n",
    "# History of model accuracy & loss\n",
    "model_train.history"
   ]
  },
  {
   "cell_type": "code",
   "execution_count": 71,
   "metadata": {},
   "outputs": [
    {
     "data": {
      "image/png": "[encoded data removed]",
      "text/plain": [
       "<Figure size 640x480 with 1 Axes>"
      ]
     },
     "metadata": {},
     "output_type": "display_data"
    }
   ],
   "source": [
    "# Model accuracy Graph\n",
    "plt.plot(model_train.history['loss'],color='Red')\n",
    "plt.plot(model_train.history['val_loss'],color='blue')\n",
    "plt.grid()"
   ]
  },
  {
   "cell_type": "markdown",
   "metadata": {},
   "source": [
    "# Description \n",
    "- As we can see by adding additional dense on Neural network we achive around 0.65 of loss while training we achived 0.62."
   ]
  },
  {
   "cell_type": "markdown",
   "metadata": {},
   "source": [
    "# 3) Changing activation function as 'ReLU'"
   ]
  },
  {
   "cell_type": "code",
   "execution_count": 72,
   "metadata": {},
   "outputs": [
    {
     "name": "stdout",
     "output_type": "stream",
     "text": [
      "Epoch 1/20\n"
     ]
    },
    {
     "name": "stderr",
     "output_type": "stream",
     "text": [
      "/Library/Frameworks/Python.framework/Versions/3.12/lib/python3.12/site-packages/keras/src/layers/core/dense.py:87: UserWarning: Do not pass an `input_shape`/`input_dim` argument to a layer. When using Sequential models, prefer using an `Input(shape)` object as the first layer in the model instead.\n",
      "  super().__init__(activity_regularizer=activity_regularizer, **kwargs)\n"
     ]
    },
    {
     "name": "stdout",
     "output_type": "stream",
     "text": [
      "\u001b[1m12/12\u001b[0m \u001b[32m━━━━━━━━━━━━━━━━━━━━\u001b[0m\u001b[37m\u001b[0m \u001b[1m0s\u001b[0m 6ms/step - accuracy: 0.6538 - loss: 0.6287 - val_accuracy: 0.5975 - val_loss: 0.6614\n",
      "Epoch 2/20\n",
      "\u001b[1m12/12\u001b[0m \u001b[32m━━━━━━━━━━━━━━━━━━━━\u001b[0m\u001b[37m\u001b[0m \u001b[1m0s\u001b[0m 2ms/step - accuracy: 0.6667 - loss: 0.6156 - val_accuracy: 0.6101 - val_loss: 0.6503\n",
      "Epoch 3/20\n",
      "\u001b[1m12/12\u001b[0m \u001b[32m━━━━━━━━━━━━━━━━━━━━\u001b[0m\u001b[37m\u001b[0m \u001b[1m0s\u001b[0m 2ms/step - accuracy: 0.6888 - loss: 0.5990 - val_accuracy: 0.6101 - val_loss: 0.6403\n",
      "Epoch 4/20\n",
      "\u001b[1m12/12\u001b[0m \u001b[32m━━━━━━━━━━━━━━━━━━━━\u001b[0m\u001b[37m\u001b[0m \u001b[1m0s\u001b[0m 2ms/step - accuracy: 0.6686 - loss: 0.5941 - val_accuracy: 0.6164 - val_loss: 0.6308\n",
      "Epoch 5/20\n",
      "\u001b[1m12/12\u001b[0m \u001b[32m━━━━━━━━━━━━━━━━━━━━\u001b[0m\u001b[37m\u001b[0m \u001b[1m0s\u001b[0m 2ms/step - accuracy: 0.7060 - loss: 0.5840 - val_accuracy: 0.6164 - val_loss: 0.6222\n",
      "Epoch 6/20\n",
      "\u001b[1m12/12\u001b[0m \u001b[32m━━━━━━━━━━━━━━━━━━━━\u001b[0m\u001b[37m\u001b[0m \u001b[1m0s\u001b[0m 2ms/step - accuracy: 0.6708 - loss: 0.5807 - val_accuracy: 0.6164 - val_loss: 0.6137\n",
      "Epoch 7/20\n",
      "\u001b[1m12/12\u001b[0m \u001b[32m━━━━━━━━━━━━━━━━━━━━\u001b[0m\u001b[37m\u001b[0m \u001b[1m0s\u001b[0m 1ms/step - accuracy: 0.7006 - loss: 0.5584 - val_accuracy: 0.6226 - val_loss: 0.6062\n",
      "Epoch 8/20\n",
      "\u001b[1m12/12\u001b[0m \u001b[32m━━━━━━━━━━━━━━━━━━━━\u001b[0m\u001b[37m\u001b[0m \u001b[1m0s\u001b[0m 2ms/step - accuracy: 0.6914 - loss: 0.5616 - val_accuracy: 0.6289 - val_loss: 0.5994\n",
      "Epoch 9/20\n",
      "\u001b[1m12/12\u001b[0m \u001b[32m━━━━━━━━━━━━━━━━━━━━\u001b[0m\u001b[37m\u001b[0m \u001b[1m0s\u001b[0m 1ms/step - accuracy: 0.6817 - loss: 0.5503 - val_accuracy: 0.6352 - val_loss: 0.5928\n",
      "Epoch 10/20\n",
      "\u001b[1m12/12\u001b[0m \u001b[32m━━━━━━━━━━━━━━━━━━━━\u001b[0m\u001b[37m\u001b[0m \u001b[1m0s\u001b[0m 2ms/step - accuracy: 0.6920 - loss: 0.5525 - val_accuracy: 0.6352 - val_loss: 0.5869\n",
      "Epoch 11/20\n",
      "\u001b[1m12/12\u001b[0m \u001b[32m━━━━━━━━━━━━━━━━━━━━\u001b[0m\u001b[37m\u001b[0m \u001b[1m0s\u001b[0m 2ms/step - accuracy: 0.6946 - loss: 0.5309 - val_accuracy: 0.6352 - val_loss: 0.5815\n",
      "Epoch 12/20\n",
      "\u001b[1m12/12\u001b[0m \u001b[32m━━━━━━━━━━━━━━━━━━━━\u001b[0m\u001b[37m\u001b[0m \u001b[1m0s\u001b[0m 1ms/step - accuracy: 0.7331 - loss: 0.5302 - val_accuracy: 0.6541 - val_loss: 0.5771\n",
      "Epoch 13/20\n",
      "\u001b[1m12/12\u001b[0m \u001b[32m━━━━━━━━━━━━━━━━━━━━\u001b[0m\u001b[37m\u001b[0m \u001b[1m0s\u001b[0m 1ms/step - accuracy: 0.7099 - loss: 0.5227 - val_accuracy: 0.6352 - val_loss: 0.5721\n",
      "Epoch 14/20\n",
      "\u001b[1m12/12\u001b[0m \u001b[32m━━━━━━━━━━━━━━━━━━━━\u001b[0m\u001b[37m\u001b[0m \u001b[1m0s\u001b[0m 1ms/step - accuracy: 0.6995 - loss: 0.5372 - val_accuracy: 0.6289 - val_loss: 0.5685\n",
      "Epoch 15/20\n",
      "\u001b[1m12/12\u001b[0m \u001b[32m━━━━━━━━━━━━━━━━━━━━\u001b[0m\u001b[37m\u001b[0m \u001b[1m0s\u001b[0m 1ms/step - accuracy: 0.7055 - loss: 0.5412 - val_accuracy: 0.6289 - val_loss: 0.5645\n",
      "Epoch 16/20\n",
      "\u001b[1m12/12\u001b[0m \u001b[32m━━━━━━━━━━━━━━━━━━━━\u001b[0m\u001b[37m\u001b[0m \u001b[1m0s\u001b[0m 1ms/step - accuracy: 0.7294 - loss: 0.5352 - val_accuracy: 0.6352 - val_loss: 0.5615\n",
      "Epoch 17/20\n",
      "\u001b[1m12/12\u001b[0m \u001b[32m━━━━━━━━━━━━━━━━━━━━\u001b[0m\u001b[37m\u001b[0m \u001b[1m0s\u001b[0m 2ms/step - accuracy: 0.6892 - loss: 0.5327 - val_accuracy: 0.6541 - val_loss: 0.5577\n",
      "Epoch 18/20\n",
      "\u001b[1m12/12\u001b[0m \u001b[32m━━━━━━━━━━━━━━━━━━━━\u001b[0m\u001b[37m\u001b[0m \u001b[1m0s\u001b[0m 2ms/step - accuracy: 0.7287 - loss: 0.5098 - val_accuracy: 0.6667 - val_loss: 0.5546\n",
      "Epoch 19/20\n",
      "\u001b[1m12/12\u001b[0m \u001b[32m━━━━━━━━━━━━━━━━━━━━\u001b[0m\u001b[37m\u001b[0m \u001b[1m0s\u001b[0m 2ms/step - accuracy: 0.7347 - loss: 0.4960 - val_accuracy: 0.6730 - val_loss: 0.5518\n",
      "Epoch 20/20\n",
      "\u001b[1m12/12\u001b[0m \u001b[32m━━━━━━━━━━━━━━━━━━━━\u001b[0m\u001b[37m\u001b[0m \u001b[1m0s\u001b[0m 2ms/step - accuracy: 0.7432 - loss: 0.4969 - val_accuracy: 0.6792 - val_loss: 0.5495\n",
      "\u001b[1m8/8\u001b[0m \u001b[32m━━━━━━━━━━━━━━━━━━━━\u001b[0m\u001b[37m\u001b[0m \u001b[1m0s\u001b[0m 2ms/step \n",
      "Accuracy of the ANN is :  72.36842105263158 %\n"
     ]
    },
    {
     "data": {
      "text/plain": [
       "{'accuracy': [0.6684635877609253,\n",
       "  0.6738544702529907,\n",
       "  0.6738544702529907,\n",
       "  0.6765498518943787,\n",
       "  0.6792452931404114,\n",
       "  0.6819406747817993,\n",
       "  0.6792452931404114,\n",
       "  0.6792452931404114,\n",
       "  0.6792452931404114,\n",
       "  0.6927223801612854,\n",
       "  0.6954177618026733,\n",
       "  0.7088949084281921,\n",
       "  0.7115902900695801,\n",
       "  0.7061994671821594,\n",
       "  0.7169811129570007,\n",
       "  0.7250673770904541,\n",
       "  0.7250673770904541,\n",
       "  0.7277628183364868,\n",
       "  0.7304581999778748,\n",
       "  0.7385444641113281],\n",
       " 'loss': [0.6273834109306335,\n",
       "  0.6153873801231384,\n",
       "  0.6043710112571716,\n",
       "  0.5938438773155212,\n",
       "  0.5851102471351624,\n",
       "  0.5759374499320984,\n",
       "  0.5679434537887573,\n",
       "  0.5598090887069702,\n",
       "  0.5532426238059998,\n",
       "  0.5465917587280273,\n",
       "  0.5410481095314026,\n",
       "  0.5357373356819153,\n",
       "  0.5310366749763489,\n",
       "  0.5261843800544739,\n",
       "  0.5218990445137024,\n",
       "  0.5176892876625061,\n",
       "  0.5142630338668823,\n",
       "  0.5105525851249695,\n",
       "  0.5074743032455444,\n",
       "  0.5042096376419067],\n",
       " 'val_accuracy': [0.597484290599823,\n",
       "  0.6100628972053528,\n",
       "  0.6100628972053528,\n",
       "  0.6163522005081177,\n",
       "  0.6163522005081177,\n",
       "  0.6163522005081177,\n",
       "  0.6226415038108826,\n",
       "  0.6289308071136475,\n",
       "  0.6352201104164124,\n",
       "  0.6352201104164124,\n",
       "  0.6352201104164124,\n",
       "  0.6540880799293518,\n",
       "  0.6352201104164124,\n",
       "  0.6289308071136475,\n",
       "  0.6289308071136475,\n",
       "  0.6352201104164124,\n",
       "  0.6540880799293518,\n",
       "  0.6666666865348816,\n",
       "  0.6729559898376465,\n",
       "  0.6792452931404114],\n",
       " 'val_loss': [0.661354124546051,\n",
       "  0.6503191590309143,\n",
       "  0.6403035521507263,\n",
       "  0.6307901740074158,\n",
       "  0.6221699118614197,\n",
       "  0.6137179136276245,\n",
       "  0.6061854362487793,\n",
       "  0.599367618560791,\n",
       "  0.5928056836128235,\n",
       "  0.5869226455688477,\n",
       "  0.581476628780365,\n",
       "  0.5770838260650635,\n",
       "  0.5721174478530884,\n",
       "  0.5684950947761536,\n",
       "  0.5644614696502686,\n",
       "  0.5615249872207642,\n",
       "  0.5576664805412292,\n",
       "  0.5545762777328491,\n",
       "  0.5518196821212769,\n",
       "  0.5494953393936157]}"
      ]
     },
     "execution_count": 72,
     "metadata": {},
     "output_type": "execute_result"
    }
   ],
   "source": [
    "\n",
    "# Creating Object \n",
    "model = Sequential()\n",
    "\n",
    "# Model Architecture\n",
    "model.add(Dense(5,activation='relu',input_dim = 8)) # First Hidden Layer\n",
    "model.add(Dense(5,activation='relu')) # Second Hidden Layer\n",
    "model.add(Dense(1,activation='sigmoid')) # Output Layer\n",
    "\n",
    "# Model Compilation\n",
    "model.compile(loss='binary_crossentropy', optimizer='Adam', metrics=['accuracy'])\n",
    "\n",
    "# Model Training\n",
    "model_train = model.fit(x_trained_scaled,y_train,epochs=20, validation_split=0.3)\n",
    "\n",
    "# Model Prediction\n",
    "y_pred_data = model.predict(x_test_scaled)\n",
    "\n",
    "# accuracy calculation of model \n",
    "y_final_pred = np.where(y_pred_data>0.5, 1, 0)\n",
    "Accuracy = accuracy_score(y_test,y_final_pred)\n",
    "\n",
    "print('Accuracy of the ANN is : ',  Accuracy*100,'%')\n",
    "\n",
    "# History of model accuracy & loss\n",
    "model_train.history"
   ]
  },
  {
   "cell_type": "code",
   "execution_count": 73,
   "metadata": {},
   "outputs": [
    {
     "data": {
      "image/png": "[encoded data removed]",
      "text/plain": [
       "<Figure size 640x480 with 1 Axes>"
      ]
     },
     "metadata": {},
     "output_type": "display_data"
    }
   ],
   "source": [
    "# Model accuracy Graph\n",
    "plt.plot(model_train.history['loss'],color='Red')\n",
    "plt.plot(model_train.history['val_loss'],color='blue')\n",
    "plt.grid()"
   ]
  },
  {
   "cell_type": "markdown",
   "metadata": {},
   "source": [
    "# Description \n",
    "- As we can see by changing activation function layer on Neural network we achive around 0.56 of loss while testing phase. This is better than previous two hypothesize."
   ]
  },
  {
   "cell_type": "markdown",
   "metadata": {},
   "source": [
    "# 4) Changing Loss Function with 'mean_squared_error'"
   ]
  },
  {
   "cell_type": "code",
   "execution_count": 74,
   "metadata": {},
   "outputs": [
    {
     "name": "stdout",
     "output_type": "stream",
     "text": [
      "Epoch 1/20\n"
     ]
    },
    {
     "name": "stderr",
     "output_type": "stream",
     "text": [
      "/Library/Frameworks/Python.framework/Versions/3.12/lib/python3.12/site-packages/keras/src/layers/core/dense.py:87: UserWarning: Do not pass an `input_shape`/`input_dim` argument to a layer. When using Sequential models, prefer using an `Input(shape)` object as the first layer in the model instead.\n",
      "  super().__init__(activity_regularizer=activity_regularizer, **kwargs)\n"
     ]
    },
    {
     "name": "stdout",
     "output_type": "stream",
     "text": [
      "\u001b[1m12/12\u001b[0m \u001b[32m━━━━━━━━━━━━━━━━━━━━\u001b[0m\u001b[37m\u001b[0m \u001b[1m0s\u001b[0m 6ms/step - accuracy: 0.6888 - loss: 0.1981 - val_accuracy: 0.5975 - val_loss: 0.2184\n",
      "Epoch 2/20\n",
      "\u001b[1m12/12\u001b[0m \u001b[32m━━━━━━━━━━━━━━━━━━━━\u001b[0m\u001b[37m\u001b[0m \u001b[1m0s\u001b[0m 2ms/step - accuracy: 0.6441 - loss: 0.2077 - val_accuracy: 0.5975 - val_loss: 0.2150\n",
      "Epoch 3/20\n",
      "\u001b[1m12/12\u001b[0m \u001b[32m━━━━━━━━━━━━━━━━━━━━\u001b[0m\u001b[37m\u001b[0m \u001b[1m0s\u001b[0m 2ms/step - accuracy: 0.6870 - loss: 0.1903 - val_accuracy: 0.6038 - val_loss: 0.2123\n",
      "Epoch 4/20\n",
      "\u001b[1m12/12\u001b[0m \u001b[32m━━━━━━━━━━━━━━━━━━━━\u001b[0m\u001b[37m\u001b[0m \u001b[1m0s\u001b[0m 2ms/step - accuracy: 0.6610 - loss: 0.2018 - val_accuracy: 0.6038 - val_loss: 0.2096\n",
      "Epoch 5/20\n",
      "\u001b[1m12/12\u001b[0m \u001b[32m━━━━━━━━━━━━━━━━━━━━\u001b[0m\u001b[37m\u001b[0m \u001b[1m0s\u001b[0m 3ms/step - accuracy: 0.6898 - loss: 0.1826 - val_accuracy: 0.6038 - val_loss: 0.2073\n",
      "Epoch 6/20\n",
      "\u001b[1m12/12\u001b[0m \u001b[32m━━━━━━━━━━━━━━━━━━━━\u001b[0m\u001b[37m\u001b[0m \u001b[1m0s\u001b[0m 2ms/step - accuracy: 0.6709 - loss: 0.1924 - val_accuracy: 0.6038 - val_loss: 0.2053\n",
      "Epoch 7/20\n",
      "\u001b[1m12/12\u001b[0m \u001b[32m━━━━━━━━━━━━━━━━━━━━\u001b[0m\u001b[37m\u001b[0m \u001b[1m0s\u001b[0m 1ms/step - accuracy: 0.6781 - loss: 0.1878 - val_accuracy: 0.6038 - val_loss: 0.2031\n",
      "Epoch 8/20\n",
      "\u001b[1m12/12\u001b[0m \u001b[32m━━━━━━━━━━━━━━━━━━━━\u001b[0m\u001b[37m\u001b[0m \u001b[1m0s\u001b[0m 1ms/step - accuracy: 0.6758 - loss: 0.1850 - val_accuracy: 0.6038 - val_loss: 0.2007\n",
      "Epoch 9/20\n",
      "\u001b[1m12/12\u001b[0m \u001b[32m━━━━━━━━━━━━━━━━━━━━\u001b[0m\u001b[37m\u001b[0m \u001b[1m0s\u001b[0m 1ms/step - accuracy: 0.6739 - loss: 0.1851 - val_accuracy: 0.6038 - val_loss: 0.1988\n",
      "Epoch 10/20\n",
      "\u001b[1m12/12\u001b[0m \u001b[32m━━━━━━━━━━━━━━━━━━━━\u001b[0m\u001b[37m\u001b[0m \u001b[1m0s\u001b[0m 1ms/step - accuracy: 0.6363 - loss: 0.1861 - val_accuracy: 0.6038 - val_loss: 0.1968\n",
      "Epoch 11/20\n",
      "\u001b[1m12/12\u001b[0m \u001b[32m━━━━━━━━━━━━━━━━━━━━\u001b[0m\u001b[37m\u001b[0m \u001b[1m0s\u001b[0m 1ms/step - accuracy: 0.6552 - loss: 0.1918 - val_accuracy: 0.6038 - val_loss: 0.1950\n",
      "Epoch 12/20\n",
      "\u001b[1m12/12\u001b[0m \u001b[32m━━━━━━━━━━━━━━━━━━━━\u001b[0m\u001b[37m\u001b[0m \u001b[1m0s\u001b[0m 1ms/step - accuracy: 0.7120 - loss: 0.1724 - val_accuracy: 0.6038 - val_loss: 0.1930\n",
      "Epoch 13/20\n",
      "\u001b[1m12/12\u001b[0m \u001b[32m━━━━━━━━━━━━━━━━━━━━\u001b[0m\u001b[37m\u001b[0m \u001b[1m0s\u001b[0m 1ms/step - accuracy: 0.6767 - loss: 0.1756 - val_accuracy: 0.6101 - val_loss: 0.1911\n",
      "Epoch 14/20\n",
      "\u001b[1m12/12\u001b[0m \u001b[32m━━━━━━━━━━━━━━━━━━━━\u001b[0m\u001b[37m\u001b[0m \u001b[1m0s\u001b[0m 1ms/step - accuracy: 0.6778 - loss: 0.1884 - val_accuracy: 0.6038 - val_loss: 0.1896\n",
      "Epoch 15/20\n",
      "\u001b[1m12/12\u001b[0m \u001b[32m━━━━━━━━━━━━━━━━━━━━\u001b[0m\u001b[37m\u001b[0m \u001b[1m0s\u001b[0m 1ms/step - accuracy: 0.6902 - loss: 0.1754 - val_accuracy: 0.6730 - val_loss: 0.1877\n",
      "Epoch 16/20\n",
      "\u001b[1m12/12\u001b[0m \u001b[32m━━━━━━━━━━━━━━━━━━━━\u001b[0m\u001b[37m\u001b[0m \u001b[1m0s\u001b[0m 1ms/step - accuracy: 0.7126 - loss: 0.1809 - val_accuracy: 0.6918 - val_loss: 0.1861\n",
      "Epoch 17/20\n",
      "\u001b[1m12/12\u001b[0m \u001b[32m━━━━━━━━━━━━━━━━━━━━\u001b[0m\u001b[37m\u001b[0m \u001b[1m0s\u001b[0m 1ms/step - accuracy: 0.7353 - loss: 0.1819 - val_accuracy: 0.6792 - val_loss: 0.1843\n",
      "Epoch 18/20\n",
      "\u001b[1m12/12\u001b[0m \u001b[32m━━━━━━━━━━━━━━━━━━━━\u001b[0m\u001b[37m\u001b[0m \u001b[1m0s\u001b[0m 1ms/step - accuracy: 0.7486 - loss: 0.1708 - val_accuracy: 0.7107 - val_loss: 0.1830\n",
      "Epoch 19/20\n",
      "\u001b[1m12/12\u001b[0m \u001b[32m━━━━━━━━━━━━━━━━━━━━\u001b[0m\u001b[37m\u001b[0m \u001b[1m0s\u001b[0m 1ms/step - accuracy: 0.7460 - loss: 0.1803 - val_accuracy: 0.7170 - val_loss: 0.1817\n",
      "Epoch 20/20\n",
      "\u001b[1m12/12\u001b[0m \u001b[32m━━━━━━━━━━━━━━━━━━━━\u001b[0m\u001b[37m\u001b[0m \u001b[1m0s\u001b[0m 1ms/step - accuracy: 0.7280 - loss: 0.1754 - val_accuracy: 0.7233 - val_loss: 0.1802\n",
      "\u001b[1m8/8\u001b[0m \u001b[32m━━━━━━━━━━━━━━━━━━━━\u001b[0m\u001b[37m\u001b[0m \u001b[1m0s\u001b[0m 2ms/step \n",
      "Accuracy of the ANN is :  76.31578947368422 %\n"
     ]
    },
    {
     "data": {
      "text/plain": [
       "{'accuracy': [0.6684635877609253,\n",
       "  0.671159029006958,\n",
       "  0.6684635877609253,\n",
       "  0.6684635877609253,\n",
       "  0.6684635877609253,\n",
       "  0.6657682061195374,\n",
       "  0.6657682061195374,\n",
       "  0.6657682061195374,\n",
       "  0.6657682061195374,\n",
       "  0.6657682061195374,\n",
       "  0.6657682061195374,\n",
       "  0.6657682061195374,\n",
       "  0.6684635877609253,\n",
       "  0.671159029006958,\n",
       "  0.698113203048706,\n",
       "  0.7223719954490662,\n",
       "  0.7277628183364868,\n",
       "  0.7358490824699402,\n",
       "  0.7358490824699402,\n",
       "  0.7358490824699402],\n",
       " 'loss': [0.2042510211467743,\n",
       "  0.19976437091827393,\n",
       "  0.19663932919502258,\n",
       "  0.19409283995628357,\n",
       "  0.19209164381027222,\n",
       "  0.1902627795934677,\n",
       "  0.18870672583580017,\n",
       "  0.18728852272033691,\n",
       "  0.18584656715393066,\n",
       "  0.18448719382286072,\n",
       "  0.18326261639595032,\n",
       "  0.18230168521404266,\n",
       "  0.18105484545230865,\n",
       "  0.17987798154354095,\n",
       "  0.1787850260734558,\n",
       "  0.1776932328939438,\n",
       "  0.17681030929088593,\n",
       "  0.17581495642662048,\n",
       "  0.17491410672664642,\n",
       "  0.17410679161548615],\n",
       " 'val_accuracy': [0.597484290599823,\n",
       "  0.597484290599823,\n",
       "  0.6037735939025879,\n",
       "  0.6037735939025879,\n",
       "  0.6037735939025879,\n",
       "  0.6037735939025879,\n",
       "  0.6037735939025879,\n",
       "  0.6037735939025879,\n",
       "  0.6037735939025879,\n",
       "  0.6037735939025879,\n",
       "  0.6037735939025879,\n",
       "  0.6037735939025879,\n",
       "  0.6100628972053528,\n",
       "  0.6037735939025879,\n",
       "  0.6729559898376465,\n",
       "  0.6918238997459412,\n",
       "  0.6792452931404114,\n",
       "  0.7106918096542358,\n",
       "  0.7169811129570007,\n",
       "  0.7232704162597656],\n",
       " 'val_loss': [0.2183958739042282,\n",
       "  0.215042382478714,\n",
       "  0.2123035490512848,\n",
       "  0.2095627635717392,\n",
       "  0.20733480155467987,\n",
       "  0.20527401566505432,\n",
       "  0.20311686396598816,\n",
       "  0.20073960721492767,\n",
       "  0.19876240193843842,\n",
       "  0.19676361978054047,\n",
       "  0.1949952393770218,\n",
       "  0.19301873445510864,\n",
       "  0.19107367098331451,\n",
       "  0.18962475657463074,\n",
       "  0.18770793080329895,\n",
       "  0.18605326116085052,\n",
       "  0.1843205839395523,\n",
       "  0.18297038972377777,\n",
       "  0.18169549107551575,\n",
       "  0.1801951378583908]}"
      ]
     },
     "execution_count": 74,
     "metadata": {},
     "output_type": "execute_result"
    }
   ],
   "source": [
    "# Creating Object \n",
    "model = Sequential()\n",
    "\n",
    "# Model Architecture\n",
    "model.add(Dense(5,activation='relu',input_dim = 8)) # First Hidden Layer\n",
    "model.add(Dense(5,activation='relu')) # Second Hidden Layer\n",
    "model.add(Dense(1,activation='sigmoid')) # Output Layer\n",
    "\n",
    "# Model Compilation\n",
    "model.compile(loss='mean_squared_error', optimizer='Adam', metrics=['accuracy'])\n",
    "\n",
    "# Model Training\n",
    "model_train = model.fit(x_trained_scaled,y_train,epochs=20, validation_split=0.3)\n",
    "\n",
    "# Model Prediction\n",
    "y_pred_data = model.predict(x_test_scaled)\n",
    "\n",
    "# accuracy calculation of model \n",
    "y_final_pred = np.where(y_pred_data>0.5, 1, 0)\n",
    "Accuracy = accuracy_score(y_test,y_final_pred)\n",
    "\n",
    "print('Accuracy of the ANN is : ',  Accuracy*100,'%')\n",
    "\n",
    "# History of model accuracy & loss\n",
    "model_train.history"
   ]
  },
  {
   "cell_type": "code",
   "execution_count": 75,
   "metadata": {},
   "outputs": [
    {
     "data": {
      "image/png": "[encoded data removed]",
      "text/plain": [
       "<Figure size 640x480 with 1 Axes>"
      ]
     },
     "metadata": {},
     "output_type": "display_data"
    }
   ],
   "source": [
    "# Model accuracy Graph\n",
    "plt.plot(model_train.history['loss'],color='Red')\n",
    "plt.plot(model_train.history['val_loss'],color='blue')\n",
    "plt.grid()"
   ]
  },
  {
   "cell_type": "markdown",
   "metadata": {},
   "source": [
    "# Description \n",
    "- So, by replacing activation function with 'mean_squared_error' we achivedaround 0.18 of loss which is better than all the hypothesize.\n",
    "- In this, we have additional hidden layers, additional denses, ReLU as activation function, and 'mean_squared_error' as loss function.  "
   ]
  },
  {
   "cell_type": "markdown",
   "metadata": {},
   "source": []
  },
  {
   "cell_type": "markdown",
   "metadata": {},
   "source": [
    "# Part 2 : PyTorch ---------------------------------------------------------"
   ]
  },
  {
   "cell_type": "code",
   "execution_count": 77,
   "metadata": {},
   "outputs": [],
   "source": [
    "# Libraries\n",
    "import pandas as pd\n",
    "import numpy as np\n",
    "import matplotlib.pyplot as plt\n",
    "import torch\n",
    "import torch.nn as nn\n",
    "import torch.optim as optim\n"
   ]
  },
  {
   "cell_type": "markdown",
   "metadata": {},
   "source": [
    "# Step 1 : import the dataset"
   ]
  },
  {
   "cell_type": "code",
   "execution_count": 78,
   "metadata": {},
   "outputs": [
    {
     "data": {
      "text/plain": [
       "Index(['-0.294118', '0.487437', '0.180328', '-0.292929', '0', '0.00149028',\n",
       "       '-0.53117', '-0.0333333', '0.1'],\n",
       "      dtype='object')"
      ]
     },
     "execution_count": 78,
     "metadata": {},
     "output_type": "execute_result"
    }
   ],
   "source": [
    "data = pd.read_csv('diabetes.csv')\n",
    "data.columns"
   ]
  },
  {
   "cell_type": "markdown",
   "metadata": {},
   "source": [
    "# Step 2: Preprocessing the Data & Visualization"
   ]
  },
  {
   "cell_type": "code",
   "execution_count": 79,
   "metadata": {},
   "outputs": [],
   "source": [
    "# We dont have column names, so adding header to them\n",
    "data = data.set_axis(['fr1','fr2','fr3','fr4','fr5','fr6','fr7','fr9','target'],axis=1)"
   ]
  },
  {
   "cell_type": "code",
   "execution_count": 80,
   "metadata": {},
   "outputs": [
    {
     "data": {
      "text/html": [
       "<div>\n",
       "<style scoped>\n",
       "    .dataframe tbody tr th:only-of-type {\n",
       "        vertical-align: middle;\n",
       "    }\n",
       "\n",
       "    .dataframe tbody tr th {\n",
       "        vertical-align: top;\n",
       "    }\n",
       "\n",
       "    .dataframe thead th {\n",
       "        text-align: right;\n",
       "    }\n",
       "</style>\n",
       "<table border=\"1\" class=\"dataframe\">\n",
       "  <thead>\n",
       "    <tr style=\"text-align: right;\">\n",
       "      <th></th>\n",
       "      <th>fr1</th>\n",
       "      <th>fr2</th>\n",
       "      <th>fr3</th>\n",
       "      <th>fr4</th>\n",
       "      <th>fr5</th>\n",
       "      <th>fr6</th>\n",
       "      <th>fr7</th>\n",
       "      <th>fr9</th>\n",
       "      <th>target</th>\n",
       "    </tr>\n",
       "  </thead>\n",
       "  <tbody>\n",
       "    <tr>\n",
       "      <th>0</th>\n",
       "      <td>-0.882353</td>\n",
       "      <td>-0.145729</td>\n",
       "      <td>0.081967</td>\n",
       "      <td>-0.414141</td>\n",
       "      <td>0.000000</td>\n",
       "      <td>-0.207153</td>\n",
       "      <td>-0.766866</td>\n",
       "      <td>-0.666667</td>\n",
       "      <td>1</td>\n",
       "    </tr>\n",
       "    <tr>\n",
       "      <th>1</th>\n",
       "      <td>-0.058824</td>\n",
       "      <td>0.839196</td>\n",
       "      <td>0.049180</td>\n",
       "      <td>0.000000</td>\n",
       "      <td>0.000000</td>\n",
       "      <td>-0.305514</td>\n",
       "      <td>-0.492741</td>\n",
       "      <td>-0.633333</td>\n",
       "      <td>0</td>\n",
       "    </tr>\n",
       "    <tr>\n",
       "      <th>2</th>\n",
       "      <td>-0.882353</td>\n",
       "      <td>-0.105528</td>\n",
       "      <td>0.081967</td>\n",
       "      <td>-0.535354</td>\n",
       "      <td>-0.777778</td>\n",
       "      <td>-0.162444</td>\n",
       "      <td>-0.923997</td>\n",
       "      <td>0.000000</td>\n",
       "      <td>1</td>\n",
       "    </tr>\n",
       "    <tr>\n",
       "      <th>3</th>\n",
       "      <td>0.000000</td>\n",
       "      <td>0.376884</td>\n",
       "      <td>-0.344262</td>\n",
       "      <td>-0.292929</td>\n",
       "      <td>-0.602837</td>\n",
       "      <td>0.284650</td>\n",
       "      <td>0.887276</td>\n",
       "      <td>-0.600000</td>\n",
       "      <td>0</td>\n",
       "    </tr>\n",
       "    <tr>\n",
       "      <th>4</th>\n",
       "      <td>-0.411765</td>\n",
       "      <td>0.165829</td>\n",
       "      <td>0.213115</td>\n",
       "      <td>0.000000</td>\n",
       "      <td>0.000000</td>\n",
       "      <td>-0.236960</td>\n",
       "      <td>-0.894962</td>\n",
       "      <td>-0.700000</td>\n",
       "      <td>1</td>\n",
       "    </tr>\n",
       "  </tbody>\n",
       "</table>\n",
       "</div>"
      ],
      "text/plain": [
       "        fr1       fr2       fr3       fr4       fr5       fr6       fr7  \\\n",
       "0 -0.882353 -0.145729  0.081967 -0.414141  0.000000 -0.207153 -0.766866   \n",
       "1 -0.058824  0.839196  0.049180  0.000000  0.000000 -0.305514 -0.492741   \n",
       "2 -0.882353 -0.105528  0.081967 -0.535354 -0.777778 -0.162444 -0.923997   \n",
       "3  0.000000  0.376884 -0.344262 -0.292929 -0.602837  0.284650  0.887276   \n",
       "4 -0.411765  0.165829  0.213115  0.000000  0.000000 -0.236960 -0.894962   \n",
       "\n",
       "        fr9  target  \n",
       "0 -0.666667       1  \n",
       "1 -0.633333       0  \n",
       "2  0.000000       1  \n",
       "3 -0.600000       0  \n",
       "4 -0.700000       1  "
      ]
     },
     "execution_count": 80,
     "metadata": {},
     "output_type": "execute_result"
    }
   ],
   "source": [
    "data.head()"
   ]
  },
  {
   "cell_type": "code",
   "execution_count": 81,
   "metadata": {},
   "outputs": [
    {
     "data": {
      "text/html": [
       "<div>\n",
       "<style scoped>\n",
       "    .dataframe tbody tr th:only-of-type {\n",
       "        vertical-align: middle;\n",
       "    }\n",
       "\n",
       "    .dataframe tbody tr th {\n",
       "        vertical-align: top;\n",
       "    }\n",
       "\n",
       "    .dataframe thead th {\n",
       "        text-align: right;\n",
       "    }\n",
       "</style>\n",
       "<table border=\"1\" class=\"dataframe\">\n",
       "  <thead>\n",
       "    <tr style=\"text-align: right;\">\n",
       "      <th></th>\n",
       "      <th>fr1</th>\n",
       "      <th>fr2</th>\n",
       "      <th>fr3</th>\n",
       "      <th>fr4</th>\n",
       "      <th>fr5</th>\n",
       "      <th>fr6</th>\n",
       "      <th>fr7</th>\n",
       "      <th>fr9</th>\n",
       "      <th>target</th>\n",
       "    </tr>\n",
       "  </thead>\n",
       "  <tbody>\n",
       "    <tr>\n",
       "      <th>count</th>\n",
       "      <td>758.000000</td>\n",
       "      <td>758.000000</td>\n",
       "      <td>758.000000</td>\n",
       "      <td>758.000000</td>\n",
       "      <td>758.000000</td>\n",
       "      <td>758.000000</td>\n",
       "      <td>758.000000</td>\n",
       "      <td>758.000000</td>\n",
       "      <td>758.000000</td>\n",
       "    </tr>\n",
       "    <tr>\n",
       "      <th>mean</th>\n",
       "      <td>-0.407807</td>\n",
       "      <td>0.218208</td>\n",
       "      <td>0.176500</td>\n",
       "      <td>-0.289731</td>\n",
       "      <td>-0.323961</td>\n",
       "      <td>-0.032289</td>\n",
       "      <td>-0.663427</td>\n",
       "      <td>-0.516799</td>\n",
       "      <td>0.654354</td>\n",
       "    </tr>\n",
       "    <tr>\n",
       "      <th>std</th>\n",
       "      <td>0.386493</td>\n",
       "      <td>0.306465</td>\n",
       "      <td>0.201420</td>\n",
       "      <td>0.258651</td>\n",
       "      <td>0.375608</td>\n",
       "      <td>0.205508</td>\n",
       "      <td>0.283202</td>\n",
       "      <td>0.400674</td>\n",
       "      <td>0.475893</td>\n",
       "    </tr>\n",
       "    <tr>\n",
       "      <th>min</th>\n",
       "      <td>-0.882353</td>\n",
       "      <td>-0.557789</td>\n",
       "      <td>-0.606557</td>\n",
       "      <td>-0.858586</td>\n",
       "      <td>-0.966903</td>\n",
       "      <td>-0.457526</td>\n",
       "      <td>-0.994876</td>\n",
       "      <td>-0.966667</td>\n",
       "      <td>0.000000</td>\n",
       "    </tr>\n",
       "    <tr>\n",
       "      <th>25%</th>\n",
       "      <td>-0.764706</td>\n",
       "      <td>-0.005025</td>\n",
       "      <td>0.016393</td>\n",
       "      <td>-0.494949</td>\n",
       "      <td>-0.716312</td>\n",
       "      <td>-0.179583</td>\n",
       "      <td>-0.858241</td>\n",
       "      <td>-0.866667</td>\n",
       "      <td>0.000000</td>\n",
       "    </tr>\n",
       "    <tr>\n",
       "      <th>50%</th>\n",
       "      <td>-0.529412</td>\n",
       "      <td>0.165829</td>\n",
       "      <td>0.180328</td>\n",
       "      <td>-0.292929</td>\n",
       "      <td>0.000000</td>\n",
       "      <td>-0.034277</td>\n",
       "      <td>-0.748506</td>\n",
       "      <td>-0.633333</td>\n",
       "      <td>1.000000</td>\n",
       "    </tr>\n",
       "    <tr>\n",
       "      <th>75%</th>\n",
       "      <td>0.000000</td>\n",
       "      <td>0.407035</td>\n",
       "      <td>0.311475</td>\n",
       "      <td>0.000000</td>\n",
       "      <td>0.000000</td>\n",
       "      <td>0.087929</td>\n",
       "      <td>-0.532451</td>\n",
       "      <td>-0.233333</td>\n",
       "      <td>1.000000</td>\n",
       "    </tr>\n",
       "    <tr>\n",
       "      <th>max</th>\n",
       "      <td>1.000000</td>\n",
       "      <td>1.000000</td>\n",
       "      <td>1.000000</td>\n",
       "      <td>1.000000</td>\n",
       "      <td>1.000000</td>\n",
       "      <td>1.000000</td>\n",
       "      <td>1.000000</td>\n",
       "      <td>1.000000</td>\n",
       "      <td>1.000000</td>\n",
       "    </tr>\n",
       "  </tbody>\n",
       "</table>\n",
       "</div>"
      ],
      "text/plain": [
       "              fr1         fr2         fr3         fr4         fr5         fr6  \\\n",
       "count  758.000000  758.000000  758.000000  758.000000  758.000000  758.000000   \n",
       "mean    -0.407807    0.218208    0.176500   -0.289731   -0.323961   -0.032289   \n",
       "std      0.386493    0.306465    0.201420    0.258651    0.375608    0.205508   \n",
       "min     -0.882353   -0.557789   -0.606557   -0.858586   -0.966903   -0.457526   \n",
       "25%     -0.764706   -0.005025    0.016393   -0.494949   -0.716312   -0.179583   \n",
       "50%     -0.529412    0.165829    0.180328   -0.292929    0.000000   -0.034277   \n",
       "75%      0.000000    0.407035    0.311475    0.000000    0.000000    0.087929   \n",
       "max      1.000000    1.000000    1.000000    1.000000    1.000000    1.000000   \n",
       "\n",
       "              fr7         fr9      target  \n",
       "count  758.000000  758.000000  758.000000  \n",
       "mean    -0.663427   -0.516799    0.654354  \n",
       "std      0.283202    0.400674    0.475893  \n",
       "min     -0.994876   -0.966667    0.000000  \n",
       "25%     -0.858241   -0.866667    0.000000  \n",
       "50%     -0.748506   -0.633333    1.000000  \n",
       "75%     -0.532451   -0.233333    1.000000  \n",
       "max      1.000000    1.000000    1.000000  "
      ]
     },
     "execution_count": 81,
     "metadata": {},
     "output_type": "execute_result"
    }
   ],
   "source": [
    "data.describe()"
   ]
  },
  {
   "cell_type": "code",
   "execution_count": 82,
   "metadata": {},
   "outputs": [
    {
     "data": {
      "text/plain": [
       "fr1       0\n",
       "fr2       0\n",
       "fr3       0\n",
       "fr4       0\n",
       "fr5       0\n",
       "fr6       0\n",
       "fr7       0\n",
       "fr9       0\n",
       "target    0\n",
       "dtype: int64"
      ]
     },
     "execution_count": 82,
     "metadata": {},
     "output_type": "execute_result"
    }
   ],
   "source": [
    "data.isnull().sum()"
   ]
  },
  {
   "cell_type": "code",
   "execution_count": 83,
   "metadata": {},
   "outputs": [
    {
     "data": {
      "text/plain": [
       "0      False\n",
       "1      False\n",
       "2      False\n",
       "3      False\n",
       "4      False\n",
       "       ...  \n",
       "753    False\n",
       "754    False\n",
       "755    False\n",
       "756    False\n",
       "757    False\n",
       "Length: 758, dtype: bool"
      ]
     },
     "execution_count": 83,
     "metadata": {},
     "output_type": "execute_result"
    }
   ],
   "source": [
    "data.duplicated()"
   ]
  },
  {
   "cell_type": "code",
   "execution_count": 85,
   "metadata": {},
   "outputs": [
    {
     "data": {
      "text/plain": [
       "array([[<Axes: title={'center': 'fr1'}>, <Axes: title={'center': 'fr2'}>,\n",
       "        <Axes: title={'center': 'fr3'}>],\n",
       "       [<Axes: title={'center': 'fr4'}>, <Axes: title={'center': 'fr5'}>,\n",
       "        <Axes: title={'center': 'fr6'}>],\n",
       "       [<Axes: title={'center': 'fr7'}>, <Axes: title={'center': 'fr9'}>,\n",
       "        <Axes: title={'center': 'target'}>]], dtype=object)"
      ]
     },
     "execution_count": 85,
     "metadata": {},
     "output_type": "execute_result"
    },
    {
     "data": {
      "image/png": "[encoded data removed]",
      "text/plain": [
       "<Figure size 1000x1000 with 9 Axes>"
      ]
     },
     "metadata": {},
     "output_type": "display_data"
    }
   ],
   "source": [
    "# we have already described many data visualization in Part 1.\n",
    "data.hist(figsize=(10,10))"
   ]
  },
  {
   "cell_type": "markdown",
   "metadata": {},
   "source": [
    "# Step 3: Split into 70% train 30% test"
   ]
  },
  {
   "cell_type": "code",
   "execution_count": 86,
   "metadata": {},
   "outputs": [
    {
     "data": {
      "text/plain": [
       "array([[-0.01924968, -0.22083283,  0.34204625, ..., -0.19423045,\n",
       "        -0.37066807,  0.70479237],\n",
       "       [-1.23740727, -1.4535344 , -1.27872991, ...,  0.11026748,\n",
       "         2.3178001 , -0.97630421],\n",
       "       [ 0.28528972, -1.19401862,  0.50412426, ..., -0.19423045,\n",
       "        -0.2551938 ,  0.53668195],\n",
       "       ...,\n",
       "       [-1.23740727, -0.72364506, -1.92704097, ..., -1.1367224 ,\n",
       "        -0.97172368, -1.14441462],\n",
       "       [ 1.04663951, -0.57766751,  0.34204625, ..., -2.05021917,\n",
       "         0.3369789 , -0.72413985],\n",
       "       [-0.62832848,  1.88773208, -0.63042034, ...,  0.21176676,\n",
       "        -0.5838508 , -0.8081938 ]])"
      ]
     },
     "execution_count": 86,
     "metadata": {},
     "output_type": "execute_result"
    }
   ],
   "source": [
    "# Data needs to be scaled.\n",
    "from sklearn.model_selection import train_test_split\n",
    "\n",
    "x = data.drop(columns=['target'])\n",
    "y = data['target']\n",
    "\n",
    "x_train, x_test, y_train, y_test = train_test_split(x,y,test_size=0.3,random_state=1)\n",
    "\n",
    "from sklearn.preprocessing import StandardScaler\n",
    "scaler = StandardScaler()\n",
    "\n",
    "x_trained_scaled  = scaler.fit_transform(x_train)\n",
    "x_test_scaled = scaler.transform(x_test)\n",
    "\n",
    "\n",
    "x_trained_scaled"
   ]
  },
  {
   "cell_type": "markdown",
   "metadata": {},
   "source": [
    "# Step 4: Modify the model \n"
   ]
  },
  {
   "cell_type": "code",
   "execution_count": null,
   "metadata": {},
   "outputs": [],
   "source": []
  },
  {
   "cell_type": "markdown",
   "metadata": {},
   "source": [
    "# Step 5: Train the model on the data"
   ]
  },
  {
   "cell_type": "code",
   "execution_count": null,
   "metadata": {},
   "outputs": [],
   "source": []
  },
  {
   "cell_type": "markdown",
   "metadata": {},
   "source": [
    "# Step 6: Model is ready for prediction"
   ]
  },
  {
   "cell_type": "code",
   "execution_count": null,
   "metadata": {},
   "outputs": [],
   "source": []
  },
  {
   "cell_type": "markdown",
   "metadata": {},
   "source": [
    "# Step 7: Model Accuracy Calculation"
   ]
  },
  {
   "cell_type": "code",
   "execution_count": null,
   "metadata": {},
   "outputs": [],
   "source": []
  },
  {
   "cell_type": "code",
   "execution_count": null,
   "metadata": {},
   "outputs": [],
   "source": []
  }
 ],
 "metadata": {
  "kernelspec": {
   "display_name": "Python 3",
   "language": "python",
   "name": "python3"
  },
  "language_info": {
   "codemirror_mode": {
    "name": "ipython",
    "version": 3
   },
   "file_extension": ".py",
   "mimetype": "text/x-python",
   "name": "python",
   "nbconvert_exporter": "python",
   "pygments_lexer": "ipython3",
   "version": "3.12.2"
  }
 },
 "nbformat": 4,
 "nbformat_minor": 2
}

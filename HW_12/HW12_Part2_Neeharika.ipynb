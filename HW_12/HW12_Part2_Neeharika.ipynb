{
 "cells": [
  {
   "cell_type": "code",
   "execution_count": 1,
   "metadata": {},
   "outputs": [],
   "source": [
    "import os\n",
    "from dotenv import load_dotenv\n",
    "from PyPDF2 import PdfReader\n",
    "from langchain.text_splitter import CharacterTextSplitter\n",
    "from langchain_openai import OpenAIEmbeddings, ChatOpenAI\n",
    "from langchain_community.vectorstores import FAISS\n",
    "from langchain.memory import ConversationBufferMemory\n",
    "from langchain.chains import ConversationalRetrievalChain"
   ]
  },
  {
   "cell_type": "code",
   "execution_count": 8,
   "metadata": {},
   "outputs": [],
   "source": [
    "os.environ[\"OPENAI_API_KEY\"] = \"API\""
   ]
  },
  {
   "cell_type": "code",
   "execution_count": 9,
   "metadata": {},
   "outputs": [],
   "source": [
    "# Function to extract text from PDF files\n",
    "def get_text_from_pdf(pdf_files):\n",
    "    text = \"\"\n",
    "    for pdf_file in pdf_files:\n",
    "        reader = PdfReader(pdf_file)\n",
    "        for page in reader.pages:\n",
    "            text += page.extract_text()\n",
    "    return text"
   ]
  },
  {
   "cell_type": "code",
   "execution_count": 16,
   "metadata": {},
   "outputs": [],
   "source": [
    "#  for Chunking\n",
    "def chunk_text(raw_text):\n",
    "    text_splitter = CharacterTextSplitter(\n",
    "        separator=\"\\n\",\n",
    "        chunk_size=1500,\n",
    "        chunk_overlap=200,\n",
    "        length_function=len\n",
    "    )\n",
    "    return text_splitter.split_text(raw_text)"
   ]
  },
  {
   "cell_type": "code",
   "execution_count": 17,
   "metadata": {},
   "outputs": [],
   "source": [
    "#  for Embedding\n",
    "def get_vectorstore(chunks):\n",
    "    embeddings = OpenAIEmbeddings()\n",
    "    vectorstore = FAISS.from_texts(texts=chunks, embedding=embeddings)\n",
    "    return vectorstore"
   ]
  },
  {
   "cell_type": "code",
   "execution_count": 18,
   "metadata": {},
   "outputs": [],
   "source": [
    "# Model\n",
    "def get_conversation_chain(vectorstore):\n",
    "    llm = ChatOpenAI()\n",
    "    memory = ConversationBufferMemory(memory_key=\"chat_history\", return_messages=True)\n",
    "    convo_chain = ConversationalRetrievalChain.from_llm(\n",
    "        llm=llm,\n",
    "        retriever=vectorstore.as_retriever(),\n",
    "        memory=memory\n",
    "    )\n",
    "    return convo_chain"
   ]
  },
  {
   "cell_type": "code",
   "execution_count": 19,
   "metadata": {},
   "outputs": [],
   "source": [
    "# Function to handle user input and chat\n",
    "def chat_user_input(user_query, convo_chain):\n",
    "    response = convo_chain({\"question\": user_query})\n",
    "    return response"
   ]
  },
  {
   "cell_type": "code",
   "execution_count": 28,
   "metadata": {},
   "outputs": [
    {
     "name": "stdout",
     "output_type": "stream",
     "text": [
      "Initializing chatbot...\n",
      "Loading and processing PDF data...\n",
      "Chatbot is ready. Ask your questions about the uploaded data. Type 'quit' to exit.\n",
      "You: What is NLP?\n",
      "ChatBot: Natural Language Processing (NLP) is a sub-field of AI that uses computational techniques to analyze and represent natural language texts or speech for tasks like understanding, generation, and human-computer interaction.\n",
      "You: What are RNNs used for?\n",
      "ChatBot: RNNs are used for sequence data tasks such as language modeling, conversation modeling, image/video captioning, and time series prediction.\n",
      "You: quit\n",
      "\n",
      "Conversation Summary:\n",
      "1. You: What is NLP?\n",
      "ChatBot: Natural Language Processing (NLP) is a sub-field of AI that uses computational techniques to analyze and represent natural language texts or speech for tasks like understanding, generation, and human-computer interaction.\n",
      "2. What are RNNs used for?\n",
      "ChatBot: RNNs are used for sequence data tasks such as language modeling, conversation modeling, image/video captioning, and time series prediction.\n"
     ]
    }
   ],
   "source": [
    "# Main function\n",
    "def main():\n",
    "    print(\"Initializing chatbot...\")\n",
    "\n",
    "    # PDF files\n",
    "    pdf_dir = \"/Users/spartan/Documents/Sem 3 MSDA/Deep Learning/Assignments/Deep_Learning_CourseWork/HW_12/PDFs\"  # Change to your directory\n",
    "    pdf_files = [os.path.join(pdf_dir, f) for f in os.listdir(pdf_dir) if f.endswith(\".pdf\")]\n",
    "\n",
    "    if not pdf_files:\n",
    "        print(\"No PDF files found in the directory.\")\n",
    "        return\n",
    "\n",
    "    # processing the data\n",
    "    print(\"Loading and processing PDF data...\")\n",
    "    pdf_content = get_text_from_pdf(pdf_files)\n",
    "    chunks = chunk_text(pdf_content)\n",
    "    vectorstore = get_vectorstore(chunks)\n",
    "\n",
    "    # Initialize conversation with bot\n",
    "    convo_chain = get_conversation_chain(vectorstore)\n",
    "\n",
    "    print(\"Chatbot is ready. Ask your questions about the uploaded data. Type 'quit' to exit.\")\n",
    "    conversation_summary = []\n",
    "\n",
    "    while True:\n",
    "        user_query = input(\"You: \")\n",
    "        if user_query.lower() == \"quit\":\n",
    "            break\n",
    "\n",
    "        response = chat_user_input(user_query, convo_chain)\n",
    "        chatbot_reply = response['answer']\n",
    "        conversation_history = response['chat_history']\n",
    "\n",
    "        # Memory for summary\n",
    "        conversation_summary.append({\"user\": user_query, \"bot\": chatbot_reply})\n",
    "\n",
    "        print(f\"ChatBot: {chatbot_reply}\")\n",
    "\n",
    "    # conversation SUmmary\n",
    "    print(\"\\nConversation Summary:\")\n",
    "    for i, entry in enumerate(conversation_summary, 1):\n",
    "        print(f\"{i}. You: {entry['user']}\\n   ChatBot: {entry['bot']}\\n\")\n",
    "\n",
    "if __name__ == \"__main__\":\n",
    "    main()"
   ]
  }
 ],
 "metadata": {
  "kernelspec": {
   "display_name": "Python 3",
   "language": "python",
   "name": "python3"
  },
  "language_info": {
   "codemirror_mode": {
    "name": "ipython",
    "version": 3
   },
   "file_extension": ".py",
   "mimetype": "text/x-python",
   "name": "python",
   "nbconvert_exporter": "python",
   "pygments_lexer": "ipython3",
   "version": "3.9.20"
  }
 },
 "nbformat": 4,
 "nbformat_minor": 2
}
